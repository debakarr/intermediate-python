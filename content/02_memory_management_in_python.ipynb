{
 "cells": [
  {
   "cell_type": "markdown",
   "id": "abce30df-1482-44e4-9124-47a1c6d17713",
   "metadata": {},
   "source": [
    "\\[<< [Basic Overview](./01_python_basic_overview.ipynb) | [Index](./00_index.ipynb) | [Function parameters and arguments](./03_function_parameters_and_arguments.ipynb) >>\\]"
   ]
  },
  {
   "cell_type": "markdown",
   "id": "dfbb69ed",
   "metadata": {},
   "source": [
    "# Memory Management in Python"
   ]
  },
  {
   "cell_type": "markdown",
   "id": "7a385259-24aa-47e1-a407-dfc7bd3d01f4",
   "metadata": {},
   "source": [
    "At the end of this section you will have these understanding:\n",
    "- How Python objects are stored in memory?\n",
    "- What are reference counters?\n",
    "- How does Garbage collection works in Python?\n",
    "- Difference between `is` and `==`.\n",
    "- Memory optimization.\n",
    "- Best practices for memory management.\n"
   ]
  },
  {
   "cell_type": "markdown",
   "id": "c14d6fae-13a0-4c34-91cd-efe3972025c5",
   "metadata": {},
   "source": [
    "| C                                                                        | Python                                                                        |\n",
    "| ------------------------------------------------------------------------ | ----------------------------------------------------------------------------- |\n",
    "| ![](./static/01/C_Memory_Management.png)                                 | ![](./static/01/Python_Memory_Management.png)                                 |\n",
    "| [Link to repl](https://replit.com/@lyndabaka/Memory-Management-in-C?v=1) | [Link to repl](https://replit.com/@lyndabaka/Memory-Management-in-Python?v=1) |ng)"
   ]
  },
  {
   "cell_type": "markdown",
   "id": "68caea2f",
   "metadata": {},
   "source": [
    "## Everything is in memory as an object\n",
    "\n",
    "In Python, everything you work with, whether it's a number, a string, or even a function, is treated as an object. These objects are stored in memory for the program to access.\n",
    "\n",
    "The place where these objects are stored is called the **heap**. It's like a big storage space where Python keeps track of all the objects."
   ]
  },
  {
   "cell_type": "code",
   "execution_count": null,
   "id": "02eee63d",
   "metadata": {},
   "outputs": [],
   "source": [
    "a_int = 10\n",
    "a_str = \"hello\"\n",
    "a_list = [1, 2, 3, 4]\n",
    "a_dict = {\"A\": 1, \"B\": 2}\n",
    "\n",
    "\n",
    "def a_func():\n",
    "    pass\n",
    "\n",
    "\n",
    "class A:\n",
    "    pass\n",
    "\n",
    "\n",
    "print(hex(id(a_int)))\n",
    "print(hex(id(a_str)))\n",
    "print(hex(id(a_list)))\n",
    "print(hex(id(a_dict)))\n",
    "print(hex(id(a_func)))\n",
    "print(hex(id(A)))"
   ]
  },
  {
   "cell_type": "code",
   "execution_count": null,
   "id": "0a1f09f8",
   "metadata": {},
   "outputs": [],
   "source": [
    "print(isinstance(a_int, object))\n",
    "print(isinstance(a_str, object))\n",
    "print(isinstance(a_list, object))\n",
    "print(isinstance(a_dict, object))\n",
    "print(isinstance(a_func, object))\n",
    "print(isinstance(A, object))"
   ]
  },
  {
   "cell_type": "markdown",
   "id": "885833f9",
   "metadata": {},
   "source": [
    "This means we can `assign` them to a variable, `pass` them to a function, or `return` them from a function."
   ]
  },
  {
   "cell_type": "markdown",
   "id": "cb26d804",
   "metadata": {},
   "source": [
    "## Finding memory address using `id()` function\n",
    "\n",
    "If you want to know the memory address of any object, you can use the `id()` function. It will give you a unique identifier for that object.\n",
    "\n",
    "The memory address provided by `id()` is in base-10, but if you pass it to `hex()`, it will convert it to hexadecimal notation. This can make it easier for you to read and work with.\n",
    "\n",
    "ref: [PyObject](https://docs.python.org/3/c-api/structures.html)"
   ]
  },
  {
   "cell_type": "code",
   "execution_count": null,
   "id": "241a5072",
   "metadata": {},
   "outputs": [],
   "source": [
    "a = 100\n",
    "\n",
    "a_address = id(a)\n",
    "\n",
    "print(a_address)\n",
    "print(hex(a_address))"
   ]
  },
  {
   "cell_type": "markdown",
   "id": "af2e3b3f-6c5b-4ddd-aaa3-accd1d73408c",
   "metadata": {},
   "source": [
    "![](https://www.honeybadger.io/images/blog/posts/memory-management-in-python/var_as_ref_ex_a.png?1691803805)\n",
    "\n",
    "<div style=\"text-align: center\"><a href=\"https://www.honeybadger.io/blog/memory-management-in-python/\">Source</a></div>\n",
    "\n",
    "Every object consists of: `reference count`, `type`, `value`.\n"
   ]
  },
  {
   "cell_type": "code",
   "execution_count": null,
   "id": "be092255",
   "metadata": {},
   "outputs": [],
   "source": [
    "b = a\n",
    "\n",
    "b_address = id(b)\n",
    "print(b_address)\n",
    "print(hex(b_address))"
   ]
  },
  {
   "cell_type": "markdown",
   "id": "0b31b74a-7d36-4443-b16a-93cab8b4f88f",
   "metadata": {},
   "source": [
    "![](https://www.honeybadger.io/images/blog/posts/memory-management-in-python/var_as_ref_ex_a_and_b.png?1691803805)\n",
    "\n",
    "[Source](https://www.honeybadger.io/blog/memory-management-in-python/)"
   ]
  },
  {
   "cell_type": "code",
   "execution_count": null,
   "id": "2f99f365-2e78-4e96-b821-a172d60daada",
   "metadata": {},
   "outputs": [],
   "source": [
    "c = \"hello\"\n",
    "\n",
    "c_address = id(c)\n",
    "print(c_address)\n",
    "print(hex(c_address))"
   ]
  },
  {
   "cell_type": "code",
   "execution_count": null,
   "id": "57a6dc1a",
   "metadata": {},
   "outputs": [],
   "source": [
    "# We can use ctypes.cast to create a new Python object which reference to same address\n",
    "import ctypes\n",
    "\n",
    "# *a_address\n",
    "print(ctypes.cast(a_address, ctypes.py_object).value)\n",
    "\n",
    "# *c_address\n",
    "print(ctypes.cast(c_address, ctypes.py_object).value)"
   ]
  },
  {
   "cell_type": "markdown",
   "id": "54acb435",
   "metadata": {},
   "source": [
    "## Finding reference count using `sys.getrefcount(...)`\n",
    "\n",
    "In Python, the memory manager keeps track of how many references point to each object in memory. This count is known as the **reference count** for that object."
   ]
  },
  {
   "cell_type": "code",
   "execution_count": null,
   "id": "6dc5ea41-cbf2-4046-81ec-9c5298b27b54",
   "metadata": {},
   "outputs": [],
   "source": [
    "my_var = 12324"
   ]
  },
  {
   "cell_type": "markdown",
   "id": "792651d5-2f9e-4f12-bfa9-51b8c0dbcd6f",
   "metadata": {},
   "source": [
    "To access the reference count of an object, you can use the `sys.getrefcount()` function. However, there is a small artifact associated with this function.\n",
    "\n",
    "When you call `sys.getrefcount()`, it increments the reference count by 1 temporarily. This happens because the function itself accesses the object, which causes the count to go up by 1."
   ]
  },
  {
   "cell_type": "code",
   "execution_count": null,
   "id": "f704f670-fb26-4bac-be9a-2c7cd7791afc",
   "metadata": {},
   "outputs": [],
   "source": [
    "import sys\n",
    "\n",
    "\n",
    "# The counter starts at 1 when an object is created.\n",
    "before = sys.getrefcount(my_var)\n",
    "\n",
    "# It increments when a reference is created\n",
    "my_var2 = my_var\n",
    "after_reference_by_other = sys.getrefcount(my_var)"
   ]
  },
  {
   "cell_type": "code",
   "execution_count": null,
   "id": "8b285bcd",
   "metadata": {},
   "outputs": [],
   "source": [
    "hex(id(my_var))"
   ]
  },
  {
   "cell_type": "markdown",
   "id": "071df205-d26e-4b9f-80bb-90a7013dcb20",
   "metadata": {},
   "source": [
    "If you create another variable and assign it the same value as the first variable, both variables will point to the same memory address. This means that changes made to one variable will also affect the other, making it a **pass by reference** behavior in Python."
   ]
  },
  {
   "cell_type": "code",
   "execution_count": null,
   "id": "098982fb",
   "metadata": {},
   "outputs": [],
   "source": [
    "# The counter starts at 1 when an object is created.\n",
    "before = sys.getrefcount(my_var)\n",
    "\n",
    "# It increments when a reference is created\n",
    "my_var2 = my_var\n",
    "after_reference_by_other = sys.getrefcount(my_var)\n",
    "\n",
    "print(f\"Starting reference: {before}\")\n",
    "print(f\"After another variable reference: {after_reference_by_other}\")"
   ]
  },
  {
   "cell_type": "markdown",
   "id": "3adc99aa",
   "metadata": {},
   "source": [
    "> Note that sync value are passed by reference in Python, sys.getrefcount(...) will return one additional count to actual reference number. It can be more in case you are running Python Interpreter in some differnt environment, like Jupyter notebook."
   ]
  },
  {
   "cell_type": "code",
   "execution_count": null,
   "id": "bb15bfb1",
   "metadata": {},
   "outputs": [],
   "source": [
    "print(id(my_var))\n",
    "print(id(my_var2))\n",
    "id(my_var) == id(my_var2)"
   ]
  },
  {
   "cell_type": "markdown",
   "id": "7e1911b2-e6a6-44a7-a29e-ef96b5bcbd7e",
   "metadata": {},
   "source": [
    "Another way to get the reference count without the artifact is by using the `ctypes.c_long.from_address(var_address).value` function. This approach requires the direct address of the object."
   ]
  },
  {
   "cell_type": "code",
   "execution_count": null,
   "id": "a7c05015",
   "metadata": {},
   "outputs": [],
   "source": [
    "# We can actually use ctypes to get the actual reference counter\n",
    "address = id(my_var)\n",
    "ctypes.c_long.from_address(address).value"
   ]
  },
  {
   "cell_type": "code",
   "execution_count": null,
   "id": "8be4fae5",
   "metadata": {
    "scrolled": true
   },
   "outputs": [],
   "source": [
    "# reference counter decrements when a reference is deleted.\n",
    "del my_var2\n",
    "ctypes.c_long.from_address(address).value"
   ]
  },
  {
   "cell_type": "code",
   "execution_count": null,
   "id": "6411f010",
   "metadata": {
    "scrolled": true
   },
   "outputs": [],
   "source": [
    "ctypes.cast(address, ctypes.py_object).value"
   ]
  },
  {
   "cell_type": "code",
   "execution_count": null,
   "id": "aa535187",
   "metadata": {},
   "outputs": [],
   "source": [
    "# The counter reaching zero indicates no more references to the object.\n",
    "del my_var\n",
    "\n",
    "# This might now give some random value.\n",
    "# As of fact reference counter for value 12324 is 0 now so python's garbage collection kicks in and free up the space\n",
    "ctypes.c_long.from_address(address).value"
   ]
  },
  {
   "cell_type": "code",
   "execution_count": null,
   "id": "4d84831e",
   "metadata": {},
   "outputs": [],
   "source": [
    "# Doing this may crash the Python interpreter ass the address now does not contains python object\n",
    "# ctypes.cast(address, ctypes.py_object).value"
   ]
  },
  {
   "cell_type": "markdown",
   "id": "3b1a9d1c",
   "metadata": {},
   "source": [
    "- Objects with a reference count of zero are considered garbage.\n",
    "- Garbage collection reclaims memory occupied by unreferenced objects.\n",
    "- Reference counting offers efficient memory management and immediate resource reclamation.\n",
    "- However, it doesn't handle cyclic references (objects referencing each other).\n",
    "- Python uses additional garbage collection mechanisms to handle cyclic references.\n",
    "- The reference counter ensures timely deallocation of objects and efficient memory usage."
   ]
  },
  {
   "cell_type": "markdown",
   "id": "7ae99b2c-84ec-4086-bd9d-bc6afbd7dca2",
   "metadata": {},
   "source": [
    "**Best PyCon talk in Memory management**\n",
    "\n",
    "[![](https://img.youtube.com/vi/F6u5rhUQ6dU/0.jpg)](https://youtu.be/F6u5rhUQ6dU)"
   ]
  },
  {
   "cell_type": "markdown",
   "id": "a1131428-e854-43ae-8fb4-1be5819d665a",
   "metadata": {},
   "source": [
    "## Get size of object using `sys.getrefcount(...)`"
   ]
  },
  {
   "cell_type": "code",
   "execution_count": null,
   "id": "8d108156-0f27-4d12-8e38-5e7552fbd962",
   "metadata": {},
   "outputs": [],
   "source": [
    "sys.getsizeof(1)"
   ]
  },
  {
   "cell_type": "code",
   "execution_count": null,
   "id": "2114037b-1d2a-4605-8639-caf1ffde6cbe",
   "metadata": {},
   "outputs": [],
   "source": [
    "sys.getsizeof(\"Python\")"
   ]
  },
  {
   "cell_type": "code",
   "execution_count": null,
   "id": "1958a63f-0434-438e-a787-4fa5ab430d0b",
   "metadata": {},
   "outputs": [],
   "source": [
    "sys.getsizeof([1, 2, 3, 4])"
   ]
  },
  {
   "cell_type": "code",
   "execution_count": null,
   "id": "de17b5bd-ffa4-4382-a869-f8aaefec2996",
   "metadata": {},
   "outputs": [],
   "source": [
    "sys.getsizeof((1, 2, 3, 4))"
   ]
  },
  {
   "cell_type": "code",
   "execution_count": null,
   "id": "d1ff3e60-ca95-45b9-94b3-d4bc313abb55",
   "metadata": {},
   "outputs": [],
   "source": [
    "sys.getsizeof({1, 2, 3, 4})"
   ]
  },
  {
   "cell_type": "markdown",
   "id": "389403f4-5a36-4333-bdd1-2bcec13fef71",
   "metadata": {},
   "source": [
    "Now let's look at them by incrementing them by 1 at a time."
   ]
  },
  {
   "cell_type": "markdown",
   "id": "a85459c1-7430-4821-a490-982c58adc98c",
   "metadata": {},
   "source": [
    "Let's start with `string`"
   ]
  },
  {
   "cell_type": "code",
   "execution_count": null,
   "id": "ceab6ccc-4280-4bda-b947-b7e9726d1893",
   "metadata": {},
   "outputs": [],
   "source": [
    "# It should be 49, but jupyter notebook it shows 51 bytes\n",
    "# https://stackoverflow.com/questions/53899931/why-does-an-empty-string-in-python-sometimes-take-up-49-bytes-and-sometimes-51\n",
    "\n",
    "sys.getsizeof(\"\")"
   ]
  },
  {
   "cell_type": "code",
   "execution_count": null,
   "id": "338a92c7-f3e3-47cc-9c83-5a8c997de266",
   "metadata": {},
   "outputs": [],
   "source": [
    "sys.getsizeof(\"P\")"
   ]
  },
  {
   "cell_type": "code",
   "execution_count": null,
   "id": "f1ff1f62-463a-44aa-a217-f14a31f0d922",
   "metadata": {},
   "outputs": [],
   "source": [
    "sys.getsizeof(\"Py\")"
   ]
  },
  {
   "cell_type": "code",
   "execution_count": null,
   "id": "def19e8d-77bc-49d9-89a0-c8b02518ae21",
   "metadata": {},
   "outputs": [],
   "source": [
    "sys.getsizeof(\"Pyt\")"
   ]
  },
  {
   "cell_type": "markdown",
   "id": "b1445c6b-43c5-48cd-a57a-d9a9594bb5f8",
   "metadata": {},
   "source": [
    "i.e. empty string has an overhead size of 49 bytes and each new character adds 1 byte to the string size."
   ]
  },
  {
   "cell_type": "markdown",
   "id": "3a94a2d2-8318-49a3-acf1-c6875ede1214",
   "metadata": {},
   "source": [
    "Let's check `list`"
   ]
  },
  {
   "cell_type": "code",
   "execution_count": null,
   "id": "b28bf891-a51d-4b03-aac9-4a335984b02a",
   "metadata": {},
   "outputs": [],
   "source": [
    "sys.getsizeof([])"
   ]
  },
  {
   "cell_type": "code",
   "execution_count": null,
   "id": "ce5ead31-b656-4798-86be-35c8fe526570",
   "metadata": {},
   "outputs": [],
   "source": [
    "sys.getsizeof([1])"
   ]
  },
  {
   "cell_type": "code",
   "execution_count": null,
   "id": "ba53a27a-0d49-4221-98d2-61912d078213",
   "metadata": {},
   "outputs": [],
   "source": [
    "sys.getsizeof([1, 2])"
   ]
  },
  {
   "cell_type": "markdown",
   "id": "3d429cf7-c636-4dbe-9c2e-7f9d3bcca286",
   "metadata": {},
   "source": [
    "Seems fine right? Like empty list has an overhead size of 56 bytes (or 28 bytes in WebAssembly) and each integer added to the list adds up 8 bytes (or 4 bytes in WebAssembly)."
   ]
  },
  {
   "cell_type": "code",
   "execution_count": null,
   "id": "314c69f8-c3fa-42bb-9790-8126e5a3c4ee",
   "metadata": {},
   "outputs": [],
   "source": [
    "sys.getsizeof([1, 2])"
   ]
  },
  {
   "cell_type": "code",
   "execution_count": null,
   "id": "a764e163-f80c-447a-a3bc-af6cafc3117b",
   "metadata": {},
   "outputs": [],
   "source": [
    "sys.getsizeof([1, 2, 3, 4])"
   ]
  },
  {
   "cell_type": "code",
   "execution_count": null,
   "id": "d0db866c-dd63-46ea-997f-47ed44a86709",
   "metadata": {},
   "outputs": [],
   "source": [
    "sys.getsizeof([1, 2, [1, 2, 3, 4]])"
   ]
  },
  {
   "cell_type": "markdown",
   "id": "cf7955b1-70df-4f83-8367-3dc619961c92",
   "metadata": {},
   "source": [
    "Why? That's because of the the item inside the list does not store the object, but reference to the object. In this case we are storing `[ref of 1, ref of 2, reference of [1, 2, 3, 4]]` "
   ]
  },
  {
   "cell_type": "markdown",
   "id": "acd13ca2-bd24-4665-af6a-1ac76e2942ad",
   "metadata": {},
   "source": [
    "There are snippets and tools which can be used to get the actual size of a object.\n",
    "- [COMPUTE MEMORY FOOTPRINT OF AN OBJECT AND ITS CONTENTS (PYTHON RECIPE)](https://code.activestate.com/recipes/577504/)\n",
    "- [memray](https://bloomberg.github.io/memray/index.html) - only works on Linux and macOS. \n",
    "- [Pympler](https://py`thonhosted.org/Pympler/#)\n",
    "- [memory-profiler](https://github.com/pythonprofilers/memory_profiler)\n",
    "- [Scalene](https://github.com/plasma-umass/scalene) - only works properly on Linux and macOS."
   ]
  },
  {
   "cell_type": "code",
   "execution_count": null,
   "id": "d297efa7-c852-40c8-9267-cb1cdec09113",
   "metadata": {},
   "outputs": [],
   "source": [
    "%pip install pympler"
   ]
  },
  {
   "cell_type": "code",
   "execution_count": null,
   "id": "bb5ccdd4-9a9c-4618-983a-d04668367947",
   "metadata": {},
   "outputs": [],
   "source": [
    "from pympler import asizeof\n",
    "\n",
    "asizeof.asizeof([1, 2, [1, 2, 3, 4]])"
   ]
  },
  {
   "cell_type": "code",
   "execution_count": null,
   "id": "47d3f8ec-d600-4690-9586-96282fa7538e",
   "metadata": {},
   "outputs": [],
   "source": [
    "%pip install scalene"
   ]
  },
  {
   "cell_type": "code",
   "execution_count": null,
   "id": "4757a6c4-9a01-47a4-acb9-874a6cbf0d76",
   "metadata": {},
   "outputs": [],
   "source": [
    "%%writefile example/concate_with_plus.py\n",
    "def add_string_with_plus(iters):\n",
    "    s = \"\"\n",
    "    for i in range(iters):\n",
    "        s += \"abc\"\n",
    "    assert len(s) == 3*iters\n",
    "    \n",
    "add_string_with_plus(500000)"
   ]
  },
  {
   "cell_type": "code",
   "execution_count": null,
   "id": "61ac2488-6c3f-44ea-a0b9-a0e3319218c1",
   "metadata": {},
   "outputs": [],
   "source": [
    "%%writefile example/concate_with_join.py\n",
    "def add_string_with_join(iters):\n",
    "    l = []\n",
    "    for i in range(iters):\n",
    "        l.append(\"abc\")\n",
    "    s = \"\".join(l)\n",
    "    assert len(s) == 3*iters\n",
    "    \n",
    "add_string_with_join(500000)"
   ]
  },
  {
   "cell_type": "code",
   "execution_count": null,
   "id": "d7a1af7e-66f9-4336-beda-f4b011b7aee1",
   "metadata": {},
   "outputs": [],
   "source": [
    "!scalene example/concate_with_plus.py"
   ]
  },
  {
   "cell_type": "code",
   "execution_count": null,
   "id": "b2458770-7cf8-403c-876c-20839788d1f7",
   "metadata": {},
   "outputs": [],
   "source": [
    "!scalene example/concate_with_join.py"
   ]
  },
  {
   "cell_type": "markdown",
   "id": "883f363c-c110-41fa-b64f-f9f2419b6967",
   "metadata": {},
   "source": [
    "You will get better output once you run it from terminal:\n",
    "![](./static/scalene_example.png)"
   ]
  },
  {
   "cell_type": "code",
   "execution_count": null,
   "id": "4ba7fa86-fe7f-4db9-9a5d-66457daa8887",
   "metadata": {},
   "outputs": [],
   "source": [
    "%pip install memory-profiler "
   ]
  },
  {
   "cell_type": "code",
   "execution_count": 2,
   "id": "b35e7e4d-760d-4339-895c-209cff1fc317",
   "metadata": {},
   "outputs": [
    {
     "name": "stdout",
     "output_type": "stream",
     "text": [
      "Overwriting example/memory_profile.py\n"
     ]
    }
   ],
   "source": [
    "%%writefile example/memory_profile.py\n",
    "@profile\n",
    "def my_func():\n",
    "    a = [1] * (10 ** 6)\n",
    "    b = [2] * (2 * 10 ** 7)\n",
    "    del b\n",
    "    return a\n",
    "\n",
    "my_func()"
   ]
  },
  {
   "cell_type": "code",
   "execution_count": 4,
   "id": "0e3bc5c2-eb97-47f4-9fa2-060f46d64719",
   "metadata": {},
   "outputs": [
    {
     "name": "stdout",
     "output_type": "stream",
     "text": [
      "Filename: example/memory_profile.py\n",
      "\n",
      "Line #    Mem usage    Increment  Occurrences   Line Contents\n",
      "=============================================================\n",
      "     1   37.766 MiB   37.766 MiB           1   @profile\n",
      "     2                                         def my_func():\n",
      "     3   45.410 MiB    7.645 MiB           1       a = [1] * (10 ** 6)\n",
      "     4  198.000 MiB  152.590 MiB           1       b = [2] * (2 * 10 ** 7)\n",
      "     5   45.414 MiB -152.586 MiB           1       del b\n",
      "     6   45.414 MiB    0.000 MiB           1       return a\n",
      "\n",
      "\n"
     ]
    }
   ],
   "source": [
    "!python -m memory_profiler example/memory_profile.py"
   ]
  },
  {
   "cell_type": "markdown",
   "id": "d760cc67-2734-4454-a14a-06f4e46ec29f",
   "metadata": {},
   "source": [
    "Later we can also check how much memory a small program in Python takes as compare to other language."
   ]
  },
  {
   "cell_type": "markdown",
   "id": "2829b891-299e-4b5a-a548-dfb12f38a929",
   "metadata": {},
   "source": [
    "## Garbage collection Gotha!\n",
    "\n",
    "**NOTE**: This might seems a bit advance and can be skipped for intermediate level! Maybe revisit this once other topics are covered.\n",
    "\n",
    "- This section covers some of the gocha of how we can have objects which are still not automatically collected by the garbage collector, sometimes also called as `memory leak`.\n",
    "- Some may be collected manually by running `gc.collect()`.\n",
    "- Other may not be because of the way they were referencec.\n",
    "We will also see the BKM of maintaining weak references which are removed as soon as the object goes out of scope."
   ]
  },
  {
   "cell_type": "code",
   "execution_count": null,
   "id": "48c38563-5fcb-4532-be10-13bcef06b128",
   "metadata": {},
   "outputs": [],
   "source": [
    "class C:\n",
    "    def __init__(self, x):\n",
    "        self.x = x\n",
    "\n",
    "    def __del__(self):\n",
    "        print(f\"Deleting object: {self}\")"
   ]
  },
  {
   "cell_type": "code",
   "execution_count": null,
   "id": "ea7b2b3d-f744-41a5-8d08-1a53ad04cc23",
   "metadata": {},
   "outputs": [],
   "source": [
    "c = C(10)"
   ]
  },
  {
   "cell_type": "code",
   "execution_count": null,
   "id": "55f2cdce-4c39-4d14-931a-f9d60247011d",
   "metadata": {},
   "outputs": [],
   "source": [
    "c = None"
   ]
  },
  {
   "cell_type": "markdown",
   "id": "94cc1c14-b066-4ff8-a35e-8da861272a71",
   "metadata": {},
   "source": [
    "#### Circular reference"
   ]
  },
  {
   "cell_type": "code",
   "execution_count": null,
   "id": "a2eb6027-220b-4b3a-a3af-ff30171c5190",
   "metadata": {},
   "outputs": [],
   "source": [
    "a = [1, 2]\n",
    "a.append(a)\n",
    "\n",
    "print(a)"
   ]
  },
  {
   "cell_type": "code",
   "execution_count": null,
   "id": "9c6cb1a7-5321-49ac-ba63-eebef177aaaa",
   "metadata": {},
   "outputs": [],
   "source": [
    "a[2][2][2][2][1]"
   ]
  },
  {
   "cell_type": "code",
   "execution_count": null,
   "id": "a446b679-b0e6-4830-bd1d-ae2302f860e0",
   "metadata": {},
   "outputs": [],
   "source": [
    "c = C(10)\n",
    "c.cr = c"
   ]
  },
  {
   "cell_type": "code",
   "execution_count": null,
   "id": "50cc4f04-85f6-4efd-9938-202b5d23f8ba",
   "metadata": {},
   "outputs": [],
   "source": [
    "c.cr.cr.cr.cr.x"
   ]
  },
  {
   "cell_type": "code",
   "execution_count": null,
   "id": "15e81af1-4ef9-4eaa-ae4a-374d72ae0059",
   "metadata": {},
   "outputs": [],
   "source": [
    "c = None"
   ]
  },
  {
   "cell_type": "code",
   "execution_count": null,
   "id": "02ed7d31-60ba-4616-a554-b3759a319f97",
   "metadata": {},
   "outputs": [],
   "source": [
    "import gc\n",
    "\n",
    "gc.collect()"
   ]
  },
  {
   "cell_type": "markdown",
   "id": "999791ec-5b2f-4c09-80fd-8d04f3332419",
   "metadata": {},
   "source": [
    "#### `weakref`: Maintaining reference to object without need to trigger manual garbage collection"
   ]
  },
  {
   "cell_type": "code",
   "execution_count": null,
   "id": "d1eb97c9-f7c3-47e5-ba60-820b3d47a909",
   "metadata": {},
   "outputs": [],
   "source": [
    "cache = set()"
   ]
  },
  {
   "cell_type": "code",
   "execution_count": null,
   "id": "67489a46-79ff-4eaf-8d11-edcb0040b702",
   "metadata": {},
   "outputs": [],
   "source": [
    "c1 = C(10)\n",
    "c2 = C(11)"
   ]
  },
  {
   "cell_type": "code",
   "execution_count": null,
   "id": "91529eb2-7f53-4629-8a5a-97e04d1f851e",
   "metadata": {},
   "outputs": [],
   "source": [
    "print(c1)\n",
    "print(c2)"
   ]
  },
  {
   "cell_type": "code",
   "execution_count": null,
   "id": "3b59d2d5-768c-4e18-ae0b-197bbc993fe1",
   "metadata": {},
   "outputs": [],
   "source": [
    "cache.add(c1)\n",
    "cache.add(c2)"
   ]
  },
  {
   "cell_type": "code",
   "execution_count": null,
   "id": "b45aadd9-9870-4f3a-aa10-2a497d40b525",
   "metadata": {},
   "outputs": [],
   "source": [
    "c1 = None\n",
    "c2 = None"
   ]
  },
  {
   "cell_type": "code",
   "execution_count": null,
   "id": "e70c50a1-1e7f-415e-9a9a-c82c6e312de9",
   "metadata": {},
   "outputs": [],
   "source": [
    "cache"
   ]
  },
  {
   "cell_type": "code",
   "execution_count": null,
   "id": "08835efd-2bd3-47d8-9dbc-0aaeeeb12e00",
   "metadata": {},
   "outputs": [],
   "source": [
    "gc.collect()"
   ]
  },
  {
   "cell_type": "code",
   "execution_count": null,
   "id": "a46f2c5b-36f2-4ff6-8691-d6fba1739515",
   "metadata": {},
   "outputs": [],
   "source": [
    "c1 = C(10)\n",
    "c2 = C(11)"
   ]
  },
  {
   "cell_type": "code",
   "execution_count": null,
   "id": "840d9f01-21dc-4660-8652-c525a1fcf7ed",
   "metadata": {},
   "outputs": [],
   "source": [
    "import weakref\n",
    "\n",
    "cache = set()\n",
    "cache.add(weakref.ref(c1))\n",
    "cache.add(weakref.ref(c2))"
   ]
  },
  {
   "cell_type": "code",
   "execution_count": null,
   "id": "3d2ee1e7-e0e3-41fa-8444-d5180bad2772",
   "metadata": {},
   "outputs": [],
   "source": [
    "c1 = None\n",
    "c2 = None"
   ]
  },
  {
   "cell_type": "code",
   "execution_count": null,
   "id": "79230af3-3b86-4c9b-880d-e9ddf0eabe4f",
   "metadata": {},
   "outputs": [],
   "source": [
    "cache"
   ]
  },
  {
   "cell_type": "code",
   "execution_count": null,
   "id": "ae911079-afdf-4561-a0e4-95250e91d4aa",
   "metadata": {},
   "outputs": [],
   "source": [
    "cache.pop()() is None"
   ]
  },
  {
   "cell_type": "markdown",
   "id": "9569d91f-506e-4693-819a-da8a07ac8616",
   "metadata": {},
   "source": [
    "#### Better way is to use `weakref.WeakKeyDictionary`"
   ]
  },
  {
   "cell_type": "code",
   "execution_count": null,
   "id": "bb5d95df-d1d4-4506-b82c-327320d31908",
   "metadata": {},
   "outputs": [],
   "source": [
    "c1 = C(10)\n",
    "c2 = C(11)"
   ]
  },
  {
   "cell_type": "code",
   "execution_count": null,
   "id": "74a7bd15-dcd7-4517-b92d-35805b9f11c2",
   "metadata": {},
   "outputs": [],
   "source": [
    "cache = weakref.WeakKeyDictionary()\n",
    "cache[c1] = hash(c1)\n",
    "cache[c2] = hash(c2)"
   ]
  },
  {
   "cell_type": "code",
   "execution_count": null,
   "id": "1cc87f35-7d65-4b43-8d3f-3cb0f14c8c11",
   "metadata": {},
   "outputs": [],
   "source": [
    "print(list(cache.items()))"
   ]
  },
  {
   "cell_type": "code",
   "execution_count": null,
   "id": "784582af-9af1-4de7-9d01-61c93f359d1b",
   "metadata": {},
   "outputs": [],
   "source": [
    "c1 = None\n",
    "c2 = None"
   ]
  },
  {
   "cell_type": "code",
   "execution_count": null,
   "id": "de0a9114-8e3b-4555-b807-db2a0a7d1cb9",
   "metadata": {},
   "outputs": [],
   "source": [
    "print(list(cache.items()))"
   ]
  },
  {
   "cell_type": "markdown",
   "id": "ca2c0c04-c1be-43f8-9724-746dfb6aeeb9",
   "metadata": {},
   "source": [
    "#### `@lru_cache` in methods can also cause memory leak!\n",
    "\n",
    "- ref: [issue19859 in python bugs](https://bugs.python.org/issue19859)\n",
    "- ref: [How do I cache method calls](https://docs.python.org/3/faq/programming.html#how-do-i-cache-method-calls)"
   ]
  },
  {
   "cell_type": "code",
   "execution_count": null,
   "id": "52aceaab-dd01-4b34-8d97-ade74f473a38",
   "metadata": {},
   "outputs": [],
   "source": [
    "import time\n",
    "\n",
    "\n",
    "class Calculator:\n",
    "    def __init__(self, num):\n",
    "        self.num = num\n",
    "\n",
    "    def calculate(self, power):\n",
    "        print(\"doing heavy work...\")\n",
    "        time.sleep(0.5)  # simulate the compute delay\n",
    "        return self.num**power\n",
    "\n",
    "    def __del__(self):\n",
    "        print(f\"Deleting object: {self}\")"
   ]
  },
  {
   "cell_type": "code",
   "execution_count": null,
   "id": "54001c1f-a7bd-401e-a3f0-ed0088337678",
   "metadata": {},
   "outputs": [],
   "source": [
    "c = Calculator(20)\n",
    "print(c.calculate(3))\n",
    "print(c.calculate(3))\n",
    "print(c.calculate(3))\n",
    "print(c.calculate(3))"
   ]
  },
  {
   "cell_type": "code",
   "execution_count": null,
   "id": "5a0267d1-3757-4b2e-99f4-6360a697d57d",
   "metadata": {},
   "outputs": [],
   "source": [
    "c = None"
   ]
  },
  {
   "cell_type": "code",
   "execution_count": null,
   "id": "74dcec3d-b52e-467a-88ba-01b802b3220b",
   "metadata": {},
   "outputs": [],
   "source": [
    "import time\n",
    "from functools import lru_cache\n",
    "\n",
    "\n",
    "class Calculator:\n",
    "    def __init__(self, num):\n",
    "        self.num = num\n",
    "\n",
    "    @lru_cache(maxsize=20)\n",
    "    def calculate(self, power):\n",
    "        print(\"doing heavy work...\")\n",
    "        time.sleep(0.5)  # simulate the compute delay\n",
    "        return self.num**power\n",
    "\n",
    "    def __del__(self):\n",
    "        print(f\"Deleting object: {self}\")"
   ]
  },
  {
   "cell_type": "code",
   "execution_count": null,
   "id": "f9f810fa-6fd9-4ca3-807b-74c67a29d648",
   "metadata": {},
   "outputs": [],
   "source": [
    "c = Calculator(20)\n",
    "print(c.calculate(3))\n",
    "print(c.calculate(3))\n",
    "print(c.calculate(3))\n",
    "print(c.calculate(3))"
   ]
  },
  {
   "cell_type": "code",
   "execution_count": null,
   "id": "7353a0e4-becf-41d7-88a9-5a4106452690",
   "metadata": {},
   "outputs": [],
   "source": [
    "c = None"
   ]
  },
  {
   "cell_type": "code",
   "execution_count": null,
   "id": "9621ec15-96c1-486a-b795-19dd6ff2b0b9",
   "metadata": {},
   "outputs": [],
   "source": [
    "Calculator.calculate.cache_info()"
   ]
  },
  {
   "cell_type": "code",
   "execution_count": null,
   "id": "a7762f9d-bf7f-48d5-b039-ab448c59e21d",
   "metadata": {},
   "outputs": [],
   "source": [
    "import gc\n",
    "\n",
    "gc.collect()"
   ]
  },
  {
   "cell_type": "code",
   "execution_count": null,
   "id": "1c66e884-f223-4228-9375-62dcb54a8710",
   "metadata": {},
   "outputs": [],
   "source": [
    "Calculator.calculate.cache_clear()"
   ]
  },
  {
   "cell_type": "markdown",
   "id": "83cc65a7",
   "metadata": {},
   "source": [
    "## Python is dynamically typed\n",
    "\n",
    "1. **Runtime Variable Type Determination:** Python is dynamically typed, meaning variable types are determined during runtime, not compile time.\n",
    "2. **Implicit Type Declaration:** Variables don't require explicit type declaration; type is inferred from assigned values.\n",
    "3. **Variable Type Flexibility:** Variables can hold different data types at different points in the program.\n",
    "4. **Runtime Reassignment:** Variables can be reassigned to various types during program execution.\n",
    "5. **Code Conciseness and Flexibility:** Allows concise and adaptable code by using the same variable for different data types."
   ]
  },
  {
   "cell_type": "code",
   "execution_count": null,
   "id": "a955d5e3",
   "metadata": {},
   "outputs": [],
   "source": [
    "my_var = 10\n",
    "print(hex(id(my_var)))\n",
    "print(type(my_var))"
   ]
  },
  {
   "cell_type": "code",
   "execution_count": null,
   "id": "c85ede28",
   "metadata": {},
   "outputs": [],
   "source": [
    "my_var = \"Test string\"\n",
    "print(hex(id(my_var)))\n",
    "print(type(my_var))"
   ]
  },
  {
   "cell_type": "markdown",
   "id": "6b8f90ef",
   "metadata": {},
   "source": [
    "## Mutability\n",
    "\n",
    "Mutation in Python refers to the process of changing the value of an object while keeping the same address in memory. In other words, when you mutate an object, you modify its internal state without creating a completely new object."
   ]
  },
  {
   "cell_type": "markdown",
   "id": "40a14121-7360-4aa7-9761-5d43b285f72c",
   "metadata": {},
   "source": [
    "### Mutation vs Rebinding\n",
    "\n",
    "Not exactly language specific feature. ref: [Wikipedia post](https://en.wikipedia.org/wiki/Name_binding#Rebinding_and_mutation)"
   ]
  },
  {
   "cell_type": "code",
   "execution_count": null,
   "id": "6fe4969c",
   "metadata": {},
   "outputs": [],
   "source": [
    "# Mutable objects provide a way to mutate them (change the internal state)\n",
    "a_list = [10, 20, 30]\n",
    "\n",
    "print(hex(id(a_list)))\n",
    "\n",
    "a_list.append(40)\n",
    "\n",
    "print(hex(id(a_list)))"
   ]
  },
  {
   "cell_type": "code",
   "execution_count": null,
   "id": "2db93ff0",
   "metadata": {},
   "outputs": [],
   "source": [
    "# Note that this create a new object in memory\n",
    "a_list2 = [10, 20, 30]\n",
    "\n",
    "print(hex(id(a_list2)))\n",
    "\n",
    "a_list2 = a_list2 + [40]\n",
    "\n",
    "# Note how Python recreated a new object here,\n",
    "# since it evaluates the right hand side and then reassign it to a_list2 object\n",
    "print(hex(id(a_list2)))"
   ]
  },
  {
   "cell_type": "code",
   "execution_count": null,
   "id": "b9a4112b",
   "metadata": {},
   "outputs": [],
   "source": [
    "a_tuple = ([10, 20, 30], 50, 60)\n",
    "\n",
    "a_tuple[0].append(40)\n",
    "print(a_tuple)"
   ]
  },
  {
   "cell_type": "markdown",
   "id": "089bdabd",
   "metadata": {},
   "source": [
    "> Note that in Python almost every user define data structure is mutable. Only immutable data type in Python are `int`, `float`, `complex`, `str`, `tuple`, `frozenset`, `bytes`, `True`, `False`, `None`."
   ]
  },
  {
   "cell_type": "markdown",
   "id": "651c7427",
   "metadata": {},
   "source": [
    "## Variable Equality"
   ]
  },
  {
   "cell_type": "markdown",
   "id": "a48a96e3",
   "metadata": {},
   "source": [
    "- `a == b` checks if value of a is equal to value of b\n",
    "- `a is b` checks if value of id(a) is equal to value of id(b)"
   ]
  },
  {
   "cell_type": "code",
   "execution_count": null,
   "id": "4a03471f",
   "metadata": {},
   "outputs": [],
   "source": [
    "a_int = 10\n",
    "b_int = 10\n",
    "\n",
    "print(a_int == b_int)\n",
    "print(a_int is b_int)  # id(a) == id(b)"
   ]
  },
  {
   "cell_type": "code",
   "execution_count": null,
   "id": "13bf186e",
   "metadata": {},
   "outputs": [],
   "source": [
    "a_int = 999\n",
    "b_int = 999\n",
    "\n",
    "print(a_int == b_int)\n",
    "print(a_int is b_int)  # id(a) == id(b)"
   ]
  },
  {
   "cell_type": "code",
   "execution_count": null,
   "id": "ed1396d2",
   "metadata": {},
   "outputs": [],
   "source": [
    "a_str = \"python\"\n",
    "b_str = \"python\"\n",
    "\n",
    "print(a_str == b_str)\n",
    "print(a_str is b_str)"
   ]
  },
  {
   "cell_type": "code",
   "execution_count": null,
   "id": "e6a89365",
   "metadata": {},
   "outputs": [],
   "source": [
    "a_str = \"python course\"\n",
    "b_str = \"python course\"\n",
    "\n",
    "print(a_str == b_str)\n",
    "print(a_str is b_str)"
   ]
  },
  {
   "cell_type": "markdown",
   "id": "e205ec6d",
   "metadata": {},
   "source": [
    "We will check why this happens when we discuss what Python does for memory optimization."
   ]
  },
  {
   "cell_type": "code",
   "execution_count": null,
   "id": "d98fb616",
   "metadata": {},
   "outputs": [],
   "source": [
    "a_list = [1, 2, 3, 4]\n",
    "b_list = [1, 2, 3, 4]\n",
    "\n",
    "print(a_list == b_list)\n",
    "print(a_list is b_list)"
   ]
  },
  {
   "cell_type": "code",
   "execution_count": null,
   "id": "bf205007",
   "metadata": {},
   "outputs": [],
   "source": [
    "a_int = 10\n",
    "a_float = 10.0\n",
    "\n",
    "print(a_int == a_float)\n",
    "print(a_int is a_float)"
   ]
  },
  {
   "cell_type": "code",
   "execution_count": null,
   "id": "a580ee5a",
   "metadata": {},
   "outputs": [],
   "source": [
    "a_obj = None\n",
    "b_obj = None\n",
    "\n",
    "print(a_obj == None)\n",
    "print(a_obj is None)\n",
    "print(a_obj == b_obj)\n",
    "print(a_obj is b_obj)"
   ]
  },
  {
   "cell_type": "markdown",
   "id": "625bf302",
   "metadata": {},
   "source": [
    "## Memory optimization"
   ]
  },
  {
   "cell_type": "markdown",
   "id": "4b80375a",
   "metadata": {},
   "source": [
    "#### Interning\n",
    "\n",
    "[From Wikipedia](https://en.wikipedia.org/wiki/Interning_(computer_science))\n",
    "> In computer science, interning is re-using objects of equal value on-demand instead of creating new objects. This creational pattern is frequently used for numbers and strings in different programming languages."
   ]
  },
  {
   "cell_type": "markdown",
   "id": "adee1396",
   "metadata": {},
   "source": [
    "##### Number Interning:\n",
    "- Python interns small integers in the range [-5, 256]. This means that any variable referencing an integer within this range will point to the same memory location. For example, `x = 5` and `y = 5` will have `x is y` evaluate to `True`.\n",
    "- Numbers outside the interned range or those created dynamically are not interned. For example, `x = 1000` and `y = 1000` will have `x is y` evaluate to `False`."
   ]
  },
  {
   "cell_type": "markdown",
   "id": "159bc2f9",
   "metadata": {},
   "source": [
    "##### String Interning:\n",
    "- String literals which are valid identifier are interned by default.\n",
    "- Strings created at runtime (i.e., not string literals) are typically not interned. This includes strings obtained through concatenation or string formatting.\n",
    "- User can manually intern a string using `sys.intern`."
   ]
  },
  {
   "cell_type": "code",
   "execution_count": null,
   "id": "32a77a82",
   "metadata": {},
   "outputs": [],
   "source": [
    "a_string = \"python\"\n",
    "b_string = \"python\"\n",
    "\n",
    "print(a_string == b_string)\n",
    "print(a_string is b_string)"
   ]
  },
  {
   "cell_type": "code",
   "execution_count": null,
   "id": "9f7db4ef",
   "metadata": {},
   "outputs": [],
   "source": [
    "a_string = \"python!\"\n",
    "b_string = \"python!\"\n",
    "\n",
    "print(a_string == b_string)\n",
    "print(a_string is b_string)"
   ]
  },
  {
   "cell_type": "code",
   "execution_count": null,
   "id": "912e50d8",
   "metadata": {},
   "outputs": [],
   "source": [
    "a_string = \"_this_string_will_be_intern_since_it_is_valid_identifier\"\n",
    "b_string = \"_this_string_will_be_intern_since_it_is_valid_identifier\"\n",
    "\n",
    "print(a_string == b_string)\n",
    "print(a_string is b_string)"
   ]
  },
  {
   "cell_type": "code",
   "execution_count": null,
   "id": "d6db6b15",
   "metadata": {},
   "outputs": [],
   "source": [
    "a_string = \"Generally this is not interned, but we can intern it using sys.intern\"\n",
    "b_string = \"Generally this is not interned, but we can intern it using sys.intern\"\n",
    "\n",
    "print(a_string == b_string)\n",
    "print(a_string is b_string)\n",
    "\n",
    "a_string = sys.intern(\n",
    "    \"Generally this is not interned, but we can intern it using sys.intern\"\n",
    ")\n",
    "b_string = sys.intern(\n",
    "    \"Generally this is not interned, but we can intern it using sys.intern\"\n",
    ")\n",
    "\n",
    "print(a_string == b_string)\n",
    "print(a_string is b_string)"
   ]
  },
  {
   "cell_type": "markdown",
   "id": "6625b9e8",
   "metadata": {},
   "source": [
    "#### Peephole\n",
    "\n",
    "[From Wikipedia](https://en.wikipedia.org/wiki/Peephole_optimization)\n",
    "\n",
    "> Peephole optimization is an optimization technique performed on a small set of compiler-generated instructions; the small set is known as the peephole or window."
   ]
  },
  {
   "cell_type": "code",
   "execution_count": null,
   "id": "c03a5b04",
   "metadata": {},
   "outputs": [],
   "source": [
    "c = compile(\"24 * 60\", \"<string>\", \"eval\")\n",
    "print(c.co_consts)"
   ]
  },
  {
   "cell_type": "code",
   "execution_count": null,
   "id": "e34bfdb7",
   "metadata": {},
   "outputs": [],
   "source": [
    "c = compile(\"(1, 2) * 5\", \"<string>\", \"eval\")\n",
    "print(c.co_consts)"
   ]
  },
  {
   "cell_type": "code",
   "execution_count": null,
   "id": "0dfadd57",
   "metadata": {},
   "outputs": [],
   "source": [
    "c = compile('\"xyz\" * 4', \"<string>\", \"eval\")\n",
    "print(c.co_consts)"
   ]
  },
  {
   "cell_type": "code",
   "execution_count": null,
   "id": "5299ffe6",
   "metadata": {},
   "outputs": [],
   "source": [
    "def a_func():\n",
    "    a_int = 24 * 60\n",
    "    # short length sequence <= 20\n",
    "    a_tuple = (1, 2) * 5\n",
    "    a_string = \"xyz\" * 4\n",
    "\n",
    "\n",
    "a_func.__code__.co_consts"
   ]
  },
  {
   "cell_type": "markdown",
   "id": "34d93bea-f283-466e-9855-cb4c43212ded",
   "metadata": {},
   "source": [
    "## Other practices"
   ]
  },
  {
   "cell_type": "markdown",
   "id": "1143c1be-07d9-48c7-9949-478a5af565f9",
   "metadata": {},
   "source": [
    "Use `del` to delete reference when a object is not required anymore"
   ]
  },
  {
   "cell_type": "markdown",
   "id": "f8001c69-c9e0-4c6a-bf24-da8a8c37327b",
   "metadata": {},
   "source": [
    "Use `__slot__` to save on memory."
   ]
  },
  {
   "cell_type": "code",
   "execution_count": null,
   "id": "d278a4df-6b8f-43de-8129-8209c83e3b78",
   "metadata": {},
   "outputs": [],
   "source": [
    "import sys\n",
    "\n",
    "\n",
    "class C:\n",
    "    def __init__(self, x, y):\n",
    "        self.x = x\n",
    "        self.y = y\n",
    "\n",
    "\n",
    "c = C(1, \"Hello World\")"
   ]
  },
  {
   "cell_type": "code",
   "execution_count": null,
   "id": "8cbda138-6c2a-4c97-9243-399c2853bb78",
   "metadata": {},
   "outputs": [],
   "source": [
    "\"__dict__\" in dir(c)"
   ]
  },
  {
   "cell_type": "code",
   "execution_count": null,
   "id": "fac50baa-34d7-4c49-a213-05eb8307a2dc",
   "metadata": {},
   "outputs": [],
   "source": [
    "c.__dict__"
   ]
  },
  {
   "cell_type": "code",
   "execution_count": null,
   "id": "44368f0c-dc3b-4e64-b6fd-b6f975c2ea37",
   "metadata": {},
   "outputs": [],
   "source": [
    "help(sys.getsizeof)"
   ]
  },
  {
   "cell_type": "code",
   "execution_count": null,
   "id": "29a042cd-059f-41ce-95e7-b1f037ebc892",
   "metadata": {},
   "outputs": [],
   "source": [
    "sys.getsizeof(c) + sys.getsizeof(c.__dict__)"
   ]
  },
  {
   "cell_type": "code",
   "execution_count": null,
   "id": "13e09a19-2c3c-45ac-b7e3-a0a54cf8d6c6",
   "metadata": {},
   "outputs": [],
   "source": [
    "class C:\n",
    "    __slots__ = (\"x\", \"y\")\n",
    "\n",
    "    def __init__(self, x, y):\n",
    "        self.x = x\n",
    "        self.y = y\n",
    "\n",
    "\n",
    "c = C(1, \"Hello World\")"
   ]
  },
  {
   "cell_type": "code",
   "execution_count": null,
   "id": "7fad78d5-3794-4478-a991-351f676928da",
   "metadata": {},
   "outputs": [],
   "source": [
    "\"__dict__\" in dir(c)"
   ]
  },
  {
   "cell_type": "code",
   "execution_count": null,
   "id": "e021eb52-36c0-4cf4-8c3a-cc971c1c7bc6",
   "metadata": {},
   "outputs": [],
   "source": [
    "sys.getsizeof(c)"
   ]
  },
  {
   "cell_type": "markdown",
   "id": "29f6d360-9fbc-4604-9c42-ee8965df4272",
   "metadata": {},
   "source": [
    "**Question before we proceed to next section**: What is the output of the following code?"
   ]
  },
  {
   "cell_type": "code",
   "execution_count": null,
   "id": "edf4ffc0-481d-476f-adf7-69f48c8a9290",
   "metadata": {},
   "outputs": [],
   "source": [
    "a_list = [[]] * 3\n",
    "a_list[0].append(1)\n",
    "a_list[1].append(2)\n",
    "a_list[2].append(3)\n",
    "\n",
    "print(a_list)"
   ]
  },
  {
   "cell_type": "markdown",
   "id": "53d3697e-c4d5-49d6-ac10-2fbfca8c584f",
   "metadata": {},
   "source": [
    "Have a look at the [official docs](https://docs.python.org/3/library/stdtypes.html#common-sequence-operations) to know how to handle this kind of issues."
   ]
  },
  {
   "cell_type": "markdown",
   "id": "b9b302c9-35a6-4646-9b5a-6bce8d5e9609",
   "metadata": {},
   "source": [
    "\\[<< [Basic Overview](./01_python_basic_overview.ipynb) | [Index](./00_index.ipynb) | [Function parameters and arguments](./03_function_parameters_and_arguments.ipynb) >>\\]"
   ]
  }
 ],
 "metadata": {
  "kernelspec": {
   "display_name": "Python 3 (ipykernel)",
   "language": "python",
   "name": "python3"
  },
  "language_info": {
   "codemirror_mode": {
    "name": "ipython",
    "version": 3
   },
   "file_extension": ".py",
   "mimetype": "text/x-python",
   "name": "python",
   "nbconvert_exporter": "python",
   "pygments_lexer": "ipython3",
   "version": "3.10.12"
  }
 },
 "nbformat": 4,
 "nbformat_minor": 5
}
