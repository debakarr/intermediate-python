{
 "cells": [
  {
   "cell_type": "markdown",
   "id": "faba3014-ddd4-4f4c-8a29-2f45a7b3020d",
   "metadata": {},
   "source": [
    "\\[<< [Memory Management in Python](./02_memory_management_in_python.ipynb) | [Index](./00_index.ipynb) | [Namespace, Scope and Closure](./04_namespaces_scopes_and_closures.ipynb) >>\\]"
   ]
  },
  {
   "cell_type": "markdown",
   "id": "709697c1",
   "metadata": {},
   "source": [
    "# Function parameters and arguments"
   ]
  },
  {
   "cell_type": "markdown",
   "id": "e5148727",
   "metadata": {},
   "source": [
    "### Parameters"
   ]
  },
  {
   "cell_type": "code",
   "execution_count": null,
   "id": "3179aec9",
   "metadata": {},
   "outputs": [],
   "source": [
    "def add(num1, num2):\n",
    "    return num1 + num2"
   ]
  },
  {
   "cell_type": "markdown",
   "id": "ff09b324",
   "metadata": {},
   "source": [
    "`num1` and `num2` are `add` function `parameters`."
   ]
  },
  {
   "cell_type": "markdown",
   "id": "b240f58d",
   "metadata": {},
   "source": [
    "### Arguments"
   ]
  },
  {
   "cell_type": "code",
   "execution_count": null,
   "id": "d7a74866",
   "metadata": {},
   "outputs": [],
   "source": [
    "x = 10\n",
    "y = 5\n",
    "\n",
    "print(add(x, y))"
   ]
  },
  {
   "cell_type": "markdown",
   "id": "9b31f93c",
   "metadata": {},
   "source": [
    "`x` and `y` are `add` function `arguments`."
   ]
  },
  {
   "cell_type": "markdown",
   "id": "d99ca786",
   "metadata": {},
   "source": [
    "### Argument are always passed by reference\n",
    "\n",
    "Other languages like C++ you can pass argument by value or reference:\n",
    "\n",
    "![](./static/pass_by_reference.png)\n",
    "\n",
    "In Python, arguments are always passed by reference. This means that changes made to mutable objects inside a function will affect the original object outside the function. However, immutable objects cannot be modified in-place."
   ]
  },
  {
   "cell_type": "code",
   "execution_count": null,
   "id": "cb565d68",
   "metadata": {},
   "outputs": [],
   "source": [
    "def get_ref_address(param1):\n",
    "    return hex(id(param1))\n",
    "    \n",
    "\n",
    "arg1 = 10\n",
    "\n",
    "print(hex(id(arg1)))\n",
    "\n",
    "print(get_ref_address(arg1))"
   ]
  },
  {
   "cell_type": "markdown",
   "id": "5d92c001",
   "metadata": {},
   "source": [
    "In the example above, `arg1` is an integer object, which is immutable. When we pass `arg1` to the `get_ref_address` function, a new reference to the same object is created, and we can see that the memory address remains the same."
   ]
  },
  {
   "cell_type": "markdown",
   "id": "e27567c3",
   "metadata": {},
   "source": [
    "### Function argument as mutable/immutable\n",
    "\n",
    "In Python, some objects are mutable (can be modified) while others are immutable (cannot be modified). Understanding the mutability of function arguments is important to avoid unintended side effects."
   ]
  },
  {
   "cell_type": "code",
   "execution_count": null,
   "id": "f49337b5",
   "metadata": {},
   "outputs": [],
   "source": [
    "# Immutable Function Arguments (Safe Side Effects)\n",
    "def increment_number(number):\n",
    "    number += 1  # Creates a new object\n",
    "    return number\n",
    "\n",
    "x = 10\n",
    "print(increment_number(x))  # Output: 11\n",
    "print(x)"
   ]
  },
  {
   "cell_type": "markdown",
   "id": "6283923f",
   "metadata": {},
   "source": [
    "In the above example, `number` is an immutable argument. Although we modify `number` inside the function, it creates a new object with the incremented value. However, the original variable `x` remains unchanged.\n"
   ]
  },
  {
   "cell_type": "code",
   "execution_count": null,
   "id": "c5e5e729",
   "metadata": {},
   "outputs": [],
   "source": [
    "# Mutable Function Arguments (Unintended Side Effects)\n",
    "def append_element(my_list):\n",
    "    my_list.append(\"New Element\")\n",
    "\n",
    "original_list = [1, 2, 3]\n",
    "append_element(original_list)\n",
    "print(original_list)"
   ]
  },
  {
   "cell_type": "markdown",
   "id": "512f43e5",
   "metadata": {},
   "source": [
    "In this example, `my_list` is a mutable argument. When we call the `append_element` function and modify `my_list` by appending a new element, it affects the original list outside the function. This demonstrates the unintended side effects that can occur with mutable arguments.\n"
   ]
  },
  {
   "cell_type": "code",
   "execution_count": null,
   "id": "43458149",
   "metadata": {},
   "outputs": [],
   "source": [
    "# Immutable Function Arguments (Unintended Side Effects)\n",
    "def modify_tuple(t):\n",
    "    t[2].append(4)\n",
    "\n",
    "immutable_tuple = (1, 2, [3])\n",
    "modify_tuple(immutable_tuple)\n",
    "\n",
    "print(immutable_tuple)"
   ]
  },
  {
   "cell_type": "markdown",
   "id": "fe75c4c1",
   "metadata": {},
   "source": [
    "In this example, `t` is a tuple containing an immutable object `(1, 2, [3])`. Although tuples are immutable, they can contain mutable objects. Inside the `modify_tuple` function, we modify the mutable list `[3]` by appending `4`, which changes the tuple when accessed outside the function.\n"
   ]
  },
  {
   "cell_type": "markdown",
   "id": "592d9fb8",
   "metadata": {},
   "source": [
    "## Positional and Keyword Argument\n",
    "\n",
    "In Python, function arguments can be passed as positional or keyword arguments. Positional arguments are assigned based on their order, while keyword arguments are assigned based on their names.\n"
   ]
  },
  {
   "cell_type": "code",
   "execution_count": null,
   "id": "691b4bbc",
   "metadata": {},
   "outputs": [],
   "source": [
    "# Valid\n",
    "def func(a, b, c=10):\n",
    "    print(f\"{a = }, {b = }, {c = }\")"
   ]
  },
  {
   "cell_type": "code",
   "execution_count": null,
   "id": "b202d1eb",
   "metadata": {},
   "outputs": [],
   "source": [
    "# Invalid\n",
    "def func(a, b=5, c):\n",
    "    print(f\"{a = }, {b = }, {c = }\")"
   ]
  },
  {
   "cell_type": "code",
   "execution_count": null,
   "id": "b7589c5e",
   "metadata": {},
   "outputs": [],
   "source": [
    "def func(a, b=5, c=10):\n",
    "    print(f\"{a = }, {b = }, {c = }\")"
   ]
  },
  {
   "cell_type": "code",
   "execution_count": null,
   "id": "0d1bde16",
   "metadata": {},
   "outputs": [],
   "source": [
    "func(1)"
   ]
  },
  {
   "cell_type": "code",
   "execution_count": null,
   "id": "e931caec",
   "metadata": {},
   "outputs": [],
   "source": [
    "func(1, 2)"
   ]
  },
  {
   "cell_type": "code",
   "execution_count": null,
   "id": "e8f18505",
   "metadata": {},
   "outputs": [],
   "source": [
    "func(1, 2, 3)"
   ]
  },
  {
   "cell_type": "code",
   "execution_count": null,
   "id": "e0926461",
   "metadata": {},
   "outputs": [],
   "source": [
    "func(a=1, b=2, c=3)"
   ]
  },
  {
   "cell_type": "code",
   "execution_count": null,
   "id": "771f762e",
   "metadata": {},
   "outputs": [],
   "source": [
    "func(a=1, c=2)"
   ]
  },
  {
   "cell_type": "code",
   "execution_count": null,
   "id": "6d68e2b2",
   "metadata": {},
   "outputs": [],
   "source": [
    "func(c=3, a=1, b=2)"
   ]
  },
  {
   "cell_type": "code",
   "execution_count": null,
   "id": "40226d3f",
   "metadata": {},
   "outputs": [],
   "source": [
    "# This is Invalid\n",
    "# Not only function definition, but function call also have similar rules\n",
    "func(1, b=2, 3)"
   ]
  },
  {
   "cell_type": "markdown",
   "id": "c53c632f",
   "metadata": {},
   "source": [
    "## Unpacking tuple\n",
    "\n",
    "In Python, we can unpack a tuple to assign its elements to multiple variables.\n"
   ]
  },
  {
   "cell_type": "code",
   "execution_count": null,
   "id": "d9258f00",
   "metadata": {},
   "outputs": [],
   "source": [
    "my_tuple = (1, 2, 3)\n",
    "my_tuple2 = 1, 2, 3  # Doesn't need (). Those are just syntactic sugar"
   ]
  },
  {
   "cell_type": "code",
   "execution_count": null,
   "id": "f78597c8",
   "metadata": {},
   "outputs": [],
   "source": [
    "print(type(my_tuple))\n",
    "print(type(my_tuple2))"
   ]
  },
  {
   "cell_type": "code",
   "execution_count": null,
   "id": "2e41985c",
   "metadata": {},
   "outputs": [],
   "source": [
    "my_tuple == my_tuple2"
   ]
  },
  {
   "cell_type": "code",
   "execution_count": null,
   "id": "54a60f25",
   "metadata": {},
   "outputs": [],
   "source": [
    "not_tuple = (1)"
   ]
  },
  {
   "cell_type": "code",
   "execution_count": null,
   "id": "e558acb0",
   "metadata": {},
   "outputs": [],
   "source": [
    "print(type(not_tuple))"
   ]
  },
  {
   "cell_type": "code",
   "execution_count": null,
   "id": "8920c24d",
   "metadata": {},
   "outputs": [],
   "source": [
    "not_tuple"
   ]
  },
  {
   "cell_type": "code",
   "execution_count": null,
   "id": "94c2182e",
   "metadata": {},
   "outputs": [],
   "source": [
    "my_tuple3 = (1,)\n",
    "my_tuple4 = 1,"
   ]
  },
  {
   "cell_type": "code",
   "execution_count": null,
   "id": "5a3914bd",
   "metadata": {},
   "outputs": [],
   "source": [
    "my_tuple3"
   ]
  },
  {
   "cell_type": "code",
   "execution_count": null,
   "id": "f65fe2ca",
   "metadata": {},
   "outputs": [],
   "source": [
    "my_tuple4"
   ]
  },
  {
   "cell_type": "code",
   "execution_count": null,
   "id": "e32843a5",
   "metadata": {},
   "outputs": [],
   "source": [
    "x, y, z = (1, 2, 3)\n",
    "\n",
    "print(f\"{x = }, {y = }, {z = }\")"
   ]
  },
  {
   "cell_type": "code",
   "execution_count": null,
   "id": "716a8eed",
   "metadata": {},
   "outputs": [],
   "source": [
    "x, y, z = \"XYZ\"\n",
    "\n",
    "print(f\"{x = }, {y = }, {z = }\")"
   ]
  },
  {
   "cell_type": "markdown",
   "id": "23c00f12",
   "metadata": {},
   "source": [
    "#### Using unpacking swap value\n",
    "\n",
    "Unpacking can also be used to swap the values of two variables.\n"
   ]
  },
  {
   "cell_type": "code",
   "execution_count": null,
   "id": "7cdbfdb4",
   "metadata": {},
   "outputs": [],
   "source": [
    "a, b = 5, 10\n",
    "\n",
    "print(f\"Before swap: {a = }, {b = }\")\n",
    "      \n",
    "b, a = a, b\n",
    "      \n",
    "print(f\"Before swap: {a = }, {b = }\")"
   ]
  },
  {
   "cell_type": "markdown",
   "id": "c57d8f69",
   "metadata": {},
   "source": [
    "In the example above, the values of `a` and `b` are swapped using unpacking. The right-hand side of the assignment evaluates to a tuple `(a, b)` which is then unpacked and assigned back to `b` and `a`.\n"
   ]
  },
  {
   "cell_type": "markdown",
   "id": "467bf7e8-380b-4097-a404-e7f09337aa50",
   "metadata": {},
   "source": [
    "**Quick question**: How many objects are created when we run the above code?"
   ]
  },
  {
   "cell_type": "markdown",
   "id": "8b4c31b1-3b20-417d-acef-4fd0c03b755a",
   "metadata": {},
   "source": [
    "Use **Thonny** for visualization"
   ]
  },
  {
   "cell_type": "markdown",
   "id": "e7997b93",
   "metadata": {},
   "source": [
    "### Don't try to unpack set or dictionary key"
   ]
  },
  {
   "cell_type": "code",
   "execution_count": null,
   "id": "6f9337d0",
   "metadata": {},
   "outputs": [],
   "source": [
    "my_set = {1, 2, 3}\n",
    "\n",
    "x, y, z = my_set\n",
    "print(f\"{x = }, {y = }, {z = }\")\n",
    "# Can be x = 1, y = 2, z = 3\n",
    "# Or x = 2, y = 1, z = 3\n",
    "# Or x = 3, y = 2, z = 1\n",
    "# ..."
   ]
  },
  {
   "cell_type": "markdown",
   "id": "f45014d6",
   "metadata": {},
   "source": [
    "### * for unpacking\n",
    "\n",
    "The `*` operator can be used for unpacking iterables in Python.\n"
   ]
  },
  {
   "cell_type": "markdown",
   "id": "2fb34432",
   "metadata": {},
   "source": [
    "**LHS**"
   ]
  },
  {
   "cell_type": "code",
   "execution_count": null,
   "id": "05c38d6f",
   "metadata": {},
   "outputs": [],
   "source": [
    "my_list = [1, 2, 3, 4, 5]\n",
    "\n",
    "x, y, z = my_list[0], my_list[1:-1], my_list[-1]\n",
    "\n",
    "print(f\"{x = }, {y = }, {z = }\")"
   ]
  },
  {
   "cell_type": "code",
   "execution_count": null,
   "id": "4393abcd",
   "metadata": {},
   "outputs": [],
   "source": [
    "x, *y, z = my_list\n",
    "\n",
    "print(f\"{x = }, {y = }, {z = }\")"
   ]
  },
  {
   "cell_type": "markdown",
   "id": "4bc70c6e",
   "metadata": {},
   "source": [
    "In the example above, the `*y` syntax assigns the remaining elements of `my_list` to the list `y`. The first element is assigned to `x`, and the last element is assigned to `z`.\n"
   ]
  },
  {
   "cell_type": "code",
   "execution_count": null,
   "id": "00202528",
   "metadata": {},
   "outputs": [],
   "source": [
    "# Invalid\n",
    "x, *y, *z = my_list"
   ]
  },
  {
   "cell_type": "markdown",
   "id": "c061db1d",
   "metadata": {},
   "source": [
    "**RHS**"
   ]
  },
  {
   "cell_type": "code",
   "execution_count": null,
   "id": "cff02955",
   "metadata": {},
   "outputs": [],
   "source": [
    "my_list1 = [1, 2, 3]\n",
    "my_list2 = [4, 5, 6]\n",
    "\n",
    "merged_list = my_list1 + my_list2\n",
    "print(merged_list)"
   ]
  },
  {
   "cell_type": "code",
   "execution_count": null,
   "id": "637b38bc",
   "metadata": {},
   "outputs": [],
   "source": [
    "merged_list = [*my_list1, *my_list2]\n",
    "print(merged_list)"
   ]
  },
  {
   "cell_type": "markdown",
   "id": "c38e5a04",
   "metadata": {},
   "source": [
    "### ** for unpacking\n",
    "\n",
    "The `**` operator can be used for unpacking dictionaries in Python.\n"
   ]
  },
  {
   "cell_type": "markdown",
   "id": "95d0c7ef",
   "metadata": {},
   "source": [
    "Can only be used in RHS"
   ]
  },
  {
   "cell_type": "code",
   "execution_count": null,
   "id": "5053b190",
   "metadata": {},
   "outputs": [],
   "source": [
    "my_dict1 = {\"a\": 1, \"b\": 2, \"c\": 3}\n",
    "my_dict2 = {\"a\": 3}\n",
    "my_dict3 = {\"c\": 6}"
   ]
  },
  {
   "cell_type": "code",
   "execution_count": null,
   "id": "12d46707",
   "metadata": {},
   "outputs": [],
   "source": [
    "merged_dict = {**my_dict1, **my_dict2, **my_dict3}\n",
    "print(merged_dict)"
   ]
  },
  {
   "cell_type": "markdown",
   "id": "a5a4e664",
   "metadata": {},
   "source": [
    "In the example above, the dictionaries `my_dict1`, `my_dict2`, and `my_dict3` are merged into a single dictionary `merged_dict` using the `**` unpacking syntax.\n"
   ]
  },
  {
   "cell_type": "code",
   "execution_count": null,
   "id": "b0841d3f",
   "metadata": {},
   "outputs": [],
   "source": [
    "merged_dict = {**my_dict3, **my_dict2, **my_dict1}\n",
    "print(merged_dict)"
   ]
  },
  {
   "cell_type": "markdown",
   "id": "e46e49ca",
   "metadata": {},
   "source": [
    "### Unpacking nested value\n",
    "\n",
    "Nested values can be unpacked in Python to assign them to multiple variables.\n"
   ]
  },
  {
   "cell_type": "code",
   "execution_count": null,
   "id": "b4c41714",
   "metadata": {},
   "outputs": [],
   "source": [
    "a, b, c, d = [1, 2, [3, 4]]"
   ]
  },
  {
   "cell_type": "markdown",
   "id": "a7ada8a3-4d03-4260-bf41-3caeaf4c02be",
   "metadata": {},
   "source": [
    "How do you unpack this?"
   ]
  },
  {
   "cell_type": "code",
   "execution_count": null,
   "id": "b37032d2",
   "metadata": {
    "jupyter": {
     "source_hidden": true
    },
    "tags": []
   },
   "outputs": [],
   "source": [
    "a, b, (c, d) = [1, 2, [3, 4]]"
   ]
  },
  {
   "cell_type": "markdown",
   "id": "a3e1696e",
   "metadata": {},
   "source": [
    "In the example above, the nested list `[3, 4]` is unpacked, and its elements are assigned to the variables `c` and `d`.\n"
   ]
  },
  {
   "cell_type": "code",
   "execution_count": null,
   "id": "f4ca2cd0",
   "metadata": {
    "jupyter": {
     "source_hidden": true
    },
    "tags": []
   },
   "outputs": [],
   "source": [
    "print(f\"{a = }, {b = }, {c = }, {d = }\")"
   ]
  },
  {
   "cell_type": "markdown",
   "id": "2bdc5f8b",
   "metadata": {},
   "source": [
    "### *args\n",
    "\n",
    "The `*args` syntax allows a function to accept a variable number of positional arguments. It allows you to pass any number of additional arguments to a function, and they will be collected into a tuple.\n"
   ]
  },
  {
   "cell_type": "code",
   "execution_count": null,
   "id": "4fbf394e",
   "metadata": {},
   "outputs": [],
   "source": [
    "def func(x, y, *z):\n",
    "    print(f\"{x = }, {y = }, {z = }\")\n",
    "    \n",
    "func(1, 2, 3, 4, 5)"
   ]
  },
  {
   "cell_type": "markdown",
   "id": "fedd1e4b",
   "metadata": {},
   "source": [
    "In the example above, the `func` function takes two positional arguments `x` and `y`, and any additional arguments passed after `y` are collected into the `z` tuple. In this case, `z` will contain `(3, 4, 5)`.\n",
    "\n",
    "The `*args` parameter allows you to handle a flexible number of arguments in your function without explicitly defining them. It is commonly used when you want to pass a variable number of arguments to a function.\n"
   ]
  },
  {
   "cell_type": "code",
   "execution_count": null,
   "id": "9b9b631e",
   "metadata": {},
   "outputs": [],
   "source": [
    "def func(x, y, z):\n",
    "    print(f\"{x = }, {y = }, {z = }\")"
   ]
  },
  {
   "cell_type": "code",
   "execution_count": null,
   "id": "24a19622",
   "metadata": {},
   "outputs": [],
   "source": [
    "my_list = [1, 2, 3]"
   ]
  },
  {
   "cell_type": "code",
   "execution_count": null,
   "id": "806e6815",
   "metadata": {},
   "outputs": [],
   "source": [
    "func(my_list)"
   ]
  },
  {
   "cell_type": "code",
   "execution_count": null,
   "id": "56e970a1",
   "metadata": {},
   "outputs": [],
   "source": [
    "func(*my_list)"
   ]
  },
  {
   "cell_type": "markdown",
   "id": "0aa3487b",
   "metadata": {},
   "source": [
    "We can also use `*` to unpack an iterable and send it to the function."
   ]
  },
  {
   "cell_type": "markdown",
   "id": "73c1b58f",
   "metadata": {},
   "source": [
    "### Mandatory keyword argument\n",
    "\n",
    "In Python, you can make an argument mandatory by specifying it after the `*args` parameter. This means that the argument must be passed as a keyword argument when calling the function.\n"
   ]
  },
  {
   "cell_type": "code",
   "execution_count": null,
   "id": "d54b3a73",
   "metadata": {},
   "outputs": [],
   "source": [
    "def func(w, x, *y, z):\n",
    "    print(f\"{w = }, {x = }, {y = }, {z = }\")    "
   ]
  },
  {
   "cell_type": "code",
   "execution_count": null,
   "id": "1d16f315",
   "metadata": {},
   "outputs": [],
   "source": [
    "func(1, 2, 3, 4, 5, 6)"
   ]
  },
  {
   "cell_type": "code",
   "execution_count": null,
   "id": "8ba8b147",
   "metadata": {},
   "outputs": [],
   "source": [
    "func(1, 2, 3, 4, 5, z=6)"
   ]
  },
  {
   "cell_type": "markdown",
   "id": "ed6d2e72",
   "metadata": {},
   "source": [
    "In this example, `z` is a mandatory keyword argument. It must be passed using the `z=value` syntax when calling the function. The other arguments before `z` can be passed as positional arguments.\n"
   ]
  },
  {
   "cell_type": "code",
   "execution_count": null,
   "id": "c7bf4d24",
   "metadata": {},
   "outputs": [],
   "source": [
    "func(1, 2, z=6)"
   ]
  },
  {
   "cell_type": "code",
   "execution_count": null,
   "id": "50c749dd",
   "metadata": {},
   "outputs": [],
   "source": [
    "def func(x, y, *, z):\n",
    "    print(f\"{x = }, {y = }, {z = }\")"
   ]
  },
  {
   "cell_type": "code",
   "execution_count": null,
   "id": "e93a66c0",
   "metadata": {},
   "outputs": [],
   "source": [
    "func(1, 2, z=1)"
   ]
  },
  {
   "cell_type": "code",
   "execution_count": null,
   "id": "1f162388",
   "metadata": {},
   "outputs": [],
   "source": [
    "def func(*, x, y, z):\n",
    "    print(f\"{x = }, {y = }, {z = }\")"
   ]
  },
  {
   "cell_type": "code",
   "execution_count": null,
   "id": "00e28712",
   "metadata": {},
   "outputs": [],
   "source": [
    "func(x=1, y=2, z=3)"
   ]
  },
  {
   "cell_type": "markdown",
   "id": "cfa18773",
   "metadata": {},
   "source": [
    "### Catch all vs no additional positional argument\n",
    "\n",
    "In Python, you can have a function that accepts a variable number of positional arguments, followed by keyword arguments. This allows you to define functions that are more flexible in terms of the arguments they accept.\n"
   ]
  },
  {
   "cell_type": "code",
   "execution_count": null,
   "id": "6a597d88",
   "metadata": {},
   "outputs": [],
   "source": [
    "def catch_all_args(w, x=1, *args, y, z=2):\n",
    "    print(f\"{w = }, {x = }, {args = }, {y = }, {z = }\")\n",
    "    \n",
    "def no_positional_argument(w, x=1, *, y, z=2):\n",
    "    print(f\"{w = }, {x = }, {y = }, {z = }\")"
   ]
  },
  {
   "cell_type": "code",
   "execution_count": null,
   "id": "e7d4e334",
   "metadata": {},
   "outputs": [],
   "source": [
    "catch_all_args(1, 2, 3, 4, 5, 6, y=2, z=3)\n",
    "catch_all_args(1, 2, 3, 4, 5, 6, y=2)\n",
    "catch_all_args(1, y=2)"
   ]
  },
  {
   "cell_type": "code",
   "execution_count": null,
   "id": "bc80779f",
   "metadata": {},
   "outputs": [],
   "source": [
    "no_positional_argument(1, 2, 3, 4, 5, 6, y=2, z=3)"
   ]
  },
  {
   "cell_type": "code",
   "execution_count": null,
   "id": "4ebf0134",
   "metadata": {},
   "outputs": [],
   "source": [
    "no_positional_argument(1, 2, y=2, z=3)\n",
    "no_positional_argument(1, 2, y=2)\n",
    "no_positional_argument(1, y=2)"
   ]
  },
  {
   "cell_type": "markdown",
   "id": "1f08a226",
   "metadata": {},
   "source": [
    "In this example, the `catch_all_args` function accepts a mandatory positional argument `w`, an optional positional argument `x` with a default value of `1`, any additional positional arguments are collected into the `args` tuple, and two mandatory keyword arguments `y` and `z` with default values `2`. This allows you to pass any number of additional positional arguments after `x` and still provide values for `y` and `z`.\n",
    "\n",
    "the `no_positional_argument` function accepts a mandatory positional argument `w`, an optional positional argument `x` with a default value of `1`, and two mandatory keyword arguments `y` and `z` with default values `2`. The `*` syntax after `x` indicates that no additional positional arguments can be passed after `x`, and all arguments after `x` must be passed as keyword arguments.\n"
   ]
  },
  {
   "cell_type": "markdown",
   "id": "37bb07be",
   "metadata": {},
   "source": [
    "### **kwargs\n",
    "\n",
    "The `**kwargs` syntax allows a function to accept a variable number of keyword arguments. It allows you to pass any number of additional keyword arguments to a function, and they will be collected into a dictionary.\n"
   ]
  },
  {
   "cell_type": "code",
   "execution_count": null,
   "id": "334fe026",
   "metadata": {},
   "outputs": [],
   "source": [
    "def func(a, b=5, **kwargs):\n",
    "    print(f\"{a = }, {b = }, {kwargs = }\")"
   ]
  },
  {
   "cell_type": "code",
   "execution_count": null,
   "id": "17f98413",
   "metadata": {},
   "outputs": [],
   "source": [
    "func(1, 2, x=2, y=3, z=4)"
   ]
  },
  {
   "cell_type": "code",
   "execution_count": null,
   "id": "1a552491",
   "metadata": {},
   "outputs": [],
   "source": [
    "func(1, x=2, y=3, z=4)"
   ]
  },
  {
   "cell_type": "markdown",
   "id": "3b383768",
   "metadata": {},
   "source": [
    "In this example, the `func` function takes a mandatory argument `a`, an optional argument `b` with a default value of `5`, and any additional keyword arguments are collected into the `kwargs` dictionary. The `kwargs` dictionary will contain `{\"x\": 2, \"y\": 3, \"z\": 4}`.\n",
    "\n",
    "The `**kwargs` parameter allows you to handle a flexible number of keyword arguments in your function without explicitly defining them. It is commonly used when you want to pass a variable number of keyword arguments to a function.\n"
   ]
  },
  {
   "cell_type": "markdown",
   "id": "38f5dd5e-2732-4664-87a4-5b8b222ef2b6",
   "metadata": {},
   "source": [
    "|                  | Positional Arguments       | Keyword-Only Arguments    |\n",
    "|------------------|----------------------------|---------------------------|\n",
    "| Definition       | Passed based on position   | Passed using parameter name|\n",
    "| Syntax           | `def func(arg1, arg2, ...)`| `def func(*, kwarg1, kwarg2, ...)` |\n",
    "| Call Syntax      | `func(val1, val2, ...)`    | `func(kwarg1=val1, kwarg2=val2, ...)` |\n",
    "| Flexibility      | Order matters              | Order doesn't matter      |\n",
    "| Default Values   | Can have default values    | Can have default values   |\n",
    "| Required         | All must be provided       | Can have optional arguments |\n",
    "| Usage            | Best for mandatory args    | Useful for clarity        |"
   ]
  },
  {
   "cell_type": "markdown",
   "id": "e634531e",
   "metadata": {},
   "source": [
    "## Extra bits"
   ]
  },
  {
   "cell_type": "markdown",
   "id": "125c9814",
   "metadata": {},
   "source": [
    "If a function does not have any return statement, then it returns `None` explicitely."
   ]
  },
  {
   "cell_type": "code",
   "execution_count": null,
   "id": "c4e622ed",
   "metadata": {},
   "outputs": [],
   "source": [
    "def greet(name):\n",
    "    print(f\"Hello {name}!\")\n",
    "    \n",
    "ret = greet(\"Debakar\")"
   ]
  },
  {
   "cell_type": "code",
   "execution_count": null,
   "id": "9c46f74d",
   "metadata": {},
   "outputs": [],
   "source": [
    "ret is None"
   ]
  },
  {
   "cell_type": "code",
   "execution_count": null,
   "id": "bf08c2fc",
   "metadata": {},
   "outputs": [],
   "source": [
    "import dis\n",
    "\n",
    "\n",
    "dis.dis(greet)"
   ]
  },
  {
   "cell_type": "markdown",
   "id": "2b0a87e6-57bb-4f64-92a2-b3ef093642ca",
   "metadata": {},
   "source": [
    "**Question before we proceed to next section**: What is the output of the following code?"
   ]
  },
  {
   "cell_type": "code",
   "execution_count": null,
   "id": "aae61ebf-c159-4fc1-b513-3326faf6c5e4",
   "metadata": {},
   "outputs": [],
   "source": [
    "val = 100\n",
    "\n",
    "def func(x=val):\n",
    "    print(x)\n",
    "    \n",
    "val = 200\n",
    "\n",
    "func()"
   ]
  },
  {
   "cell_type": "markdown",
   "id": "bebfed65-b214-4139-9569-d5f359495e62",
   "metadata": {},
   "source": [
    "\\[<< [Memory Management in Python](./02_memory_management_in_python.ipynb) | [Index](./00_index.ipynb) | [Namespace, Scope and Closure](./04_namespaces_scopes_and_closures.ipynb) >>\\]"
   ]
  }
 ],
 "metadata": {
  "kernelspec": {
   "display_name": "Python 3 (ipykernel)",
   "language": "python",
   "name": "python3"
  },
  "language_info": {
   "codemirror_mode": {
    "name": "ipython",
    "version": 3
   },
   "file_extension": ".py",
   "mimetype": "text/x-python",
   "name": "python",
   "nbconvert_exporter": "python",
   "pygments_lexer": "ipython3",
   "version": "3.11.4"
  }
 },
 "nbformat": 4,
 "nbformat_minor": 5
}
