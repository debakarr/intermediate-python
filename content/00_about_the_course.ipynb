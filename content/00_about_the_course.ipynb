{
 "cells": [
  {
   "cell_type": "markdown",
   "id": "2950d71d-480d-4a54-a59d-8ec85372505f",
   "metadata": {},
   "source": [
    "# Intermediate Python"
   ]
  },
  {
   "cell_type": "markdown",
   "id": "72ad52dc-9db7-429c-a846-bf25df03cb9f",
   "metadata": {},
   "source": [
    "[![lite-badge](https://jupyterlite.rtfd.io/en/latest/_static/badge.svg)](https://debakarr.github.io/intermediate-python)\n",
    "\n",
    "[![Binder](https://mybinder.org/badge_logo.svg)](https://mybinder.org/v2/gh/debakarr/intermediate-python/HEAD)\n",
    "\n",
    "[![Colab](https://colab.research.google.com/assets/colab-badge.svg)](https://colab.research.google.com/github/debakarr/intermediate-python)\n",
    "\n",
    "## ✨ Try it in your browser ✨\n",
    "\n",
    "➡️ **https://debakarr.github.io/intermediate-python**\n",
    "\n",
    "![](./static/use_jupyterlite.gif)\n",
    "\n",
    "---"
   ]
  },
  {
   "cell_type": "markdown",
   "id": "90ed5e18-54ce-40ff-906f-6fe2b656a44b",
   "metadata": {},
   "source": [
    "## Try from local environment\n",
    "\n",
    "1. Make sure you have Python installed. Follow the guide in the official Python documentation on how to do it for different operating systems: [Windows](https://docs.python.org/3/using/windows.html#installation-steps), [Mac](https://docs.python.org/3/using/mac.html#getting-and-installing-macpython), or [Unix](https://docs.python.org/3/using/unix.html#getting-and-installing-the-latest-version-of-python) systems. \n",
    "2. Considering you have Git installed. Try cloning this repository: `git clone https://github.com/debakarr/intermediate-python.git`\n",
    "3. I would recommend creating a `virtual environment` to install the dependencies: `python -m venv .venv`\n",
    "4. Activate virtual environment: On Windows `.venv\\Scripts\\activate` and on Linux `source .venv/bin/activate`\n",
    "5. Install all the dependencies in the virtual environment: `pip install -r requirements.txt`\n",
    "6. Run Jupyter Lab: `jupyter lab`"
   ]
  },
  {
   "cell_type": "markdown",
   "id": "2aafd5f3-6a4b-44e3-808f-738d3d86ea74",
   "metadata": {},
   "source": [
    "---\n",
    "This course is targeted for developers who have already beginner experience with Python and want to level up to intermediate to advance level.\n",
    "\n",
    "Course is delivered by **Roy, Debakar**."
   ]
  },
  {
   "cell_type": "markdown",
   "id": "0f1f05e3-83fe-41c8-86e6-b1e2e66dd4fe",
   "metadata": {},
   "source": [
    "## Expectation/Pre-requisite\n",
    "\n",
    "You should already have knowledge of:\n",
    "- Python fundamentals (identifier, data types, loops, functions, OOP) is assumed.\n",
    "- If you are new to Python, consider completing a beginner Python course first.\n",
    "- We assume that we are on Python 3.8+\n",
    "- Git (In case you want to clone this repo and run it locally)."
   ]
  },
  {
   "cell_type": "markdown",
   "id": "d778223d-7162-4c44-a294-a0093e83104e",
   "metadata": {},
   "source": [
    "## What can you expect?\n",
    "\n",
    "- Dive deeper into intermediate and somewhat advanced Python concepts and topics.\n",
    "- Gain a comprehensive understanding of intermediate Python features.\n",
    "- Explore real-world applications of intermediate Python concepts."
   ]
  },
  {
   "cell_type": "markdown",
   "id": "951a82d4-31a6-47b6-a134-f64c0a2d7e76",
   "metadata": {},
   "source": [
    "## Which Python version are we using?"
   ]
  },
  {
   "cell_type": "markdown",
   "id": "4d64abc2-bca1-4247-aa30-4541a23df85b",
   "metadata": {},
   "source": [
    "<div style=\"text-align: center\"><strong>Python3.8+</strong></div>"
   ]
  },
  {
   "cell_type": "markdown",
   "id": "847001a7-aeda-43fb-99cb-065fe909d453",
   "metadata": {},
   "source": [
    "| Branch | Schedule                                       | Status        | First release | End of life  | Release manager       |\n",
    "| ------ | ---------------------------------------------- | ------------- | ------------- | ------------ | --------------------- |\n",
    "| main   | [PEP 719](https://peps.python.org/pep-0719/)   | feature       | _2024-10-01_  | _2029-10_    | Thomas Wouters        |\n",
    "| 3.12   | [PEP 693](https://peps.python.org/pep-0693/)   | prerelease    | _2023-10-02_  | _2028-10_    | Thomas Wouters        |\n",
    "| 3.11   | [PEP 664](https://peps.python.org/pep-0664/)   | bugfix        | 2022-10-24    | _2027-10_    | Pablo Galindo Salgado |\n",
    "| 3.10   | [PEP 619](https://peps.python.org/pep-0619/)   | security      | 2021-10-04    | _2026-10_    | Pablo Galindo Salgado |\n",
    "| 3.9    | [PEP 596](https://peps.python.org/pep-0596/)   | security      | 2020-10-05    | _2025-10_    | Łukasz Langa          |\n",
    "| 3.8    | [PEP 569](https://peps.python.org/pep-0569/)   | security      | 2019-10-14    | _2024-10_    | Łukasz Langa          |\n",
    "| ~3.7~  | ~[PEP 537](https://peps.python.org/pep-0537/)~ | ~end-of-life~ | ~2018-06-27~  | ~2023-06-27~ | ~Ned Deily~           |\n",
    "\n",
    "<div style=\"text-align: center\"><a href=\"https://devguide.python.org/versions/\">Source for the above table</a></div>"
   ]
  },
  {
   "cell_type": "markdown",
   "id": "b154d3b7-6c60-49d7-9edc-37a9b1af0b0f",
   "metadata": {
    "tags": []
   },
   "source": [
    "## Running different Python version in Windows\n",
    "\n",
    "![](./static/py_launcher.png)"
   ]
  },
  {
   "cell_type": "markdown",
   "id": "721ac315-436d-4cad-8051-4f3b9e703fc6",
   "metadata": {},
   "source": [
    "## Running different Python version in Linux\n",
    "\n",
    "![](./static/python_launcher_linux.png)"
   ]
  }
 ],
 "metadata": {
  "kernelspec": {
   "display_name": "Python 3 (ipykernel)",
   "language": "python",
   "name": "python3"
  },
  "language_info": {
   "codemirror_mode": {
    "name": "ipython",
    "version": 3
   },
   "file_extension": ".py",
   "mimetype": "text/x-python",
   "name": "python",
   "nbconvert_exporter": "python",
   "pygments_lexer": "ipython3",
   "version": "3.11.4"
  }
 },
 "nbformat": 4,
 "nbformat_minor": 5
}
