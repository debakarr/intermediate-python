{
 "cells": [
  {
   "cell_type": "markdown",
   "metadata": {},
   "source": [
    "# Function parameters and arguments"
   ]
  },
  {
   "cell_type": "markdown",
   "metadata": {},
   "source": [
    "### Parameters"
   ]
  },
  {
   "cell_type": "code",
   "execution_count": 1,
   "metadata": {},
   "outputs": [],
   "source": [
    "def add(num1, num2):\n",
    "    return num1 + num2"
   ]
  },
  {
   "cell_type": "markdown",
   "metadata": {},
   "source": [
    "`num1` and `num2` are `add` function `parameters`."
   ]
  },
  {
   "cell_type": "markdown",
   "metadata": {},
   "source": [
    "### Arguments"
   ]
  },
  {
   "cell_type": "code",
   "execution_count": 2,
   "metadata": {},
   "outputs": [
    {
     "name": "stdout",
     "output_type": "stream",
     "text": [
      "15\n"
     ]
    }
   ],
   "source": [
    "x = 10\n",
    "y = 5\n",
    "\n",
    "print(add(x, y))"
   ]
  },
  {
   "cell_type": "markdown",
   "metadata": {},
   "source": [
    "`x` and `y` are `add` function `arguments`."
   ]
  },
  {
   "cell_type": "markdown",
   "metadata": {},
   "source": [
    "### Argument are always passed by reference\n",
    "\n",
    "In Python, arguments are always passed by reference. This means that changes made to mutable objects inside a function will affect the original object outside the function. However, immutable objects cannot be modified in-place."
   ]
  },
  {
   "cell_type": "code",
   "execution_count": 3,
   "metadata": {},
   "outputs": [
    {
     "name": "stdout",
     "output_type": "stream",
     "text": [
      "0x557453e29e20\n",
      "0x557453e29e20\n"
     ]
    }
   ],
   "source": [
    "def get_ref_address(param1):\n",
    "    return hex(id(param1))\n",
    "    \n",
    "\n",
    "arg1 = 10\n",
    "\n",
    "print(hex(id(arg1)))\n",
    "\n",
    "print(get_ref_address(arg1))"
   ]
  },
  {
   "cell_type": "markdown",
   "metadata": {},
   "source": [
    "In the example above, `arg1` is an integer object, which is immutable. When we pass `arg1` to the `get_ref_address` function, a new reference to the same object is created, and we can see that the memory address remains the same."
   ]
  },
  {
   "cell_type": "markdown",
   "metadata": {},
   "source": [
    "### Function argument as mutable/immutable\n",
    "\n",
    "In Python, some objects are mutable (can be modified) while others are immutable (cannot be modified). Understanding the mutability of function arguments is important to avoid unintended side effects."
   ]
  },
  {
   "cell_type": "code",
   "execution_count": 4,
   "metadata": {},
   "outputs": [
    {
     "name": "stdout",
     "output_type": "stream",
     "text": [
      "11\n",
      "10\n"
     ]
    }
   ],
   "source": [
    "# Immutable Function Arguments (Safe Side Effects)\n",
    "def increment_number(number):\n",
    "    number += 1\n",
    "    return number\n",
    "\n",
    "x = 10\n",
    "print(increment_number(x))  # Output: 11\n",
    "print(x)  # Output: 10 (Unchanged)"
   ]
  },
  {
   "cell_type": "markdown",
   "metadata": {},
   "source": [
    "In the above example, `number` is an immutable argument. Although we modify `number` inside the function, it creates a new object with the incremented value. However, the original variable `x` remains unchanged.\n"
   ]
  },
  {
   "cell_type": "code",
   "execution_count": 5,
   "metadata": {},
   "outputs": [
    {
     "name": "stdout",
     "output_type": "stream",
     "text": [
      "[1, 2, 3, 'New Element']\n"
     ]
    }
   ],
   "source": [
    "# Mutable Function Arguments (Unintended Side Effects)\n",
    "def append_element(my_list):\n",
    "    my_list.append(\"New Element\")\n",
    "\n",
    "original_list = [1, 2, 3]\n",
    "append_element(original_list)\n",
    "print(original_list)  # Output: [1, 2, 3, 'New Element']"
   ]
  },
  {
   "cell_type": "markdown",
   "metadata": {},
   "source": [
    "In this example, `my_list` is a mutable argument. When we call the `append_element` function and modify `my_list` by appending a new element, it affects the original list outside the function. This demonstrates the unintended side effects that can occur with mutable arguments.\n"
   ]
  },
  {
   "cell_type": "code",
   "execution_count": 6,
   "metadata": {},
   "outputs": [
    {
     "name": "stdout",
     "output_type": "stream",
     "text": [
      "(1, 2, [3, 4])\n"
     ]
    }
   ],
   "source": [
    "# Immutable Function Arguments (Unintended Side Effects)\n",
    "def modify_tuple(t):\n",
    "    t[2].append(4)\n",
    "\n",
    "immutable_tuple = (1, 2, [3])\n",
    "modify_tuple(immutable_tuple)\n",
    "\n",
    "print(immutable_tuple)  # Output: (1, 2, [3, 4])"
   ]
  },
  {
   "cell_type": "markdown",
   "metadata": {},
   "source": [
    "In this example, `t` is a tuple containing an immutable object `(1, 2, [3])`. Although tuples are immutable, they can contain mutable objects. Inside the `modify_tuple` function, we modify the mutable list `[3]` by appending `4`, which changes the tuple when accessed outside the function.\n"
   ]
  },
  {
   "cell_type": "markdown",
   "metadata": {},
   "source": [
    "## Positional and Keyword Argument\n",
    "\n",
    "In Python, function arguments can be passed as positional or keyword arguments. Positional arguments are assigned based on their order, while keyword arguments are assigned based on their names.\n"
   ]
  },
  {
   "cell_type": "code",
   "execution_count": 7,
   "metadata": {},
   "outputs": [],
   "source": [
    "# Valid\n",
    "def func(a, b, c=10):\n",
    "    print(f\"{a = }, {b = }, {c = }\")"
   ]
  },
  {
   "cell_type": "code",
   "execution_count": 8,
   "metadata": {},
   "outputs": [
    {
     "ename": "SyntaxError",
     "evalue": "non-default argument follows default argument (<ipython-input-8-0f255021b1b5>, line 2)",
     "output_type": "error",
     "traceback": [
      "\u001b[0;36m  File \u001b[0;32m\"<ipython-input-8-0f255021b1b5>\"\u001b[0;36m, line \u001b[0;32m2\u001b[0m\n\u001b[0;31m    def func(a, b=5, c):\u001b[0m\n\u001b[0m             ^\u001b[0m\n\u001b[0;31mSyntaxError\u001b[0m\u001b[0;31m:\u001b[0m non-default argument follows default argument\n"
     ]
    }
   ],
   "source": [
    "# Invalid\n",
    "def func(a, b=5, c):\n",
    "    print(f\"{a = }, {b = }, {c = }\")"
   ]
  },
  {
   "cell_type": "code",
   "execution_count": null,
   "metadata": {},
   "outputs": [],
   "source": [
    "def func(a, b=5, c=10):\n",
    "    print(f\"{a = }, {b = }, {c = }\")"
   ]
  },
  {
   "cell_type": "code",
   "execution_count": null,
   "metadata": {},
   "outputs": [],
   "source": [
    "func(1)"
   ]
  },
  {
   "cell_type": "code",
   "execution_count": null,
   "metadata": {},
   "outputs": [],
   "source": [
    "func(1, 2)"
   ]
  },
  {
   "cell_type": "code",
   "execution_count": 9,
   "metadata": {},
   "outputs": [
    {
     "name": "stdout",
     "output_type": "stream",
     "text": [
      "a = 1, b = 2, c = 3\n"
     ]
    }
   ],
   "source": [
    "func(1, 2, 3)"
   ]
  },
  {
   "cell_type": "code",
   "execution_count": 10,
   "metadata": {},
   "outputs": [
    {
     "name": "stdout",
     "output_type": "stream",
     "text": [
      "a = 1, b = 2, c = 3\n"
     ]
    }
   ],
   "source": [
    "func(a=1, b=2, c=3)"
   ]
  },
  {
   "cell_type": "code",
   "execution_count": 11,
   "metadata": {},
   "outputs": [
    {
     "ename": "TypeError",
     "evalue": "func() missing 1 required positional argument: 'b'",
     "output_type": "error",
     "traceback": [
      "\u001b[0;31m---------------------------------------------------------------------------\u001b[0m",
      "\u001b[0;31mTypeError\u001b[0m                                 Traceback (most recent call last)",
      "\u001b[0;32m<ipython-input-11-a6168512ffc3>\u001b[0m in \u001b[0;36m<module>\u001b[0;34m\u001b[0m\n\u001b[0;32m----> 1\u001b[0;31m \u001b[0mfunc\u001b[0m\u001b[0;34m(\u001b[0m\u001b[0ma\u001b[0m\u001b[0;34m=\u001b[0m\u001b[0;36m1\u001b[0m\u001b[0;34m,\u001b[0m \u001b[0mc\u001b[0m\u001b[0;34m=\u001b[0m\u001b[0;36m2\u001b[0m\u001b[0;34m)\u001b[0m\u001b[0;34m\u001b[0m\u001b[0;34m\u001b[0m\u001b[0m\n\u001b[0m",
      "\u001b[0;31mTypeError\u001b[0m: func() missing 1 required positional argument: 'b'"
     ]
    }
   ],
   "source": [
    "func(a=1, c=2)"
   ]
  },
  {
   "cell_type": "code",
   "execution_count": null,
   "metadata": {},
   "outputs": [],
   "source": [
    "func(c=3, a=1, b=2)"
   ]
  },
  {
   "cell_type": "code",
   "execution_count": 12,
   "metadata": {},
   "outputs": [
    {
     "ename": "SyntaxError",
     "evalue": "positional argument follows keyword argument (<ipython-input-12-fe56614ec269>, line 1)",
     "output_type": "error",
     "traceback": [
      "\u001b[0;36m  File \u001b[0;32m\"<ipython-input-12-fe56614ec269>\"\u001b[0;36m, line \u001b[0;32m1\u001b[0m\n\u001b[0;31m    func(1, b=2, 3)\u001b[0m\n\u001b[0m                 ^\u001b[0m\n\u001b[0;31mSyntaxError\u001b[0m\u001b[0;31m:\u001b[0m positional argument follows keyword argument\n"
     ]
    }
   ],
   "source": [
    "func(1, b=2, 3)"
   ]
  },
  {
   "cell_type": "markdown",
   "metadata": {},
   "source": [
    "## Unpacking tuple\n",
    "\n",
    "In Python, we can unpack a tuple to assign its elements to multiple variables.\n"
   ]
  },
  {
   "cell_type": "code",
   "execution_count": 13,
   "metadata": {},
   "outputs": [],
   "source": [
    "my_tuple = (1, 2, 3)\n",
    "my_tuple2 = 1, 2, 3"
   ]
  },
  {
   "cell_type": "code",
   "execution_count": 14,
   "metadata": {},
   "outputs": [
    {
     "name": "stdout",
     "output_type": "stream",
     "text": [
      "<class 'tuple'>\n",
      "<class 'tuple'>\n"
     ]
    }
   ],
   "source": [
    "print(type(my_tuple))\n",
    "print(type(my_tuple2))"
   ]
  },
  {
   "cell_type": "code",
   "execution_count": 15,
   "metadata": {},
   "outputs": [
    {
     "data": {
      "text/plain": [
       "True"
      ]
     },
     "execution_count": 15,
     "metadata": {},
     "output_type": "execute_result"
    }
   ],
   "source": [
    "my_tuple == my_tuple2"
   ]
  },
  {
   "cell_type": "code",
   "execution_count": 16,
   "metadata": {},
   "outputs": [],
   "source": [
    "not_tuple = (1)"
   ]
  },
  {
   "cell_type": "code",
   "execution_count": 17,
   "metadata": {},
   "outputs": [
    {
     "name": "stdout",
     "output_type": "stream",
     "text": [
      "<class 'int'>\n"
     ]
    }
   ],
   "source": [
    "print(type(not_tuple))"
   ]
  },
  {
   "cell_type": "code",
   "execution_count": 18,
   "metadata": {},
   "outputs": [
    {
     "data": {
      "text/plain": [
       "1"
      ]
     },
     "execution_count": 18,
     "metadata": {},
     "output_type": "execute_result"
    }
   ],
   "source": [
    "not_tuple"
   ]
  },
  {
   "cell_type": "code",
   "execution_count": 19,
   "metadata": {},
   "outputs": [],
   "source": [
    "my_tuple3 = (1,)\n",
    "my_tuple4 = 1,"
   ]
  },
  {
   "cell_type": "code",
   "execution_count": 20,
   "metadata": {},
   "outputs": [
    {
     "data": {
      "text/plain": [
       "(1,)"
      ]
     },
     "execution_count": 20,
     "metadata": {},
     "output_type": "execute_result"
    }
   ],
   "source": [
    "my_tuple3"
   ]
  },
  {
   "cell_type": "code",
   "execution_count": 21,
   "metadata": {},
   "outputs": [
    {
     "data": {
      "text/plain": [
       "(1,)"
      ]
     },
     "execution_count": 21,
     "metadata": {},
     "output_type": "execute_result"
    }
   ],
   "source": [
    "my_tuple4"
   ]
  },
  {
   "cell_type": "code",
   "execution_count": 22,
   "metadata": {},
   "outputs": [
    {
     "name": "stdout",
     "output_type": "stream",
     "text": [
      "x = 1, y = 2, z = 3\n"
     ]
    }
   ],
   "source": [
    "x, y, z = (1, 2, 3)\n",
    "\n",
    "print(f\"{x = }, {y = }, {z = }\")"
   ]
  },
  {
   "cell_type": "code",
   "execution_count": 23,
   "metadata": {},
   "outputs": [
    {
     "name": "stdout",
     "output_type": "stream",
     "text": [
      "x = 'X', y = 'Y', z = 'Z'\n"
     ]
    }
   ],
   "source": [
    "x, y, z = \"XYZ\"\n",
    "\n",
    "print(f\"{x = }, {y = }, {z = }\")"
   ]
  },
  {
   "cell_type": "markdown",
   "metadata": {},
   "source": [
    "#### Using unpacking swap value\n",
    "\n",
    "Unpacking can also be used to swap the values of two variables.\n"
   ]
  },
  {
   "cell_type": "code",
   "execution_count": 24,
   "metadata": {},
   "outputs": [
    {
     "name": "stdout",
     "output_type": "stream",
     "text": [
      "Before swap: a = 5, b = 10\n",
      "Before swap: a = 10, b = 5\n"
     ]
    }
   ],
   "source": [
    "a, b = 5, 10\n",
    "\n",
    "print(f\"Before swap: {a = }, {b = }\")\n",
    "      \n",
    "b, a = a, b\n",
    "      \n",
    "print(f\"Before swap: {a = }, {b = }\")"
   ]
  },
  {
   "cell_type": "markdown",
   "metadata": {},
   "source": [
    "In the example above, the values of `a` and `b` are swapped using unpacking. The right-hand side of the assignment evaluates to a tuple `(a, b)` which is then unpacked and assigned back to `b` and `a`.\n"
   ]
  },
  {
   "cell_type": "markdown",
   "metadata": {},
   "source": [
    "### Don't try to unpack set or dictionary key"
   ]
  },
  {
   "cell_type": "code",
   "execution_count": 25,
   "metadata": {},
   "outputs": [
    {
     "name": "stdout",
     "output_type": "stream",
     "text": [
      "x = 1, y = 2, z = 3\n"
     ]
    }
   ],
   "source": [
    "my_set = {1, 2, 3}\n",
    "\n",
    "x, y, z = my_set\n",
    "print(f\"{x = }, {y = }, {z = }\")\n",
    "# Can be x = 1, y = 2, z = 3\n",
    "# Or x = 2, y = 1, z = 3\n",
    "# Or x = 3, y = 2, z = 1\n",
    "# ..."
   ]
  },
  {
   "cell_type": "markdown",
   "metadata": {},
   "source": [
    "### * for unpacking\n",
    "\n",
    "The `*` operator can be used for unpacking iterables in Python.\n"
   ]
  },
  {
   "cell_type": "markdown",
   "metadata": {},
   "source": [
    "**LHS**"
   ]
  },
  {
   "cell_type": "code",
   "execution_count": 26,
   "metadata": {},
   "outputs": [
    {
     "name": "stdout",
     "output_type": "stream",
     "text": [
      "x = 1, y = [2, 3, 4], z = 5\n"
     ]
    }
   ],
   "source": [
    "my_list = [1, 2, 3, 4, 5]\n",
    "\n",
    "x, y, z = my_list[0], my_list[1:-1], my_list[-1]\n",
    "\n",
    "print(f\"{x = }, {y = }, {z = }\")"
   ]
  },
  {
   "cell_type": "code",
   "execution_count": 27,
   "metadata": {},
   "outputs": [
    {
     "name": "stdout",
     "output_type": "stream",
     "text": [
      "x = 1, y = [2, 3, 4], z = 5\n"
     ]
    }
   ],
   "source": [
    "x, *y, z = my_list\n",
    "\n",
    "print(f\"{x = }, {y = }, {z = }\")"
   ]
  },
  {
   "cell_type": "markdown",
   "metadata": {},
   "source": [
    "In the example above, the `*y` syntax assigns the remaining elements of `my_list` to the list `y`. The first element is assigned to `x`, and the last element is assigned to `z`.\n"
   ]
  },
  {
   "cell_type": "code",
   "execution_count": 28,
   "metadata": {},
   "outputs": [
    {
     "ename": "SyntaxError",
     "evalue": "two starred expressions in assignment (<ipython-input-28-dac9dcccc16f>, line 2)",
     "output_type": "error",
     "traceback": [
      "\u001b[0;36m  File \u001b[0;32m\"<ipython-input-28-dac9dcccc16f>\"\u001b[0;36m, line \u001b[0;32m2\u001b[0m\n\u001b[0;31m    x, *y, *z = my_list\u001b[0m\n\u001b[0m    ^\u001b[0m\n\u001b[0;31mSyntaxError\u001b[0m\u001b[0;31m:\u001b[0m two starred expressions in assignment\n"
     ]
    }
   ],
   "source": [
    "# Invalid\n",
    "x, *y, *z = my_list"
   ]
  },
  {
   "cell_type": "markdown",
   "metadata": {},
   "source": [
    "**RHS**"
   ]
  },
  {
   "cell_type": "code",
   "execution_count": null,
   "metadata": {},
   "outputs": [],
   "source": [
    "my_list1 = [1, 2, 3]\n",
    "my_list2 = [4, 5, 6]\n",
    "\n",
    "merged_list = my_list1 + my_list2\n",
    "print(merged_list)"
   ]
  },
  {
   "cell_type": "code",
   "execution_count": null,
   "metadata": {},
   "outputs": [],
   "source": [
    "merged_list = [*my_list1, *my_list2]\n",
    "print(merged_list)"
   ]
  },
  {
   "cell_type": "markdown",
   "metadata": {},
   "source": [
    "### ** for unpacking\n",
    "\n",
    "The `**` operator can be used for unpacking dictionaries in Python.\n"
   ]
  },
  {
   "cell_type": "markdown",
   "metadata": {},
   "source": [
    "Can only be used in RHS"
   ]
  },
  {
   "cell_type": "code",
   "execution_count": 29,
   "metadata": {},
   "outputs": [],
   "source": [
    "my_dict1 = {\"a\": 1, \"b\": 2, \"c\": 3}\n",
    "my_dict2 = {\"a\": 3}\n",
    "my_dict3 = {\"c\": 6}"
   ]
  },
  {
   "cell_type": "code",
   "execution_count": 30,
   "metadata": {},
   "outputs": [
    {
     "name": "stdout",
     "output_type": "stream",
     "text": [
      "{'a': 3, 'b': 2, 'c': 6}\n"
     ]
    }
   ],
   "source": [
    "merged_dict = {**my_dict1, **my_dict2, **my_dict3}\n",
    "print(merged_dict)"
   ]
  },
  {
   "cell_type": "markdown",
   "metadata": {},
   "source": [
    "In the example above, the dictionaries `my_dict1`, `my_dict2`, and `my_dict3` are merged into a single dictionary `merged_dict` using the `**` unpacking syntax.\n"
   ]
  },
  {
   "cell_type": "code",
   "execution_count": 31,
   "metadata": {},
   "outputs": [
    {
     "name": "stdout",
     "output_type": "stream",
     "text": [
      "{'c': 3, 'a': 1, 'b': 2}\n"
     ]
    }
   ],
   "source": [
    "merged_dict = {**my_dict3, **my_dict2, **my_dict1}\n",
    "print(merged_dict)"
   ]
  },
  {
   "cell_type": "markdown",
   "metadata": {},
   "source": [
    "### Unpacking nested value\n",
    "\n",
    "Nested values can be unpacked in Python to assign them to multiple variables.\n"
   ]
  },
  {
   "cell_type": "code",
   "execution_count": 32,
   "metadata": {},
   "outputs": [
    {
     "ename": "ValueError",
     "evalue": "not enough values to unpack (expected 4, got 3)",
     "output_type": "error",
     "traceback": [
      "\u001b[0;31m---------------------------------------------------------------------------\u001b[0m",
      "\u001b[0;31mValueError\u001b[0m                                Traceback (most recent call last)",
      "\u001b[0;32m<ipython-input-32-c92579b326ce>\u001b[0m in \u001b[0;36m<module>\u001b[0;34m\u001b[0m\n\u001b[0;32m----> 1\u001b[0;31m \u001b[0ma\u001b[0m\u001b[0;34m,\u001b[0m \u001b[0mb\u001b[0m\u001b[0;34m,\u001b[0m \u001b[0mc\u001b[0m\u001b[0;34m,\u001b[0m \u001b[0md\u001b[0m \u001b[0;34m=\u001b[0m \u001b[0;34m[\u001b[0m\u001b[0;36m1\u001b[0m\u001b[0;34m,\u001b[0m \u001b[0;36m2\u001b[0m\u001b[0;34m,\u001b[0m \u001b[0;34m[\u001b[0m\u001b[0;36m3\u001b[0m\u001b[0;34m,\u001b[0m \u001b[0;36m4\u001b[0m\u001b[0;34m]\u001b[0m\u001b[0;34m]\u001b[0m\u001b[0;34m\u001b[0m\u001b[0;34m\u001b[0m\u001b[0m\n\u001b[0m",
      "\u001b[0;31mValueError\u001b[0m: not enough values to unpack (expected 4, got 3)"
     ]
    }
   ],
   "source": [
    "a, b, c, d = [1, 2, [3, 4]]"
   ]
  },
  {
   "cell_type": "code",
   "execution_count": 33,
   "metadata": {},
   "outputs": [],
   "source": [
    "a, b, (c, d) = [1, 2, [3, 4]]"
   ]
  },
  {
   "cell_type": "markdown",
   "metadata": {},
   "source": [
    "In the example above, the nested list `[3, 4]` is unpacked, and its elements are assigned to the variables `c` and `d`.\n"
   ]
  },
  {
   "cell_type": "code",
   "execution_count": 34,
   "metadata": {},
   "outputs": [
    {
     "name": "stdout",
     "output_type": "stream",
     "text": [
      "a = 1, b = 2, c = 3, d = 4\n"
     ]
    }
   ],
   "source": [
    "print(f\"{a = }, {b = }, {c = }, {d = }\")"
   ]
  },
  {
   "cell_type": "markdown",
   "metadata": {},
   "source": [
    "### *args\n",
    "\n",
    "The `*args` syntax allows a function to accept a variable number of positional arguments. It allows you to pass any number of additional arguments to a function, and they will be collected into a tuple.\n"
   ]
  },
  {
   "cell_type": "code",
   "execution_count": 35,
   "metadata": {},
   "outputs": [
    {
     "name": "stdout",
     "output_type": "stream",
     "text": [
      "x = 1, y = 2, z = (3, 4, 5)\n"
     ]
    }
   ],
   "source": [
    "def func(x, y, *z):\n",
    "    print(f\"{x = }, {y = }, {z = }\")\n",
    "    \n",
    "func(1, 2, 3, 4, 5)"
   ]
  },
  {
   "cell_type": "markdown",
   "metadata": {},
   "source": [
    "In the example above, the `func` function takes two positional arguments `x` and `y`, and any additional arguments passed after `y` are collected into the `z` tuple. In this case, `z` will contain `(3, 4, 5)`.\n",
    "\n",
    "The `*args` parameter allows you to handle a flexible number of arguments in your function without explicitly defining them. It is commonly used when you want to pass a variable number of arguments to a function.\n"
   ]
  },
  {
   "cell_type": "code",
   "execution_count": 36,
   "metadata": {},
   "outputs": [],
   "source": [
    "def func(x, y, z):\n",
    "    print(f\"{x = }, {y = }, {z = }\")"
   ]
  },
  {
   "cell_type": "code",
   "execution_count": 37,
   "metadata": {},
   "outputs": [],
   "source": [
    "my_list = [1, 2, 3]"
   ]
  },
  {
   "cell_type": "code",
   "execution_count": 38,
   "metadata": {},
   "outputs": [
    {
     "ename": "TypeError",
     "evalue": "func() missing 2 required positional arguments: 'y' and 'z'",
     "output_type": "error",
     "traceback": [
      "\u001b[0;31m---------------------------------------------------------------------------\u001b[0m",
      "\u001b[0;31mTypeError\u001b[0m                                 Traceback (most recent call last)",
      "\u001b[0;32m<ipython-input-38-6caaeaf7bec8>\u001b[0m in \u001b[0;36m<module>\u001b[0;34m\u001b[0m\n\u001b[0;32m----> 1\u001b[0;31m \u001b[0mfunc\u001b[0m\u001b[0;34m(\u001b[0m\u001b[0mmy_list\u001b[0m\u001b[0;34m)\u001b[0m\u001b[0;34m\u001b[0m\u001b[0;34m\u001b[0m\u001b[0m\n\u001b[0m",
      "\u001b[0;31mTypeError\u001b[0m: func() missing 2 required positional arguments: 'y' and 'z'"
     ]
    }
   ],
   "source": [
    "func(my_list)"
   ]
  },
  {
   "cell_type": "code",
   "execution_count": null,
   "metadata": {},
   "outputs": [],
   "source": [
    "func(*my_list)"
   ]
  },
  {
   "cell_type": "markdown",
   "metadata": {},
   "source": [
    "We can also use `*` to unpack an iterable and send it to the function."
   ]
  },
  {
   "cell_type": "markdown",
   "metadata": {},
   "source": [
    "### Mandatory keyword argument\n",
    "\n",
    "In Python, you can make an argument mandatory by specifying it after the `*args` parameter. This means that the argument must be passed as a keyword argument when calling the function.\n"
   ]
  },
  {
   "cell_type": "code",
   "execution_count": 39,
   "metadata": {},
   "outputs": [],
   "source": [
    "def func(w, x, *y, z):\n",
    "    print(f\"{w = }, {x = }, {y = }, {z = }\")    "
   ]
  },
  {
   "cell_type": "code",
   "execution_count": 40,
   "metadata": {},
   "outputs": [
    {
     "ename": "TypeError",
     "evalue": "func() missing 1 required keyword-only argument: 'z'",
     "output_type": "error",
     "traceback": [
      "\u001b[0;31m---------------------------------------------------------------------------\u001b[0m",
      "\u001b[0;31mTypeError\u001b[0m                                 Traceback (most recent call last)",
      "\u001b[0;32m<ipython-input-40-fc3ac8d74099>\u001b[0m in \u001b[0;36m<module>\u001b[0;34m\u001b[0m\n\u001b[0;32m----> 1\u001b[0;31m \u001b[0mfunc\u001b[0m\u001b[0;34m(\u001b[0m\u001b[0;36m1\u001b[0m\u001b[0;34m,\u001b[0m \u001b[0;36m2\u001b[0m\u001b[0;34m,\u001b[0m \u001b[0;36m3\u001b[0m\u001b[0;34m,\u001b[0m \u001b[0;36m4\u001b[0m\u001b[0;34m,\u001b[0m \u001b[0;36m5\u001b[0m\u001b[0;34m,\u001b[0m \u001b[0;36m6\u001b[0m\u001b[0;34m)\u001b[0m\u001b[0;34m\u001b[0m\u001b[0;34m\u001b[0m\u001b[0m\n\u001b[0m",
      "\u001b[0;31mTypeError\u001b[0m: func() missing 1 required keyword-only argument: 'z'"
     ]
    }
   ],
   "source": [
    "func(1, 2, 3, 4, 5, 6)"
   ]
  },
  {
   "cell_type": "code",
   "execution_count": null,
   "metadata": {},
   "outputs": [],
   "source": [
    "func(1, 2, 3, 4, 5, z=6)"
   ]
  },
  {
   "cell_type": "markdown",
   "metadata": {},
   "source": [
    "In this example, `z` is a mandatory keyword argument. It must be passed using the `z=value` syntax when calling the function. The other arguments before `z` can be passed as positional arguments.\n"
   ]
  },
  {
   "cell_type": "code",
   "execution_count": null,
   "metadata": {},
   "outputs": [],
   "source": [
    "func(1, 2, z=6)"
   ]
  },
  {
   "cell_type": "code",
   "execution_count": 41,
   "metadata": {},
   "outputs": [],
   "source": [
    "def func(x, y, *, z):\n",
    "    print(f\"{x = }, {y = }, {z = }\")"
   ]
  },
  {
   "cell_type": "code",
   "execution_count": 42,
   "metadata": {},
   "outputs": [
    {
     "name": "stdout",
     "output_type": "stream",
     "text": [
      "x = 1, y = 2, z = 1\n"
     ]
    }
   ],
   "source": [
    "func(1, 2, z=1)"
   ]
  },
  {
   "cell_type": "code",
   "execution_count": 43,
   "metadata": {},
   "outputs": [],
   "source": [
    "def func(*, x, y, z):\n",
    "    print(f\"{x = }, {y = }, {z = }\")"
   ]
  },
  {
   "cell_type": "code",
   "execution_count": 44,
   "metadata": {},
   "outputs": [
    {
     "name": "stdout",
     "output_type": "stream",
     "text": [
      "x = 1, y = 2, z = 3\n"
     ]
    }
   ],
   "source": [
    "func(x=1, y=2, z=3)"
   ]
  },
  {
   "cell_type": "markdown",
   "metadata": {},
   "source": [
    "### Catch all vs no additional positional argument\n",
    "\n",
    "In Python, you can have a function that accepts a variable number of positional arguments, followed by keyword arguments. This allows you to define functions that are more flexible in terms of the arguments they accept.\n"
   ]
  },
  {
   "cell_type": "code",
   "execution_count": 45,
   "metadata": {},
   "outputs": [],
   "source": [
    "def catch_all_args(w, x=1, *args, y, z=2):\n",
    "    print(f\"{w = }, {x = }, {args = }, {y = }, {z = }\")\n",
    "    \n",
    "def no_positional_argument(w, x=1, *, y, z=2):\n",
    "    print(f\"{w = }, {x = }, {y = }, {z = }\")"
   ]
  },
  {
   "cell_type": "code",
   "execution_count": 46,
   "metadata": {},
   "outputs": [
    {
     "name": "stdout",
     "output_type": "stream",
     "text": [
      "w = 1, x = 2, args = (3, 4, 5, 6), y = 2, z = 3\n",
      "w = 1, x = 2, args = (3, 4, 5, 6), y = 2, z = 2\n",
      "w = 1, x = 1, args = (), y = 2, z = 2\n"
     ]
    }
   ],
   "source": [
    "catch_all_args(1, 2, 3, 4, 5, 6, y=2, z=3)\n",
    "catch_all_args(1, 2, 3, 4, 5, 6, y=2)\n",
    "catch_all_args(1, y=2)"
   ]
  },
  {
   "cell_type": "code",
   "execution_count": 47,
   "metadata": {},
   "outputs": [
    {
     "ename": "TypeError",
     "evalue": "no_positional_argument() takes from 1 to 2 positional arguments but 6 positional arguments (and 2 keyword-only arguments) were given",
     "output_type": "error",
     "traceback": [
      "\u001b[0;31m---------------------------------------------------------------------------\u001b[0m",
      "\u001b[0;31mTypeError\u001b[0m                                 Traceback (most recent call last)",
      "\u001b[0;32m<ipython-input-47-058fbad4fda8>\u001b[0m in \u001b[0;36m<module>\u001b[0;34m\u001b[0m\n\u001b[0;32m----> 1\u001b[0;31m \u001b[0mno_positional_argument\u001b[0m\u001b[0;34m(\u001b[0m\u001b[0;36m1\u001b[0m\u001b[0;34m,\u001b[0m \u001b[0;36m2\u001b[0m\u001b[0;34m,\u001b[0m \u001b[0;36m3\u001b[0m\u001b[0;34m,\u001b[0m \u001b[0;36m4\u001b[0m\u001b[0;34m,\u001b[0m \u001b[0;36m5\u001b[0m\u001b[0;34m,\u001b[0m \u001b[0;36m6\u001b[0m\u001b[0;34m,\u001b[0m \u001b[0my\u001b[0m\u001b[0;34m=\u001b[0m\u001b[0;36m2\u001b[0m\u001b[0;34m,\u001b[0m \u001b[0mz\u001b[0m\u001b[0;34m=\u001b[0m\u001b[0;36m3\u001b[0m\u001b[0;34m)\u001b[0m\u001b[0;34m\u001b[0m\u001b[0;34m\u001b[0m\u001b[0m\n\u001b[0m",
      "\u001b[0;31mTypeError\u001b[0m: no_positional_argument() takes from 1 to 2 positional arguments but 6 positional arguments (and 2 keyword-only arguments) were given"
     ]
    }
   ],
   "source": [
    "no_positional_argument(1, 2, 3, 4, 5, 6, y=2, z=3)"
   ]
  },
  {
   "cell_type": "code",
   "execution_count": null,
   "metadata": {},
   "outputs": [],
   "source": [
    "no_positional_argument(1, 2, y=2, z=3)\n",
    "no_positional_argument(1, 2, y=2)\n",
    "no_positional_argument(1, y=2)"
   ]
  },
  {
   "cell_type": "markdown",
   "metadata": {},
   "source": [
    "In this example, the `catch_all_args` function accepts a mandatory positional argument `w`, an optional positional argument `x` with a default value of `1`, any additional positional arguments are collected into the `args` tuple, and two mandatory keyword arguments `y` and `z` with default values `2`. This allows you to pass any number of additional positional arguments after `x` and still provide values for `y` and `z`.\n",
    "\n",
    "the `no_positional_argument` function accepts a mandatory positional argument `w`, an optional positional argument `x` with a default value of `1`, and two mandatory keyword arguments `y` and `z` with default values `2`. The `*` syntax after `x` indicates that no additional positional arguments can be passed after `x`, and all arguments after `x` must be passed as keyword arguments.\n"
   ]
  },
  {
   "cell_type": "markdown",
   "metadata": {},
   "source": [
    "### **kwargs\n",
    "\n",
    "The `**kwargs` syntax allows a function to accept a variable number of keyword arguments. It allows you to pass any number of additional keyword arguments to a function, and they will be collected into a dictionary.\n"
   ]
  },
  {
   "cell_type": "code",
   "execution_count": 48,
   "metadata": {},
   "outputs": [],
   "source": [
    "def func(a, b=5, **kwargs):\n",
    "    print(f\"{a = }, {b = }, {kwargs = }\")"
   ]
  },
  {
   "cell_type": "code",
   "execution_count": 49,
   "metadata": {},
   "outputs": [
    {
     "name": "stdout",
     "output_type": "stream",
     "text": [
      "a = 1, b = 2, kwargs = {'x': 2, 'y': 3, 'z': 4}\n"
     ]
    }
   ],
   "source": [
    "func(1, 2, x=2, y=3, z=4)"
   ]
  },
  {
   "cell_type": "code",
   "execution_count": 50,
   "metadata": {},
   "outputs": [
    {
     "name": "stdout",
     "output_type": "stream",
     "text": [
      "a = 1, b = 5, kwargs = {'x': 2, 'y': 3, 'z': 4}\n"
     ]
    }
   ],
   "source": [
    "func(1, x=2, y=3, z=4)"
   ]
  },
  {
   "cell_type": "markdown",
   "metadata": {},
   "source": [
    "In this example, the `func` function takes a mandatory argument `a`, an optional argument `b` with a default value of `5`, and any additional keyword arguments are collected into the `kwargs` dictionary. The `kwargs` dictionary will contain `{\"x\": 2, \"y\": 3, \"z\": 4}`.\n",
    "\n",
    "The `**kwargs` parameter allows you to handle a flexible number of keyword arguments in your function without explicitly defining them. It is commonly used when you want to pass a variable number of keyword arguments to a function.\n"
   ]
  },
  {
   "cell_type": "markdown",
   "metadata": {},
   "source": [
    "## Extra bits"
   ]
  },
  {
   "cell_type": "markdown",
   "metadata": {},
   "source": [
    "If a function does not have any return statement, then it returns `None` explicitely."
   ]
  },
  {
   "cell_type": "code",
   "execution_count": 2,
   "metadata": {},
   "outputs": [
    {
     "name": "stdout",
     "output_type": "stream",
     "text": [
      "Hello Debakar!\n"
     ]
    }
   ],
   "source": [
    "def greet(name):\n",
    "    print(f\"Hello {name}!\")\n",
    "    \n",
    "ret = greet(\"Debakar\")"
   ]
  },
  {
   "cell_type": "code",
   "execution_count": 4,
   "metadata": {},
   "outputs": [
    {
     "data": {
      "text/plain": [
       "True"
      ]
     },
     "execution_count": 4,
     "metadata": {},
     "output_type": "execute_result"
    }
   ],
   "source": [
    "ret is None"
   ]
  },
  {
   "cell_type": "code",
   "execution_count": 5,
   "metadata": {},
   "outputs": [
    {
     "name": "stdout",
     "output_type": "stream",
     "text": [
      "  2           0 LOAD_GLOBAL              0 (print)\n",
      "              2 LOAD_CONST               1 ('Hello ')\n",
      "              4 LOAD_FAST                0 (name)\n",
      "              6 FORMAT_VALUE             0\n",
      "              8 LOAD_CONST               2 ('!')\n",
      "             10 BUILD_STRING             3\n",
      "             12 CALL_FUNCTION            1\n",
      "             14 POP_TOP\n",
      "             16 LOAD_CONST               0 (None)\n",
      "             18 RETURN_VALUE\n"
     ]
    }
   ],
   "source": [
    "import dis\n",
    "\n",
    "\n",
    "dis.dis(greet)"
   ]
  },
  {
   "cell_type": "code",
   "execution_count": null,
   "metadata": {},
   "outputs": [],
   "source": []
  }
 ],
 "metadata": {
  "kernelspec": {
   "display_name": "Python 3",
   "language": "python",
   "name": "python3"
  },
  "language_info": {
   "codemirror_mode": {
    "name": "ipython",
    "version": 3
   },
   "file_extension": ".py",
   "mimetype": "text/x-python",
   "name": "python",
   "nbconvert_exporter": "python",
   "pygments_lexer": "ipython3",
   "version": "3.8.8"
  }
 },
 "nbformat": 4,
 "nbformat_minor": 5
}
