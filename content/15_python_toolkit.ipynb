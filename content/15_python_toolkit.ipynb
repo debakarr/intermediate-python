{
 "cells": [
  {
   "cell_type": "markdown",
   "id": "44a2d068-727c-4b71-9b88-0e7d47088436",
   "metadata": {},
   "source": [
    "\\[<< [Command line tools in Python Standard library](./14_python_builtin_cli.ipynb) | [Index](./00_index.ipynb) | []() >>\\]"
   ]
  },
  {
   "cell_type": "markdown",
   "id": "2f23783a-0203-44bc-b0da-962ace70cf29",
   "metadata": {},
   "source": [
    "## Modern Python Toolkit\n",
    "\n",
    "[Click here for my original reddit post](https://www.reddit.com/r/Python/comments/w092je/python_toolkits/?utm_source=share&utm_medium=web2x&context=3)\n",
    "\n",
    "* [**Poetry**](https://github.com/python-poetry/poetry) for **dependency management and packaging**.\n",
    "* [**Pytest**](https://github.com/pytest-dev/pytest/) for **unit testing**.\n",
    "   * [**Hypothesis**](https://github.com/HypothesisWorks/hypothesis) to generate dummy data for test.\n",
    "   * [**mutmut**](https://github.com/boxed/mutmut) for mutation testing.\n",
    "   * [**coverage**](https://coverage.readthedocs.io/en/7.3.0/) for code coverage.\n",
    "* [**tqdm**](https://github.com/tqdm/tqdm) for progress bar.\n",
    "* [**pipx**](https://pypa.github.io/pipx/) to run cli tools in isolated environment.\n",
    "* [**flake8**](https://github.com/pycqa/flake8) for **linting** along\\[<< [Command line tools in Python Standard library](./14_python_builtin_cli.ipynb) | [Index](./00_index.ipynb) | []() >>\\] with following plugin (list of awesome plugin can be found [**here**](https://github.com/DmytroLitvinov/awesome-flake8-extensions), but me and my teammates have selected the below one. Have linting but don't make it too hard.)\n",
    "   * [**flake8-black**](https://github.com/tylerwince/flake8-bandit) which uses [**black**](https://github.com/psf/black) for code formatting check. Also check [**only black playground**](https://black.vercel.app/)\n",
    "   * [**flake8-isort**](https://github.com/gforcada/flake8-isort) which uses [**isort**](https://github.com/PyCQA/isort) for separation of import in section and formatting them alphabetically.\n",
    "   * [**flake8-bandit**](https://github.com/tylerwince/flake8-bandit) which uses [**bandit**](https://github.com/PyCQA/bandit) for security linting.\n",
    "   * [**flake8-bugbear**](https://github.com/PyCQA/flake8-bugbear) for finding likely bugs and design problems in your program. flake8-bugbear - Finding likely bugs and design problems in your program.\n",
    "   * [**pep8-naming**](https://github.com/PyCQA/pep8-naming) for checking the PEP-8 naming conventions.\n",
    "   * [**mccabe**](https://github.com/PyCQA/mccabe) for Ned’s script to check McCabe complexity\n",
    "   * [**flake8-comprehensions**](https://github.com/adamchainz/flake8-comprehensions) for writing better list/set/dict comprehensions.\n",
    "* **Parsers**:\n",
    "   * XML –  [**xsData**](https://xsdata.readthedocs.io/en/latest/index.html)\n",
    "   * JSON –  [**Pydantic**](https://pydantic-docs.helpmanual.io/) with [**datamodel-code-generator**](https://koxudaxi.github.io/datamodel-code-generator/). Also check [**online Pydantic playground**](https://jsontopydantic.com/)\n",
    "   * CSV –  [**csv Reader**](https://docs.python.org/3/library/csv.html) or [**dataclass-csv**](https://github.com/dfurtado/dataclass-csv)\n",
    "   * STDOUT:  [**Lark**](https://github.com/lark-parser/lark)  or  [**pyparsing**](https://github.com/pyparsing/pyparsing)\n",
    "* [**click**](https://github.com/pallets/click) to create command line interface\n",
    "* [**Sphinx**](https://github.com/sphinx-doc/sphinx) along with [**MyST-parser**](https://github.com/executablebooks/MyST-Parser) to write **documentation** in markdown. [**portray**](https://github.com/timothycrosley/portray/) is a nice alternative as it supports markdown by default for both generic documentation and docstring in modules, class, methods and functions.\n",
    "* [**cookiecutter**](https://github.com/cookiecutter/cookiecutter) for **templates** which have all these tool included along with some CI/CD pipelines. In case the template changes. Also [**cruft**](https://github.com/cruft/cruft/) to update existing project which was using that template. These template also include the CI/CD pipelines for pull request (runs linting and unit test) and release pipelines.\n",
    "* There are two more notable libraries which help in CI/CD: [**pre-commit**](https://github.com/pre-commit/pre-commit) and [**tox**](https://github.com/tox-dev/tox). \n",
    "* You can enable autoflake, isort and black using [**Format on Save**](https://code.visualstudio.com/docs/editor/codebasics#_formatting) feature in VSCode. [**PyCharm**](https://www.jetbrains.com/help/pycharm/reformat-and-rearrange-code.html#reformat-on-save) also have similar feature.\n",
    "* [**IPython**](https://ipython.readthedocs.io/en/stable/index.html) for interactive Python shell and [**Jupyter**](https://jupyter.org/) for maintaining notes.\n"
   ]
  },
  {
   "cell_type": "markdown",
   "id": "07a6b0a5-8292-4182-a7bc-c1e71d4fdc62",
   "metadata": {},
   "source": [
    "\\[<< [Command line tools in Python Standard library](./14_python_builtin_cli.ipynb) | [Index](./00_index.ipynb) | []() >>\\]"
   ]
  }
 ],
 "metadata": {
  "kernelspec": {
   "display_name": "Python 3 (ipykernel)",
   "language": "python",
   "name": "python3"
  },
  "language_info": {
   "codemirror_mode": {
    "name": "ipython",
    "version": 3
   },
   "file_extension": ".py",
   "mimetype": "text/x-python",
   "name": "python",
   "nbconvert_exporter": "python",
   "pygments_lexer": "ipython3",
   "version": "3.11.4"
  }
 },
 "nbformat": 4,
 "nbformat_minor": 5
}
