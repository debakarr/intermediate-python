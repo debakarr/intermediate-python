{
 "cells": [
  {
   "cell_type": "markdown",
   "id": "a251c9e7-bdf9-489b-8edf-40d83bcec231",
   "metadata": {},
   "source": [
    "# Concurrency"
   ]
  },
  {
   "cell_type": "markdown",
   "id": "a5a09697-5485-49d5-92be-07881db83b6b",
   "metadata": {},
   "source": [
    "- **Processes and threads**: A program can have one or more processes and a process can have one or more threads. A process is an instance of a program while a thread is a part of a process that can execute instructions.\n",
    "- **Multiprocessing and multithreading**: Multiprocessing uses multiple cores of a CPU to execute multiple processes in parallel. Multithreading uses multiple threads within a process to perform tasks concurrently.\n",
    "- **I/O-bound and CPU-bound tasks**: I/O-bound tasks spend more time doing input/output operations than computations (network request, disk read/write, database read/write). CPU-bound tasks spend more time doing calculations than generating I/O requests (video compression, matrix multiplication, find prime number).\n",
    "- **Suitability of multithreading and multiprocessing**: Multithreading is suitable for I/O-bound tasks, and multiprocessing is suitable for CPU-bound tasks."
   ]
  },
  {
   "cell_type": "code",
   "execution_count": null,
   "id": "2bb3d508-450a-4508-9d3e-d7278097ebd2",
   "metadata": {},
   "outputs": [],
   "source": [
    "import requests\n",
    "\n",
    "def download_file(url, save_path):\n",
    "    try:\n",
    "        response = requests.get(url)\n",
    "        response.raise_for_status()  # Check if the request was successful\n",
    "\n",
    "        with open(save_path, 'wb') as file:\n",
    "            file.write(response.content)\n",
    "        \n",
    "        print(\"File downloaded successfully.\")\n",
    "    except requests.exceptions.RequestException as e:\n",
    "        print(f\"Error occurred: {e}\")\n",
    "\n",
    "# Example usage:\n",
    "url = 'https://example.com/examplefile.txt'  # Replace with the actual URL of the file you want to download\n",
    "save_path = 'downloaded_file.txt'  # Replace with the desired local file path\n",
    "\n",
    "download_file(url, save_path)\n"
   ]
  },
  {
   "cell_type": "code",
   "execution_count": null,
   "id": "2867fdf9-c51e-4c8b-8002-b686b2831cbe",
   "metadata": {},
   "outputs": [],
   "source": []
  }
 ],
 "metadata": {
  "kernelspec": {
   "display_name": "Python 3 (ipykernel)",
   "language": "python",
   "name": "python3"
  },
  "language_info": {
   "codemirror_mode": {
    "name": "ipython",
    "version": 3
   },
   "file_extension": ".py",
   "mimetype": "text/x-python",
   "name": "python",
   "nbconvert_exporter": "python",
   "pygments_lexer": "ipython3",
   "version": "3.8.8"
  }
 },
 "nbformat": 4,
 "nbformat_minor": 5
}
