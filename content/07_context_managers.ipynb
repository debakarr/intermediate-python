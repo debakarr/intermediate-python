{
 "cells": [
  {
   "cell_type": "markdown",
   "metadata": {},
   "source": [
    "# Context Managers"
   ]
  },
  {
   "cell_type": "markdown",
   "metadata": {},
   "source": [
    "`with` statements in Python make sense when you think of problem they are trying to solve.\n",
    "\n",
    "```python\n",
    "set something up\n",
    "try:\n",
    "    do something\n",
    "finally:\n",
    "    tear something down\n",
    "```\n",
    "\n",
    "Here `set something up` can be opening a file, opening a database connection, acquiring some external resource and `tear something down` can be closing a file, closing a database connection or releasing an acquired resource."
   ]
  },
  {
   "cell_type": "code",
   "execution_count": null,
   "metadata": {},
   "outputs": [],
   "source": [
    "file = open(\"static/file1.txt\", \"w+\")\n",
    "try:\n",
    "    file.write(\"Hello there\")\n",
    "finally:\n",
    "    file.close()"
   ]
  },
  {
   "cell_type": "code",
   "execution_count": null,
   "metadata": {},
   "outputs": [],
   "source": [
    "!cat static/file1.txt"
   ]
  },
  {
   "cell_type": "code",
   "execution_count": null,
   "metadata": {},
   "outputs": [],
   "source": [
    "with open(\"static/file1.txt\", \"w+\") as file:\n",
    "    file.write(\"Hello there- again\")"
   ]
  },
  {
   "cell_type": "code",
   "execution_count": null,
   "metadata": {},
   "outputs": [],
   "source": [
    "!cat static/file1.txt"
   ]
  },
  {
   "cell_type": "code",
   "execution_count": null,
   "metadata": {},
   "outputs": [],
   "source": [
    "with open(\"static/file1.txt\", \"w+\") as file1, open(\"static/file2.txt\", \"w+\") as file2:\n",
    "    file1.write(\"Hello from file1\")\n",
    "    file2.write(\"Hello from file2\")"
   ]
  },
  {
   "cell_type": "code",
   "execution_count": null,
   "metadata": {},
   "outputs": [],
   "source": [
    "!cat static/file1.txt"
   ]
  },
  {
   "cell_type": "code",
   "execution_count": null,
   "metadata": {},
   "outputs": [],
   "source": [
    "!cat static/file2.txt"
   ]
  },
  {
   "cell_type": "code",
   "execution_count": null,
   "metadata": {},
   "outputs": [],
   "source": [
    "with open(\"static/file1.txt\", \"w+\") as file1:\n",
    "    with open(\"static/file2.txt\", \"w+\") as file2:\n",
    "        file1.write(\"Hello from file1\")\n",
    "        file2.write(\"Hello from file2\")"
   ]
  },
  {
   "cell_type": "markdown",
   "metadata": {},
   "source": [
    "## Writing context manager the hard way (using class)"
   ]
  },
  {
   "cell_type": "code",
   "execution_count": null,
   "metadata": {},
   "outputs": [],
   "source": [
    "class CtxMng:\n",
    "    def __init__(self):\n",
    "        print(\"inside __init__\")\n",
    "        \n",
    "    def __enter__(self):\n",
    "        print(\"inside __enter__\")\n",
    "        \n",
    "        return (1, 2, 3)\n",
    "    \n",
    "    def __exit__(self, exc_type, exc_value, exc_tb):\n",
    "        print(\"inside __exit__\")"
   ]
  },
  {
   "cell_type": "code",
   "execution_count": null,
   "metadata": {},
   "outputs": [],
   "source": [
    "with CtxMng() as (x, y, z):\n",
    "    print(f\"{x = }, {y = }, {z = }\")"
   ]
  },
  {
   "cell_type": "markdown",
   "metadata": {},
   "source": [
    "When you use the **\"with\"** statement in Python, it sets up a special context for the code inside it. Here's how it works:\n",
    "\n",
    "1. Python first evaluates the expression following the **\"with\"** keyword. This expression should provide a special object known as a **\"context guard.\"**\n",
    "2. The **\"with\"** statement then calls the **\\_\\_enter\\_\\_** method of the context guard object. This method prepares the necessary setup for the code inside the **\"with\"** block.\n",
    "3. Whatever the **\\_\\_enter\\_\\_** method returns, Python assigns it to the variable specified after the **\"as\"** keyword. This allows you to access any data or resources prepared by the **\\_\\_enter\\_\\_** method within the block.\n",
    "4. Python then executes the code inside the **\"with\"** block.\n",
    "5. After the block completes execution, regardless of whether there was an error or not, Python calls the **\\_\\_exit\\_\\_** method of the context guard object.\n",
    "6. The **\\_\\_exit\\_\\_** method can examine if an exception occurred and decide whether to suppress it or handle it accordingly. If the **\\_\\_exit\\_\\_** method returns a true value, it means the exception should be suppressed, allowing the program to continue executing without raising an error."
   ]
  },
  {
   "cell_type": "markdown",
   "metadata": {},
   "source": [
    "## More on `__exit__`"
   ]
  },
  {
   "cell_type": "code",
   "execution_count": null,
   "metadata": {},
   "outputs": [],
   "source": [
    "class CtxMng:\n",
    "    def __init__(self):\n",
    "        print(\"inside __init__\")\n",
    "        \n",
    "    def __enter__(self):\n",
    "        print(\"inside __enter__\")\n",
    "        \n",
    "        return (1, 2, 3)\n",
    "    \n",
    "    def __exit__(self, exc_type, exc_value, exc_tb):\n",
    "        print(\"inside __exit__\")\n",
    "        \n",
    "        if isinstance(exc_value, TypeError):\n",
    "            print(f\"Supressing {exc_value = }\")\n",
    "            return True\n",
    "        else:\n",
    "            print(f\"Not suppressing {exc_value = }\")\n",
    "            return False"
   ]
  },
  {
   "cell_type": "code",
   "execution_count": null,
   "metadata": {},
   "outputs": [],
   "source": [
    "with CtxMng() as (x, y, z):\n",
    "    print(f\"{x = }, {y = }, {z = }\")"
   ]
  },
  {
   "cell_type": "code",
   "execution_count": null,
   "metadata": {},
   "outputs": [],
   "source": [
    "with CtxMng() as (x, y, z):\n",
    "    print(f\"{x = }, {y = }, {z = }\")\n",
    "    raise TypeError()"
   ]
  },
  {
   "cell_type": "code",
   "execution_count": null,
   "metadata": {},
   "outputs": [],
   "source": [
    "with CtxMng() as (x, y, z):\n",
    "    print(f\"{x = }, {y = }, {z = }\")\n",
    "    raise ValueError()"
   ]
  },
  {
   "cell_type": "markdown",
   "metadata": {},
   "source": [
    "## Writing context manager the easy way (using @contextmanager)"
   ]
  },
  {
   "cell_type": "code",
   "execution_count": null,
   "metadata": {},
   "outputs": [],
   "source": [
    "class CtxMng:\n",
    "    def __init__(self):\n",
    "        print(\"inside __init__\")\n",
    "        \n",
    "    def __enter__(self):\n",
    "        print(\"inside __enter__\")\n",
    "        \n",
    "        return (1, 2, 3)\n",
    "    \n",
    "    def __exit__(self, exc_type, exc_value, exc_tb):\n",
    "        print(\"inside __exit__\")\n",
    "        \n",
    "        if isinstance(exc_value, TypeError):\n",
    "            print(f\"Supressing {exc_value = }\")\n",
    "            return True\n",
    "        else:\n",
    "            print(f\"No suppressing {exc_value = }\")\n",
    "            return False"
   ]
  },
  {
   "cell_type": "code",
   "execution_count": null,
   "metadata": {},
   "outputs": [],
   "source": [
    "from contextlib import contextmanager\n",
    "\n",
    "\n",
    "@contextmanager\n",
    "def ctx_mng():\n",
    "    print(\"before yield\")\n",
    "    \n",
    "    try:\n",
    "        yield (1, 2, 3)\n",
    "    except TypeError as exc_value:\n",
    "        print(f\"Supressing {exc_value = }\")\n",
    "    except Exception as exc_value:  # Not needed but trying to show how it works similar to __exit__d\n",
    "        f\"Not suppressing {exc_value = }\"\n",
    "        raise\n",
    "    finally:\n",
    "        print(\"cleanup\")"
   ]
  },
  {
   "cell_type": "code",
   "execution_count": null,
   "metadata": {},
   "outputs": [],
   "source": [
    "with ctx_mng() as (x, y, z):\n",
    "    print(f\"{x = }, {y = }, {z = }\")"
   ]
  },
  {
   "cell_type": "code",
   "execution_count": null,
   "metadata": {},
   "outputs": [],
   "source": [
    "with ctx_mng() as (x, y, z):\n",
    "    print(f\"{x = }, {y = }, {z = }\")\n",
    "    raise TypeError()"
   ]
  },
  {
   "cell_type": "code",
   "execution_count": null,
   "metadata": {},
   "outputs": [],
   "source": [
    "with ctx_mng() as (x, y, z):\n",
    "    print(f\"{x = }, {y = }, {z = }\")\n",
    "    raise ValueError()"
   ]
  },
  {
   "cell_type": "markdown",
   "metadata": {},
   "source": [
    "Don't forget the paranthesis for context manager which returns/yields multiple values"
   ]
  },
  {
   "cell_type": "code",
   "execution_count": null,
   "metadata": {},
   "outputs": [],
   "source": [
    "with CtxMng() as x, y, z:\n",
    "    print(f\"{x = }, {y = }, {z = }\")"
   ]
  },
  {
   "cell_type": "code",
   "execution_count": null,
   "metadata": {},
   "outputs": [],
   "source": [
    "with CtxMng() as x:\n",
    "    with y:\n",
    "        with z:\n",
    "            print(f\"{x = }, {y = }, {z = }\")"
   ]
  },
  {
   "cell_type": "markdown",
   "metadata": {},
   "source": [
    "## Some Practicle use case example"
   ]
  },
  {
   "cell_type": "markdown",
   "metadata": {},
   "source": [
    "### Restore directory"
   ]
  },
  {
   "cell_type": "code",
   "execution_count": null,
   "metadata": {},
   "outputs": [],
   "source": [
    "from contextlib import contextmanager\n",
    "import os\n",
    "\n",
    "@contextmanager\n",
    "def chdir(new_dir):\n",
    "    \"\"\"Change directory then restore.\"\"\"\n",
    "    old_dir = os.getcwd()\n",
    "    os.chdir(str(new_dir))\n",
    "    try:\n",
    "        yield os.getcwd()\n",
    "    finally:\n",
    "        os.chdir(old_dir)\n",
    "\n",
    "\n",
    "print(f\"Before entering /tmp {os.getcwd() = }\")\n",
    "with chdir(\"/tmp\") as new_dir:\n",
    "    print(f\"After entering /tmp {os.getcwd() = }\")\n",
    "    print(\"Do something here\")\n",
    "          \n",
    "print(f\"Outside context manager {os.getcwd() = }\")"
   ]
  },
  {
   "cell_type": "markdown",
   "metadata": {},
   "source": [
    "This is part contextlib module from Python 3.11 onwards: [contextlib.chdir](https://docs.python.org/3/library/contextlib.html#contextlib.chdir)"
   ]
  },
  {
   "cell_type": "markdown",
   "metadata": {},
   "source": [
    "### Redirect stdout"
   ]
  },
  {
   "cell_type": "code",
   "execution_count": null,
   "metadata": {},
   "outputs": [],
   "source": [
    "from contextlib import redirect_stdout\n",
    "from pathlib import Path\n",
    "\n",
    "\n",
    "static_dir = Path().resolve() / \"static\"\n",
    "\n",
    "with open(static_dir / \"contextlib_help.txt\", \"w\") as f:\n",
    "    with redirect_stdout(f):\n",
    "        print(\"This is written using contextlib.redirect_stdout\")\n",
    "        help(\"contextlib\")"
   ]
  },
  {
   "cell_type": "markdown",
   "metadata": {},
   "source": [
    "### Supress know exceptions"
   ]
  },
  {
   "cell_type": "code",
   "execution_count": null,
   "metadata": {},
   "outputs": [],
   "source": [
    "from contextlib import suppress\n",
    "\n",
    "with suppress(FileNotFoundError):\n",
    "    os.remove('file_which_does_nt_exist.tmp')"
   ]
  },
  {
   "cell_type": "markdown",
   "metadata": {},
   "source": [
    "### Work with tempdir (good for unittest)\n",
    "\n",
    "NOTE: In case you use `pytest` for testing there is a better way to handle this."
   ]
  },
  {
   "cell_type": "code",
   "execution_count": null,
   "metadata": {},
   "outputs": [],
   "source": [
    "import tempfile\n",
    "\n",
    "with tempfile.TemporaryDirectory() as temp_dir:\n",
    "    print(temp_dir)"
   ]
  },
  {
   "cell_type": "markdown",
   "metadata": {},
   "source": [
    "### Calculate time for some set of operations"
   ]
  },
  {
   "cell_type": "code",
   "execution_count": null,
   "metadata": {},
   "outputs": [],
   "source": [
    "import time\n",
    "from contextlib import contextmanager\n",
    "\n",
    "@contextmanager\n",
    "def timer():\n",
    "    start_time = time.time()\n",
    "    yield\n",
    "    end_time = time.time()\n",
    "    execution_time = end_time - start_time\n",
    "    print(f\"Execution time: {execution_time} seconds\")\n",
    "\n",
    "# Usage of the timer context manager\n",
    "with timer():\n",
    "    # Code block to measure execution time\n",
    "    time.sleep(2)"
   ]
  }
 ],
 "metadata": {
  "kernelspec": {
   "display_name": "Python 3 (ipykernel)",
   "language": "python",
   "name": "python3"
  },
  "language_info": {
   "codemirror_mode": {
    "name": "ipython",
    "version": 3
   },
   "file_extension": ".py",
   "mimetype": "text/x-python",
   "name": "python",
   "nbconvert_exporter": "python",
   "pygments_lexer": "ipython3",
   "version": "3.8.8"
  }
 },
 "nbformat": 4,
 "nbformat_minor": 4
}
