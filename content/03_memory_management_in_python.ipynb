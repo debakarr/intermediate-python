{
 "cells": [
  {
   "cell_type": "markdown",
   "metadata": {},
   "source": [
    "# Memory Management in Python"
   ]
  },
  {
   "cell_type": "markdown",
   "metadata": {},
   "source": [
    "### Everything is in memory as an object"
   ]
  },
  {
   "cell_type": "code",
   "execution_count": 1,
   "metadata": {},
   "outputs": [
    {
     "name": "stdout",
     "output_type": "stream",
     "text": [
      "0x558624008e20\n",
      "0x7f90245fbbb0\n",
      "0x7f90245c8480\n",
      "0x7f90245fbfc0\n",
      "0x7f9024616c10\n",
      "0x558624ce8590\n"
     ]
    }
   ],
   "source": [
    "a_int = 10\n",
    "a_str = \"hello\"\n",
    "a_list = [1, 2, 3, 4]\n",
    "a_dict = {\"A\":1, \"B\": 2}\n",
    "\n",
    "def a_func():\n",
    "    pass\n",
    "\n",
    "class A:\n",
    "    pass\n",
    "\n",
    "print(hex(id(a_int)))\n",
    "print(hex(id(a_str)))\n",
    "print(hex(id(a_list)))\n",
    "print(hex(id(a_dict)))\n",
    "print(hex(id(a_func)))\n",
    "print(hex(id(A)))"
   ]
  },
  {
   "cell_type": "code",
   "execution_count": 2,
   "metadata": {},
   "outputs": [
    {
     "name": "stdout",
     "output_type": "stream",
     "text": [
      "True\n",
      "True\n",
      "True\n",
      "True\n",
      "True\n",
      "True\n"
     ]
    }
   ],
   "source": [
    "print(isinstance(a_int, object))\n",
    "print(isinstance(a_str, object))\n",
    "print(isinstance(a_list, object))\n",
    "print(isinstance(a_dict, object))\n",
    "print(isinstance(a_func, object))\n",
    "print(isinstance(A, object))"
   ]
  },
  {
   "cell_type": "markdown",
   "metadata": {},
   "source": [
    "This means we can `assign` them to a variable, `pass` them to a function, or `return` them from a function."
   ]
  },
  {
   "cell_type": "markdown",
   "metadata": {},
   "source": [
    "### id() function"
   ]
  },
  {
   "cell_type": "code",
   "execution_count": 3,
   "metadata": {},
   "outputs": [
    {
     "name": "stdout",
     "output_type": "stream",
     "text": [
      "94034617994624\n",
      "0x558624008d80\n"
     ]
    }
   ],
   "source": [
    "# In Python you can find out memory address of a variable by using id() function\n",
    "a = 5\n",
    "\n",
    "a_address = id(a)\n",
    "\n",
    "print(a_address)\n",
    "print(hex(a_address))"
   ]
  },
  {
   "cell_type": "code",
   "execution_count": 4,
   "metadata": {},
   "outputs": [
    {
     "name": "stdout",
     "output_type": "stream",
     "text": [
      "140257062271920\n",
      "0x7f90245fbbb0\n"
     ]
    }
   ],
   "source": [
    "b = \"hello\"\n",
    "\n",
    "b_address = id(b)\n",
    "print(b_address)\n",
    "print(hex(b_address))"
   ]
  },
  {
   "cell_type": "code",
   "execution_count": 5,
   "metadata": {},
   "outputs": [
    {
     "name": "stdout",
     "output_type": "stream",
     "text": [
      "5\n",
      "hello\n"
     ]
    }
   ],
   "source": [
    "# We can use ctypes.cast to create a new Python object which reference to same address\n",
    "import ctypes\n",
    "\n",
    "# *a_address\n",
    "print(ctypes.cast(a_address, ctypes.py_object).value)\n",
    "\n",
    "# *b_address\n",
    "print(ctypes.cast(b_address, ctypes.py_object).value)"
   ]
  },
  {
   "cell_type": "markdown",
   "metadata": {},
   "source": [
    "### sys.getrefcount(...)"
   ]
  },
  {
   "cell_type": "code",
   "execution_count": 6,
   "metadata": {},
   "outputs": [],
   "source": [
    "import sys\n",
    "\n",
    "\n",
    "# Reference counters track the number of references to an object.\n",
    "# They are part of Python's memory management system and aid in garbage collection.\n",
    "my_var = 12324\n",
    "\n",
    "# The counter starts at 1 when an object is created.\n",
    "before = sys.getrefcount(my_var)\n",
    "\n",
    "# It increments when a reference is created\n",
    "my_var2 = my_var\n",
    "after_reference_by_other = sys.getrefcount(my_var)"
   ]
  },
  {
   "cell_type": "code",
   "execution_count": 7,
   "metadata": {},
   "outputs": [],
   "source": [
    "import sys\n",
    "\n",
    "\n",
    "# Reference counters track the number of references to an object.\n",
    "# They are part of Python's memory management system and aid in garbage collection.\n",
    "my_var = 12324"
   ]
  },
  {
   "cell_type": "code",
   "execution_count": 8,
   "metadata": {},
   "outputs": [
    {
     "data": {
      "text/plain": [
       "'0x7f9024603f90'"
      ]
     },
     "execution_count": 8,
     "metadata": {},
     "output_type": "execute_result"
    }
   ],
   "source": [
    "hex(id(my_var))"
   ]
  },
  {
   "cell_type": "code",
   "execution_count": 9,
   "metadata": {},
   "outputs": [
    {
     "name": "stdout",
     "output_type": "stream",
     "text": [
      "Starting reference: 2\n",
      "After another variable reference: 3\n"
     ]
    }
   ],
   "source": [
    "# The counter starts at 1 when an object is created.\n",
    "before = sys.getrefcount(my_var)\n",
    "\n",
    "# It increments when a reference is created\n",
    "my_var2 = my_var\n",
    "after_reference_by_other = sys.getrefcount(my_var)\n",
    "\n",
    "print(f\"Starting reference: {before}\")\n",
    "print(f\"After another variable reference: {after_reference_by_other}\")"
   ]
  },
  {
   "cell_type": "markdown",
   "metadata": {},
   "source": [
    "> Note that sync value are passed by reference in Python, sys.getrefcount(...) will return one additional count to actual reference number. It can be more in case you are running Python Interpreter in some differnt environment, like Jupyter notebook."
   ]
  },
  {
   "cell_type": "code",
   "execution_count": 10,
   "metadata": {},
   "outputs": [
    {
     "name": "stdout",
     "output_type": "stream",
     "text": [
      "140257062305680\n",
      "140257062305680\n"
     ]
    },
    {
     "data": {
      "text/plain": [
       "True"
      ]
     },
     "execution_count": 10,
     "metadata": {},
     "output_type": "execute_result"
    }
   ],
   "source": [
    "print(id(my_var))\n",
    "print(id(my_var2))\n",
    "id(my_var) == id(my_var2)"
   ]
  },
  {
   "cell_type": "code",
   "execution_count": 11,
   "metadata": {},
   "outputs": [
    {
     "data": {
      "text/plain": [
       "2"
      ]
     },
     "execution_count": 11,
     "metadata": {},
     "output_type": "execute_result"
    }
   ],
   "source": [
    "# We can actually use ctypes to get the actual reference counter\n",
    "address = id(my_var)\n",
    "ctypes.c_long.from_address(address).value"
   ]
  },
  {
   "cell_type": "code",
   "execution_count": 12,
   "metadata": {
    "scrolled": true
   },
   "outputs": [
    {
     "data": {
      "text/plain": [
       "1"
      ]
     },
     "execution_count": 12,
     "metadata": {},
     "output_type": "execute_result"
    }
   ],
   "source": [
    "# reference counter decrements when a reference is deleted.\n",
    "del my_var2\n",
    "ctypes.c_long.from_address(address).value"
   ]
  },
  {
   "cell_type": "code",
   "execution_count": 13,
   "metadata": {
    "scrolled": true
   },
   "outputs": [
    {
     "data": {
      "text/plain": [
       "12324"
      ]
     },
     "execution_count": 13,
     "metadata": {},
     "output_type": "execute_result"
    }
   ],
   "source": [
    "ctypes.cast(address, ctypes.py_object).value"
   ]
  },
  {
   "cell_type": "code",
   "execution_count": 14,
   "metadata": {},
   "outputs": [
    {
     "data": {
      "text/plain": [
       "7"
      ]
     },
     "execution_count": 14,
     "metadata": {},
     "output_type": "execute_result"
    }
   ],
   "source": [
    "# The counter reaching zero indicates no more references to the object.\n",
    "del my_var\n",
    "\n",
    "# This might now give some random value. \n",
    "# As of fact reference counter for value 12324 is 0 now so python's garbage collection kicks in and free up the space\n",
    "ctypes.c_long.from_address(address).value"
   ]
  },
  {
   "cell_type": "code",
   "execution_count": 15,
   "metadata": {},
   "outputs": [],
   "source": [
    "# Doing this may crash the Python interpreter ass the address now does not contains python object\n",
    "# ctypes.cast(address, ctypes.py_object).value"
   ]
  },
  {
   "cell_type": "markdown",
   "metadata": {},
   "source": [
    "- Objects with a reference count of zero are considered garbage.\n",
    "- Garbage collection reclaims memory occupied by unreferenced objects.\n",
    "- Reference counting offers efficient memory management and immediate resource reclamation.\n",
    "- However, it doesn't handle cyclic references (objects referencing each other).\n",
    "- Python uses additional garbage collection mechanisms to handle cyclic references.\n",
    "- The reference counter ensures timely deallocation of objects and efficient memory usage."
   ]
  },
  {
   "cell_type": "markdown",
   "metadata": {},
   "source": [
    "### Python is dynamically typed"
   ]
  },
  {
   "cell_type": "code",
   "execution_count": 16,
   "metadata": {},
   "outputs": [
    {
     "name": "stdout",
     "output_type": "stream",
     "text": [
      "0x558624008e20\n",
      "<class 'int'>\n"
     ]
    }
   ],
   "source": [
    "my_var = 10\n",
    "print(hex(id(my_var)))\n",
    "print(type(my_var))"
   ]
  },
  {
   "cell_type": "code",
   "execution_count": 17,
   "metadata": {},
   "outputs": [
    {
     "name": "stdout",
     "output_type": "stream",
     "text": [
      "0x7f90245e35f0\n",
      "<class 'str'>\n"
     ]
    }
   ],
   "source": [
    "my_var = \"Test string\"\n",
    "print(hex(id(my_var)))\n",
    "print(type(my_var))"
   ]
  },
  {
   "cell_type": "markdown",
   "metadata": {},
   "source": [
    "### Mutability"
   ]
  },
  {
   "cell_type": "code",
   "execution_count": 18,
   "metadata": {},
   "outputs": [
    {
     "name": "stdout",
     "output_type": "stream",
     "text": [
      "0x7f902460d840\n",
      "0x7f902460d840\n"
     ]
    }
   ],
   "source": [
    "# Mutable objects provide a way to mutate them (change the internal state)\n",
    "a_list = [10, 20, 30]\n",
    "\n",
    "print(hex(id(a_list)))\n",
    "\n",
    "a_list.append(40)\n",
    "\n",
    "print(hex(id(a_list)))"
   ]
  },
  {
   "cell_type": "code",
   "execution_count": 19,
   "metadata": {},
   "outputs": [
    {
     "name": "stdout",
     "output_type": "stream",
     "text": [
      "0x7f90245c9580\n",
      "0x7f90245c9840\n"
     ]
    }
   ],
   "source": [
    "# Note that this create a new object in memory\n",
    "a_list2 = [10, 20, 30]\n",
    "\n",
    "print(hex(id(a_list2)))\n",
    "\n",
    "a_list2 = a_list2 + [40]\n",
    "\n",
    "# Note how Python recreated a new object here, \n",
    "# since it evaluates the right hand side and then reassign it to a_list2 object\n",
    "print(hex(id(a_list2)))"
   ]
  },
  {
   "cell_type": "code",
   "execution_count": 20,
   "metadata": {},
   "outputs": [
    {
     "name": "stdout",
     "output_type": "stream",
     "text": [
      "([10, 20, 30, 40], 50, 60)\n"
     ]
    }
   ],
   "source": [
    "a_tuple = ([10, 20, 30], 50, 60)\n",
    "\n",
    "a_tuple[0].append(40)\n",
    "print(a_tuple)"
   ]
  },
  {
   "cell_type": "markdown",
   "metadata": {},
   "source": [
    "> Note that in Python almost every user define data structure is mutable. Only immutable data type in Python are `int`, `float`, `complex`, `str`, `tuple`, `frozenset`, `bytes`, `True`, `False`, `None`."
   ]
  },
  {
   "cell_type": "markdown",
   "metadata": {},
   "source": [
    "### Variable Equality"
   ]
  },
  {
   "cell_type": "markdown",
   "metadata": {},
   "source": [
    "- `a == b` checks if value of a is equal to value of b\n",
    "- `a is b` checks if value of id(a) is equal to value of id(b)"
   ]
  },
  {
   "cell_type": "code",
   "execution_count": 21,
   "metadata": {},
   "outputs": [
    {
     "name": "stdout",
     "output_type": "stream",
     "text": [
      "True\n",
      "True\n"
     ]
    }
   ],
   "source": [
    "a_int = 10\n",
    "b_int = 10\n",
    "\n",
    "print(a_int == b_int)\n",
    "print(a_int is b_int) # id(a) == id(b)"
   ]
  },
  {
   "cell_type": "code",
   "execution_count": 22,
   "metadata": {},
   "outputs": [
    {
     "name": "stdout",
     "output_type": "stream",
     "text": [
      "True\n",
      "False\n"
     ]
    }
   ],
   "source": [
    "a_int = 999\n",
    "b_int = 999\n",
    "\n",
    "print(a_int == b_int)\n",
    "print(a_int is b_int) # id(a) == id(b)"
   ]
  },
  {
   "cell_type": "code",
   "execution_count": 23,
   "metadata": {},
   "outputs": [
    {
     "name": "stdout",
     "output_type": "stream",
     "text": [
      "True\n",
      "True\n"
     ]
    }
   ],
   "source": [
    "a_str = \"python\"\n",
    "b_str = \"python\"\n",
    "\n",
    "print(a_str == b_str)\n",
    "print(a_str is b_str)"
   ]
  },
  {
   "cell_type": "code",
   "execution_count": 24,
   "metadata": {},
   "outputs": [
    {
     "name": "stdout",
     "output_type": "stream",
     "text": [
      "True\n",
      "False\n"
     ]
    }
   ],
   "source": [
    "a_str = \"python course\"\n",
    "b_str = \"python course\"\n",
    "\n",
    "print(a_str == b_str)\n",
    "print(a_str is b_str)"
   ]
  },
  {
   "cell_type": "markdown",
   "metadata": {},
   "source": [
    "We will check why this happens when we discuss what Python does for memory optimization."
   ]
  },
  {
   "cell_type": "code",
   "execution_count": 25,
   "metadata": {},
   "outputs": [
    {
     "name": "stdout",
     "output_type": "stream",
     "text": [
      "True\n",
      "False\n"
     ]
    }
   ],
   "source": [
    "a_list = [1, 2, 3, 4]\n",
    "b_list = [1, 2, 3, 4]\n",
    "\n",
    "print(a_list == b_list)\n",
    "print(a_list is b_list)"
   ]
  },
  {
   "cell_type": "code",
   "execution_count": 26,
   "metadata": {},
   "outputs": [
    {
     "name": "stdout",
     "output_type": "stream",
     "text": [
      "True\n",
      "False\n"
     ]
    }
   ],
   "source": [
    "a_int = 10\n",
    "a_float = 10.0\n",
    "\n",
    "print(a_int == a_float)\n",
    "print(a_int is a_float)"
   ]
  },
  {
   "cell_type": "code",
   "execution_count": 27,
   "metadata": {},
   "outputs": [
    {
     "name": "stdout",
     "output_type": "stream",
     "text": [
      "True\n",
      "True\n",
      "True\n",
      "True\n"
     ]
    }
   ],
   "source": [
    "a_obj = None\n",
    "b_obj = None\n",
    "\n",
    "print(a_obj == None)\n",
    "print(a_obj is None)\n",
    "print(a_obj == b_obj)\n",
    "print(a_obj is b_obj)"
   ]
  },
  {
   "cell_type": "markdown",
   "metadata": {},
   "source": [
    "### Memory optimization"
   ]
  },
  {
   "cell_type": "markdown",
   "metadata": {},
   "source": [
    "#### Interning\n",
    "\n",
    "[From Wikipedia](https://en.wikipedia.org/wiki/Interning_(computer_science))\n",
    "> In computer science, interning is re-using objects of equal value on-demand instead of creating new objects. This creational pattern is frequently used for numbers and strings in different programming languages."
   ]
  },
  {
   "cell_type": "markdown",
   "metadata": {},
   "source": [
    "##### Number Interning:\n",
    "- Python interns small integers in the range [-5, 256]. This means that any variable referencing an integer within this range will point to the same memory location. For example, `x = 5` and `y = 5` will have `x is y` evaluate to `True`.\n",
    "- Numbers outside the interned range or those created dynamically are not interned. For example, `x = 1000` and `y = 1000` will have `x is y` evaluate to `False`."
   ]
  },
  {
   "cell_type": "markdown",
   "metadata": {},
   "source": [
    "##### String Interning:\n",
    "- String literals which are valid identifier are interned by default.\n",
    "- Strings created at runtime (i.e., not string literals) are typically not interned. This includes strings obtained through concatenation or string formatting.\n",
    "- User can manually intern a string using `sys.intern`."
   ]
  },
  {
   "cell_type": "code",
   "execution_count": 28,
   "metadata": {},
   "outputs": [
    {
     "name": "stdout",
     "output_type": "stream",
     "text": [
      "True\n",
      "True\n"
     ]
    }
   ],
   "source": [
    "a_string = \"python\"\n",
    "b_string = \"python\"\n",
    "\n",
    "print(a_string == b_string)\n",
    "print(a_string is b_string)"
   ]
  },
  {
   "cell_type": "code",
   "execution_count": 29,
   "metadata": {},
   "outputs": [
    {
     "name": "stdout",
     "output_type": "stream",
     "text": [
      "True\n",
      "False\n"
     ]
    }
   ],
   "source": [
    "a_string = \"python!\"\n",
    "b_string = \"python!\"\n",
    "\n",
    "print(a_string == b_string)\n",
    "print(a_string is b_string)"
   ]
  },
  {
   "cell_type": "code",
   "execution_count": 30,
   "metadata": {},
   "outputs": [
    {
     "name": "stdout",
     "output_type": "stream",
     "text": [
      "True\n",
      "True\n"
     ]
    }
   ],
   "source": [
    "a_string = \"_this_string_will_be_intern_since_it_is_valid_identifier\"\n",
    "b_string = \"_this_string_will_be_intern_since_it_is_valid_identifier\"\n",
    "\n",
    "print(a_string == b_string)\n",
    "print(a_string is b_string)"
   ]
  },
  {
   "cell_type": "code",
   "execution_count": 31,
   "metadata": {},
   "outputs": [
    {
     "name": "stdout",
     "output_type": "stream",
     "text": [
      "True\n",
      "False\n",
      "True\n",
      "True\n"
     ]
    }
   ],
   "source": [
    "a_string = \"Generally this is not interned, but we can intern it using sys.intern\"\n",
    "b_string = \"Generally this is not interned, but we can intern it using sys.intern\"\n",
    "\n",
    "print(a_string == b_string)\n",
    "print(a_string is b_string)\n",
    "\n",
    "a_string = sys.intern(\"Generally this is not interned, but we can intern it using sys.intern\")\n",
    "b_string = sys.intern(\"Generally this is not interned, but we can intern it using sys.intern\")\n",
    "\n",
    "print(a_string == b_string)\n",
    "print(a_string is b_string)"
   ]
  },
  {
   "cell_type": "markdown",
   "metadata": {},
   "source": [
    "#### Peephole\n",
    "\n",
    "[From Wikipedia](https://en.wikipedia.org/wiki/Peephole_optimization)\n",
    "\n",
    "> Peephole optimization is an optimization technique performed on a small set of compiler-generated instructions; the small set is known as the peephole or window."
   ]
  },
  {
   "cell_type": "code",
   "execution_count": 32,
   "metadata": {},
   "outputs": [
    {
     "name": "stdout",
     "output_type": "stream",
     "text": [
      "(1440,)\n"
     ]
    }
   ],
   "source": [
    "c = compile(\"24 * 60\", '<string>', 'eval')\n",
    "print(c.co_consts)"
   ]
  },
  {
   "cell_type": "code",
   "execution_count": 33,
   "metadata": {},
   "outputs": [
    {
     "name": "stdout",
     "output_type": "stream",
     "text": [
      "((1, 2, 1, 2, 1, 2, 1, 2, 1, 2),)\n"
     ]
    }
   ],
   "source": [
    "c = compile(\"(1, 2) * 5\", '<string>', 'eval')\n",
    "print(c.co_consts)"
   ]
  },
  {
   "cell_type": "code",
   "execution_count": 34,
   "metadata": {},
   "outputs": [
    {
     "name": "stdout",
     "output_type": "stream",
     "text": [
      "('xyzxyzxyzxyz',)\n"
     ]
    }
   ],
   "source": [
    "c = compile(\"\\\"xyz\\\" * 4\", '<string>', 'eval')\n",
    "print(c.co_consts)"
   ]
  },
  {
   "cell_type": "code",
   "execution_count": 35,
   "metadata": {},
   "outputs": [
    {
     "data": {
      "text/plain": [
       "(None, 1440, (1, 2, 1, 2, 1, 2, 1, 2, 1, 2), 'xyzxyzxyzxyz')"
      ]
     },
     "execution_count": 35,
     "metadata": {},
     "output_type": "execute_result"
    }
   ],
   "source": [
    "def a_func():\n",
    "    a_int = 24 * 60\n",
    "    # short length sequence <= 20\n",
    "    a_tuple = (1, 2) * 5  \n",
    "    a_string = \"xyz\" * 4\n",
    "\n",
    "a_func.__code__.co_consts"
   ]
  }
 ],
 "metadata": {
  "kernelspec": {
   "display_name": "Python 3",
   "language": "python",
   "name": "python3"
  },
  "language_info": {
   "codemirror_mode": {
    "name": "ipython",
    "version": 3
   },
   "file_extension": ".py",
   "mimetype": "text/x-python",
   "name": "python",
   "nbconvert_exporter": "python",
   "pygments_lexer": "ipython3",
   "version": "3.8.8"
  }
 },
 "nbformat": 4,
 "nbformat_minor": 5
}
