{
 "cells": [
  {
   "cell_type": "markdown",
   "id": "dfbb69ed",
   "metadata": {},
   "source": [
    "# Memory Management in Python"
   ]
  },
  {
   "cell_type": "markdown",
   "id": "7a385259-24aa-47e1-a407-dfc7bd3d01f4",
   "metadata": {},
   "source": [
    "At the end of this section you will have these understanding:\n",
    "- How Python objects are stored in memory?\n",
    "- What are reference counters?\n",
    "- How does Garbage collection works in Python?\n",
    "- Difference between `is` and `==`.\n",
    "- Memory optimization.\n",
    "- Best practices for memory management.\n"
   ]
  },
  {
   "cell_type": "markdown",
   "id": "c14d6fae-13a0-4c34-91cd-efe3972025c5",
   "metadata": {},
   "source": [
    "| C                                                                        | Python                                                                        |\n",
    "| ------------------------------------------------------------------------ | ----------------------------------------------------------------------------- |\n",
    "| ![](./static/01/C_Memory_Management.png)                                 | ![](./static/01/Python_Memory_Management.png)                                 |\n",
    "| [Link to repl](https://replit.com/@lyndabaka/Memory-Management-in-C?v=1) | [Link to repl](https://replit.com/@lyndabaka/Memory-Management-in-Python?v=1) |ng)"
   ]
  },
  {
   "cell_type": "markdown",
   "id": "68caea2f",
   "metadata": {},
   "source": [
    "### Everything is in memory as an object\n",
    "\n",
    "In Python, everything you work with, whether it's a number, a string, or even a function, is treated as an object. These objects are stored in memory for the program to access.\n",
    "\n",
    "The place where these objects are stored is called the **heap**. It's like a big storage space where Python keeps track of all the objects."
   ]
  },
  {
   "cell_type": "code",
   "execution_count": null,
   "id": "02eee63d",
   "metadata": {},
   "outputs": [],
   "source": [
    "a_int = 10\n",
    "a_str = \"hello\"\n",
    "a_list = [1, 2, 3, 4]\n",
    "a_dict = {\"A\":1, \"B\": 2}\n",
    "\n",
    "def a_func():\n",
    "    pass\n",
    "\n",
    "class A:\n",
    "    pass\n",
    "\n",
    "print(hex(id(a_int)))\n",
    "print(hex(id(a_str)))\n",
    "print(hex(id(a_list)))\n",
    "print(hex(id(a_dict)))\n",
    "print(hex(id(a_func)))\n",
    "print(hex(id(A)))"
   ]
  },
  {
   "cell_type": "code",
   "execution_count": null,
   "id": "0a1f09f8",
   "metadata": {},
   "outputs": [],
   "source": [
    "print(isinstance(a_int, object))\n",
    "print(isinstance(a_str, object))\n",
    "print(isinstance(a_list, object))\n",
    "print(isinstance(a_dict, object))\n",
    "print(isinstance(a_func, object))\n",
    "print(isinstance(A, object))"
   ]
  },
  {
   "cell_type": "markdown",
   "id": "885833f9",
   "metadata": {},
   "source": [
    "This means we can `assign` them to a variable, `pass` them to a function, or `return` them from a function."
   ]
  },
  {
   "cell_type": "markdown",
   "id": "cb26d804",
   "metadata": {},
   "source": [
    "### id() function\n",
    "\n",
    "If you want to know the memory address of any object, you can use the `id()` function. It will give you a unique identifier for that object.\n",
    "\n",
    "The memory address provided by `id()` is in base-10, but if you pass it to `hex()`, it will convert it to hexadecimal notation. This can make it easier for you to read and work with."
   ]
  },
  {
   "cell_type": "code",
   "execution_count": null,
   "id": "241a5072",
   "metadata": {},
   "outputs": [],
   "source": [
    "a = 5\n",
    "\n",
    "a_address = id(a)\n",
    "\n",
    "print(a_address)\n",
    "print(hex(a_address))"
   ]
  },
  {
   "cell_type": "code",
   "execution_count": null,
   "id": "be092255",
   "metadata": {},
   "outputs": [],
   "source": [
    "b = \"hello\"\n",
    "\n",
    "b_address = id(b)\n",
    "print(b_address)\n",
    "print(hex(b_address))"
   ]
  },
  {
   "cell_type": "code",
   "execution_count": null,
   "id": "57a6dc1a",
   "metadata": {},
   "outputs": [],
   "source": [
    "# We can use ctypes.cast to create a new Python object which reference to same address\n",
    "import ctypes\n",
    "\n",
    "# *a_address\n",
    "print(ctypes.cast(a_address, ctypes.py_object).value)\n",
    "\n",
    "# *b_address\n",
    "print(ctypes.cast(b_address, ctypes.py_object).value)"
   ]
  },
  {
   "cell_type": "markdown",
   "id": "54acb435",
   "metadata": {},
   "source": [
    "### sys.getrefcount(...)\n",
    "\n",
    "In Python, the memory manager keeps track of how many references point to each object in memory. This count is known as the **reference count** for that object."
   ]
  },
  {
   "cell_type": "code",
   "execution_count": null,
   "id": "6dc5ea41-cbf2-4046-81ec-9c5298b27b54",
   "metadata": {},
   "outputs": [],
   "source": [
    "my_var = 12324"
   ]
  },
  {
   "cell_type": "markdown",
   "id": "792651d5-2f9e-4f12-bfa9-51b8c0dbcd6f",
   "metadata": {},
   "source": [
    "To access the reference count of an object, you can use the `sys.getrefcount()` function. However, there is a small artifact associated with this function.\n",
    "\n",
    "When you call `sys.getrefcount()`, it increments the reference count by 1 temporarily. This happens because the function itself accesses the object, which causes the count to go up by 1."
   ]
  },
  {
   "cell_type": "code",
   "execution_count": null,
   "id": "f704f670-fb26-4bac-be9a-2c7cd7791afc",
   "metadata": {},
   "outputs": [],
   "source": [
    "import sys\n",
    "\n",
    "\n",
    "# The counter starts at 1 when an object is created.\n",
    "before = sys.getrefcount(my_var)\n",
    "\n",
    "# It increments when a reference is created\n",
    "my_var2 = my_var\n",
    "after_reference_by_other = sys.getrefcount(my_var)"
   ]
  },
  {
   "cell_type": "code",
   "execution_count": null,
   "id": "8b285bcd",
   "metadata": {},
   "outputs": [],
   "source": [
    "hex(id(my_var))"
   ]
  },
  {
   "cell_type": "markdown",
   "id": "071df205-d26e-4b9f-80bb-90a7013dcb20",
   "metadata": {},
   "source": [
    "If you create another variable and assign it the same value as the first variable, both variables will point to the same memory address. This means that changes made to one variable will also affect the other, making it a **pass by reference** behavior in Python."
   ]
  },
  {
   "cell_type": "code",
   "execution_count": null,
   "id": "098982fb",
   "metadata": {},
   "outputs": [],
   "source": [
    "# The counter starts at 1 when an object is created.\n",
    "before = sys.getrefcount(my_var)\n",
    "\n",
    "# It increments when a reference is created\n",
    "my_var2 = my_var\n",
    "after_reference_by_other = sys.getrefcount(my_var)\n",
    "\n",
    "print(f\"Starting reference: {before}\")\n",
    "print(f\"After another variable reference: {after_reference_by_other}\")"
   ]
  },
  {
   "cell_type": "markdown",
   "id": "3adc99aa",
   "metadata": {},
   "source": [
    "> Note that sync value are passed by reference in Python, sys.getrefcount(...) will return one additional count to actual reference number. It can be more in case you are running Python Interpreter in some differnt environment, like Jupyter notebook."
   ]
  },
  {
   "cell_type": "code",
   "execution_count": null,
   "id": "bb15bfb1",
   "metadata": {},
   "outputs": [],
   "source": [
    "print(id(my_var))\n",
    "print(id(my_var2))\n",
    "id(my_var) == id(my_var2)"
   ]
  },
  {
   "cell_type": "markdown",
   "id": "7e1911b2-e6a6-44a7-a29e-ef96b5bcbd7e",
   "metadata": {},
   "source": [
    "Another way to get the reference count without the artifact is by using the `ctypes.c_long.from_address(var_address).value` function. This approach requires the direct address of the object."
   ]
  },
  {
   "cell_type": "code",
   "execution_count": null,
   "id": "a7c05015",
   "metadata": {},
   "outputs": [],
   "source": [
    "# We can actually use ctypes to get the actual reference counter\n",
    "address = id(my_var)\n",
    "ctypes.c_long.from_address(address).value"
   ]
  },
  {
   "cell_type": "code",
   "execution_count": null,
   "id": "8be4fae5",
   "metadata": {
    "scrolled": true
   },
   "outputs": [],
   "source": [
    "# reference counter decrements when a reference is deleted.\n",
    "del my_var2\n",
    "ctypes.c_long.from_address(address).value"
   ]
  },
  {
   "cell_type": "code",
   "execution_count": null,
   "id": "6411f010",
   "metadata": {
    "scrolled": true
   },
   "outputs": [],
   "source": [
    "ctypes.cast(address, ctypes.py_object).value"
   ]
  },
  {
   "cell_type": "code",
   "execution_count": null,
   "id": "aa535187",
   "metadata": {},
   "outputs": [],
   "source": [
    "# The counter reaching zero indicates no more references to the object.\n",
    "del my_var\n",
    "\n",
    "# This might now give some random value. \n",
    "# As of fact reference counter for value 12324 is 0 now so python's garbage collection kicks in and free up the space\n",
    "ctypes.c_long.from_address(address).value"
   ]
  },
  {
   "cell_type": "code",
   "execution_count": null,
   "id": "4d84831e",
   "metadata": {},
   "outputs": [],
   "source": [
    "# Doing this may crash the Python interpreter ass the address now does not contains python object\n",
    "# ctypes.cast(address, ctypes.py_object).value"
   ]
  },
  {
   "cell_type": "markdown",
   "id": "3b1a9d1c",
   "metadata": {},
   "source": [
    "- Objects with a reference count of zero are considered garbage.\n",
    "- Garbage collection reclaims memory occupied by unreferenced objects.\n",
    "- Reference counting offers efficient memory management and immediate resource reclamation.\n",
    "- However, it doesn't handle cyclic references (objects referencing each other).\n",
    "- Python uses additional garbage collection mechanisms to handle cyclic references.\n",
    "- The reference counter ensures timely deallocation of objects and efficient memory usage."
   ]
  },
  {
   "cell_type": "markdown",
   "id": "7ae99b2c-84ec-4086-bd9d-bc6afbd7dca2",
   "metadata": {},
   "source": [
    "PyCon talk in Memory management\n",
    "\n",
    "[![](https://img.youtube.com/vi/F6u5rhUQ6dU/0.jpg)](https://youtu.be/F6u5rhUQ6dU)"
   ]
  },
  {
   "cell_type": "markdown",
   "id": "83cc65a7",
   "metadata": {},
   "source": [
    "### Python is dynamically typed"
   ]
  },
  {
   "cell_type": "code",
   "execution_count": null,
   "id": "a955d5e3",
   "metadata": {},
   "outputs": [],
   "source": [
    "my_var = 10\n",
    "print(hex(id(my_var)))\n",
    "print(type(my_var))"
   ]
  },
  {
   "cell_type": "code",
   "execution_count": null,
   "id": "c85ede28",
   "metadata": {},
   "outputs": [],
   "source": [
    "my_var = \"Test string\"\n",
    "print(hex(id(my_var)))\n",
    "print(type(my_var))"
   ]
  },
  {
   "cell_type": "markdown",
   "id": "6b8f90ef",
   "metadata": {},
   "source": [
    "### Mutability\n",
    "\n",
    "Mutation in Python refers to the process of changing the value of an object while keeping the same address in memory. In other words, when you mutate an object, you modify its internal state without creating a completely new object."
   ]
  },
  {
   "cell_type": "code",
   "execution_count": null,
   "id": "6fe4969c",
   "metadata": {},
   "outputs": [],
   "source": [
    "# Mutable objects provide a way to mutate them (change the internal state)\n",
    "a_list = [10, 20, 30]\n",
    "\n",
    "print(hex(id(a_list)))\n",
    "\n",
    "a_list.append(40)\n",
    "\n",
    "print(hex(id(a_list)))"
   ]
  },
  {
   "cell_type": "code",
   "execution_count": null,
   "id": "2db93ff0",
   "metadata": {},
   "outputs": [],
   "source": [
    "# Note that this create a new object in memory\n",
    "a_list2 = [10, 20, 30]\n",
    "\n",
    "print(hex(id(a_list2)))\n",
    "\n",
    "a_list2 = a_list2 + [40]\n",
    "\n",
    "# Note how Python recreated a new object here, \n",
    "# since it evaluates the right hand side and then reassign it to a_list2 object\n",
    "print(hex(id(a_list2)))"
   ]
  },
  {
   "cell_type": "code",
   "execution_count": null,
   "id": "b9a4112b",
   "metadata": {},
   "outputs": [],
   "source": [
    "a_tuple = ([10, 20, 30], 50, 60)\n",
    "\n",
    "a_tuple[0].append(40)\n",
    "print(a_tuple)"
   ]
  },
  {
   "cell_type": "markdown",
   "id": "089bdabd",
   "metadata": {},
   "source": [
    "> Note that in Python almost every user define data structure is mutable. Only immutable data type in Python are `int`, `float`, `complex`, `str`, `tuple`, `frozenset`, `bytes`, `True`, `False`, `None`."
   ]
  },
  {
   "cell_type": "markdown",
   "id": "651c7427",
   "metadata": {},
   "source": [
    "### Variable Equality"
   ]
  },
  {
   "cell_type": "markdown",
   "id": "a48a96e3",
   "metadata": {},
   "source": [
    "- `a == b` checks if value of a is equal to value of b\n",
    "- `a is b` checks if value of id(a) is equal to value of id(b)"
   ]
  },
  {
   "cell_type": "code",
   "execution_count": null,
   "id": "4a03471f",
   "metadata": {},
   "outputs": [],
   "source": [
    "a_int = 10\n",
    "b_int = 10\n",
    "\n",
    "print(a_int == b_int)\n",
    "print(a_int is b_int) # id(a) == id(b)"
   ]
  },
  {
   "cell_type": "code",
   "execution_count": null,
   "id": "13bf186e",
   "metadata": {},
   "outputs": [],
   "source": [
    "a_int = 999\n",
    "b_int = 999\n",
    "\n",
    "print(a_int == b_int)\n",
    "print(a_int is b_int) # id(a) == id(b)"
   ]
  },
  {
   "cell_type": "code",
   "execution_count": null,
   "id": "ed1396d2",
   "metadata": {},
   "outputs": [],
   "source": [
    "a_str = \"python\"\n",
    "b_str = \"python\"\n",
    "\n",
    "print(a_str == b_str)\n",
    "print(a_str is b_str)"
   ]
  },
  {
   "cell_type": "code",
   "execution_count": null,
   "id": "e6a89365",
   "metadata": {},
   "outputs": [],
   "source": [
    "a_str = \"python course\"\n",
    "b_str = \"python course\"\n",
    "\n",
    "print(a_str == b_str)\n",
    "print(a_str is b_str)"
   ]
  },
  {
   "cell_type": "markdown",
   "id": "e205ec6d",
   "metadata": {},
   "source": [
    "We will check why this happens when we discuss what Python does for memory optimization."
   ]
  },
  {
   "cell_type": "code",
   "execution_count": null,
   "id": "d98fb616",
   "metadata": {},
   "outputs": [],
   "source": [
    "a_list = [1, 2, 3, 4]\n",
    "b_list = [1, 2, 3, 4]\n",
    "\n",
    "print(a_list == b_list)\n",
    "print(a_list is b_list)"
   ]
  },
  {
   "cell_type": "code",
   "execution_count": null,
   "id": "bf205007",
   "metadata": {},
   "outputs": [],
   "source": [
    "a_int = 10\n",
    "a_float = 10.0\n",
    "\n",
    "print(a_int == a_float)\n",
    "print(a_int is a_float)"
   ]
  },
  {
   "cell_type": "code",
   "execution_count": null,
   "id": "a580ee5a",
   "metadata": {},
   "outputs": [],
   "source": [
    "a_obj = None\n",
    "b_obj = None\n",
    "\n",
    "print(a_obj == None)\n",
    "print(a_obj is None)\n",
    "print(a_obj == b_obj)\n",
    "print(a_obj is b_obj)"
   ]
  },
  {
   "cell_type": "markdown",
   "id": "625bf302",
   "metadata": {},
   "source": [
    "### Memory optimization"
   ]
  },
  {
   "cell_type": "markdown",
   "id": "4b80375a",
   "metadata": {},
   "source": [
    "#### Interning\n",
    "\n",
    "[From Wikipedia](https://en.wikipedia.org/wiki/Interning_(computer_science))\n",
    "> In computer science, interning is re-using objects of equal value on-demand instead of creating new objects. This creational pattern is frequently used for numbers and strings in different programming languages."
   ]
  },
  {
   "cell_type": "markdown",
   "id": "adee1396",
   "metadata": {},
   "source": [
    "##### Number Interning:\n",
    "- Python interns small integers in the range [-5, 256]. This means that any variable referencing an integer within this range will point to the same memory location. For example, `x = 5` and `y = 5` will have `x is y` evaluate to `True`.\n",
    "- Numbers outside the interned range or those created dynamically are not interned. For example, `x = 1000` and `y = 1000` will have `x is y` evaluate to `False`."
   ]
  },
  {
   "cell_type": "markdown",
   "id": "159bc2f9",
   "metadata": {},
   "source": [
    "##### String Interning:\n",
    "- String literals which are valid identifier are interned by default.\n",
    "- Strings created at runtime (i.e., not string literals) are typically not interned. This includes strings obtained through concatenation or string formatting.\n",
    "- User can manually intern a string using `sys.intern`."
   ]
  },
  {
   "cell_type": "code",
   "execution_count": null,
   "id": "32a77a82",
   "metadata": {},
   "outputs": [],
   "source": [
    "a_string = \"python\"\n",
    "b_string = \"python\"\n",
    "\n",
    "print(a_string == b_string)\n",
    "print(a_string is b_string)"
   ]
  },
  {
   "cell_type": "code",
   "execution_count": null,
   "id": "9f7db4ef",
   "metadata": {},
   "outputs": [],
   "source": [
    "a_string = \"python!\"\n",
    "b_string = \"python!\"\n",
    "\n",
    "print(a_string == b_string)\n",
    "print(a_string is b_string)"
   ]
  },
  {
   "cell_type": "code",
   "execution_count": null,
   "id": "912e50d8",
   "metadata": {},
   "outputs": [],
   "source": [
    "a_string = \"_this_string_will_be_intern_since_it_is_valid_identifier\"\n",
    "b_string = \"_this_string_will_be_intern_since_it_is_valid_identifier\"\n",
    "\n",
    "print(a_string == b_string)\n",
    "print(a_string is b_string)"
   ]
  },
  {
   "cell_type": "code",
   "execution_count": null,
   "id": "d6db6b15",
   "metadata": {},
   "outputs": [],
   "source": [
    "a_string = \"Generally this is not interned, but we can intern it using sys.intern\"\n",
    "b_string = \"Generally this is not interned, but we can intern it using sys.intern\"\n",
    "\n",
    "print(a_string == b_string)\n",
    "print(a_string is b_string)\n",
    "\n",
    "a_string = sys.intern(\"Generally this is not interned, but we can intern it using sys.intern\")\n",
    "b_string = sys.intern(\"Generally this is not interned, but we can intern it using sys.intern\")\n",
    "\n",
    "print(a_string == b_string)\n",
    "print(a_string is b_string)"
   ]
  },
  {
   "cell_type": "markdown",
   "id": "6625b9e8",
   "metadata": {},
   "source": [
    "#### Peephole\n",
    "\n",
    "[From Wikipedia](https://en.wikipedia.org/wiki/Peephole_optimization)\n",
    "\n",
    "> Peephole optimization is an optimization technique performed on a small set of compiler-generated instructions; the small set is known as the peephole or window."
   ]
  },
  {
   "cell_type": "code",
   "execution_count": null,
   "id": "c03a5b04",
   "metadata": {},
   "outputs": [],
   "source": [
    "c = compile(\"24 * 60\", '<string>', 'eval')\n",
    "print(c.co_consts)"
   ]
  },
  {
   "cell_type": "code",
   "execution_count": null,
   "id": "e34bfdb7",
   "metadata": {},
   "outputs": [],
   "source": [
    "c = compile(\"(1, 2) * 5\", '<string>', 'eval')\n",
    "print(c.co_consts)"
   ]
  },
  {
   "cell_type": "code",
   "execution_count": null,
   "id": "0dfadd57",
   "metadata": {},
   "outputs": [],
   "source": [
    "c = compile(\"\\\"xyz\\\" * 4\", '<string>', 'eval')\n",
    "print(c.co_consts)"
   ]
  },
  {
   "cell_type": "code",
   "execution_count": null,
   "id": "5299ffe6",
   "metadata": {},
   "outputs": [],
   "source": [
    "def a_func():\n",
    "    a_int = 24 * 60\n",
    "    # short length sequence <= 20\n",
    "    a_tuple = (1, 2) * 5  \n",
    "    a_string = \"xyz\" * 4\n",
    "\n",
    "a_func.__code__.co_consts"
   ]
  },
  {
   "cell_type": "markdown",
   "id": "34d93bea-f283-466e-9855-cb4c43212ded",
   "metadata": {},
   "source": [
    "### Best practice"
   ]
  },
  {
   "cell_type": "markdown",
   "id": "1143c1be-07d9-48c7-9949-478a5af565f9",
   "metadata": {},
   "source": [
    "Use `del` to delete reference when a object is not required anymore"
   ]
  },
  {
   "cell_type": "markdown",
   "id": "f8001c69-c9e0-4c6a-bf24-da8a8c37327b",
   "metadata": {},
   "source": [
    "Use `__slot__` to save on memory."
   ]
  },
  {
   "cell_type": "code",
   "execution_count": null,
   "id": "d278a4df-6b8f-43de-8129-8209c83e3b78",
   "metadata": {},
   "outputs": [],
   "source": [
    "import sys\n",
    "\n",
    "\n",
    "class C:\n",
    "    def __init__(self, x, y):\n",
    "        self.x = x\n",
    "        self.y = y\n",
    "\n",
    "c = C(1, \"Hello World\")"
   ]
  },
  {
   "cell_type": "code",
   "execution_count": null,
   "id": "8cbda138-6c2a-4c97-9243-399c2853bb78",
   "metadata": {},
   "outputs": [],
   "source": [
    "\"__dict__\" in dir(c)"
   ]
  },
  {
   "cell_type": "code",
   "execution_count": null,
   "id": "fac50baa-34d7-4c49-a213-05eb8307a2dc",
   "metadata": {},
   "outputs": [],
   "source": [
    "c.__dict__"
   ]
  },
  {
   "cell_type": "code",
   "execution_count": null,
   "id": "44368f0c-dc3b-4e64-b6fd-b6f975c2ea37",
   "metadata": {},
   "outputs": [],
   "source": [
    "help(sys.getsizeof)"
   ]
  },
  {
   "cell_type": "code",
   "execution_count": null,
   "id": "29a042cd-059f-41ce-95e7-b1f037ebc892",
   "metadata": {},
   "outputs": [],
   "source": [
    "sys.getsizeof(c) + sys.getsizeof(c.__dict__)"
   ]
  },
  {
   "cell_type": "code",
   "execution_count": null,
   "id": "13e09a19-2c3c-45ac-b7e3-a0a54cf8d6c6",
   "metadata": {},
   "outputs": [],
   "source": [
    "class C:\n",
    "    __slots__ = (\"x\", \"y\")\n",
    "    def __init__(self, x, y):\n",
    "        self.x = x\n",
    "        self.y = y\n",
    "\n",
    "c = C(1, \"Hello World\")"
   ]
  },
  {
   "cell_type": "code",
   "execution_count": null,
   "id": "7fad78d5-3794-4478-a991-351f676928da",
   "metadata": {},
   "outputs": [],
   "source": [
    "\"__dict__\" in dir(c)"
   ]
  },
  {
   "cell_type": "code",
   "execution_count": null,
   "id": "e021eb52-36c0-4cf4-8c3a-cc971c1c7bc6",
   "metadata": {},
   "outputs": [],
   "source": [
    "sys.getsizeof(c)"
   ]
  }
 ],
 "metadata": {
  "kernelspec": {
   "display_name": "Python 3 (ipykernel)",
   "language": "python",
   "name": "python3"
  },
  "language_info": {
   "codemirror_mode": {
    "name": "ipython",
    "version": 3
   },
   "file_extension": ".py",
   "mimetype": "text/x-python",
   "name": "python",
   "nbconvert_exporter": "python",
   "pygments_lexer": "ipython3",
   "version": "3.8.8"
  }
 },
 "nbformat": 4,
 "nbformat_minor": 5
}
