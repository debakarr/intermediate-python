{
 "cells": [
  {
   "cell_type": "markdown",
   "id": "e9b04f58-70a7-45fb-bf98-0ce9cfb10278",
   "metadata": {},
   "source": [
    "\\[<< [Debugging in Python](./13_debugging.ipynb) | [Index](./00_index.ipynb) | [Python Toolkit for Production](./15_python_toolkit.ipynb) >>\\]\n"
   ]
  },
  {
   "cell_type": "markdown",
   "id": "fb5724a7-990a-4836-97dc-24c952601726",
   "metadata": {},
   "source": [
    "**NOTE**: This notebook will not work in WebAssembly."
   ]
  },
  {
   "cell_type": "markdown",
   "id": "68755484-2b43-4f19-9962-3c9fed1b1ed1",
   "metadata": {},
   "source": [
    "1. The `python -m site` command is used to display information about Python's site-specific directories and configuration. These site-specific directories are where third-party packages, modules, and various configuration files are stored. When you run the `python -m site` command, it provides details about the locations that Python searches for modules and other resources, which can be helpful for understanding your Python environment."
   ]
  },
  {
   "cell_type": "code",
   "execution_count": 1,
   "id": "83f54fa9-d481-4c2b-944c-b6ced5592e59",
   "metadata": {},
   "outputs": [
    {
     "name": "stdout",
     "output_type": "stream",
     "text": [
      "sys.path = [\n",
      "    'C:\\\\Source\\\\intermediate-python\\\\content',\n",
      "    'C:\\\\Python311\\\\python311.zip',\n",
      "    'C:\\\\Python311\\\\DLLs',\n",
      "    'C:\\\\Python311\\\\Lib',\n",
      "    'C:\\\\Python311',\n",
      "    'C:\\\\Source\\\\intermediate-python\\\\.venv',\n",
      "    'C:\\\\Source\\\\intermediate-python\\\\.venv\\\\Lib\\\\site-packages',\n",
      "    'C:\\\\Source\\\\intermediate-python\\\\.venv\\\\Lib\\\\site-packages\\\\win32',\n",
      "    'C:\\\\Source\\\\intermediate-python\\\\.venv\\\\Lib\\\\site-packages\\\\win32\\\\lib',\n",
      "    'C:\\\\Source\\\\intermediate-python\\\\.venv\\\\Lib\\\\site-packages\\\\Pythonwin',\n",
      "]\n",
      "USER_BASE: 'C:\\\\Users\\\\debakarr\\\\AppData\\\\Roaming\\\\Python' (exists)\n",
      "USER_SITE: 'C:\\\\Users\\\\debakarr\\\\AppData\\\\Roaming\\\\Python\\\\Python311\\\\site-packages' (doesn't exist)\n",
      "ENABLE_USER_SITE: False\n"
     ]
    }
   ],
   "source": [
    "!python -m site"
   ]
  },
  {
   "cell_type": "markdown",
   "id": "e34d931a-4115-42ff-9731-ca853a77778c",
   "metadata": {},
   "source": [
    "---\n",
    "\n",
    "2. The `python -m calendar` command is used to display a textual calendar for a specific month or an entire year. When you run `python -m calendar`, it opens an interactive interface in the terminal that allows you to navigate through different months and years, displaying their corresponding calendars. This can be useful for quickly checking dates and planning events without leaving your terminal."
   ]
  },
  {
   "cell_type": "code",
   "execution_count": null,
   "id": "1b92fad7-ed47-4432-bcf8-0bbf3af21ed1",
   "metadata": {},
   "outputs": [],
   "source": [
    "!python -m calendar"
   ]
  },
  {
   "cell_type": "code",
   "execution_count": null,
   "id": "ac53bf91-33b8-4121-aa9b-9cb868f02369",
   "metadata": {},
   "outputs": [],
   "source": [
    "!python -m calendar 2023 8"
   ]
  },
  {
   "cell_type": "markdown",
   "id": "3347d298-c773-455b-bdae-7db3b1a26a7d",
   "metadata": {},
   "source": [
    "---\n",
    "\n",
    "3. The `python -m http.server` command is used to start a simple HTTP server in your current working directory. This server allows you to serve files and directories over the HTTP protocol, making it useful for various purposes like sharing files, serving web content locally for testing, and more. It's a convenient way to quickly share files or test web-related tasks without setting up a full-fledged web server."
   ]
  },
  {
   "cell_type": "markdown",
   "id": "14a1c76a-9670-4e8a-8293-9c3a1cea3c93",
   "metadata": {},
   "source": [
    "---\n",
    "\n",
    "4. The `python3.11 -m base64` command is used to interact with the Python base64 module through the command line. The base64 module provides functions to encode and decode binary data using the base64 encoding scheme, which is commonly used to represent binary data as ASCII text."
   ]
  },
  {
   "cell_type": "code",
   "execution_count": null,
   "id": "001dc585-6a6f-49ac-ab23-60aa08ba3573",
   "metadata": {},
   "outputs": [],
   "source": [
    "!echo SGVsbG8gV29ybGQh | python -m base64 -d"
   ]
  },
  {
   "cell_type": "markdown",
   "id": "efc767b3-05ab-48b9-91cc-c98d9259c15e",
   "metadata": {},
   "source": [
    "---\n",
    "5. The `python -m asyncio` command is used to run Python's asynchronous programming framework called asyncio in an interactive mode.\n",
    "\n",
    "```python\n",
    "$ python\n",
    ">>> import asyncio\n",
    ">>> async def hello():\n",
    "...     await asyncio.sleep(1)\n",
    "...     print(\"Hello\")\n",
    "...\n",
    ">>> await hello()\n",
    "  File \"<stdin>\", line 1\n",
    "SyntaxError: 'await' outside function\n",
    "```\n",
    "\n",
    "Use `python -m asyncio`\n",
    "\n",
    "```python\n",
    "$ python -m asyncio\n",
    ">>> import asyncio\n",
    ">>> async def hello():\n",
    "...     await asyncio.sleep(1)\n",
    "...     print(\"Hello\")\n",
    "...\n",
    ">>> await hello()\n",
    "```"
   ]
  },
  {
   "cell_type": "markdown",
   "id": "7a363fce-14aa-4ae3-b0ca-37d753b25557",
   "metadata": {},
   "source": [
    "---\n",
    "\n",
    "6. The `python -m tokenize` command is used to tokenize Python source code. Tokenization is the process of breaking down the source code into individual elements, called tokens, which are the smallest units of syntax in the Python language. Each token represents a keyword, identifier, operator, literal value, or other language construct.\n",
    "\n",
    "When you run `python -m tokenize`, it opens an interactive mode in the terminal where you can input Python code, and the tokenizer will process that code and display the resulting tokens."
   ]
  },
  {
   "cell_type": "code",
   "execution_count": null,
   "id": "22b4277d-47c1-43a4-ab02-2261e55e3b5d",
   "metadata": {},
   "outputs": [],
   "source": [
    "!echo print(1 + 2) | python -m tokenize"
   ]
  },
  {
   "cell_type": "markdown",
   "id": "54a8af39-95c2-497b-a696-075b1a593316",
   "metadata": {},
   "source": [
    "---\n",
    "7. Starting from Python 3.9, the `python -m ast` command is used to interact with the Abstract Syntax Tree (AST) module in Python. The Abstract Syntax Tree is a hierarchical representation of the structure of Python code, and it's commonly used for analyzing and manipulating code at a higher level than simple text manipulation.\n",
    "\n",
    "The `ast` module provides functions and classes to work with the AST, allowing you to programmatically analyze, modify, or generate Python code. By using the `python -m ast` command, you can access the module's interactive mode to experiment with AST-related tasks."
   ]
  },
  {
   "cell_type": "code",
   "execution_count": null,
   "id": "c9d24319-c870-426c-9248-7a037ddd56b5",
   "metadata": {},
   "outputs": [],
   "source": [
    "!echo print(1 + 2) | python -m ast"
   ]
  },
  {
   "cell_type": "markdown",
   "id": "dffe6f1d-2eca-494b-a58a-3c5790e7488a",
   "metadata": {},
   "source": [
    "---\n",
    "8. The `python -m json.tool` command is used to format and validate JSON data from the command line using Python's built-in `json` module. It's a convenient way to quickly validate and prettify JSON data without writing any custom code."
   ]
  },
  {
   "cell_type": "code",
   "execution_count": null,
   "id": "4c15b110-f207-4c33-bd39-a3653ee25445",
   "metadata": {},
   "outputs": [],
   "source": [
    "!echo {\"a\": \"A\", \"b\": \"B\", \"foo\": \"bar\"} | python -m json.tool"
   ]
  },
  {
   "cell_type": "markdown",
   "id": "41fc5a0c-9c86-4587-ae7a-238dc890dfa4",
   "metadata": {},
   "source": [
    "## Other notable command line tools in Python standard library\n",
    "\n",
    "1. **doctest**: The `doctest` module is used for running tests embedded in your docstrings. It allows you to write example code in docstrings and then automatically test and verify that the code works as expected. You can use `python -m doctest` to run these tests.\n",
    "\n",
    "2. **timeit**: The `timeit` module measures the execution time of small code snippets. You can use `python -m timeit` to run time benchmarks on short code snippets.\n",
    "\n",
    "3. **compileall**: The `compileall` module compiles Python source files in a directory into bytecode files. This can be useful for optimizing code loading time. You can use `python -m compileall` followed by a directory to compile all `.py` files in that directory.\n",
    "\n",
    "4. **pydoc**: The `pydoc` module generates documentation for Python modules. You can use `python -m pydoc` followed by a module name to generate documentation for that module.\n",
    "\n",
    "5. **cProfile**: The `cProfile` module is used for profiling Python code to measure the time spent in different functions. You can use `python -m cProfile` followed by a script name to profile that script.\n",
    "\n",
    "6. **venv**: The `venv` module is used for creating isolated Python environments (virtual environments). You can use `python -m venv` followed by a directory name to create a virtual environment.\n",
    "\n",
    "7. **runpy**: The `runpy` module allows you to run Python programs using various modes, such as running as a script, importing a module, or executing code from a file.\n",
    "\n",
    "8. **zipapp**: The `zipapp` module is used to create executable zip files containing Python code. This can be useful for distributing standalone Python applications.\n",
    "\n",
    "9. **py_compile**: The `py_compile` module is used to compile Python source files into bytecode without executing them. You can use `python -m py_compile` followed by a `.py` file to compile it into a `.pyc` bytecode file.\n",
    "\n",
    "10. **pyclbr**: The `pyclbr` module (Python Class Browser) is used to analyze Python source files and extract information about classes defined in those files. You can use `python -m pyclbr` followed by a `.py` file to see a list of classes and their locations.\n",
    "\n",
    "11. **pdb**: We discussed the Python Debugger (`pdb`) before. You can also use it as a standalone script debugger by running `python -m pdb script.py`.\n",
    "\n",
    "12. **unittest**: Python's `unittest` module provides a testing framework. You can use `python -m unittest discover` to discover and run test cases in your project.\n",
    "\n",
    "13. **pickletools**: The `pickletools` module is used to disassemble and analyze the contents of pickle files, which are used for serializing Python objects."
   ]
  },
  {
   "cell_type": "markdown",
   "id": "4c7be06c-cc20-477a-8072-0a21ad055a3b",
   "metadata": {},
   "source": [
    "\\[<< [Debugging in Python](./13_debugging.ipynb) | [Index](./00_index.ipynb) | [Python Toolkit for Production](./15_python_toolkit.ipynb) >>\\]\n"
   ]
  }
 ],
 "metadata": {
  "kernelspec": {
   "display_name": "Python 3 (ipykernel)",
   "language": "python",
   "name": "python3"
  },
  "language_info": {
   "codemirror_mode": {
    "name": "ipython",
    "version": 3
   },
   "file_extension": ".py",
   "mimetype": "text/x-python",
   "name": "python",
   "nbconvert_exporter": "python",
   "pygments_lexer": "ipython3",
   "version": "3.11.4"
  }
 },
 "nbformat": 4,
 "nbformat_minor": 5
}
