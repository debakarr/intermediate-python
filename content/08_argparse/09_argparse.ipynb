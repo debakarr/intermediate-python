{
 "cells": [
  {
   "cell_type": "markdown",
   "metadata": {},
   "source": [
    "# argparse"
   ]
  },
  {
   "cell_type": "markdown",
   "metadata": {},
   "source": [
    "`argparse` is a Python module that provides a flexible and powerful way to parse command-line arguments and options. It simplifies the process of building robust and user-friendly command-line interfaces for Python scripts. With `argparse`, you can define the command-line arguments your script expects, specify their types, add help messages, and handle user input effortlessly.\n",
    "\n",
    "**Basic Overview:**\n",
    "\n",
    "To use `argparse`, you need to create an instance of the `ArgumentParser` class. This class allows you to define the arguments and options that your script accepts. You can add positional arguments, optional arguments, flags, and even subcommands.\n",
    "\n",
    "**Positional Arguments:**\n",
    "\n",
    "Positional arguments are values passed to the script without specifying their names. They are usually required and must be provided in the order they are defined. For example:\n",
    "\n",
    "```python\n",
    "import argparse\n",
    "\n",
    "parser = argparse.ArgumentParser()\n",
    "parser.add_argument('filename', type=str, help='Name of the input file')\n",
    "args = parser.parse_args()\n",
    "\n",
    "print(args.filename)\n",
    "```\n",
    "\n",
    "In this example, the script expects the user to provide a filename as a positional argument when running the script. The `type=str` argument specifies that the value should be interpreted as a string.\n",
    "\n",
    "**Optional Arguments:**\n",
    "\n",
    "Optional arguments, also known as flags or options, are values passed with a prefix, typically starting with `-` or `--`. They are not required and have default values if not provided. For example:\n",
    "\n",
    "```python\n",
    "import argparse\n",
    "\n",
    "parser = argparse.ArgumentParser()\n",
    "parser.add_argument('--verbose', action='store_true', help='Enable verbose mode')\n",
    "args = parser.parse_args()\n",
    "\n",
    "if args.verbose:\n",
    "    print('Verbose mode enabled.')\n",
    "```\n",
    "\n",
    "In this example, the script can be run with `--verbose` to enable the verbose mode. If not provided, `args.verbose` will be `False`.\n",
    "\n",
    "**Subcommands:**\n",
    "\n",
    "`argparse` also allows you to define subcommands, creating a more structured command-line interface. Subcommands are like separate mini-scripts, each with its own set of arguments. For example:\n",
    "\n",
    "```python\n",
    "import argparse\n",
    "\n",
    "parser = argparse.ArgumentParser()\n",
    "subparsers = parser.add_subparsers(title='Subcommands', dest='command')\n",
    "\n",
    "# Subcommand: run\n",
    "run_parser = subparsers.add_parser('run', help='Run the program')\n",
    "run_parser.add_argument('input_file', type=str, help='Path to the input file')\n",
    "\n",
    "# Subcommand: version\n",
    "version_parser = subparsers.add_parser('version', help='Show the version')\n",
    "args = parser.parse_args()\n",
    "\n",
    "if args.command == 'run':\n",
    "    print('Running the program with input file:', args.input_file)\n",
    "elif args.command == 'version':\n",
    "    print('Version 1.0')\n",
    "```\n",
    "\n",
    "In this example, the script can be run with `run` or `version` as subcommands, each with its own set of arguments."
   ]
  },
  {
   "cell_type": "markdown",
   "metadata": {},
   "source": [
    "## Positional argument\n",
    "\n",
    "```python\n",
    "# vm_cli.py\n",
    "import argparse\n",
    "import pprint\n",
    "\n",
    "\n",
    "def main(argv = None):\n",
    "    parser = argparse.ArgumentParser()\n",
    "    \n",
    "    # positional\n",
    "    parser.add_argument(\"vm_name\", help=\"Name of virtual machine to be created\")\n",
    "    # help (can be accessed by --help)\n",
    "    \n",
    "    args = parser.parse_args(argv)\n",
    "    \n",
    "    pprint.pprint(vars(args))\n",
    "    return 0\n",
    "    \n",
    "\n",
    "if __name__ == \"__main__\":\n",
    "    exit(main())\n",
    "```"
   ]
  },
  {
   "cell_type": "code",
   "execution_count": 4,
   "metadata": {},
   "outputs": [
    {
     "name": "stdout",
     "output_type": "stream",
     "text": [
      "usage: vm_cli.py [-h] vm_name\n",
      "\n",
      "positional arguments:\n",
      "  vm_name     Name of virtual machine to be created\n",
      "\n",
      "optional arguments:\n",
      "  -h, --help  show this help message and exit\n"
     ]
    }
   ],
   "source": [
    "!python vm_cli.py --help"
   ]
  },
  {
   "cell_type": "code",
   "execution_count": 5,
   "metadata": {},
   "outputs": [
    {
     "name": "stdout",
     "output_type": "stream",
     "text": [
      "{'vm_name': 'vm1'}\n"
     ]
    }
   ],
   "source": [
    "!python vm_cli.py vm1"
   ]
  },
  {
   "cell_type": "markdown",
   "metadata": {},
   "source": [
    "## Optional arguments\n",
    "\n",
    "```python\n",
    "# vm_cli.py\n",
    "import argparse\n",
    "import pprint\n",
    "\n",
    "\n",
    "def main(argv = None):\n",
    "    parser = argparse.ArgumentParser()\n",
    "    \n",
    "    # positional\n",
    "    parser.add_argument(\"vm_name\", help=\"Name of virtual machine to be created\")\n",
    "    # help (can be accessed by --help)\n",
    "    # optional (short vs long)\n",
    "    # optional with default and types\n",
    "    # type check\n",
    "    parser.add_argument(\"-c\", \"--cpu\", type=int, default=4, help=\"Number of cpu to use. Default to %(default)s cores\")\n",
    "    parser.add_argument(\"-m\", \"--memory\", type=int, default=8, help=\"Amount of memory to use in GB. Default to %(default)s GB\")\n",
    "    \n",
    "    args = parser.parse_args(argv)\n",
    "    \n",
    "    pprint.pprint(vars(args))\n",
    "    return 0\n",
    "    \n",
    "\n",
    "if __name__ == \"__main__\":\n",
    "    exit(main())\n",
    "```"
   ]
  },
  {
   "cell_type": "code",
   "execution_count": 6,
   "metadata": {},
   "outputs": [
    {
     "name": "stdout",
     "output_type": "stream",
     "text": [
      "usage: vm_cli.py [-h] [-c CPU] [-m MEMORY] vm_name\n",
      "\n",
      "positional arguments:\n",
      "  vm_name               Name of virtual machine to be created\n",
      "\n",
      "optional arguments:\n",
      "  -h, --help            show this help message and exit\n",
      "  -c CPU, --cpu CPU     Number of cpu to use. Default to 4 cores\n",
      "  -m MEMORY, --memory MEMORY\n",
      "                        Amount of memory to use in GB. Default to 8 GB\n"
     ]
    }
   ],
   "source": [
    "!python vm_cli.py --help"
   ]
  },
  {
   "cell_type": "code",
   "execution_count": 8,
   "metadata": {},
   "outputs": [
    {
     "name": "stdout",
     "output_type": "stream",
     "text": [
      "{'cpu': 4, 'memory': 8, 'vm_name': 'vm1'}\n"
     ]
    }
   ],
   "source": [
    "!python vm_cli.py vm1"
   ]
  },
  {
   "cell_type": "code",
   "execution_count": 7,
   "metadata": {},
   "outputs": [
    {
     "name": "stdout",
     "output_type": "stream",
     "text": [
      "{'cpu': 32, 'memory': 256, 'vm_name': 'vm1'}\n"
     ]
    }
   ],
   "source": [
    "!python vm_cli.py vm1 -c 32 -m 256"
   ]
  },
  {
   "cell_type": "code",
   "execution_count": 13,
   "metadata": {},
   "outputs": [
    {
     "name": "stdout",
     "output_type": "stream",
     "text": [
      "usage: vm_cli.py [-h] [-c CPU] [-m MEMORY] vm_name\n",
      "vm_cli.py: error: argument -c/--cpu: invalid int value: 'x'\n"
     ]
    }
   ],
   "source": [
    "!python vm_cli.py vm1 -c x -m 256"
   ]
  },
  {
   "cell_type": "markdown",
   "metadata": {},
   "source": [
    "## count, flag, append, choice\n",
    "\n",
    "```python\n",
    "# vm_cli.py\n",
    "import argparse\n",
    "import pprint\n",
    "\n",
    "\n",
    "def main(argv = None):\n",
    "    parser = argparse.ArgumentParser()\n",
    "    \n",
    "    # positional\n",
    "    parser.add_argument(\"vm_name\", help=\"Name of virtual machine to be created\")\n",
    "    # help (can be accessed by --help)\n",
    "    # optional (short vs long)\n",
    "    # optional with default and types\n",
    "    # type check\n",
    "    parser.add_argument(\"-c\", \"--cpu\", type=int, default=4, help=\"Number of cpu to use. Default to %(default)s cores\")\n",
    "    parser.add_argument(\"-m\", \"--memory\", type=int, default=8, help=\"Amount of memory to use in GB. Default to %(default)s GB\")\n",
    "    \n",
    "    # count\n",
    "    parser.add_argument(\"-v\", \"--verbose\", action=\"count\", default=0, help=\"Amount of verbosity in log.\")\n",
    "    \n",
    "    # flag or boolean\n",
    "    parser.add_argument(\"-f\", \"--force\", action=\"store_true\", help=\"Force creation without confirmation.\")\n",
    "    \n",
    "    # append\n",
    "    parser.add_argument(\"-t\", \"--tags\", action=\"append\", default=[], help=\"Tags for the VM (can be specified multiple times).\")\n",
    "    \n",
    "    # choice\n",
    "    parser.add_argument(\"--vm-type\", choices=['linux', 'windows'], required=True, help=\"Type of VM (linux or windows).\")\n",
    "    \n",
    "    args = parser.parse_args(argv)\n",
    "    \n",
    "    pprint.pprint(vars(args))\n",
    "    return 0\n",
    "    \n",
    "\n",
    "if __name__ == \"__main__\":\n",
    "    exit(main())\n",
    "```"
   ]
  },
  {
   "cell_type": "code",
   "execution_count": 16,
   "metadata": {},
   "outputs": [
    {
     "name": "stdout",
     "output_type": "stream",
     "text": [
      "{'cpu': 4,\n",
      " 'force': False,\n",
      " 'memory': 8,\n",
      " 'tags': [],\n",
      " 'verbose': 0,\n",
      " 'vm_name': 'vm1',\n",
      " 'vm_type': 'windows'}\n"
     ]
    }
   ],
   "source": [
    "!python vm_cli.py vm1 --vm-type windows"
   ]
  },
  {
   "cell_type": "code",
   "execution_count": 17,
   "metadata": {},
   "outputs": [
    {
     "name": "stdout",
     "output_type": "stream",
     "text": [
      "usage: vm_cli.py [-h] [-c CPU] [-m MEMORY] [-v] [-f] [-t TAGS] --vm-type\n",
      "                 {linux,windows}\n",
      "                 vm_name\n",
      "vm_cli.py: error: argument --vm-type: invalid choice: 'osx' (choose from 'linux', 'windows')\n"
     ]
    }
   ],
   "source": [
    "!python vm_cli.py vm1 --vm-type osx"
   ]
  },
  {
   "cell_type": "code",
   "execution_count": 18,
   "metadata": {},
   "outputs": [
    {
     "name": "stdout",
     "output_type": "stream",
     "text": [
      "{'cpu': 4,\n",
      " 'force': False,\n",
      " 'memory': 8,\n",
      " 'tags': [],\n",
      " 'verbose': 1,\n",
      " 'vm_name': 'vm1',\n",
      " 'vm_type': 'windows'}\n"
     ]
    }
   ],
   "source": [
    "!python vm_cli.py vm1 --vm-type windows -v"
   ]
  },
  {
   "cell_type": "code",
   "execution_count": 19,
   "metadata": {},
   "outputs": [
    {
     "name": "stdout",
     "output_type": "stream",
     "text": [
      "{'cpu': 4,\n",
      " 'force': False,\n",
      " 'memory': 8,\n",
      " 'tags': [],\n",
      " 'verbose': 3,\n",
      " 'vm_name': 'vm1',\n",
      " 'vm_type': 'windows'}\n"
     ]
    }
   ],
   "source": [
    "!python vm_cli.py vm1 --vm-type windows -vvv"
   ]
  },
  {
   "cell_type": "code",
   "execution_count": 20,
   "metadata": {},
   "outputs": [
    {
     "name": "stdout",
     "output_type": "stream",
     "text": [
      "{'cpu': 4,\n",
      " 'force': True,\n",
      " 'memory': 8,\n",
      " 'tags': [],\n",
      " 'verbose': 0,\n",
      " 'vm_name': 'vm1',\n",
      " 'vm_type': 'windows'}\n"
     ]
    }
   ],
   "source": [
    "!python vm_cli.py vm1 --vm-type windows -f"
   ]
  },
  {
   "cell_type": "code",
   "execution_count": 22,
   "metadata": {},
   "outputs": [
    {
     "name": "stdout",
     "output_type": "stream",
     "text": [
      "{'cpu': 4,\n",
      " 'force': False,\n",
      " 'memory': 8,\n",
      " 'tags': ['automation', 'windows', 'gen13'],\n",
      " 'verbose': 0,\n",
      " 'vm_name': 'vm1',\n",
      " 'vm_type': 'windows'}\n"
     ]
    }
   ],
   "source": [
    "!python vm_cli.py vm1 --vm-type windows -t automation -t windows -t gen13"
   ]
  },
  {
   "cell_type": "markdown",
   "metadata": {},
   "source": [
    "## subcommand\n",
    "\n",
    "```python\n",
    "# git_cli.py\n",
    "import argparse\n",
    "import pprint\n",
    "\n",
    "\n",
    "def main(argv = None):\n",
    "    parser = argparse.ArgumentParser()\n",
    "    \n",
    "    # subcommand\n",
    "    subparsers = parser.add_subparsers(dest=\"cmd\", required=True)\n",
    "    \n",
    "    add_parser = subparsers.add_parser(\"add\", help=\"git-add - Add file contents to the index\")\n",
    "    add_parser.add_argument(\"path\", help=\"Files or directory to add to add content from\")\n",
    "    \n",
    "    commit_parser = subparsers.add_parser(\"commit\", help=\"git-commit - Record changes to the repository\")\n",
    "    commit_parser.add_argument(\"-a\", \"--all\", action=\"store_true\", help=\"Tell the command to automatically stage files that have been modified and deleted, but new files you have not told Git about are not affected.\")\n",
    "    commit_parser.add_argument(\"-m\", \"--message\", help=\"Use the given <msg> as the commit message. If multiple -m options are given, their values are concatenated as separate paragraphs.\")\n",
    "    \n",
    "    args = parser.parse_args(argv)\n",
    "    \n",
    "    pprint.pprint(vars(args))\n",
    "    return 0\n",
    "    \n",
    "\n",
    "if __name__ == \"__main__\":\n",
    "    exit(main())\n",
    "```"
   ]
  },
  {
   "cell_type": "code",
   "execution_count": 23,
   "metadata": {},
   "outputs": [
    {
     "name": "stdout",
     "output_type": "stream",
     "text": [
      "usage: git_cli.py [-h] {add,commit} ...\n",
      "\n",
      "positional arguments:\n",
      "  {add,commit}\n",
      "    add         git-add - Add file contents to the index\n",
      "    commit      git-commit - Record changes to the repository\n",
      "\n",
      "optional arguments:\n",
      "  -h, --help    show this help message and exit\n"
     ]
    }
   ],
   "source": [
    "!python git_cli.py --help"
   ]
  },
  {
   "cell_type": "code",
   "execution_count": 24,
   "metadata": {},
   "outputs": [
    {
     "name": "stdout",
     "output_type": "stream",
     "text": [
      "usage: git_cli.py add [-h] path\n",
      "\n",
      "positional arguments:\n",
      "  path        Files or directory to add to add content from\n",
      "\n",
      "optional arguments:\n",
      "  -h, --help  show this help message and exit\n"
     ]
    }
   ],
   "source": [
    "!python git_cli.py add --help"
   ]
  },
  {
   "cell_type": "code",
   "execution_count": 25,
   "metadata": {},
   "outputs": [
    {
     "name": "stdout",
     "output_type": "stream",
     "text": [
      "usage: git_cli.py commit [-h] [-a] [-m MESSAGE]\n",
      "\n",
      "optional arguments:\n",
      "  -h, --help            show this help message and exit\n",
      "  -a, --all             Tell the command to automatically stage files that\n",
      "                        have been modified and deleted, but new files you have\n",
      "                        not told Git about are not affected.\n",
      "  -m MESSAGE, --message MESSAGE\n",
      "                        Use the given <msg> as the commit message. If multiple\n",
      "                        -m options are given, their values are concatenated as\n",
      "                        separate paragraphs.\n"
     ]
    }
   ],
   "source": [
    "!python git_cli.py commit --help"
   ]
  },
  {
   "cell_type": "code",
   "execution_count": 26,
   "metadata": {},
   "outputs": [
    {
     "name": "stdout",
     "output_type": "stream",
     "text": [
      "{'cmd': 'add', 'path': '/path1'}\n"
     ]
    }
   ],
   "source": [
    "!python git_cli.py add /path1"
   ]
  },
  {
   "cell_type": "code",
   "execution_count": 29,
   "metadata": {},
   "outputs": [
    {
     "name": "stdout",
     "output_type": "stream",
     "text": [
      "{'all': False, 'cmd': 'commit', 'message': 'Some message'}\n"
     ]
    }
   ],
   "source": [
    "!python git_cli.py commit -m \"Some message\""
   ]
  },
  {
   "cell_type": "code",
   "execution_count": 30,
   "metadata": {},
   "outputs": [
    {
     "name": "stdout",
     "output_type": "stream",
     "text": [
      "{'all': True, 'cmd': 'commit', 'message': 'Some message'}\n"
     ]
    }
   ],
   "source": [
    "!python git_cli.py commit -a -m \"Some message\""
   ]
  }
 ],
 "metadata": {
  "kernelspec": {
   "display_name": "Python 3 (ipykernel)",
   "language": "python",
   "name": "python3"
  },
  "language_info": {
   "codemirror_mode": {
    "name": "ipython",
    "version": 3
   },
   "file_extension": ".py",
   "mimetype": "text/x-python",
   "name": "python",
   "nbconvert_exporter": "python",
   "pygments_lexer": "ipython3",
   "version": "3.8.8"
  }
 },
 "nbformat": 4,
 "nbformat_minor": 4
}
