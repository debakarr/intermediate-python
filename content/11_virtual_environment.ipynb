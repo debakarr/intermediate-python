{
 "cells": [
  {
   "cell_type": "markdown",
   "id": "6c706cb8-6b0f-4d9f-9383-d86c8ff8daf7",
   "metadata": {},
   "source": [
    "\\[<< [Multithreading and Multiprocessing](./10_concurrency.ipynb) | [Index](./00_index.ipynb) | [Packaging](./12_packaging.ipynb) >>\\]\n"
   ]
  },
  {
   "cell_type": "markdown",
   "id": "ac6a06b9-5f25-43af-8a92-14fe0e7c4cb4",
   "metadata": {},
   "source": [
    "# Virtual Environment"
   ]
  },
  {
   "cell_type": "markdown",
   "id": "d62805fa-4ba5-4f9b-b965-90f6a1036d24",
   "metadata": {},
   "source": [
    "## Introduction\n",
    "\n",
    "Python is a versatile and powerful programming language widely used in various domains, from web development to data science. However, managing dependencies and packages for different projects can become cumbersome without a proper system. Enter Python Virtual Environments! A virtual environment creates an isolated environment for each project, allowing you to manage dependencies independently, ensuring project-specific packages and versions. In this article, we will explore the benefits of virtual environments and how to set them up on different operating systems."
   ]
  },
  {
   "cell_type": "markdown",
   "id": "79eb85cc-1a44-40e6-90eb-5bc95f285153",
   "metadata": {},
   "source": [
    "## What is a Python Virtual Environment?\n",
    "\n",
    "A Python virtual environment is an isolated workspace that allows you to create a self-contained environment for a specific project. It helps avoid conflicts between dependencies and ensures each project can have its unique set of packages."
   ]
  },
  {
   "cell_type": "markdown",
   "id": "0f13bdc0-6592-4033-a8f6-f066b9abb44e",
   "metadata": {},
   "source": [
    "## Why Use Virtual Environments?\n",
    "\n",
    "Using virtual environments offers several advantages:\n",
    "\n",
    "- **Dependency Isolation:** Projects can have different dependencies and package versions without conflicts.\n",
    "- **Version Compatibility:** Avoid compatibility issues when multiple projects require different package versions.\n",
    "- **Easy Cleanup:** You can simply delete the virtual environment folder to clean up dependencies."
   ]
  },
  {
   "cell_type": "markdown",
   "id": "bcf60118-e57d-43f4-9040-d15341e90b08",
   "metadata": {},
   "source": [
    "## Setting Up Virtual Environment\n",
    "\n",
    "Setting up a virtual environment involves creating a separate directory with its own Python interpreter and package manager.\n",
    "\n",
    "### Windows\n",
    "\n",
    "To create a virtual environment on Windows, follow these steps:\n",
    "\n",
    "| Command Prompt                                          |\n",
    "|--------------------------------------------------------|\n",
    "| `C:\\Users\\Username> python -m venv myenv`              |\n",
    "| `C:\\Users\\Username\\myenv> myenv\\Scripts\\activate.bat`        |\n",
    "\n",
    "### macOS\n",
    "\n",
    "On macOS, use the following commands:\n",
    "\n",
    "| Terminal                                               |\n",
    "|--------------------------------------------------------|\n",
    "| `$ python3 -m venv myenv`                             |\n",
    "| `$ source myenv/bin/activate`                         |\n",
    "\n",
    "### Linux\n",
    "\n",
    "For Linux, the commands are similar to macOS:\n",
    "\n",
    "| Terminal                                               |\n",
    "|--------------------------------------------------------|\n",
    "| `$ python3 -m venv myenv`                             |\n",
    "| `$ source myenv/bin/activate`                         |"
   ]
  },
  {
   "cell_type": "markdown",
   "id": "9639428d-0181-4529-8093-1b19f8a43e64",
   "metadata": {},
   "source": [
    "![](./static/virtual_env.png)"
   ]
  },
  {
   "cell_type": "markdown",
   "id": "81b7dd9f-a03c-49af-8327-c3eb17ed3efc",
   "metadata": {},
   "source": [
    "## Working with Virtual Environments\n",
    "\n",
    "Once activated, your terminal or command prompt will show the virtual environment's name. You can now install project-specific packages without affecting other projects."
   ]
  },
  {
   "cell_type": "markdown",
   "id": "66ad317f-5fe8-48af-91e0-db03e5862017",
   "metadata": {},
   "source": [
    "## Managing Dependencies\n",
    "\n",
    "You can use `pip` to install, upgrade, and remove packages within the virtual environment.\n",
    "\n",
    "| Command                   | Description                            | Example                               |\n",
    "| ------------------------- | -------------------------------------- | ------------------------------------- |\n",
    "| `pip install <package>`   | Install a package                      | ![](./static/virtual_env_pip.png)     |\n",
    "| `pip freeze`              | List installed packages and versions   | ![](./static/listing_package_pip.png) |\n",
    "| `pip uninstall <package>` | Remove a package                       |                                       |\n",
    "| `pip show <package>`      | More information on particular package | ![](./static/pip_show.png)            |"
   ]
  },
  {
   "cell_type": "markdown",
   "id": "a31df651-99fa-4b86-a3d4-c075fc49b312",
   "metadata": {},
   "source": [
    "## Deactivating Virtual Environments\n",
    "\n",
    "To deactivate the virtual environment:\n",
    "\n",
    "| Command                 |\n",
    "|-------------------------|\n",
    "| `deactivate`            |"
   ]
  },
  {
   "cell_type": "markdown",
   "id": "03ab8cc6-67db-45e2-bf8d-ec6906bb0a23",
   "metadata": {
    "tags": []
   },
   "source": [
    "## Best Practices\n",
    "\n",
    "- Always use virtual environments for Python projects. Some linux distro have some of the python packages part of the OS and if that get changed then it might break the OS.\n",
    "![](./static/virtual_env_linux.png)\n",
    "- Use `requirements.txt` to list project dependencies for easy replication.\n",
    "- Regularly update your Python interpreter and `pip`.\n",
    "- In case you want to distribute your whole build along with virtual environment to some other machine, use tool like [virtualenv-tools](https://github.com/Yelp/virtualenv-tools)."
   ]
  },
  {
   "cell_type": "markdown",
   "id": "8fd7ae78-840f-4389-9801-ce54cf13d921",
   "metadata": {},
   "source": [
    "## Good to know\n",
    "\n",
    "- If you are in a virtual environment, then an additional environment variable is set called `VIRTUAL_ENV`.\n",
    "![](./static/virtual_env_environ.png)\n"
   ]
  },
  {
   "cell_type": "markdown",
   "id": "50c0765a-28f4-43d4-92ea-cc211e0f8805",
   "metadata": {},
   "source": [
    "\\[<< [Multithreading and Multiprocessing](./10_concurrency.ipynb) | [Index](./00_index.ipynb) | [Packaging](./12_packaging.ipynb) >>\\]\n"
   ]
  }
 ],
 "metadata": {
  "kernelspec": {
   "display_name": "Python 3 (ipykernel)",
   "language": "python",
   "name": "python3"
  },
  "language_info": {
   "codemirror_mode": {
    "name": "ipython",
    "version": 3
   },
   "file_extension": ".py",
   "mimetype": "text/x-python",
   "name": "python",
   "nbconvert_exporter": "python",
   "pygments_lexer": "ipython3",
   "version": "3.11.4"
  }
 },
 "nbformat": 4,
 "nbformat_minor": 5
}
