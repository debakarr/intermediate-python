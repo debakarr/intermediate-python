{
 "cells": [
  {
   "cell_type": "markdown",
   "id": "3f25ab98",
   "metadata": {
    "slideshow": {
     "slide_type": "slide"
    }
   },
   "source": [
    "# Basic Overview"
   ]
  },
  {
   "cell_type": "markdown",
   "id": "86bf0dcc-9c3f-4212-aed1-500aaced2e71",
   "metadata": {
    "slideshow": {
     "slide_type": "slide"
    },
    "tags": []
   },
   "source": [
    "## Identifier\n",
    "\n",
    "🐍 [Offical Docs](https://docs.python.org/3/reference/lexical_analysis.html)"
   ]
  },
  {
   "cell_type": "markdown",
   "id": "f2b7c55d-847e-47d0-b142-69cff9b2594c",
   "metadata": {
    "slideshow": {
     "slide_type": "fragment"
    },
    "tags": []
   },
   "source": [
    "| Aspect             | Description                                                                      | Example                    |\n",
    "| ------------------ | -------------------------------------------------------------------------------- | -------------------------- |\n",
    "| Naming Rules       | - Letters (a-z, A-Z), digits (0-9), and underscores (_) allowed.                 | `variable_1 = 10`<br>`myVar = \"Hello\"`<br>`X = [1, 2, 3]` |\n",
    "|                    | - Cannot start with a digit.                                                     | `1variable = \"Invalid\"` (invalid) |\n",
    "| Case Sensitivity   | Identifiers are case-sensitive.                                                  | `count = 5`<br>`Count = 10`<br>`print(count)  # Output: 5`<br>`print(Count)  # Output: 10` |\n",
    "| Reserved Keywords  | Certain words are reserved and cannot be used as identifiers.                    | `if = 5` (invalid)<br>`def = 10` (invalid) |\n",
    "| Descriptive Names  | Use meaningful names to improve code readability.                                | `total_sales = 1000`<br>`user_age = 30`<br>`email_address = \"example@example.com\"` |\n",
    "| Data Types         | Python is dynamically typed; data type determined at runtime.                    | `x = 10` (integer)<br>`name = \"John\"` (string) |\n",
    "| Reassignment       | Variables can be reassigned to different data types.                             | `x = 10`<br>`x = \"hello\"` |\n",
    "| Constants          | **Convention**: UPPERCASE for non-changing values.                               | `PI = 3.14`<br>`MAX_SIZE = 100` |\n",
    "| PEP 8              | Follow PEP 8 style guide for coding standards, including naming conventions.     | Correctly indenting code,<br>using whitespace properly,<br>etc. |"
   ]
  },
  {
   "cell_type": "markdown",
   "id": "6cf7b081",
   "metadata": {
    "slideshow": {
     "slide_type": "slide"
    },
    "tags": []
   },
   "source": [
    "### PEP\n",
    "\n",
    "![image.png](https://peps.python.org/_images/process_flow.svg)\n",
    "\n",
    "💡[What's in Python](https://nedbatchelder.com/text/which-py.html)\n",
    "\n",
    "#### PEP 8\n",
    "\n",
    "🐍 [Offical Docs](https://peps.python.org/pep-0008/)"
   ]
  },
  {
   "cell_type": "markdown",
   "id": "b4b18692",
   "metadata": {
    "slideshow": {
     "slide_type": "fragment"
    },
    "tags": []
   },
   "source": [
    "| Topic       | PEP8 Naming Convention   | Examples                 | Underscore Preference           |\n",
    "|-------------|-------------------------|--------------------------|---------------------------------|\n",
    "| Packages    | All lowercase           | `my_package`             | No underscores                  |\n",
    "| Modules     | Short, lowercase        | `my_module`              | No underscores                  |\n",
    "| Classes     | PascalCase               | `MyClass`                | No underscores                  |\n",
    "| Functions   | Lowercase with underscores | `my_function`          | Yes, for multiple words         |\n",
    "| Variables   | Lowercase with underscores | `my_variable`          | Yes, for multiple words         |\n",
    "| Constants   | Uppercase with underscores | `MY_CONSTANT`          | Yes, for multiple words         |"
   ]
  },
  {
   "cell_type": "markdown",
   "id": "737cb66b-559e-4327-a197-c70128a73fb9",
   "metadata": {
    "slideshow": {
     "slide_type": "slide"
    },
    "tags": []
   },
   "source": [
    "## Strings\n",
    "\n",
    "🐍 [Official Docs](https://docs.python.org/3/library/string.html)"
   ]
  },
  {
   "cell_type": "markdown",
   "id": "a7425f48-9af3-4a35-a542-1746c7ab0fd1",
   "metadata": {
    "slideshow": {
     "slide_type": "fragment"
    },
    "tags": []
   },
   "source": [
    "|   Aspect              | Description                                                                                           |   Example                              |\n",
    "|:-------------------:|:---------------------------------------------------------------------------------------------------:|-----------------------------------|\n",
    "| Type                       | A sequence of characters representing text or Unicode data.                            |   `'Hello, World!'`                 |\n",
    "| Enclosing             | Strings can be enclosed in single quotes (' '), double quotes (\" \"), or triple quotes (''' ''' or \"\"\" \"\"\"). |   `\"Python is awesome!\"`         |\n",
    "| Immutability        | Strings are immutable, meaning their values cannot be changed after creation.      |   `text = \"Hello\"`<br>`text[0] = 'h'` will raise an error. |\n",
    "| Length                   | The length of a string is the number of characters it contains.                              |   `len(\"apple\")` returns 5.       |\n",
    "| Indexing                 | Individual characters can be accessed using indexing. Index starts at 0.                 |   `fruit = \"apple\"`<br>`first_char = fruit[0]` assigns `'a'` to `first_char`. |\n",
    "| Slicing                   | Substrings can be extracted using slicing. Slicing returns a new string.                |   `fruit = \"apple\"`<br>`substring = fruit[1:4]` assigns `'ppl'` to `substring`. |\n",
    "| Concatenation     | Strings can be concatenated (joined) using the `+` operator.                              |   `greeting = \"Hello\"`<br>`name = \"John\"`<br>`message = greeting + \", \" + name` assigns `'Hello, John'` to `message`. |\n",
    "| Escape Sequences | Special characters can be represented using escape sequences, prefixed with a backslash (`\\`). |   `text = \"She said, \\\"Hello!\\\"\"` |\n",
    "| Raw Strings          | Prefixing a string with `r` treats it as a raw string, ignoring escape sequences.   |   `path = r\"C:\\Users\\John\\Documents\"` |\n"
   ]
  },
  {
   "cell_type": "markdown",
   "id": "c5a4574e-3cb4-4f8d-8225-7ae69407d69b",
   "metadata": {
    "slideshow": {
     "slide_type": "subslide"
    },
    "tags": []
   },
   "source": [
    "### String methods\n",
    "\n",
    "| Method                  | Description                                                                                      | Example                                       |\n",
    "|------------------------|--------------------------------------------------------------------------------------------------|-----------------------------------------------|\n",
    "| `capitalize()`          | Capitalizes the first character of the string.                                                  | `text = \"hello, world!\"`<br>`result = text.capitalize()`<br>`# Output: \"Hello, world!\"`            |\n",
    "| `upper()`               | Converts all characters in the string to uppercase.                                              | `text = \"hello, world!\"`<br>`result = text.upper()`<br>`# Output: \"HELLO, WORLD!\"`                 |\n",
    "| `lower()`               | Converts all characters in the string to lowercase.                                              | `text = \"Hello, World!\"`<br>`result = text.lower()`<br>`# Output: \"hello, world!\"`                 |\n",
    "| `swapcase()`            | Swaps the case of each character in the string.                                                  | `text = \"Hello, World!\"`<br>`result = text.swapcase()`<br>`# Output: \"hELLO, wORLD!\"`              |\n",
    "| `title()`               | Converts the first character of each word to uppercase and the rest to lowercase.               | `text = \"hello, world!\"`<br>`result = text.title()`<br>`# Output: \"Hello, World!\"`                 |\n",
    "| `center(width)`         | Centers the string within a given width by adding spaces on both sides.                          | `text = \"Hello\"`<br>`result = text.center(20)`<br>`# Output: \"       Hello        \"`              |\n",
    "| `ljust(width)`          | Left-justifies the string within a given width by adding spaces on the right side.               | `text = \"Hello\"`<br>`result = text.ljust(20)`<br>`# Output: \"Hello               \"`              |\n",
    "| `rjust(width)`          | Right-justifies the string within a given width by adding spaces on the left side.               | `text = \"Hello\"`<br>`result = text.rjust(20)`<br>`# Output: \"               Hello\"`              |\n",
    "| `count(substring)`     | Counts the occurrences of a `substring` in the string.                                           | `text = \"Hello, Hello, World!\"`<br>`result = text.count(\"Hello\")`<br>`# Output: 2`                 |\n",
    "| `startswith(prefix)`   | Checks if the string starts with a given `prefix`.                                               | `text = \"Hello, World!\"`<br>`result = text.startswith(\"Hello\")`<br>`# Output: True`                |\n",
    "| `endswith(suffix)`     | Checks if the string ends with a given `suffix`.                                                 | `text = \"Hello, World!\"`<br>`result = text.endswith(\"World!\")`<br>`# Output: True`                 |\n",
    "| `find(substring)`      | Returns the index of the first occurrence of `substring`. Returns -1 if not found.              | `text = \"Hello, World!\"`<br>`result = text.find(\"World\")`<br>`# Output: 7`                         |\n",
    "| `index(substring)`     | Returns the index of the first occurrence of `substring`. Raises a ValueError if not found.     | `text = \"Hello, World!\"`<br>`result = text.index(\"World\")`<br>`# Output: 7`                        |\n",
    "| `split(sep)`           | Splits the string into a list of substrings using the specified `sep` as the delimiter.         | `text = \"apple,banana,orange\"`<br>`result = text.split(\",\")`<br>`# Output: ['apple', 'banana', 'orange']` |"
   ]
  },
  {
   "cell_type": "markdown",
   "id": "35fe5aa6-1203-462d-b512-a33597e914af",
   "metadata": {
    "slideshow": {
     "slide_type": "subslide"
    },
    "tags": []
   },
   "source": [
    "| Method                  | Description                                                                                      | Example                                       |\n",
    "|------------------------|--------------------------------------------------------------------------------------------------|-----------------------------------------------|\n",
    "| `join(iterable)`       | Joins the elements of an iterable (e.g., list, tuple) into a string using the string as a separator. | `fruits = ['apple', 'banana', 'orange']`<br>`result = ','.join(fruits)`<br>`# Output: 'apple,banana,orange'` |\n",
    "| `isalpha()`            | Checks if all characters in the string are alphabetic (letters).                                | `text = \"Hello\"`<br>`result = text.isalpha()`<br>`# Output: True`                                  |\n",
    "| `isdigit()`            | Checks if all characters in the string are digits.                                              | `number = \"42\"`<br>`result = number.isdigit()`<br>`# Output: True`                                |\n",
    "| `isalnum()`            | Checks if all characters in the string are alphanumeric (letters or digits).                    | `text = \"Hello42\"`<br>`result = text.isalnum()`<br>`# Output: True`                                |\n",
    "| `isspace()`            | Checks if all characters in the string are whitespace characters.                               | `text = \"    \"`<br>`result = text.isspace()`<br>`# Output: True`                                  |\n",
    "| `casefold()`       | Return a casefolded copy of the string. (Suitable for case-insensitive comparisons)                | `text = \"Hello, World!\"`<br>`result = text.casefold()`<br>`# Output: \"hello, world!\"` |\n",
    "| `zfill(width)`          | Pads the string with zeros on the left to achieve a given width.                                 | `number = \"42\"`<br>`result = number.zfill(5)`<br>`# Output: \"00042\"`                               |\n",
    "| `strip()`              | Removes leading and trailing whitespace characters from the string.                               | `text = \"   Hello, World!   \"`<br>`result = text.strip()`<br>`# Output: \"Hello, World!\"`           |\n",
    "| `lstrip()`             | Removes leading whitespace characters from the string.                                           | `text = \"   Hello, World!   \"`<br>`result = text.lstrip()`<br>`# Output: \"Hello, World!   \"`       |\n",
    "| `rstrip()`             | Removes trailing whitespace characters from the string.                                          | `text = \"   Hello, World!   \"`<br>`result = text.rstrip()`<br>`# Output: \"   Hello, World!\"`       |\n",
    "| `replace(old, new)`    | Replaces occurrences of the `old` substring with the `new` substring.                           | `text = \"Hello, John!\"`<br>`result = text.replace(\"John\", \"Alice\")`<br>`# Output: \"Hello, Alice!\"` |"
   ]
  },
  {
   "cell_type": "markdown",
   "id": "93ea70ab",
   "metadata": {
    "slideshow": {
     "slide_type": "slide"
    },
    "tags": []
   },
   "source": [
    "### String formatting\n",
    "\n",
    "🐍 [Official Docs](https://docs.python.org/3/tutorial/inputoutput.html)"
   ]
  },
  {
   "cell_type": "code",
   "execution_count": null,
   "id": "cdd4be4d",
   "metadata": {
    "slideshow": {
     "slide_type": "fragment"
    },
    "tags": []
   },
   "outputs": [],
   "source": [
    "name = \"Debakar\"\n",
    "memory_address =  6747387283"
   ]
  },
  {
   "cell_type": "markdown",
   "id": "0d6c8a79",
   "metadata": {
    "slideshow": {
     "slide_type": "fragment"
    },
    "tags": []
   },
   "source": [
    "#### Old style"
   ]
  },
  {
   "cell_type": "code",
   "execution_count": null,
   "id": "efd3cac4",
   "metadata": {
    "slideshow": {
     "slide_type": "fragment"
    },
    "tags": []
   },
   "outputs": [],
   "source": [
    "'Hey %s, check the memory address 0x%x for hint!' % (name, memory_address)"
   ]
  },
  {
   "cell_type": "code",
   "execution_count": null,
   "id": "8eb9f0e2",
   "metadata": {
    "slideshow": {
     "slide_type": "fragment"
    },
    "tags": []
   },
   "outputs": [],
   "source": [
    "'Hey %(name)s, check the memory address 0x%(memory_address)x for hint!' % {\"name\": name, \"memory_address\": memory_address}"
   ]
  },
  {
   "cell_type": "markdown",
   "id": "df7cb793",
   "metadata": {
    "slideshow": {
     "slide_type": "subslide"
    },
    "tags": []
   },
   "source": [
    "#### New style"
   ]
  },
  {
   "cell_type": "code",
   "execution_count": null,
   "id": "0a2155f5",
   "metadata": {
    "slideshow": {
     "slide_type": "fragment"
    },
    "tags": []
   },
   "outputs": [],
   "source": [
    "'Hey {}, check the memory address 0x{:x} for hint!'.format(name, memory_address)"
   ]
  },
  {
   "cell_type": "code",
   "execution_count": null,
   "id": "3781256f",
   "metadata": {
    "slideshow": {
     "slide_type": "fragment"
    },
    "tags": []
   },
   "outputs": [],
   "source": [
    "'Hey {name}, check the memory address 0x{memory_address} for hint!'.format(name=name, memory_address=memory_address)"
   ]
  },
  {
   "cell_type": "markdown",
   "id": "95eb0863",
   "metadata": {
    "slideshow": {
     "slide_type": "subslide"
    },
    "tags": []
   },
   "source": [
    "#### String Interpolationm (f-string) (>= Python 3.6)\n",
    "\n",
    "**NOTE**: [Don't use f-string while using logger](https://google.github.io/styleguide/pyguide.html#3101-logging)"
   ]
  },
  {
   "cell_type": "code",
   "execution_count": null,
   "id": "33036211",
   "metadata": {
    "slideshow": {
     "slide_type": "fragment"
    },
    "tags": []
   },
   "outputs": [],
   "source": [
    "f'Hey {name}, check the memory address 0x{memory_address:x} for hint!'"
   ]
  },
  {
   "cell_type": "code",
   "execution_count": null,
   "id": "5a584b31",
   "metadata": {
    "slideshow": {
     "slide_type": "fragment"
    },
    "tags": []
   },
   "outputs": [],
   "source": [
    "f\"{name = }, {memory_address = }\""
   ]
  },
  {
   "cell_type": "code",
   "execution_count": null,
   "id": "62ee237b",
   "metadata": {
    "slideshow": {
     "slide_type": "fragment"
    },
    "tags": []
   },
   "outputs": [],
   "source": [
    "f\"{2 + 2 = }\""
   ]
  },
  {
   "cell_type": "code",
   "execution_count": null,
   "id": "81bdcc8d",
   "metadata": {
    "slideshow": {
     "slide_type": "fragment"
    },
    "tags": []
   },
   "outputs": [],
   "source": [
    "f\"{dir() = }\""
   ]
  },
  {
   "cell_type": "markdown",
   "id": "4df349e7-db21-483f-8cdf-8739077d676c",
   "metadata": {
    "slideshow": {
     "slide_type": "subslide"
    },
    "tags": []
   },
   "source": [
    "## Numbers (Theory)\n",
    "\n",
    "🐍 [Official Docs](https://docs.python.org/3/library/stdtypes.html)\n",
    "\n",
    "\n",
    "|   Number Type   |   Symbol   |                           Examples                           |       Python Type       | Python Code Example                  |\n",
    "|---------------|----------|-----------------------------------------------------------|-----------------------|-----------------------------------|\n",
    "| Integer Number  |  $$\\mathbb{Z}$$  |  $$0, \\pm 1, \\pm 2, \\pm 3, \\ldots$$                   |          `int`          | `integer_number = 10`<br>`negative_integer = -5` |\n",
    "| Rational Number |  $$\\mathbb{Q}$$  | $p/q$ where $p \\in \\mathbb{Z}$ and $q \\neq 0$$   | `fractions.Fraction` | `from fractions import Fraction`<br>`rational_number = Fraction(3, 4)`<br>`another_rational = Fraction(5, 2)` |\n",
    "| Real Number         |  $$\\mathbb{R}$$  | $$0, -1, 0.25, \\frac{1}{3}, \\pi, \\ldots$$                          | `float`, `decimal.Decimal` | `real_number = 3.14`<br>`another_real = 0.25`<br>`from decimal import Decimal`<br>`decimal_number = Decimal(\"0.1\")` |\n",
    "| Complex Number  |  $$\\mathbb{C}$$  |    $$a+bi$$ where $$a, b \\in \\mathbb{R}$$                   |        `complex`        | `complex_number = 2 + 3j`<br>`another_complex = -1 + 2j` |\n",
    "|                    |    |    $$\\mathbb{Z} \\subseteq \\mathbb{Q} \\subseteq \\mathbb{R} \\subseteq \\mathbb{C}$$      |                        |                                       |"
   ]
  },
  {
   "cell_type": "markdown",
   "id": "de6d7a2e-9863-4d76-b7ad-a976e98039fb",
   "metadata": {
    "slideshow": {
     "slide_type": "subslide"
    },
    "tags": []
   },
   "source": [
    "## Boolean\n",
    "\n",
    "🐍 [Official Docs](https://docs.python.org/3/library/stdtypes.html)\n",
    "\n",
    "\n",
    "|   Aspect      | Description                                                                                                           | Example                              |\n",
    "|:------------:|-----------------------------------------------------------------------------------------------------------------------|--------------------------------------|\n",
    "| Type          | Represents one of two values: `True` or `False`.                                                                    | `is_raining = True`                  |\n",
    "| Values        | `True` represents a true condition or a positive state. `False` represents a false condition or a negative state.   | `has_permission = False`             |\n",
    "| Comparison   | Booleans are often the result of comparison operations (e.g., `==`, `!=`, `<`, `>`, `<=`, `>=`).                    | `x = 10`<br>`y = 5`<br>`is_greater = x > y` (is_greater will be `True`) |\n",
    "| Logical      | Booleans are used in logical operations: `and`, `or`, and `not`.                                                      | `is_sunny = True`<br>`is_weekend = False`<br>`is_outdoor_activity = is_sunny and not is_weekend` (is_outdoor_activity will be `True`) |\n",
    "| Truthy and Falsy | In Python, certain values are treated as `True` or `False` in a boolean context. Non-zero numbers and non-empty objects are considered truthy, while zero, `None`, and empty objects are considered falsy. | `number = 42`<br>`is_truthy = bool(number)` (is_truthy will be `True`) |\n"
   ]
  },
  {
   "cell_type": "markdown",
   "id": "8d90167b-67c7-4eb4-a0d1-9cfffe429282",
   "metadata": {
    "slideshow": {
     "slide_type": "subslide"
    },
    "tags": []
   },
   "source": [
    "## Comments\n",
    "\n",
    "🐍 [Official Docs](https://docs.python.org/3/tutorial/introduction.html)\n",
    "\n",
    "\n",
    "<table>\n",
    "  <tr>\n",
    "    <th>Aspect</th>\n",
    "    <th>Description</th>\n",
    "    <th>Example</th>\n",
    "  </tr>\n",
    "  <tr>\n",
    "    <td>Purpose</td>\n",
    "    <td>Comments in Python are used to provide explanatory notes or annotations within the code for developers or readers. They are helpful for explaining complex logic, documenting functions, or providing context to improve code readability.</td>\n",
    "    <td><pre># This is a comment.</pre></td>\n",
    "  </tr>\n",
    "  <tr>\n",
    "    <td>Syntax</td>\n",
    "    <td>A comment in Python starts with the <code>#</code> symbol and continues until the end of the line. It can be placed at the end of a line of code or on separate lines.</td>\n",
    "    <td><pre># This is a single-line comment.</pre></td>\n",
    "  </tr>\n",
    "  <tr>\n",
    "    <td>Single-Line Comments</td>\n",
    "    <td>Single-line comments are used for brief explanations or to disable code temporarily.</td>\n",
    "    <td><pre>\n",
    "# This is a single-line comment.\n",
    "    </pre></td>\n",
    "  </tr>\n",
    "  <tr>\n",
    "    <td>Multi-Line Comments</td>\n",
    "    <td>Multi-line comments are used for longer explanations or block comments.</td>\n",
    "    <td><pre>\n",
    "\"\"\"\n",
    "This is a multi-line comment.\n",
    "It can span multiple lines.\n",
    "\"\"\"</pre></td>\n",
    "  </tr>\n",
    "  <tr>\n",
    "    <td>Placement</td>\n",
    "    <td>Comments can be placed at the end of a line of code or on separate lines.</td>\n",
    "    <td><pre>\n",
    "x = 10  # This is a comment at the end of the line.\n",
    "</pre></td>\n",
    "  </tr>\n",
    "  <tr>\n",
    "    <td>Best Practices</td>\n",
    "    <td>Use comments to explain complex logic, document functions, or provide context to improve code readability.</td>\n",
    "    <td><pre>\n",
    "def calculate_total(a, b):\n",
    "    # This function calculates the sum of two numbers.\n",
    "ribute to maintainable and easy-to-understand code. ices contribute to maintainable and easy-to-understand code.\n",
    "tribute to maintainable and easy-to-understand code."
   ]
  },
  {
   "cell_type": "markdown",
   "id": "c9365e7f-df29-4c05-bbce-fe612dec55c8",
   "metadata": {
    "jp-MarkdownHeadingCollapsed": true,
    "slideshow": {
     "slide_type": "subslide"
    },
    "tags": []
   },
   "source": [
    "## Comparison Operators\n",
    "\n",
    "🐍 [Official Docs](https://docs.python.org/3/reference/expressions.html#comparisons)\n",
    "\n",
    "| Operator | Description                              | Example    | Result |\n",
    "|----------|------------------------------------------|------------|--------|\n",
    "| `==`     | Checks if two values are equal.         | `5 == 5`   | `True` |\n",
    "| `!=`     | Checks if two values are not equal.     | `5 != 3`   | `True` |\n",
    "| `<`      | Checks if the left operand is less than the right operand. | `3 < 5`    | `True` |\n",
    "| `>`      | Checks if the left operand is greater than the right operand. | `5 > 3`    | `True` |\n",
    "| `<=`     | Checks if the left operand is less than or equal to the right operand. | `3 <= 3`   | `True` |\n",
    "| `>=`     | Checks if the left operand is greater than or equal to the right operand. | `5 >= 3`   | `True` |\n"
   ]
  },
  {
   "cell_type": "markdown",
   "id": "ea31df40-379c-4ad6-92b9-fff910c01163",
   "metadata": {
    "slideshow": {
     "slide_type": "subslide"
    },
    "tags": []
   },
   "source": [
    "## Logical Operators\n",
    "\n",
    "| Operator    | Description                                                                                             | Example                    | Result |\n",
    "|-------------|---------------------------------------------------------------------------------------------------------|----------------------------|--------|\n",
    "| `and`       | Returns `True` if both operands are `True`; otherwise, it returns `False`.                             | `True and False`           | `False` |\n",
    "| `or`        | Returns `True` if at least one operand is `True`; otherwise, it returns `False`.                       | `True or False`            | `True` |\n",
    "| `not`       | Returns the negation of the operand's truth value. If the operand is `True`, `not` returns `False`, and vice versa. | `not True`                 | `False` |\n",
    "| Short-Circuit Evaluation | Python uses short-circuit evaluation for logical operators. If the result can be determined by evaluating only the left operand, the right operand is not evaluated. | `True or some_function()` | The right operand is not evaluated. |\n",
    "|             |                                                                                                         | `False or some_function()` | The right operand is evaluated. |\n"
   ]
  },
  {
   "cell_type": "markdown",
   "id": "51b5238e-a3fd-4658-ab09-792b7ef5f057",
   "metadata": {
    "slideshow": {
     "slide_type": "subslide"
    },
    "tags": []
   },
   "source": [
    "## if..elif..else\n",
    "\n",
    "🐍 [Official Docs](https://docs.python.org/3/tutorial/controlflow.html)\n",
    "\n",
    "\n",
    "<table>\n",
    "  <tr>\n",
    "    <th>Aspect</th>\n",
    "    <th>Description</th>\n",
    "    <th>Example</th>\n",
    "  </tr>\n",
    "  <tr>\n",
    "    <td>Purpose</td>\n",
    "    <td>The <code>if...else</code> statement is used to perform conditional execution of code based on the evaluation of a Boolean expression.</td>\n",
    "    <td><pre><code>if condition:\n",
    "    # code block to be executed if the condition is True\n",
    "else:\n",
    "    # code block to be executed if the condition is False</code></pre></td>\n",
    "  </tr>\n",
    "  <tr>\n",
    "    <td>Nested <code>if</code></td>\n",
    "    <td><code>if...else</code> statements can be nested inside each other to handle multiple conditions and code blocks.</td>\n",
    "    <td><pre><code>x = 10\n",
    "y = 5\n",
    "if x > y:\n",
    "    print(\"x is greater than y\")\n",
    "else:\n",
    "    if x == y:\n",
    "        print(\"x and y are equal\")\n",
    "    else:\n",
    "        print(\"x is smaller than y\")</code></pre></td>\n",
    "  </tr>\n",
    "  <tr>\n",
    "    <td><code>elif</code> (Else If)</td>\n",
    "    <td><code>elif</code> allows you to check multiple conditions one by one after the initial <code>if</code> condition.</td>\n",
    "    <td><pre><code>x = 10\n",
    "y = 5\n",
    "if x > y:\n",
    "    print(\"x is greater than y\")\n",
    "elif x == y:\n",
    "    print(\"x and y are equal\")\n",
    "else:\n",
    "    print(\"x is smaller than y\")</code></pre></td>\n",
    "  </tr>\n",
    "  <tr>\n",
    "    <td>Ternary <code>if</code></td>\n",
    "    <td>The <code>if...else</code> statement can be used in a compact form as a ternary operator to assign values based on a condition.</td>\n",
    "    <td><pre><code>x = 10\n",
    "y = 5\n",
    "result = \"x is greater than y\" if x > y else \"x is smaller than or equal to y\"\n",
    "print(result)</code></pre></td>\n",
    "  </tr>\n",
    "</table>"
   ]
  },
  {
   "cell_type": "markdown",
   "id": "067b1775-0c8e-4288-8782-44bce95ed94e",
   "metadata": {
    "slideshow": {
     "slide_type": "subslide"
    },
    "tags": []
   },
   "source": [
    "## Loops\n",
    "\n",
    "<table>\n",
    "  <tr>\n",
    "    <th>Statement</th>\n",
    "    <th>Description</th>\n",
    "    <th>Example</th>\n",
    "    <th>Output</th>\n",
    "  </tr>\n",
    "  <tr>\n",
    "    <td><code>for</code> Loop</td>\n",
    "    <td>Executes a block of code for each item in an iterable (e.g., list, tuple, string).</td>\n",
    "    <td><pre><code>fruits = [\"apple\", \"banana\", \"cherry\"]\n",
    "for fruit in fruits:\n",
    "    print(fruit)</code></pre></td>\n",
    "    <td>Output:<br><code>apple<br>banana<br>cherry</code></td>\n",
    "  </tr>\n",
    "  <tr>\n",
    "    <td><code>while</code> Loop</td>\n",
    "    <td>Executes a block of code as long as the specified condition is <code>True</code>.</td>\n",
    "    <td><pre><code>count = 0\n",
    "while count < 5:\n",
    "    print(\"Current count:\", count)\n",
    "    count += 1</code></pre></td>\n",
    "    <td>Output:<br><code>Current count: 0<br>Current count: 1<br>Current count: 2<br>Current count: 3<br>Current count: 4</code></td>\n",
    "  </tr>\n",
    "  <tr>\n",
    "    <td><code>break</code></td>\n",
    "    <td>Stops the execution of the loop prematurely, even if the loop condition is still true.</td>\n",
    "    <td><pre><code>for i in range(5):\n",
    "    if i == 3:\n",
    "        break\n",
    "    print(i)</code></pre></td>\n",
    "    <td>Output:<br><code>0<br>1<br>2</code></td>\n",
    "  </tr>\n",
    "  <tr>\n",
    "    <td><code>continue</code></td>\n",
    "    <td>Skips the rest of the loop body and continues with the next iteration.</td>\n",
    "    <td><pre><code>for i in range(5):\n",
    "    if i == 3:\n",
    "        continue\n",
    "    print(i)</code></pre></td>\n",
    "    <td>Output:<br><code>0<br>1<br>2<br>4</code></td>\n",
    "  </tr>\n",
    "  <tr>\n",
    "    <td><code>else</code></td>\n",
    "    <td>Executes a block of code when the <code>for</code> or <code>while</code> loop finishes without encountering a <code>break</code> statement.</td>\n",
    "    <td><pre><code>for i in range(5):\n",
    "    if i == 3:\n",
    "        break\n",
    "    print(i)\n",
    "else:\n",
    "    print(\"Loop finished without encountering a break statement.\")</code></pre></td>\n",
    "    <td>Output:<br><code>0<br>1<br>2</code></td>\n",
    "  </tr>\n",
    "  <tr>\n",
    "    <td><code>range</code></td>\n",
    "    <td>Generates a sequence of numbers within a specified range.</td>\n",
    "    <td><pre><code>for i in range(5):\n",
    "    print(i)</code></pre></td>\n",
    "    <td>Output:<br><code>0<br>1<br>2<br>3<br>4</code></td>\n",
    "  </tr>\n",
    "  <tr>\n",
    "    <td><code>range</code> with step</td>\n",
    "    <td>Generates a sequence of numbers within a specified range with a given step size.</td>\n",
    "    <td><pre><code>for i in range(1, 10, 2):\n",
    "    print(i)</code></pre></td>\n",
    "    <td>Output:<br><code>1<br>3<br>5<br>7<br>9</code></td>\n",
    "  </tr>\n",
    "  <tr>\n",
    "    <td><code>enumerate</code></td>\n",
    "    <td>Returns an enumerate object that produces tuples containing the index and the value of each element in an iterable.</td>\n",
    "    <td><pre><code>fruits = [\"apple\", \"banana\", \"cherry\"]\n",
    "for index, fruit in enumerate(fruits):\n",
    "    print(f\"Index: {index}, Fruit: {fruit}\")</code></pre></td>\n",
    "    <td>Output:<br><code>Index: 0, Fruit: apple<br>Index: 1, Fruit: banana<br>Index: 2, Fruit: cherry</code></td>\n",
    "  </tr>\n",
    "</table>"
   ]
  },
  {
   "cell_type": "markdown",
   "id": "51775361-8aa8-49e2-8a24-03eb1d0aac80",
   "metadata": {
    "slideshow": {
     "slide_type": "subslide"
    },
    "tags": []
   },
   "source": [
    "### Sequence, Set and Mapping\n",
    "\n",
    "🐍 [Official Docs](https://docs.python.org/3/tutorial/datastructures.html)\n",
    "\n",
    "\n",
    "| Data Structure      | Description                                        | Example                                             | Output                                  |\n",
    "|---------------------|----------------------------------------------------|-----------------------------------------------------|-----------------------------------------|\n",
    "| Sequence           | - Mutable Sequence (List)                         | `mutable_list = [1, 2, 3]`<br>`mutable_list.append(4)`<br>`print(mutable_list)`    | Output: `[1, 2, 3, 4]`                  |\n",
    "|                     | - Immutable Sequence (Tuple)                      | `immutable_tuple = (1, 2, 3)`<br>`print(immutable_tuple[0])`                    | Output: `1`                             |\n",
    "|                     | - Immutable Sequence (String)                     | `immutable_string = \"Hello\"`<br>`print(immutable_string[1])`                     | Output: `e`                             |\n",
    "| Set                 | - Mutable Set (Set)                               | `mutable_set = {1, 2, 3}`<br>`mutable_set.add(4)`<br>`print(mutable_set)`           | Output: `{1, 2, 3, 4}`                  |\n",
    "|                     | - Immutable Set (Frozen Set)                      | `immutable_set = frozenset({1, 2, 3})`<br>`print(immutable_set)`               | Output: `frozenset({1, 2, 3})`          |\n",
    "| Mapping             | - Dictionary                                      | `dictionary = {\"key1\": \"value1\", \"key2\": \"value2\"}`<br>`print(dictionary[\"key1\"])` | Output: `value1`                        |\n"
   ]
  },
  {
   "cell_type": "markdown",
   "id": "6ba0f1f6-83fe-4536-8461-6ea97fb93630",
   "metadata": {
    "slideshow": {
     "slide_type": "subslide"
    },
    "tags": []
   },
   "source": [
    "### List Operations\n",
    "\n",
    "| List Operation      | Description                                                      | Example                                       | Output                               |\n",
    "|---------------------|------------------------------------------------------------------|-----------------------------------------------|--------------------------------------|\n",
    "| Creating a List     | Create a new list with a collection of items.                    | `my_list = [1, 2, 3, 4, 5]`             | N/A                                  |\n",
    "| Accessing Elements  | Retrieve elements from a list using indexing.                    | `first_element = my_list[0]`<br>`third_element = my_list[2]`        | `first_element` is `1`<br>`third_element` is `3`   |\n",
    "| Slicing             | Extract a portion of the list using slicing notation.            | `sliced_list = my_list[1:4]`              | `sliced_list` is `[2, 3, 4]`        |\n",
    "| Appending           | Add an element to the end of the list.                           | `my_list = [1, 2, 3, 4, 5]`<br>`my_list.append(6)`                                                 | `my_list` becomes `[1, 2, 3, 4, 5, 6]`    |\n",
    "| Extending           | Extend the list by appending elements from another iterable.     | `my_list = [1, 2, 3, 4, 5]`<br>`other_list = [7, 8, 9]`<br>`my_list.extend(other_list)`            | `my_list` becomes `[1, 2, 3, 4, 5, 6, 7, 8, 9]` |\n",
    "| Inserting           | Insert an element at a specific position in the list.            | `my_list = [1, 2, 3, 4, 5]`<br>`my_list.insert(2, \"hello\")`                                        | `my_list` becomes `[1, 2, \"hello\", 3, 4, 5]` |\n",
    "| Removing            | Remove the first occurrence of a specific element.               | `my_list = [1, 2, 3, 4, 5]`<br>`my_list.remove(3)`                                                | `my_list` becomes `[1, 2, 4, 5]` |\n",
    "| Popping             | Remove and return an element from a specific index.              | `my_list = [1, 2, 3, 4, 5]`<br>`popped_element = my_list.pop(1)`                                  | `popped_element` is `2`<br>`my_list` becomes `[1, 3, 4, 5]` |\n",
    "| Clearing            | Remove all elements from the list.                               | `my_list = [1, 2, 3, 4, 5]`<br>`my_list.clear()`                                                  | `my_list` becomes `[]`         |\n",
    "| Counting            | Count the occurrences of a specific element in the list.          | `my_list = [1, 2, 3, 4, 5]`<br>`count = my_list.count(5)`                                         | `count` is `1`                 |\n",
    "| Index               | Find the index of the first occurrence of a specific element.     | `my_list = [1, 2, 3, 4, 5]`<br>`index = my_list.index(\"hello\")`                                   | `index` is `2`                 |\n",
    "| Reversing           | Reverse the order of elements in the list.                       | `my_list = [1, 2, 3, 4, 5]`<br>`my_list.reverse()`                                               | `my_list` becomes `[5, 4, 3, 2, 1]` |\n",
    "| Sorting             | Sort the list in ascending order.                                | `my_list = [1, 4, 5, 3, 2]`<br>`my_list.sort()`                                                  | `my_list` becomes `[1, 2, 3, 4, 5]` |"
   ]
  },
  {
   "cell_type": "markdown",
   "id": "3317c9cb-7d83-45f0-abab-3f8d3495032e",
   "metadata": {
    "slideshow": {
     "slide_type": "subslide"
    },
    "tags": []
   },
   "source": [
    "## Tuple Operations\n",
    "\n",
    "| Tuple Operation    | Description                                                                                      | Example                                 | Output                             |\n",
    "|--------------------|--------------------------------------------------------------------------------------------------|-----------------------------------------|------------------------------------|\n",
    "| Creating a Tuple   | Create a new tuple with a collection of items.                                                    | `my_tuple = (1, 2, 3, 4, 5)`           | N/A                                |\n",
    "| Accessing Elements | Retrieve elements from a tuple using indexing.                                                    | `first_element = my_tuple[0]`<br>`third_element = my_tuple[2]`   | `first_element` is `1`<br>`third_element` is `3` |\n",
    "| Slicing            | Extract a portion of the tuple using slicing notation.                                            | `sliced_tuple = my_tuple[1:4]`          | `sliced_tuple` is `(2, 3, 4)`      |\n",
    "| Concatenation      | Combine two tuples to create a new tuple.                                                         | `other_tuple = (6, 7, 8)`<br>`combined_tuple = my_tuple + other_tuple` | `combined_tuple` is `(1, 2, 3, 4, 5, 6, 7, 8)` |\n",
    "| Counting           | Count the occurrences of a specific element in the tuple.                                        | `count = my_tuple.count(5)`            | `count` is `1`                    |\n",
    "| Finding Index      | Find the index of the first occurrence of a specific element in the tuple.                      | `index = my_tuple.index(3)`            | `index` is `2`                    |"
   ]
  },
  {
   "cell_type": "markdown",
   "id": "33752258-752e-495a-bb08-217ae602ef36",
   "metadata": {
    "slideshow": {
     "slide_type": "subslide"
    },
    "tags": []
   },
   "source": [
    "## Set Operations\n",
    "\n",
    "| Set Operation          | Description                                                                                      | Example                                     | Output                             |\n",
    "|------------------------|--------------------------------------------------------------------------------------------------|---------------------------------------------|------------------------------------|\n",
    "| Creating a Set         | Create a new set with a collection of items.                                                      | `my_set = {1, 2, 3, 4, 5}`                  | N/A                                |\n",
    "| Adding Elements        | Add an element to the set.                                                                       | `my_set.add(6)`                             | N/A                                |\n",
    "| Removing Elements      | Remove an element from the set.                                                                  | `my_set.remove(3)`                          | N/A                                |\n",
    "| Discarding Elements    | Remove an element from the set if it exists, without raising an error if the element is not found. | `my_set.discard(3)`                         | N/A                                |\n",
    "| Clearing               | Remove all elements from the set.                                                                | `my_set.clear()`                            | N/A                                |\n",
    "| Set Operations         | Perform set operations like union, intersection, and difference between sets.                    | `set1 = {1, 2, 3}`<br>`set2 = {3, 4, 5}`<br>`union_set = set1 \\| set2`<br>`intersection_set = set1 & set2`<br>`difference_set = set1 - set2` | `union_set` is `{1, 2, 3, 4, 5}`<br>`intersection_set` is `{3}`<br>`difference_set` is `{1, 2}` |"
   ]
  },
  {
   "cell_type": "markdown",
   "id": "a0c7fc34-b2a3-4fc2-a9a5-b85137bb2374",
   "metadata": {
    "slideshow": {
     "slide_type": "subslide"
    },
    "tags": []
   },
   "source": [
    "## Dictionary Operations\n",
    "\n",
    "| Dictionary Operation   | Description                                                                                      | Example                                        | Output                              |\n",
    "|------------------------|--------------------------------------------------------------------------------------------------|------------------------------------------------|-------------------------------------|\n",
    "| Creating a Dictionary  | Create a new dictionary with key-value pairs.                                                     | `my_dict = {\"name\": \"John\", \"age\": 30}`        | N/A                                 |\n",
    "| Accessing Values       | Retrieve values from the dictionary using keys.                                                   | `name_value = my_dict[\"name\"]`<br>`age_value = my_dict[\"age\"]`   | `name_value` is `\"John\"`<br>`age_value` is `30`   |\n",
    "| Updating a Value       | Update the value associated with a key in the dictionary.                                         | `my_dict[\"age\"] = 31`                          | `my_dict` value for key `\"age\"` is now `31`  |\n",
    "| Adding a Key-Value Pair| Add a new key-value pair to the dictionary.                                                       | `my_dict[\"city\"] = \"New York\"`                 | `my_dict` now includes `{\"city\": \"New York\"}`  |\n",
    "| Removing a Key-Value Pair| Remove a key-value pair from the dictionary.                                                     | `del my_dict[\"age\"]`                          | `my_dict` no longer contains the key `\"age\"`   |\n",
    "| Checking Key Existence | Check if a key exists in the dictionary.                                                          | `is_name_present = \"name\" in my_dict`          | `is_name_present` is `True`       |\n",
    "| Dictionary Keys       | Retrieve all keys from the dictionary.                                                           | `keys = my_dict.keys()`                       | `keys` is `[\"name\", \"city\"]`     |\n",
    "| Dictionary Values     | Retrieve all values from the dictionary.                                                         | `values = my_dict.values()`                   | `values` is `[\"John\", \"New York\"]` |\n",
    "| Dictionary Items      | Retrieve all key-value pairs as tuples from the dictionary.                                      | `items = my_dict.items()`                     | `items` is `[(\"name\", \"John\"), (\"city\", \"New York\")]` |"
   ]
  },
  {
   "cell_type": "markdown",
   "id": "957633e6-7304-4be1-a77d-e568434a1fec",
   "metadata": {
    "jp-MarkdownHeadingCollapsed": true,
    "slideshow": {
     "slide_type": "subslide"
    },
    "tags": []
   },
   "source": [
    "## Functions\n",
    "\n",
    "🐍 [Official Docs](https://docs.python.org/3/howto/functional.html)\n",
    "\n",
    "\n",
    "<table>\n",
    "  <tr>\n",
    "    <th>Aspect</th>\n",
    "    <th>Description</th>\n",
    "    <th>Example</th>\n",
    "  </tr>\n",
    "  <tr>\n",
    "    <td>Definition</td>\n",
    "    <td>A Python function is a reusable and named block of code designed to perform specific tasks or return values.</td>\n",
    "    <td><pre><code>def greet(name):\n",
    "    print(f\"Hello, {name}!\")\n",
    "greet(\"Alice\")</code></pre></td>\n",
    "\n",
    "  </tr>\n",
    "  <tr>\n",
    "    <td>Parameters</td>\n",
    "    <td>A function can have zero or more parameters, and when defined, it requires the same number of arguments during invocation.</td>\n",
    "    <td><pre><code>def add(x, y):\n",
    "    return x + y\n",
    "result = add(3, 5)</code></pre></td>\n",
    "\n",
    "  </tr>\n",
    "  <tr>\n",
    "    <td>Return Value</td>\n",
    "    <td>Functions can execute tasks and produce results, facilitated by the <code>return</code> statement to yield values.</td>\n",
    "    <td><pre><code>def calculate_sum(numbers):\n",
    "    total = 0\n",
    "    for num in numbers:\n",
    "        total += num\n",
    "    return total\n",
    "nums = [1, 2, 3, 4, 5]\n",
    "result = calculate_sum(nums)</code></pre></td>\n",
    "\n",
    "  </tr>\n",
    "</table>"
   ]
  },
  {
   "cell_type": "markdown",
   "id": "d710b0a2-7b3d-4b2e-899d-6d9d8f92f779",
   "metadata": {
    "slideshow": {
     "slide_type": "subslide"
    },
    "tags": []
   },
   "source": [
    "## Classes\n",
    "\n",
    "🐍 [Official Docs](https://docs.python.org/3/tutorial/classes.html)\n",
    "\n",
    "\n",
    "| Concept                  | Description                                                                                                                | Example                                                                                                                            |\n",
    "|--------------------------|----------------------------------------------------------------------------------------------------------------------------|------------------------------------------------------------------------------------------------------------------------------------|\n",
    "| Class Definition         | Define a new class using the `class` keyword.                                                                             | `class MyClass:`<br>&nbsp;&nbsp;&nbsp;&nbsp;`def __init__(self, x):`<br>&nbsp;&nbsp;&nbsp;&nbsp;&nbsp;&nbsp;&nbsp;&nbsp;`self.x = x`<br> `def method(self):`<br>&nbsp;&nbsp;&nbsp;&nbsp;&nbsp;&nbsp;&nbsp;&nbsp;`return self.x * 2`                                          |\n",
    "| Creating Instances       | Create instances (objects) of a class by calling the class as if it were a function.                                     | `obj = MyClass(5)`                                                                                                                 |\n",
    "| Instance Variables       | Define instance variables to store data unique to each instance.                                                          | `class MyClass:`<br>&nbsp;&nbsp;&nbsp;&nbsp;`def __init__(self, x):`<br>&nbsp;&nbsp;&nbsp;&nbsp;&nbsp;&nbsp;&nbsp;&nbsp;`self.x = x`                                                            |\n",
    "| Instance Methods         | Define methods that operate on the instance and have access to instance variables using `self`.                          | `class MyClass:`<br>&nbsp;&nbsp;&nbsp;&nbsp;`def method(self):`<br>&nbsp;&nbsp;&nbsp;&nbsp;&nbsp;&nbsp;&nbsp;&nbsp;`return self.x * 2`                                                        |\n",
    "| Class Variables          | Define class variables that are shared among all instances of the class.                                                  | `class MyClass:`<br>&nbsp;&nbsp;&nbsp;&nbsp;`class_var = 0`                                                                    |\n",
    "| Class Methods (`@classmethod`)            | Define class methods using the `@classmethod` decorator.<br>These methods take the class as the first argument (usually named `cls`) instead of the instance (`self`). They are commonly used to create factory methods or perform operations that involve the class itself.                                                                 | `class MyClass:`<br>&nbsp;&nbsp;&nbsp;&nbsp;`class_var = 0`<br>&nbsp;&nbsp;&nbsp;&nbsp;`@classmethod`<br>&nbsp;&nbsp;&nbsp;&nbsp;`def class_method(cls):`<br>&nbsp;&nbsp;&nbsp;&nbsp;&nbsp;&nbsp;&nbsp;&nbsp;`return cls.class_var * 2`                                      |\n",
    "| Static Methods (`@staticmethod`)          | Define static methods using the `@staticmethod` decorator.<br>These methods are bound to the class and don't have access to the instance (`self`) or class (`cls`). They behave like regular functions but are included in the class's namespace for convenience.                                                               | `class MyClass:`<br>&nbsp;&nbsp;&nbsp;&nbsp;`@staticmethod`<br>&nbsp;&nbsp;&nbsp;&nbsp;`def static_method():`<br>&nbsp;&nbsp;&nbsp;&nbsp;&nbsp;&nbsp;&nbsp;&nbsp;`return \"This is a static method\"`                      |\n",
    "| Property Decorator       | Create a read-only property using the `@property` decorator.                                                              | `class MyClass:`<br>&nbsp;&nbsp;&nbsp;&nbsp;`def __init__(self, x):`<br>&nbsp;&nbsp;&nbsp;&nbsp;&nbsp;&nbsp;&nbsp;&nbsp;`self._x = x`<br>&nbsp;&nbsp;&nbsp;&nbsp;`@property`<br>&nbsp;&nbsp;&nbsp;&nbsp;`def x(self):`<br>&nbsp;&nbsp;&nbsp;&nbsp;&nbsp;&nbsp;&nbsp;&nbsp;`return self._x`        |\n",
    "| Property Setter Decorator| Create a setter for a property using the `@property.setter` decorator.                                                    | `class MyClass:`<br>&nbsp;&nbsp;&nbsp;&nbsp;`def __init__(self, x):`<br>&nbsp;&nbsp;&nbsp;&nbsp;&nbsp;&nbsp;&nbsp;&nbsp;`self._x = x`<br>&nbsp;&nbsp;&nbsp;&nbsp;`@property`<br>&nbsp;&nbsp;&nbsp;&nbsp;`def x(self):`<br>&nbsp;&nbsp;&nbsp;&nbsp;&nbsp;&nbsp;&nbsp;&nbsp;`return self._x`<br>&nbsp;&nbsp;&nbsp;&nbsp;`@x.setter`<br>&nbsp;&nbsp;&nbsp;&nbsp;`def x(self, value):`<br>&nbsp;&nbsp;&nbsp;&nbsp;&nbsp;&nbsp;&nbsp;&nbsp;`self._x = value`|\n"
   ]
  },
  {
   "cell_type": "markdown",
   "id": "e9fb5966-d468-43d9-8d2b-0d43cfac51a8",
   "metadata": {
    "jp-MarkdownHeadingCollapsed": true,
    "slideshow": {
     "slide_type": "subslide"
    },
    "tags": []
   },
   "source": [
    "## Singletons/Built-in Constants\n",
    "\n",
    "🐍 [Official Docs](https://docs.python.org/3/library/constants.html)\n",
    "\n",
    "\n",
    "| Singleton       | Description                                                                                                                                                                                              | Example                                                                                           |\n",
    "|-----------------|----------------------------------------------------------------------------------------------------------------------------------------------------------------------------------------------------------|---------------------------------------------------------------------------------------------------|\n",
    "| `None`          | Represents the absence of a value or a null value. It is a special constant in Python and is often used to indicate the absence of a meaningful value.                                                   | `def find_element(lst, target):`<br>&nbsp;&nbsp;&nbsp;&nbsp;`for elem in lst:`<br>&nbsp;&nbsp;&nbsp;&nbsp;&nbsp;&nbsp;&nbsp;&nbsp;`if elem == target:`<br>&nbsp;&nbsp;&nbsp;&nbsp;&nbsp;&nbsp;&nbsp;&nbsp;&nbsp;&nbsp;&nbsp;&nbsp;`return elem`<br>&nbsp;&nbsp;&nbsp;&nbsp;`return None`<br><br>`result = find_element([1, 2, 3], 4)`<br>`print(result)  # Output: None` |\n",
    "| `NotImplemented`| Represents a return value used by methods to indicate that the operation is not implemented or not applicable. It is often returned by special methods like comparison operators to indicate that the operation is not supported.  | `class MyClass:`<br>&nbsp;&nbsp;&nbsp;&nbsp;`def __eq__(self, other):`<br>&nbsp;&nbsp;&nbsp;&nbsp;&nbsp;&nbsp;&nbsp;&nbsp;`return NotImplemented`<br><br>`obj1 = MyClass()`<br>`obj2 = MyClass()`<br>`result = obj1 == obj2`<br>`print(result)  # Output: False` |\n",
    "| `Ellipsis` (`...`)| Represents a placeholder used in function definitions or as a marker in certain contexts. It is often used to indicate that certain parts of the code are yet to be implemented or that the function can accept any number of arguments.  | `def some_method():`<br>&nbsp;&nbsp;&nbsp;&nbsp;`...`<br> |"
   ]
  },
  {
   "cell_type": "markdown",
   "id": "b293198d",
   "metadata": {
    "slideshow": {
     "slide_type": "slide"
    }
   },
   "source": [
    "## Exception handling"
   ]
  },
  {
   "cell_type": "code",
   "execution_count": null,
   "id": "9ab6800b",
   "metadata": {
    "slideshow": {
     "slide_type": "subslide"
    }
   },
   "outputs": [],
   "source": [
    "def divide_numbers(a, b):\n",
    "    try:\n",
    "        result = a / b\n",
    "    except ZeroDivisionError:\n",
    "        print(\"Error: Division by zero is not allowed.\")\n",
    "    except TypeError:\n",
    "        print(\"Error: Invalid operand type.\")\n",
    "    else:\n",
    "        print(\"Division result:\", result)\n",
    "    finally:\n",
    "        print(\"Division operation completed.\")\n",
    "\n",
    "# Example usages\n",
    "divide_numbers(10, 2)   # Successful division\n",
    "divide_numbers(10, 0)   # Division by zero error\n",
    "divide_numbers(10, '2') # Invalid operand type error"
   ]
  }
 ],
 "metadata": {
  "celltoolbar": "Slideshow",
  "kernelspec": {
   "display_name": "Python 3 (ipykernel)",
   "language": "python",
   "name": "python3"
  },
  "language_info": {
   "codemirror_mode": {
    "name": "ipython",
    "version": 3
   },
   "file_extension": ".py",
   "mimetype": "text/x-python",
   "name": "python",
   "nbconvert_exporter": "python",
   "pygments_lexer": "ipython3",
   "version": "3.8.8"
  }
 },
 "nbformat": 4,
 "nbformat_minor": 5
}
