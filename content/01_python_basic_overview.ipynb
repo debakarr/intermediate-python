{
 "cells": [
  {
   "cell_type": "markdown",
   "metadata": {
    "slideshow": {
     "slide_type": "slide"
    }
   },
   "source": [
    "# Basic Overview"
   ]
  },
  {
   "cell_type": "markdown",
   "metadata": {
    "slideshow": {
     "slide_type": "subslide"
    }
   },
   "source": [
    "## Identifiers (Theory)\n",
    "\n",
    "In Python, an `identifier` is a name given to entities like variables, functions, classes, modules, etc., to uniquely identify them within the program. Identifiers play a crucial role in making code readable and maintaining code structure. However, there are certain rules and conventions that need to be followed when naming identifiers in Python.\n",
    "\n",
    "**Rules for Python Identifiers:**\n",
    "\n",
    "1. An identifier can start with an underscore (`_`) or a letter (a to z, A to Z). It cannot start with a digit (0-9).\n",
    "2. The subsequent characters can include letters, digits, and underscores.\n",
    "3. Identifiers are case-sensitive. For example, `myVariable` and `myvariable` are considered different identifiers.\n",
    "4. Python keywords cannot be used as identifiers since they have special meanings in the language. Examples of keywords are `if`, `else`, `while`, `for`, `class`, etc.\n",
    "\n",
    "**Valid Examples of Identifiers:**\n",
    "\n",
    "```python\n",
    "name\n",
    "age\n",
    "_max_value\n",
    "counter_1\n",
    "class_name\n",
    "```\n",
    "\n",
    "**Invalid Examples of Identifiers:**\n",
    "\n",
    "```python\n",
    "2name  # Cannot start with a digit\n",
    "break  # Cannot use Python keyword as an identifier\n",
    "class  # Cannot use Python keyword as an identifier\n",
    "```\n",
    "\n",
    "**Coding Conventions:**\n",
    "\n",
    "Although Python allows a wide range of naming possibilities, it is essential to follow some coding conventions to make the code more readable and maintainable. The most commonly used convention is the \"snake_case\" style for variable and function names, where words are separated by underscores. For class names, \"PascalCase\" (also known as \"CamelCase\") is preferred, where each word starts with a capital letter without underscores.\n",
    "\n",
    "**Snake Case:**\n",
    "\n",
    "```python\n",
    "user_name\n",
    "max_value\n",
    "counter_variable\n",
    "```\n",
    "\n",
    "**Pascal Case:**\n",
    "\n",
    "```python\n",
    "UserName\n",
    "MaxValue\n",
    "CounterVariable\n",
    "```\n",
    "\n",
    "Using meaningful and descriptive identifiers enhances the readability of code and helps other developers understand the purpose of variables, functions, or classes without the need for extensive comments."
   ]
  },
  {
   "cell_type": "markdown",
   "metadata": {
    "slideshow": {
     "slide_type": "fragment"
    }
   },
   "source": [
    "## Identifiers (Practical)\n",
    "\n",
    "Identifiers are `case sensitive`"
   ]
  },
  {
   "cell_type": "code",
   "execution_count": 1,
   "metadata": {
    "slideshow": {
     "slide_type": "fragment"
    }
   },
   "outputs": [],
   "source": [
    "my_value = 1\n",
    "my_Value = 1"
   ]
  },
  {
   "cell_type": "markdown",
   "metadata": {
    "slideshow": {
     "slide_type": "fragment"
    }
   },
   "source": [
    "Identifier can start with `underscore (_)` or `letter (a-z or A-Z)`, followed by any number of `underscore (_)` or m`letter (a-z or A-Z)` or `number (0-9)`"
   ]
  },
  {
   "cell_type": "code",
   "execution_count": 2,
   "metadata": {
    "slideshow": {
     "slide_type": "fragment"
    }
   },
   "outputs": [],
   "source": [
    "# Normal variable\n",
    "my_number_1 = 1\n",
    "\n",
    "# So called private. Basically if something contains underscore (_), \n",
    "# python will not import it say when you do from abc import *\n",
    "_my_number = 2\n",
    "\n",
    "# Used for class attributes name mangling.\n",
    "__my_number = 3\n",
    "\n",
    "# Used for system defined names that have special meaning. Sometimes refers to as magic methods or duck typing.\n",
    "# No need to reinvent it. Python already have lot of them.\n",
    "__my_number__ = 4"
   ]
  },
  {
   "cell_type": "code",
   "execution_count": 3,
   "metadata": {
    "slideshow": {
     "slide_type": "subslide"
    }
   },
   "outputs": [
    {
     "name": "stdout",
     "output_type": "stream",
     "text": [
      "False, None, True, and, as, assert, async, await, break, class, continue, def, del, elif, else, except, finally, for, from, global, if, import, in, is, lambda, nonlocal, not, or, pass, raise, return, try, while, with, yield\n",
      "\n",
      "Total number of reserved word: 35\n"
     ]
    }
   ],
   "source": [
    "# Cannot be a reserved word\n",
    "import keyword\n",
    "\n",
    "print(\", \".join(keyword.kwlist))\n",
    "print(f\"\\nTotal number of reserved word: {len(keyword.kwlist)}\")"
   ]
  },
  {
   "cell_type": "code",
   "execution_count": 4,
   "metadata": {},
   "outputs": [
    {
     "name": "stdout",
     "output_type": "stream",
     "text": [
      "\n",
      "Here is a list of the Python keywords.  Enter any keyword to get more help.\n",
      "\n",
      "False               class               from                or\n",
      "None                continue            global              pass\n",
      "True                def                 if                  raise\n",
      "and                 del                 import              return\n",
      "as                  elif                in                  try\n",
      "assert              else                is                  while\n",
      "async               except              lambda              with\n",
      "await               finally             nonlocal            yield\n",
      "break               for                 not                 \n",
      "\n"
     ]
    }
   ],
   "source": [
    "help(\"keywords\")"
   ]
  },
  {
   "cell_type": "markdown",
   "metadata": {},
   "source": [
    "For CPython most of the keyword definition are in [compile.c](https://github.com/python/cpython/blob/main/Python/compile.c). Function name follows `compiler_*` (like `compiler_for`, `compiler_while`, `compiler_return`, etc.)"
   ]
  },
  {
   "cell_type": "code",
   "execution_count": 5,
   "metadata": {
    "slideshow": {
     "slide_type": "fragment"
    }
   },
   "outputs": [
    {
     "ename": "SyntaxError",
     "evalue": "invalid syntax (<ipython-input-5-a3fd417c5b1e>, line 1)",
     "output_type": "error",
     "traceback": [
      "\u001b[0;36m  File \u001b[0;32m\"<ipython-input-5-a3fd417c5b1e>\"\u001b[0;36m, line \u001b[0;32m1\u001b[0m\n\u001b[0;31m    and = 1\u001b[0m\n\u001b[0m    ^\u001b[0m\n\u001b[0;31mSyntaxError\u001b[0m\u001b[0;31m:\u001b[0m invalid syntax\n"
     ]
    }
   ],
   "source": [
    "and = 1"
   ]
  },
  {
   "cell_type": "code",
   "execution_count": 6,
   "metadata": {
    "slideshow": {
     "slide_type": "subslide"
    }
   },
   "outputs": [
    {
     "name": "stdout",
     "output_type": "stream",
     "text": [
      "ArithmeticError, AssertionError, AttributeError, BaseException, BlockingIOError, BrokenPipeError, BufferError, BytesWarning, ChildProcessError, ConnectionAbortedError, ConnectionError, ConnectionRefusedError, ConnectionResetError, DeprecationWarning, EOFError, Ellipsis, EnvironmentError, Exception, False, FileExistsError, FileNotFoundError, FloatingPointError, FutureWarning, GeneratorExit, IOError, ImportError, ImportWarning, IndentationError, IndexError, InterruptedError, IsADirectoryError, KeyError, KeyboardInterrupt, LookupError, MemoryError, ModuleNotFoundError, NameError, None, NotADirectoryError, NotImplemented, NotImplementedError, OSError, OverflowError, PendingDeprecationWarning, PermissionError, ProcessLookupError, RecursionError, ReferenceError, ResourceWarning, RuntimeError, RuntimeWarning, StopAsyncIteration, StopIteration, SyntaxError, SyntaxWarning, SystemError, SystemExit, TabError, TimeoutError, True, TypeError, UnboundLocalError, UnicodeDecodeError, UnicodeEncodeError, UnicodeError, UnicodeTranslateError, UnicodeWarning, UserWarning, ValueError, Warning, ZeroDivisionError, __IPYTHON__, __build_class__, __debug__, __doc__, __import__, __loader__, __name__, __package__, __spec__, abs, all, any, ascii, bin, bool, breakpoint, bytearray, bytes, callable, chr, classmethod, compile, complex, copyright, credits, delattr, dict, dir, display, divmod, enumerate, eval, exec, filter, float, format, frozenset, get_ipython, getattr, globals, hasattr, hash, help, hex, id, input, int, isinstance, issubclass, iter, len, license, list, locals, map, max, memoryview, min, next, object, oct, open, ord, pow, print, property, range, repr, reversed, round, set, setattr, slice, sorted, staticmethod, str, sum, super, tuple, type, vars, zip\n"
     ]
    }
   ],
   "source": [
    "import builtins\n",
    "\n",
    "\n",
    "print(\", \".join(dir(builtins)))\n",
    "\n",
    "# Just think that python does `from builtins import *` at the starting."
   ]
  },
  {
   "cell_type": "code",
   "execution_count": 7,
   "metadata": {
    "slideshow": {
     "slide_type": "fragment"
    }
   },
   "outputs": [],
   "source": [
    "# Just taking a backup to reassign later\n",
    "len_bck = len\n",
    "\n",
    "# We can use builtin as identifier, but don't do it!!!\n",
    "len = 1\n",
    "\n",
    "# Assigning back len\n",
    "len = len_bck"
   ]
  },
  {
   "cell_type": "markdown",
   "metadata": {},
   "source": [
    "Most of the builtin in CPython are defined under [bltinmodule.c](https://github.com/python/cpython/blob/main/Python/bltinmodule.c). Function name follows `builtin_*` (like `builtin_sorted`, `builtin_sum_impl`, `builtin_all` etc.)"
   ]
  },
  {
   "cell_type": "markdown",
   "metadata": {
    "slideshow": {
     "slide_type": "subslide"
    }
   },
   "source": [
    "## PEP 8"
   ]
  },
  {
   "cell_type": "markdown",
   "metadata": {
    "slideshow": {
     "slide_type": "fragment"
    }
   },
   "source": [
    "| Topic       | PEP8 Naming Convention   | Examples                 | Underscore Preference           |\n",
    "|-------------|-------------------------|--------------------------|---------------------------------|\n",
    "| Packages    | All lowercase           | `my_package`             | No underscores                  |\n",
    "| Modules     | Short, lowercase        | `my_module`              | No underscores                  |\n",
    "| Classes     | CamelCase               | `MyClass`                | No underscores                  |\n",
    "| Functions   | Lowercase with underscores | `my_function`          | Yes, for multiple words         |\n",
    "| Variables   | Lowercase with underscores | `my_variable`          | Yes, for multiple words         |\n",
    "| Constants   | Uppercase with underscores | `MY_CONSTANT`          | Yes, for multiple words         |"
   ]
  },
  {
   "cell_type": "markdown",
   "metadata": {
    "slideshow": {
     "slide_type": "slide"
    },
    "tags": []
   },
   "source": [
    "## Numbers (Theory)\n",
    "\n",
    "\n",
    "|   Number Type   |   Symbol   |                           Examples                           |       Python Type       |\n",
    "|:---------------:|:----------:|:-----------------------------------------------------------|:-----------------------:|\n",
    "| Integer Number  |  $$\\mathbb{Z}$$  |  $$0, \\pm 1, \\pm 2, \\pm 3, \\ldots$$                   |          `int`          |\n",
    "| Rational Number |  $$\\mathbb{Q}$$  | $p/q$ where $p \\in \\mathbb{Z}$ and $q \\neq 0$$   | `fractions.Fraction` |\n",
    "| Real Number         |  $$\\mathbb{R}$$  | $$0, -1, 0.25, 1/3, \\pi, \\ldots$$                          | `float`, `decimal.Decimal` |\n",
    "| Complex Number  |  $$\\mathbb{C}$$  |    $$a+bi$$ where $$a, b \\in \\mathbb{R}$$                   |        `complex`        |\n",
    "|                    |    |    $$\\mathbb{Z} \\subseteq \\mathbb{Q} \\subseteq \\mathbb{R} \\subseteq \\mathbb{C}$$      |\n"
   ]
  },
  {
   "cell_type": "markdown",
   "metadata": {},
   "source": [
    "## Numbers (Practical)"
   ]
  },
  {
   "cell_type": "markdown",
   "metadata": {
    "slideshow": {
     "slide_type": "subslide"
    },
    "tags": []
   },
   "source": [
    "### Integral Numbers (Integer)"
   ]
  },
  {
   "cell_type": "code",
   "execution_count": 8,
   "metadata": {
    "slideshow": {
     "slide_type": "fragment"
    }
   },
   "outputs": [],
   "source": [
    "num = 10"
   ]
  },
  {
   "cell_type": "markdown",
   "metadata": {
    "slideshow": {
     "slide_type": "fragment"
    }
   },
   "source": [
    "### Integral Numbers (Boolean)"
   ]
  },
  {
   "cell_type": "code",
   "execution_count": 2,
   "metadata": {
    "slideshow": {
     "slide_type": "fragment"
    }
   },
   "outputs": [],
   "source": [
    "flag = True"
   ]
  },
  {
   "cell_type": "code",
   "execution_count": 3,
   "metadata": {
    "slideshow": {
     "slide_type": "fragment"
    }
   },
   "outputs": [
    {
     "data": {
      "text/plain": [
       "True"
      ]
     },
     "execution_count": 3,
     "metadata": {},
     "output_type": "execute_result"
    }
   ],
   "source": [
    "flag == 1"
   ]
  },
  {
   "cell_type": "code",
   "execution_count": 4,
   "metadata": {},
   "outputs": [
    {
     "name": "stderr",
     "output_type": "stream",
     "text": [
      "<>:1: SyntaxWarning: \"is\" with a literal. Did you mean \"==\"?\n",
      "<>:1: SyntaxWarning: \"is\" with a literal. Did you mean \"==\"?\n",
      "<ipython-input-4-492fb5da6c21>:1: SyntaxWarning: \"is\" with a literal. Did you mean \"==\"?\n",
      "  flag is 1\n"
     ]
    },
    {
     "data": {
      "text/plain": [
       "False"
      ]
     },
     "execution_count": 4,
     "metadata": {},
     "output_type": "execute_result"
    }
   ],
   "source": [
    "flag is 1"
   ]
  },
  {
   "cell_type": "markdown",
   "metadata": {
    "slideshow": {
     "slide_type": "subslide"
    }
   },
   "source": [
    "### Non-Integral Numbers (Float)"
   ]
  },
  {
   "cell_type": "code",
   "execution_count": 11,
   "metadata": {
    "slideshow": {
     "slide_type": "fragment"
    }
   },
   "outputs": [],
   "source": [
    "num_float = 3.14"
   ]
  },
  {
   "cell_type": "markdown",
   "metadata": {
    "slideshow": {
     "slide_type": "fragment"
    }
   },
   "source": [
    "### Non-Integral Numbers (Complex)"
   ]
  },
  {
   "cell_type": "code",
   "execution_count": 12,
   "metadata": {
    "slideshow": {
     "slide_type": "fragment"
    }
   },
   "outputs": [],
   "source": [
    "num_complex = 2 + 3j"
   ]
  },
  {
   "cell_type": "markdown",
   "metadata": {
    "slideshow": {
     "slide_type": "subslide"
    }
   },
   "source": [
    "### Non-Integral Numbers (Decimal):"
   ]
  },
  {
   "cell_type": "code",
   "execution_count": 13,
   "metadata": {
    "slideshow": {
     "slide_type": "fragment"
    }
   },
   "outputs": [],
   "source": [
    "from decimal import Decimal\n",
    "\n",
    "\n",
    "num_decimal = Decimal('3.14')"
   ]
  },
  {
   "cell_type": "markdown",
   "metadata": {
    "slideshow": {
     "slide_type": "fragment"
    }
   },
   "source": [
    "### Non-Integral Numbers (Fractions):"
   ]
  },
  {
   "cell_type": "code",
   "execution_count": 14,
   "metadata": {
    "slideshow": {
     "slide_type": "fragment"
    }
   },
   "outputs": [],
   "source": [
    "from fractions import Fraction\n",
    "\n",
    "num_fraction = Fraction(1, 2)"
   ]
  },
  {
   "cell_type": "markdown",
   "metadata": {
    "slideshow": {
     "slide_type": "slide"
    }
   },
   "source": [
    "## Sequence (Theory)\n",
    "\n",
    "In Python, a sequence is an ordered collection of elements, where each element is identified by its position, or index, within the sequence. Sequences are an important data type in Python and play a significant role in various programming tasks. Python provides three main types of sequences:\n",
    "\n",
    "1. **Mutable Sequence (List):**\n",
    "   - Lists are one of the most versatile data structures in Python and are used to store a collection of items, where each item can be of a different data type.\n",
    "   - Lists are mutable, meaning their elements can be modified after creation. You can add, remove, or modify elements within a list.\n",
    "   - Lists are defined using square brackets `[]` and elements are separated by commas.\n",
    "   - Example:\n",
    "     ```python\n",
    "     my_list = [1, 2, 'hello', True]\n",
    "     my_list[2] = 'world'  # Modifying element at index 2\n",
    "     ```\n",
    "\n",
    "2. **Immutable Sequence (Tuple):**\n",
    "   - Tuples are similar to lists but with one crucial difference: they are immutable, meaning their elements cannot be modified after creation.\n",
    "   - Tuples are defined using parentheses `()` and elements are separated by commas.\n",
    "   - Tuples are often used to represent fixed collections of items that should not change during program execution.\n",
    "   - Example:\n",
    "     ```python\n",
    "     my_tuple = (1, 2, 'hello', True)\n",
    "     # my_tuple[2] = 'world'  # Raises an error since tuples are immutable\n",
    "     ```\n",
    "\n",
    "3. **Immutable Sequence (String):**\n",
    "   - Strings are also a type of immutable sequence in Python, representing a sequence of characters.\n",
    "   - Strings are defined using either single quotes `' '` or double quotes `\" \"`.\n",
    "   - Like tuples, strings cannot be modified after creation. Instead, you can create new strings by manipulating existing ones.\n",
    "   - Example:\n",
    "     ```python\n",
    "     my_string = 'Hello, World!'\n",
    "     # my_string[0] = 'h'  # Raises an error since strings are immutable\n",
    "     ```"
   ]
  },
  {
   "cell_type": "markdown",
   "metadata": {},
   "source": [
    "## Sequence (Practical)"
   ]
  },
  {
   "cell_type": "markdown",
   "metadata": {
    "slideshow": {
     "slide_type": "subslide"
    }
   },
   "source": [
    "### Mutable Sequence (List):"
   ]
  },
  {
   "cell_type": "code",
   "execution_count": 20,
   "metadata": {
    "slideshow": {
     "slide_type": "fragment"
    }
   },
   "outputs": [
    {
     "data": {
      "text/plain": [
       "[1, 2, 'hello', True]"
      ]
     },
     "execution_count": 20,
     "metadata": {},
     "output_type": "execute_result"
    }
   ],
   "source": [
    "my_list = [1, 2, 'hello', True]\n",
    "my_list"
   ]
  },
  {
   "cell_type": "code",
   "execution_count": 21,
   "metadata": {},
   "outputs": [
    {
     "data": {
      "text/plain": [
       "[1, 2, 'world', True]"
      ]
     },
     "execution_count": 21,
     "metadata": {},
     "output_type": "execute_result"
    }
   ],
   "source": [
    "my_list[2] = 'world'\n",
    "my_list"
   ]
  },
  {
   "cell_type": "markdown",
   "metadata": {
    "slideshow": {
     "slide_type": "fragment"
    }
   },
   "source": [
    "### Immutable Sequence (Tuple):"
   ]
  },
  {
   "cell_type": "code",
   "execution_count": 22,
   "metadata": {
    "slideshow": {
     "slide_type": "fragment"
    }
   },
   "outputs": [
    {
     "data": {
      "text/plain": [
       "(1, 2, 3, 4)"
      ]
     },
     "execution_count": 22,
     "metadata": {},
     "output_type": "execute_result"
    }
   ],
   "source": [
    "my_tuple = (1, 2, 3, 4)\n",
    "my_tuple"
   ]
  },
  {
   "cell_type": "code",
   "execution_count": 23,
   "metadata": {},
   "outputs": [
    {
     "ename": "TypeError",
     "evalue": "'tuple' object does not support item assignment",
     "output_type": "error",
     "traceback": [
      "\u001b[0;31m---------------------------------------------------------------------------\u001b[0m",
      "\u001b[0;31mTypeError\u001b[0m                                 Traceback (most recent call last)",
      "\u001b[0;32m<ipython-input-23-544eca54c3d0>\u001b[0m in \u001b[0;36m<module>\u001b[0;34m\u001b[0m\n\u001b[0;32m----> 1\u001b[0;31m \u001b[0mmy_tuple\u001b[0m\u001b[0;34m[\u001b[0m\u001b[0;36m2\u001b[0m\u001b[0;34m]\u001b[0m \u001b[0;34m=\u001b[0m \u001b[0;34m'world'\u001b[0m\u001b[0;34m\u001b[0m\u001b[0;34m\u001b[0m\u001b[0m\n\u001b[0m",
      "\u001b[0;31mTypeError\u001b[0m: 'tuple' object does not support item assignment"
     ]
    }
   ],
   "source": [
    "my_tuple[2] = 'world'"
   ]
  },
  {
   "cell_type": "markdown",
   "metadata": {
    "slideshow": {
     "slide_type": "fragment"
    }
   },
   "source": [
    "### Immutable Sequence (String):"
   ]
  },
  {
   "cell_type": "code",
   "execution_count": 25,
   "metadata": {
    "slideshow": {
     "slide_type": "fragment"
    }
   },
   "outputs": [
    {
     "data": {
      "text/plain": [
       "'Hello, World!'"
      ]
     },
     "execution_count": 25,
     "metadata": {},
     "output_type": "execute_result"
    }
   ],
   "source": [
    "my_string = \"Hello, World!\"\n",
    "my_string"
   ]
  },
  {
   "cell_type": "code",
   "execution_count": 26,
   "metadata": {},
   "outputs": [
    {
     "ename": "TypeError",
     "evalue": "'str' object does not support item assignment",
     "output_type": "error",
     "traceback": [
      "\u001b[0;31m---------------------------------------------------------------------------\u001b[0m",
      "\u001b[0;31mTypeError\u001b[0m                                 Traceback (most recent call last)",
      "\u001b[0;32m<ipython-input-26-56f742ecdbf2>\u001b[0m in \u001b[0;36m<module>\u001b[0;34m\u001b[0m\n\u001b[0;32m----> 1\u001b[0;31m \u001b[0mmy_string\u001b[0m\u001b[0;34m[\u001b[0m\u001b[0;36m2\u001b[0m\u001b[0;34m]\u001b[0m \u001b[0;34m=\u001b[0m \u001b[0;34m\"w\"\u001b[0m\u001b[0;34m\u001b[0m\u001b[0;34m\u001b[0m\u001b[0m\n\u001b[0m",
      "\u001b[0;31mTypeError\u001b[0m: 'str' object does not support item assignment"
     ]
    }
   ],
   "source": [
    "my_string[2] = \"w\""
   ]
  },
  {
   "cell_type": "markdown",
   "metadata": {
    "slideshow": {
     "slide_type": "slide"
    }
   },
   "source": [
    "## Set\n",
    "\n",
    "In Python, a set is an unordered collection of unique elements. Sets are a powerful data type that can be used to perform various operations, such as union, intersection, and difference, with ease. Python provides two main types of sets:\n",
    "\n",
    "1. **Mutable Set (Set):**\n",
    "   - Sets are defined using curly braces `{}` or by using the built-in `set()` function.\n",
    "   - Sets store unique elements, which means duplicate values are automatically removed.\n",
    "   - Sets are mutable, meaning you can add or remove elements after creation.\n",
    "   - Example:\n",
    "     ```python\n",
    "     my_set = {1, 2, 3}\n",
    "     my_set.add(4)  # Adding an element\n",
    "     my_set.remove(2)  # Removing an element\n",
    "     ```\n",
    "\n",
    "2. **Immutable Set (Frozen Set):**\n",
    "   - Frozen sets are similar to sets but with one significant difference: they are immutable, meaning their elements cannot be modified after creation.\n",
    "   - Frozen sets are defined using the built-in `frozenset()` function.\n",
    "   - Since frozen sets are immutable, they can be used as elements of other sets or as keys in dictionaries, whereas regular sets cannot.\n",
    "   - Example:\n",
    "     ```python\n",
    "     my_frozen_set = frozenset({1, 2, 3})\n",
    "     # my_frozen_set.add(4)  # Raises an error since frozen sets are immutable\n",
    "     ```"
   ]
  },
  {
   "cell_type": "markdown",
   "metadata": {
    "slideshow": {
     "slide_type": "subslide"
    }
   },
   "source": [
    "### Mutable Set (Set):"
   ]
  },
  {
   "cell_type": "code",
   "execution_count": 7,
   "metadata": {
    "slideshow": {
     "slide_type": "fragment"
    }
   },
   "outputs": [],
   "source": [
    "my_set = {1, 2, 3}"
   ]
  },
  {
   "cell_type": "code",
   "execution_count": 9,
   "metadata": {},
   "outputs": [
    {
     "data": {
      "text/plain": [
       "{1, 2, 3}"
      ]
     },
     "execution_count": 9,
     "metadata": {},
     "output_type": "execute_result"
    }
   ],
   "source": [
    "my_set"
   ]
  },
  {
   "cell_type": "code",
   "execution_count": 12,
   "metadata": {},
   "outputs": [
    {
     "data": {
      "text/plain": [
       "{1, 2, 3, 4}"
      ]
     },
     "execution_count": 12,
     "metadata": {},
     "output_type": "execute_result"
    }
   ],
   "source": [
    "my_set.add(4)\n",
    "my_set"
   ]
  },
  {
   "cell_type": "code",
   "execution_count": 14,
   "metadata": {},
   "outputs": [
    {
     "data": {
      "text/plain": [
       "{1, 2, 3, 4}"
      ]
     },
     "execution_count": 14,
     "metadata": {},
     "output_type": "execute_result"
    }
   ],
   "source": [
    "my_set.add(2)\n",
    "my_set"
   ]
  },
  {
   "cell_type": "code",
   "execution_count": 15,
   "metadata": {},
   "outputs": [
    {
     "data": {
      "text/plain": [
       "{1, 2, 4}"
      ]
     },
     "execution_count": 15,
     "metadata": {},
     "output_type": "execute_result"
    }
   ],
   "source": [
    "my_set.remove(3)\n",
    "my_set"
   ]
  },
  {
   "cell_type": "markdown",
   "metadata": {
    "slideshow": {
     "slide_type": "fragment"
    }
   },
   "source": [
    "### Immutable Set (Frozen Set):"
   ]
  },
  {
   "cell_type": "code",
   "execution_count": 17,
   "metadata": {
    "slideshow": {
     "slide_type": "fragment"
    }
   },
   "outputs": [],
   "source": [
    "my_frozen_set = frozenset({1, 2, 3})"
   ]
  },
  {
   "cell_type": "code",
   "execution_count": 18,
   "metadata": {},
   "outputs": [
    {
     "ename": "AttributeError",
     "evalue": "'frozenset' object has no attribute 'add'",
     "output_type": "error",
     "traceback": [
      "\u001b[0;31m---------------------------------------------------------------------------\u001b[0m",
      "\u001b[0;31mAttributeError\u001b[0m                            Traceback (most recent call last)",
      "\u001b[0;32m<ipython-input-18-63c084d3c754>\u001b[0m in \u001b[0;36m<module>\u001b[0;34m\u001b[0m\n\u001b[0;32m----> 1\u001b[0;31m \u001b[0mmy_frozen_set\u001b[0m\u001b[0;34m.\u001b[0m\u001b[0madd\u001b[0m\u001b[0;34m(\u001b[0m\u001b[0;36m4\u001b[0m\u001b[0;34m)\u001b[0m\u001b[0;34m\u001b[0m\u001b[0;34m\u001b[0m\u001b[0m\n\u001b[0m",
      "\u001b[0;31mAttributeError\u001b[0m: 'frozenset' object has no attribute 'add'"
     ]
    }
   ],
   "source": [
    "my_frozen_set.add(4)"
   ]
  },
  {
   "cell_type": "markdown",
   "metadata": {
    "slideshow": {
     "slide_type": "slide"
    }
   },
   "source": [
    "## Mappings"
   ]
  },
  {
   "cell_type": "markdown",
   "metadata": {
    "slideshow": {
     "slide_type": "subslide"
    }
   },
   "source": [
    "### Dictionary\n",
    "\n",
    "A dictionary in Python is an unordered, mutable, and iterable collection of key-value pairs. It is also known as an associative array or a hash map. Dictionaries are implemented using a hash table data structure, which allows for efficient retrieval and insertion of key-value pairs.\n",
    "\n",
    "**Key Characteristics:**\n",
    "\n",
    "1. **Unordered:** Dictionaries do not maintain any order for their elements. The order in which the key-value pairs are stored does not necessarily reflect the order of insertion.\n",
    "\n",
    "2. **Mutable:** Dictionaries can be modified after creation. You can add, update, or delete key-value pairs.\n",
    "\n",
    "3. **Unique Keys:** Dictionary keys must be unique. If a key is added multiple times, the last occurrence will overwrite the previous ones.\n",
    "\n",
    "4. **Hashable Keys:** Dictionary keys must be hashable, which means they should be immutable (e.g., integers, strings, tuples with immutable elements). This property allows efficient lookup and retrieval of values based on keys.\n",
    "\n",
    "5. **Key-Value Pairs:** Each element in a dictionary consists of a key and its corresponding value. The value can be of any data type, including built-in types, user-defined objects, other dictionaries, or collections.\n",
    "\n",
    "**Creating Dictionaries:**\n",
    "\n",
    "Dictionaries can be created using curly braces `{}` or the `dict()` constructor. Key-value pairs are specified as `key: value`.\n",
    "\n",
    "```python\n",
    "# Using curly braces\n",
    "person = {\"name\": \"John\", \"age\": 30, \"city\": \"New York\"}\n",
    "\n",
    "# Using dict() constructor\n",
    "person = dict(name=\"John\", age=30, city=\"New York\")\n",
    "```\n",
    "\n",
    "**Accessing and Modifying Elements:**\n",
    "\n",
    "You can access values in a dictionary using square brackets `[]` and the corresponding key.\n",
    "\n",
    "```python\n",
    "person = {\"name\": \"John\", \"age\": 30}\n",
    "\n",
    "name = person[\"name\"]\n",
    "age = person[\"age\"]\n",
    "\n",
    "# Modifying values\n",
    "person[\"age\"] = 31\n",
    "```\n",
    "\n",
    "**Dictionary Methods:**\n",
    "\n",
    "Dictionaries come with a set of built-in methods for various operations, including adding, updating, deleting elements, checking membership, getting keys and values, and more.\n",
    "\n",
    "```python\n",
    "person = {\"name\": \"John\", \"age\": 30}\n",
    "\n",
    "# Adding a new key-value pair\n",
    "person[\"city\"] = \"New York\"\n",
    "\n",
    "# Getting all keys and values\n",
    "keys = person.keys()\n",
    "values = person.values()\n",
    "\n",
    "# Checking membership\n",
    "if \"age\" in person:\n",
    "    print(\"Age is present.\")\n",
    "\n",
    "# Removing a key-value pair\n",
    "del person[\"age\"]\n",
    "```\n",
    "\n",
    "**Iterating Through Dictionaries:**\n",
    "\n",
    "Dictionaries can be iterated using loops to access keys, values, or both.\n",
    "\n",
    "```python\n",
    "person = {\"name\": \"John\", \"age\": 30, \"city\": \"New York\"}\n",
    "\n",
    "# Iterating through keys\n",
    "for key in person:\n",
    "    print(key)\n",
    "\n",
    "# Iterating through values\n",
    "for value in person.values():\n",
    "    print(value)\n",
    "\n",
    "# Iterating through key-value pairs\n",
    "for key, value in person.items():\n",
    "    print(key, value)\n",
    "```"
   ]
  },
  {
   "cell_type": "code",
   "execution_count": 27,
   "metadata": {
    "slideshow": {
     "slide_type": "fragment"
    }
   },
   "outputs": [],
   "source": [
    "my_dict = {'name': 'John', 'age': 25, 'city': 'New York'}"
   ]
  },
  {
   "cell_type": "markdown",
   "metadata": {},
   "source": [
    "Dictionary key can only be values which are `hashable`"
   ]
  },
  {
   "cell_type": "code",
   "execution_count": 9,
   "metadata": {},
   "outputs": [],
   "source": [
    "my_dict = {(1, 2): 1}"
   ]
  },
  {
   "cell_type": "code",
   "execution_count": 28,
   "metadata": {},
   "outputs": [
    {
     "ename": "TypeError",
     "evalue": "unhashable type: 'list'",
     "output_type": "error",
     "traceback": [
      "\u001b[0;31m---------------------------------------------------------------------------\u001b[0m",
      "\u001b[0;31mTypeError\u001b[0m                                 Traceback (most recent call last)",
      "\u001b[0;32m<ipython-input-28-7e0311d9aa8f>\u001b[0m in \u001b[0;36m<module>\u001b[0;34m\u001b[0m\n\u001b[0;32m----> 1\u001b[0;31m \u001b[0mmy_dict\u001b[0m \u001b[0;34m=\u001b[0m \u001b[0;34m{\u001b[0m\u001b[0;34m[\u001b[0m\u001b[0;36m1\u001b[0m\u001b[0;34m,\u001b[0m \u001b[0;36m2\u001b[0m\u001b[0;34m]\u001b[0m\u001b[0;34m:\u001b[0m \u001b[0;36m1\u001b[0m\u001b[0;34m}\u001b[0m\u001b[0;34m\u001b[0m\u001b[0;34m\u001b[0m\u001b[0m\n\u001b[0m",
      "\u001b[0;31mTypeError\u001b[0m: unhashable type: 'list'"
     ]
    }
   ],
   "source": [
    "my_dict = {[1, 2]: 1}"
   ]
  },
  {
   "cell_type": "markdown",
   "metadata": {},
   "source": [
    "In case you want to have an `unhashable` value as dictionary key then it's better to use `pickle` module to `serialize` the value into bytes and the use it as key."
   ]
  },
  {
   "cell_type": "code",
   "execution_count": 29,
   "metadata": {},
   "outputs": [
    {
     "data": {
      "text/plain": [
       "1"
      ]
     },
     "execution_count": 29,
     "metadata": {},
     "output_type": "execute_result"
    }
   ],
   "source": [
    "import pickle\n",
    "\n",
    "key = pickle.dumps([1, 2])\n",
    "\n",
    "my_dict = {key: 1}\n",
    "\n",
    "my_dict[key]"
   ]
  },
  {
   "cell_type": "markdown",
   "metadata": {
    "slideshow": {
     "slide_type": "slide"
    }
   },
   "source": [
    "## Callables\n",
    "\n",
    "In Python, a \"callable\" refers to any object that can be called like a function. It means that you can use parentheses `()` after the object's name to invoke its functionality. Callables can be of various types, including user-defined functions, generators, classes, built-in functions, and built-in methods.\n",
    "\n",
    "**User-defined Functions:**\n",
    "\n",
    "User-defined functions are blocks of code that perform a specific task. They are created using the `def` keyword, followed by the function name, parameters, and the code to be executed.\n",
    "\n",
    "```python\n",
    "def greet(name):\n",
    "    print(f\"Hello, {name}!\")\n",
    "\n",
    "greet(\"John\")  # Output: Hello, John!\n",
    "```\n",
    "\n",
    "**Generators:**\n",
    "\n",
    "Generators are a type of iterable, similar to lists or tuples, but they generate values on-the-fly instead of storing them in memory. They use the `yield` keyword to produce values one at a time, making them memory-efficient for large datasets.\n",
    "\n",
    "```python\n",
    "def countdown(n):\n",
    "    while n > 0:\n",
    "        yield n\n",
    "        n -= 1\n",
    "\n",
    "for num in countdown(5):\n",
    "    print(num)  # Output: 5, 4, 3, 2, 1\n",
    "```\n",
    "\n",
    "**Classes, Instance Methods, and Class Instance:**\n",
    "\n",
    "Classes are blueprints for creating objects in Python. They contain attributes (variables) and methods (functions) that define the behavior of the objects. Instance methods are functions defined within a class and are called on instances (objects) of that class.\n",
    "\n",
    "```python\n",
    "class Dog:\n",
    "    def __init__(self, name):\n",
    "        self.name = name\n",
    "\n",
    "    def bark(self):\n",
    "        print(f\"{self.name} is barking!\")\n",
    "\n",
    "dog1 = Dog(\"Buddy\")\n",
    "dog1.bark()  # Output: Buddy is barking!\n",
    "```\n",
    "\n",
    "**Built-in Functions and Built-in Methods:**\n",
    "\n",
    "Built-in functions are functions that are provided by Python's standard library and can be used without importing any modules. Built-in methods, on the other hand, are specific to certain data types and can be called on objects of those types.\n",
    "\n",
    "```python\n",
    "# Built-in function\n",
    "len([1, 2, 3])  # Output: 3\n",
    "\n",
    "# Built-in method\n",
    "name = \"Python\"\n",
    "upper_name = name.upper()  # Output: \"PYTHON\"\n",
    "```\n",
    "\n",
    "**Detecting Callables:**\n",
    "\n",
    "You can check if an object is callable using the `callable()` function. It returns `True` if the object can be called and `False` otherwise.\n",
    "\n",
    "```python\n",
    "def greet(name):\n",
    "    print(f\"Hello, {name}!\")\n",
    "\n",
    "print(callable(greet))  # Output: True\n",
    "print(callable(5))  # Output: False\n",
    "```"
   ]
  },
  {
   "cell_type": "markdown",
   "metadata": {
    "slideshow": {
     "slide_type": "subslide"
    }
   },
   "source": [
    "### User-defined Functions"
   ]
  },
  {
   "cell_type": "code",
   "execution_count": 32,
   "metadata": {
    "slideshow": {
     "slide_type": "fragment"
    }
   },
   "outputs": [
    {
     "name": "stdout",
     "output_type": "stream",
     "text": [
      "Hello, Alice\n"
     ]
    }
   ],
   "source": [
    "def greet(name):\n",
    "   print(\"Hello, \" + name)\n",
    "\n",
    "greet(\"Alice\")"
   ]
  },
  {
   "cell_type": "markdown",
   "metadata": {
    "slideshow": {
     "slide_type": "subslide"
    }
   },
   "source": [
    "### Generators"
   ]
  },
  {
   "cell_type": "code",
   "execution_count": 33,
   "metadata": {
    "slideshow": {
     "slide_type": "fragment"
    }
   },
   "outputs": [
    {
     "name": "stdout",
     "output_type": "stream",
     "text": [
      "1\n",
      "2\n",
      "3\n",
      "4\n",
      "5\n"
     ]
    }
   ],
   "source": [
    "def count_up_to(n):\n",
    "   for i in range(1, n + 1):\n",
    "       yield i\n",
    "\n",
    "for num in count_up_to(5):\n",
    "   print(num)"
   ]
  },
  {
   "cell_type": "markdown",
   "metadata": {
    "slideshow": {
     "slide_type": "subslide"
    }
   },
   "source": [
    "### Classes"
   ]
  },
  {
   "cell_type": "code",
   "execution_count": 34,
   "metadata": {
    "slideshow": {
     "slide_type": "fragment"
    }
   },
   "outputs": [
    {
     "name": "stdout",
     "output_type": "stream",
     "text": [
      "Hello, Alice\n"
     ]
    }
   ],
   "source": [
    "class MyClass:\n",
    "   def __init__(self, name):\n",
    "       self.name = name\n",
    "\n",
    "   def say_hello(self):\n",
    "       print(\"Hello, \" + self.name)\n",
    "\n",
    "obj = MyClass(\"Alice\")\n",
    "obj.say_hello()"
   ]
  },
  {
   "cell_type": "markdown",
   "metadata": {
    "slideshow": {
     "slide_type": "subslide"
    }
   },
   "source": [
    "### Instance Methods"
   ]
  },
  {
   "cell_type": "code",
   "execution_count": 46,
   "metadata": {
    "slideshow": {
     "slide_type": "fragment"
    }
   },
   "outputs": [
    {
     "name": "stdout",
     "output_type": "stream",
     "text": [
      "Hello!\n"
     ]
    }
   ],
   "source": [
    "class MyClass:\n",
    "   def say_hello(self):\n",
    "       print(\"Hello!\")\n",
    "\n",
    "obj = MyClass()\n",
    "obj.say_hello()"
   ]
  },
  {
   "cell_type": "markdown",
   "metadata": {
    "slideshow": {
     "slide_type": "subslide"
    }
   },
   "source": [
    "### Class Instance"
   ]
  },
  {
   "cell_type": "code",
   "execution_count": 47,
   "metadata": {
    "slideshow": {
     "slide_type": "fragment"
    }
   },
   "outputs": [],
   "source": [
    "class MyClass2:\n",
    "   pass\n",
    "\n",
    "obj2 = MyClass2()"
   ]
  },
  {
   "cell_type": "markdown",
   "metadata": {
    "slideshow": {
     "slide_type": "subslide"
    }
   },
   "source": [
    "### Built-in Functions"
   ]
  },
  {
   "cell_type": "code",
   "execution_count": 48,
   "metadata": {
    "slideshow": {
     "slide_type": "fragment"
    }
   },
   "outputs": [
    {
     "name": "stdout",
     "output_type": "stream",
     "text": [
      "3\n"
     ]
    }
   ],
   "source": [
    "result = len([1, 2, 3])\n",
    "print(result)"
   ]
  },
  {
   "cell_type": "markdown",
   "metadata": {
    "slideshow": {
     "slide_type": "subslide"
    }
   },
   "source": [
    "### Built-in Methods"
   ]
  },
  {
   "cell_type": "code",
   "execution_count": 49,
   "metadata": {
    "slideshow": {
     "slide_type": "fragment"
    }
   },
   "outputs": [
    {
     "name": "stdout",
     "output_type": "stream",
     "text": [
      "[1, 2, 3, 4]\n"
     ]
    }
   ],
   "source": [
    "my_list = [1, 2, 3]\n",
    "my_list.append(4)\n",
    "print(my_list)"
   ]
  },
  {
   "cell_type": "code",
   "execution_count": 50,
   "metadata": {},
   "outputs": [
    {
     "name": "stdout",
     "output_type": "stream",
     "text": [
      "callable(greet) = True\n",
      "callable(count_up_to) = True\n",
      "callable(MyClass2) = True\n",
      "callable(obj.say_hello) = True\n",
      "callable(len) = True\n",
      "callable(my_list.append) = True\n"
     ]
    }
   ],
   "source": [
    "print(f\"{callable(greet) = }\")\n",
    "print(f\"{callable(count_up_to) = }\")\n",
    "print(f\"{callable(MyClass2) = }\")\n",
    "print(f\"{callable(obj.say_hello) = }\")\n",
    "print(f\"{callable(len) = }\")\n",
    "print(f\"{callable(my_list.append) = }\")"
   ]
  },
  {
   "cell_type": "markdown",
   "metadata": {
    "slideshow": {
     "slide_type": "slide"
    }
   },
   "source": [
    "## Singletons"
   ]
  },
  {
   "cell_type": "markdown",
   "metadata": {
    "slideshow": {
     "slide_type": "subslide"
    }
   },
   "source": [
    "### None"
   ]
  },
  {
   "cell_type": "code",
   "execution_count": 30,
   "metadata": {
    "slideshow": {
     "slide_type": "fragment"
    }
   },
   "outputs": [],
   "source": [
    "value = None"
   ]
  },
  {
   "cell_type": "markdown",
   "metadata": {
    "slideshow": {
     "slide_type": "fragment"
    }
   },
   "source": [
    "### NotImplemented:"
   ]
  },
  {
   "cell_type": "code",
   "execution_count": 31,
   "metadata": {
    "slideshow": {
     "slide_type": "fragment"
    }
   },
   "outputs": [],
   "source": [
    "value = NotImplemented"
   ]
  },
  {
   "cell_type": "markdown",
   "metadata": {
    "slideshow": {
     "slide_type": "fragment"
    }
   },
   "source": [
    "### Ellipsis"
   ]
  },
  {
   "cell_type": "code",
   "execution_count": 32,
   "metadata": {
    "slideshow": {
     "slide_type": "fragment"
    }
   },
   "outputs": [],
   "source": [
    "value = ..."
   ]
  },
  {
   "cell_type": "markdown",
   "metadata": {
    "slideshow": {
     "slide_type": "slide"
    }
   },
   "source": [
    "## Control Flow"
   ]
  },
  {
   "cell_type": "code",
   "execution_count": 33,
   "metadata": {
    "slideshow": {
     "slide_type": "fragment"
    }
   },
   "outputs": [
    {
     "name": "stdout",
     "output_type": "stream",
     "text": [
      "Stop! The signal is red. Wait for your turn.\n"
     ]
    }
   ],
   "source": [
    "# Traffic Signal Simulation\n",
    "traffic_signal = \"red\"\n",
    "\n",
    "if traffic_signal == \"green\":\n",
    "    print(\"Go! The road is clear.\")\n",
    "elif traffic_signal == \"yellow\":\n",
    "    print(\"Prepare to stop. The signal is about to turn red.\")\n",
    "else:\n",
    "    print(\"Stop! The signal is red. Wait for your turn.\")\n",
    "\n",
    "# Output: Stop! The signal is red. Wait for your turn."
   ]
  },
  {
   "cell_type": "markdown",
   "metadata": {
    "slideshow": {
     "slide_type": "slide"
    }
   },
   "source": [
    "## range()"
   ]
  },
  {
   "cell_type": "code",
   "execution_count": 34,
   "metadata": {
    "slideshow": {
     "slide_type": "fragment"
    }
   },
   "outputs": [
    {
     "name": "stdout",
     "output_type": "stream",
     "text": [
      "range(0, 10)\n",
      "[0, 1, 2, 3, 4, 5, 6, 7, 8, 9]\n"
     ]
    }
   ],
   "source": [
    "print(range(10))\n",
    "print(list(range(10)))"
   ]
  },
  {
   "cell_type": "code",
   "execution_count": 35,
   "metadata": {
    "slideshow": {
     "slide_type": "fragment"
    }
   },
   "outputs": [
    {
     "name": "stdout",
     "output_type": "stream",
     "text": [
      "range(5, 10)\n",
      "[5, 6, 7, 8, 9]\n"
     ]
    }
   ],
   "source": [
    "print(range(5, 10))\n",
    "print(list(range(5, 10)))"
   ]
  },
  {
   "cell_type": "code",
   "execution_count": 36,
   "metadata": {
    "slideshow": {
     "slide_type": "fragment"
    }
   },
   "outputs": [
    {
     "name": "stdout",
     "output_type": "stream",
     "text": [
      "range(1, 10, 2)\n",
      "[1, 3, 5, 7, 9]\n"
     ]
    }
   ],
   "source": [
    "print(range(1, 10, 2))\n",
    "print(list(range(1, 10, 2)))"
   ]
  },
  {
   "cell_type": "code",
   "execution_count": 37,
   "metadata": {
    "slideshow": {
     "slide_type": "fragment"
    }
   },
   "outputs": [
    {
     "name": "stdout",
     "output_type": "stream",
     "text": [
      "range(10, 0, -1)\n",
      "[10, 9, 8, 7, 6, 5, 4, 3, 2, 1]\n"
     ]
    }
   ],
   "source": [
    "print(range(10, 0, -1))\n",
    "print(list(range(10, 0, -1)))"
   ]
  },
  {
   "cell_type": "markdown",
   "metadata": {
    "slideshow": {
     "slide_type": "slide"
    }
   },
   "source": [
    "## Loops"
   ]
  },
  {
   "cell_type": "markdown",
   "metadata": {},
   "source": [
    "### For loop"
   ]
  },
  {
   "cell_type": "code",
   "execution_count": 38,
   "metadata": {
    "slideshow": {
     "slide_type": "subslide"
    }
   },
   "outputs": [
    {
     "name": "stdout",
     "output_type": "stream",
     "text": [
      "I need to buy apples\n",
      "I need to buy bananas\n",
      "I need to buy bread\n",
      "I need to buy milk\n",
      "Shopping complete!\n"
     ]
    }
   ],
   "source": [
    "shopping_list = [\"apples\", \"bananas\", \"bread\", \"milk\"]\n",
    "\n",
    "for item in shopping_list:\n",
    "    print(f\"I need to buy {item}\")\n",
    "\n",
    "print(\"Shopping complete!\")"
   ]
  },
  {
   "cell_type": "markdown",
   "metadata": {},
   "source": [
    "### While loop"
   ]
  },
  {
   "cell_type": "code",
   "execution_count": 39,
   "metadata": {
    "slideshow": {
     "slide_type": "subslide"
    }
   },
   "outputs": [
    {
     "name": "stdout",
     "output_type": "stream",
     "text": [
      "5 seconds remaining...\n",
      "4 seconds remaining...\n",
      "3 seconds remaining...\n",
      "2 seconds remaining...\n",
      "1 seconds remaining...\n",
      "Time's up!\n"
     ]
    }
   ],
   "source": [
    "import time\n",
    "\n",
    "seconds_left = 5\n",
    "\n",
    "while seconds_left > 0:\n",
    "    print(f\"{seconds_left} seconds remaining...\")\n",
    "    seconds_left -= 1\n",
    "    time.sleep(1)\n",
    "\n",
    "print(\"Time's up!\")"
   ]
  },
  {
   "cell_type": "markdown",
   "metadata": {},
   "source": [
    "### break"
   ]
  },
  {
   "cell_type": "code",
   "execution_count": 40,
   "metadata": {
    "slideshow": {
     "slide_type": "subslide"
    }
   },
   "outputs": [
    {
     "name": "stdout",
     "output_type": "stream",
     "text": [
      "17 is a prime number.\n"
     ]
    }
   ],
   "source": [
    "number = 17\n",
    "\n",
    "for i in range(2, number):\n",
    "    if number % i == 0:\n",
    "        print(f\"{number} is not a prime number.\")\n",
    "        break\n",
    "else:\n",
    "    print(f\"{number} is a prime number.\")"
   ]
  },
  {
   "cell_type": "code",
   "execution_count": 41,
   "metadata": {
    "slideshow": {
     "slide_type": "subslide"
    }
   },
   "outputs": [
    {
     "name": "stdout",
     "output_type": "stream",
     "text": [
      "Target number 9 found!\n"
     ]
    }
   ],
   "source": [
    "numbers = [2, 8, 15, 24, 9, 3, 12]\n",
    "target = 9\n",
    "\n",
    "for num in numbers:\n",
    "    if num == target:\n",
    "        print(f\"Target number {target} found!\")\n",
    "        break\n",
    "else:\n",
    "    print(f\"Target number {target} not found.\")"
   ]
  },
  {
   "cell_type": "markdown",
   "metadata": {},
   "source": [
    "### continue"
   ]
  },
  {
   "cell_type": "code",
   "execution_count": 42,
   "metadata": {
    "slideshow": {
     "slide_type": "subslide"
    }
   },
   "outputs": [
    {
     "name": "stdout",
     "output_type": "stream",
     "text": [
      "Count of even numbers: 5\n"
     ]
    }
   ],
   "source": [
    "numbers = [1, 2, 3, 4, 5, 6, 7, 8, 9, 10]\n",
    "count = 0\n",
    "\n",
    "for num in numbers:\n",
    "    if num % 2 != 0:\n",
    "        continue\n",
    "    count += 1\n",
    "\n",
    "print(f\"Count of even numbers: {count}\")"
   ]
  },
  {
   "cell_type": "markdown",
   "metadata": {},
   "source": [
    "### Loop through dictionary (.items() returns dict_item which is nothing but list of tuple)"
   ]
  },
  {
   "cell_type": "code",
   "execution_count": 43,
   "metadata": {
    "slideshow": {
     "slide_type": "subslide"
    }
   },
   "outputs": [
    {
     "name": "stdout",
     "output_type": "stream",
     "text": [
      "name John\n",
      "age 30\n",
      "city New York\n"
     ]
    }
   ],
   "source": [
    "person = {\"name\": \"John\", \"age\": 30, \"city\": \"New York\"}\n",
    "for key, value in person.items():\n",
    "    print(key, value)"
   ]
  },
  {
   "cell_type": "markdown",
   "metadata": {},
   "source": [
    "### Enumerate for accessing list item along with index"
   ]
  },
  {
   "cell_type": "code",
   "execution_count": 44,
   "metadata": {
    "slideshow": {
     "slide_type": "subslide"
    }
   },
   "outputs": [
    {
     "name": "stdout",
     "output_type": "stream",
     "text": [
      "0 apple\n",
      "1 banana\n",
      "2 cherry\n"
     ]
    }
   ],
   "source": [
    "fruits = [\"apple\", \"banana\", \"cherry\"]\n",
    "for index, fruit in enumerate(fruits):\n",
    "    print(index, fruit)"
   ]
  },
  {
   "cell_type": "code",
   "execution_count": 45,
   "metadata": {},
   "outputs": [
    {
     "name": "stdout",
     "output_type": "stream",
     "text": [
      "1 apple\n",
      "2 banana\n",
      "3 cherry\n"
     ]
    }
   ],
   "source": [
    "fruits = [\"apple\", \"banana\", \"cherry\"]\n",
    "for index, fruit in enumerate(fruits, start=1):\n",
    "    print(index, fruit)"
   ]
  },
  {
   "cell_type": "markdown",
   "metadata": {},
   "source": [
    "### Loop inside loop"
   ]
  },
  {
   "cell_type": "code",
   "execution_count": 46,
   "metadata": {
    "slideshow": {
     "slide_type": "subslide"
    }
   },
   "outputs": [
    {
     "name": "stdout",
     "output_type": "stream",
     "text": [
      "red apple\n",
      "red banana\n",
      "red cherry\n",
      "big apple\n",
      "big banana\n",
      "big cherry\n",
      "tasty apple\n",
      "tasty banana\n",
      "tasty cherry\n"
     ]
    }
   ],
   "source": [
    "adj = [\"red\", \"big\", \"tasty\"]\n",
    "fruits = [\"apple\", \"banana\", \"cherry\"]\n",
    "for a in adj:\n",
    "    for f in fruits:\n",
    "        print(a, f)"
   ]
  },
  {
   "cell_type": "markdown",
   "metadata": {},
   "source": [
    "### merge two iterable using `zip`"
   ]
  },
  {
   "cell_type": "code",
   "execution_count": 47,
   "metadata": {
    "slideshow": {
     "slide_type": "subslide"
    }
   },
   "outputs": [
    {
     "name": "stdout",
     "output_type": "stream",
     "text": [
      "red apple\n",
      "big banana\n",
      "tasty cherry\n"
     ]
    }
   ],
   "source": [
    "adj = [\"red\", \"big\", \"tasty\"]\n",
    "fruits = [\"apple\", \"banana\", \"cherry\"]\n",
    "for a, f in zip(adj, fruits):\n",
    "    print(a, f)"
   ]
  },
  {
   "cell_type": "markdown",
   "metadata": {},
   "source": [
    "### pass and continue"
   ]
  },
  {
   "cell_type": "code",
   "execution_count": 48,
   "metadata": {
    "slideshow": {
     "slide_type": "subslide"
    }
   },
   "outputs": [],
   "source": [
    "numbers = [1, 2, 3, 4, 5]"
   ]
  },
  {
   "cell_type": "code",
   "execution_count": 49,
   "metadata": {
    "slideshow": {
     "slide_type": "fragment"
    }
   },
   "outputs": [
    {
     "name": "stdout",
     "output_type": "stream",
     "text": [
      "Using pass:\n",
      "1\n",
      "2\n",
      "3\n",
      "4\n",
      "5\n"
     ]
    }
   ],
   "source": [
    "print(\"Using pass:\")\n",
    "for num in numbers:\n",
    "    if num % 2 != 0:\n",
    "        pass\n",
    "    print(num)"
   ]
  },
  {
   "cell_type": "code",
   "execution_count": 50,
   "metadata": {
    "slideshow": {
     "slide_type": "fragment"
    }
   },
   "outputs": [
    {
     "name": "stdout",
     "output_type": "stream",
     "text": [
      "\n",
      "Using continue:\n",
      "2\n",
      "4\n"
     ]
    }
   ],
   "source": [
    "print(\"\\nUsing continue:\")\n",
    "for num in numbers:\n",
    "    if num % 2 != 0:\n",
    "        continue\n",
    "    print(num)"
   ]
  },
  {
   "cell_type": "markdown",
   "metadata": {
    "slideshow": {
     "slide_type": "slide"
    }
   },
   "source": [
    "## Exception handling"
   ]
  },
  {
   "cell_type": "code",
   "execution_count": 51,
   "metadata": {
    "slideshow": {
     "slide_type": "subslide"
    }
   },
   "outputs": [
    {
     "name": "stdout",
     "output_type": "stream",
     "text": [
      "Division result: 5.0\n",
      "Division operation completed.\n",
      "Error: Division by zero is not allowed.\n",
      "Division operation completed.\n",
      "Error: Invalid operand type.\n",
      "Division operation completed.\n"
     ]
    }
   ],
   "source": [
    "def divide_numbers(a, b):\n",
    "    try:\n",
    "        result = a / b\n",
    "    except ZeroDivisionError:\n",
    "        print(\"Error: Division by zero is not allowed.\")\n",
    "    except TypeError:\n",
    "        print(\"Error: Invalid operand type.\")\n",
    "    else:\n",
    "        print(\"Division result:\", result)\n",
    "    finally:\n",
    "        print(\"Division operation completed.\")\n",
    "\n",
    "# Example usages\n",
    "divide_numbers(10, 2)   # Successful division\n",
    "divide_numbers(10, 0)   # Division by zero error\n",
    "divide_numbers(10, '2') # Invalid operand type error"
   ]
  },
  {
   "cell_type": "markdown",
   "metadata": {},
   "source": [
    "## String formatting"
   ]
  },
  {
   "cell_type": "code",
   "execution_count": 52,
   "metadata": {},
   "outputs": [],
   "source": [
    "name = \"Debakar\"\n",
    "memory_address =  6747387283"
   ]
  },
  {
   "cell_type": "markdown",
   "metadata": {},
   "source": [
    "### Old style"
   ]
  },
  {
   "cell_type": "code",
   "execution_count": 53,
   "metadata": {},
   "outputs": [
    {
     "data": {
      "text/plain": [
       "'Hey Debakar, check the memory address 0x1922cf593 for hint!'"
      ]
     },
     "execution_count": 53,
     "metadata": {},
     "output_type": "execute_result"
    }
   ],
   "source": [
    "'Hey %s, check the memory address 0x%x for hint!' % (name, memory_address)"
   ]
  },
  {
   "cell_type": "code",
   "execution_count": 54,
   "metadata": {},
   "outputs": [
    {
     "data": {
      "text/plain": [
       "'Hey Debakar, check the memory address 0x1922cf593 for hint!'"
      ]
     },
     "execution_count": 54,
     "metadata": {},
     "output_type": "execute_result"
    }
   ],
   "source": [
    "'Hey %(name)s, check the memory address 0x%(memory_address)x for hint!' % {\"name\": name, \"memory_address\": memory_address}"
   ]
  },
  {
   "cell_type": "markdown",
   "metadata": {},
   "source": [
    "### New style"
   ]
  },
  {
   "cell_type": "code",
   "execution_count": 55,
   "metadata": {},
   "outputs": [
    {
     "data": {
      "text/plain": [
       "'Hey Debakar, check the memory address 0x1922cf593 for hint!'"
      ]
     },
     "execution_count": 55,
     "metadata": {},
     "output_type": "execute_result"
    }
   ],
   "source": [
    "'Hey {}, check the memory address 0x{:x} for hint!'.format(name, memory_address)"
   ]
  },
  {
   "cell_type": "code",
   "execution_count": 56,
   "metadata": {},
   "outputs": [
    {
     "data": {
      "text/plain": [
       "'Hey Debakar, check the memory address 0x6747387283 for hint!'"
      ]
     },
     "execution_count": 56,
     "metadata": {},
     "output_type": "execute_result"
    }
   ],
   "source": [
    "'Hey {name}, check the memory address 0x{memory_address} for hint!'.format(name=name, memory_address=memory_address)"
   ]
  },
  {
   "cell_type": "markdown",
   "metadata": {},
   "source": [
    "### String Interpolationm (f-string)"
   ]
  },
  {
   "cell_type": "code",
   "execution_count": 57,
   "metadata": {},
   "outputs": [
    {
     "data": {
      "text/plain": [
       "'Hey Debakar, check the memory address 0x1922cf593 for hint!'"
      ]
     },
     "execution_count": 57,
     "metadata": {},
     "output_type": "execute_result"
    }
   ],
   "source": [
    "f'Hey {name}, check the memory address 0x{memory_address:x} for hint!'"
   ]
  },
  {
   "cell_type": "code",
   "execution_count": 58,
   "metadata": {},
   "outputs": [
    {
     "data": {
      "text/plain": [
       "\"name = 'Debakar', memory_address = 6747387283\""
      ]
     },
     "execution_count": 58,
     "metadata": {},
     "output_type": "execute_result"
    }
   ],
   "source": [
    "f\"{name = }, {memory_address = }\""
   ]
  },
  {
   "cell_type": "code",
   "execution_count": 59,
   "metadata": {},
   "outputs": [
    {
     "data": {
      "text/plain": [
       "'2 + 2 = 4'"
      ]
     },
     "execution_count": 59,
     "metadata": {},
     "output_type": "execute_result"
    }
   ],
   "source": [
    "f\"{2 + 2 = }\""
   ]
  },
  {
   "cell_type": "code",
   "execution_count": 60,
   "metadata": {},
   "outputs": [
    {
     "data": {
      "text/plain": [
       "\"dir() = ['Decimal', 'Fraction', 'In', 'MyClass', 'Out', '_', '_10', '_53', '_54', '_55', '_56', '_57', '_58', '_59', '__', '___', '__builtin__', '__builtins__', '__doc__', '__loader__', '__my_number', '__my_number__', '__name__', '__package__', '__spec__', '_dh', '_i', '_i1', '_i10', '_i11', '_i12', '_i13', '_i14', '_i15', '_i16', '_i17', '_i18', '_i19', '_i2', '_i20', '_i21', '_i22', '_i23', '_i24', '_i25', '_i26', '_i27', '_i28', '_i29', '_i3', '_i30', '_i31', '_i32', '_i33', '_i34', '_i35', '_i36', '_i37', '_i38', '_i39', '_i4', '_i40', '_i41', '_i42', '_i43', '_i44', '_i45', '_i46', '_i47', '_i48', '_i49', '_i5', '_i50', '_i51', '_i52', '_i53', '_i54', '_i55', '_i56', '_i57', '_i58', '_i59', '_i6', '_i60', '_i7', '_i8', '_i9', '_ih', '_ii', '_iii', '_my_number', '_oh', 'a', 'adj', 'builtins', 'count', 'count_up_to', 'divide_numbers', 'exit', 'f', 'flag', 'fruit', 'fruits', 'get_ipython', 'greet', 'i', 'index', 'item', 'key', 'keyword', 'len', 'len_bck', 'memory_address', 'my_Value', 'my_dict', 'my_frozen_set', 'my_list', 'my_number_1', 'my_set', 'my_string', 'my_tuple', 'my_value', 'name', 'num', 'num_complex', 'num_decimal', 'num_float', 'num_fraction', 'number', 'numbers', 'obj', 'person', 'quit', 'result', 'seconds_left', 'shopping_list', 'target', 'time', 'traffic_signal', 'value']\""
      ]
     },
     "execution_count": 60,
     "metadata": {},
     "output_type": "execute_result"
    }
   ],
   "source": [
    "f\"{dir() = }\""
   ]
  }
 ],
 "metadata": {
  "celltoolbar": "Slideshow",
  "kernelspec": {
   "display_name": "Python 3",
   "language": "python",
   "name": "python3"
  },
  "language_info": {
   "codemirror_mode": {
    "name": "ipython",
    "version": 3
   },
   "file_extension": ".py",
   "mimetype": "text/x-python",
   "name": "python",
   "nbconvert_exporter": "python",
   "pygments_lexer": "ipython3",
   "version": "3.8.8"
  }
 },
 "nbformat": 4,
 "nbformat_minor": 5
}
