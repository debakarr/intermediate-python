{
 "cells": [
  {
   "cell_type": "markdown",
   "id": "3f25ab98",
   "metadata": {
    "slideshow": {
     "slide_type": "slide"
    }
   },
   "source": [
    "# Basic Overview"
   ]
  },
  {
   "cell_type": "markdown",
   "id": "98ee4e28-7919-4f4a-9032-98af124adc40",
   "metadata": {},
   "source": [
    "## Getting help in python using `help` or `pydoc`"
   ]
  },
  {
   "cell_type": "code",
   "execution_count": null,
   "id": "cfae3108-2ca3-4253-9882-70aac2d5337b",
   "metadata": {},
   "outputs": [],
   "source": [
    "help(sum)"
   ]
  },
  {
   "cell_type": "code",
   "execution_count": null,
   "id": "37d9908d-e849-4000-9bc3-aaca3cf5e5aa",
   "metadata": {},
   "outputs": [],
   "source": [
    "!python -m pydoc sum"
   ]
  },
  {
   "cell_type": "markdown",
   "id": "8eefdfc5-2bcf-4171-b691-0b564344f3ba",
   "metadata": {},
   "source": [
    "Or you can start pydoc in server mode using the following command: `python -m pydoc -p 8889`"
   ]
  },
  {
   "cell_type": "markdown",
   "id": "cd10850d-dfa7-4648-a9cd-43c369c30493",
   "metadata": {},
   "source": [
    "Most of the standard modules are defined under [Modules](https://github.com/python/cpython/tree/main/Modules) in the CPython source.\n",
    "Others are under [Python](https://github.com/python/cpython/tree/main/Python)."
   ]
  },
  {
   "cell_type": "markdown",
   "id": "86bf0dcc-9c3f-4212-aed1-500aaced2e71",
   "metadata": {
    "slideshow": {
     "slide_type": "slide"
    },
    "tags": []
   },
   "source": [
    "## Identifier\n",
    "\n",
    "🐍 [Offical Docs](https://docs.python.org/3/reference/lexical_analysis.html)"
   ]
  },
  {
   "cell_type": "markdown",
   "id": "998c4520-4c33-4148-ab0c-3b5608c9800f",
   "metadata": {},
   "source": [
    "1. **Variable Identifiers:**\n",
    "   ```python\n",
    "   age = 25\n",
    "   name = \"Alice\"\n",
    "   score = 95.5\n",
    "   ```\n",
    "   \n",
    "<br />\n",
    "\n",
    "2. **Function Identifiers:**\n",
    "   ```python\n",
    "   def calculate_square(number):\n",
    "       return number ** 2\n",
    "\n",
    "   def greet(name):\n",
    "       print(f\"Hello, {name}!\")\n",
    "   ```\n",
    "   \n",
    "<br />\n",
    "\n",
    "3. **Class Identifiers:**\n",
    "   ```python\n",
    "   class Student:\n",
    "       def __init__(self, name, age):\n",
    "           self.name = name\n",
    "           self.age = age\n",
    "\n",
    "   class Circle:\n",
    "       def __init__(self, radius):\n",
    "           self.radius = radius\n",
    "   ```\n",
    "   \n",
    "<br />\n",
    "\n",
    "4. **Module Identifiers:**\n",
    "   In a file named `my_module.py`:\n",
    "   ```python\n",
    "   def calculate_sum(numbers):\n",
    "       return sum(numbers)\n",
    "   ```\n",
    "   \n",
    "<br />\n",
    "\n",
    "5. **Package Identifiers:**\n",
    "   If you have a directory structure like this:\n",
    "   ```\n",
    "   my_package/\n",
    "       __init__.py\n",
    "       module1.py\n",
    "       module2.py\n",
    "   ```\n",
    "   In `module1.py`:\n",
    "   ```python\n",
    "   def func1():\n",
    "       pass\n",
    "   ```\n",
    "   In `module2.py`:\n",
    "   ```python\n",
    "   def func2():\n",
    "       pass\n",
    "   ```\n",
    "   \n",
    "<br />\n",
    "\n",
    "6. **Method Identifiers:**\n",
    "   Continuing from the \"Class Identifiers\" example:\n",
    "   ```python\n",
    "   class Circle:\n",
    "       def __init__(self, radius):\n",
    "           self.radius = radius\n",
    "\n",
    "       def calculate_area(self):\n",
    "           return 3.14 * self.radius ** 2\n",
    "   ```\n",
    "   \n",
    "<br />\n",
    "\n",
    "7. **Constant Identifiers:**\n",
    "   ```python\n",
    "   MAX_VALUE = 100\n",
    "   PI = 3.14159\n",
    "   ```\n",
    "<br />\n",
    "8. **Global Identifiers:**\n",
    "   ```python\n",
    "   global_variable = 10\n",
    "\n",
    "   def my_function():\n",
    "       global global_variable\n",
    "       global_variable += 5\n",
    "       print(global_variable)\n",
    "   ```\n",
    "   \n",
    "<br />\n",
    "\n",
    "9. **Local Identifiers:**\n",
    "   ```python\n",
    "   def my_function():\n",
    "       local_variable = 20\n",
    "       print(local_variable)\n",
    "   ```\n",
    "   \n",
    "<br />\n",
    "\n",
    "10. **Private Identifiers:**\n",
    "    By convention, use a leading underscore to indicate privacy, though it's not enforced:\n",
    "    ```python\n",
    "    _private_variable = 42\n",
    "\n",
    "    class _PrivateClass:\n",
    "        pass\n",
    "    ```\n",
    "    \n",
    "<br />\n",
    "\n",
    "11. **Public Identifiers:**\n",
    "    Regular identifiers are considered public by default:\n",
    "    ```python\n",
    "    public_variable = \"public\"\n",
    "    ```"
   ]
  },
  {
   "cell_type": "markdown",
   "id": "591c20f5-6fb7-4f81-ab9e-1d9bdb360c8f",
   "metadata": {},
   "source": [
    "**Good to know**:"
   ]
  },
  {
   "cell_type": "markdown",
   "id": "d92a6cf3-e74c-4e5b-895e-b8983e0ee4db",
   "metadata": {},
   "source": [
    "- Checking if a string can be used as identifier:"
   ]
  },
  {
   "cell_type": "code",
   "execution_count": null,
   "id": "02f62766-1e00-4225-8269-a91d621183dc",
   "metadata": {},
   "outputs": [],
   "source": [
    "possible_identifiers = [\"support\", \"$upport\", \"1name\", \"name1\", \"_private_var\", \"from\"]\n",
    "\n",
    "for possible_identifier in possible_identifiers:\n",
    "    print(f\"{possible_identifier} can be used as identifier? {possible_identifier.isidentifier()}\")"
   ]
  },
  {
   "cell_type": "markdown",
   "id": "f9271fdf-38aa-410f-b258-fc325e23b8c7",
   "metadata": {},
   "source": [
    "❗**Gotcha**: `isidentifier` is a bit misleading as it returns `True` for keywords which cannot be used as identifier. There is already [an issue for that](https://bugs.python.org/issue33014)."
   ]
  },
  {
   "cell_type": "markdown",
   "id": "702146d7-43b2-4a88-ab77-9bf68f79db79",
   "metadata": {},
   "source": [
    "- keywords cannot be used as identifiers"
   ]
  },
  {
   "cell_type": "code",
   "execution_count": null,
   "id": "b819877e-f0f0-4f7d-bfe5-dc8482d6424f",
   "metadata": {},
   "outputs": [],
   "source": [
    "help(\"keywords\")"
   ]
  },
  {
   "cell_type": "code",
   "execution_count": null,
   "id": "95afd92b-9fe7-42ed-99e9-f4a9a1d7a6c6",
   "metadata": {},
   "outputs": [],
   "source": [
    "import keyword\n",
    "\n",
    "\n",
    "keyword.kwlist"
   ]
  },
  {
   "cell_type": "code",
   "execution_count": null,
   "id": "45159ce4-1757-4379-9e66-baf4082a62b7",
   "metadata": {},
   "outputs": [],
   "source": [
    "with = 1"
   ]
  },
  {
   "cell_type": "markdown",
   "id": "479277ab-15f9-4261-a932-bb8e160e702c",
   "metadata": {},
   "source": [
    "**NOTE**: `Python 3.9+` introduce [soft keywords](https://docs.python.org/3/library/keyword.html#keyword.softkwlist)."
   ]
  },
  {
   "cell_type": "markdown",
   "id": "2aa87047-c097-4343-8783-5acc3f7d714a",
   "metadata": {},
   "source": [
    "- `builtin` can be used as an identifier, but we should be aware where we are using built-in as identifier."
   ]
  },
  {
   "cell_type": "code",
   "execution_count": null,
   "id": "4207156f-2549-4959-ac1b-0fa2153961e3",
   "metadata": {},
   "outputs": [],
   "source": [
    "import builtins\n",
    "\n",
    "\n",
    "dir(builtins)"
   ]
  },
  {
   "cell_type": "markdown",
   "id": "2389add8-da10-44d9-8fee-25ad29c64268",
   "metadata": {},
   "source": [
    "- `__<method>__` has special meaning. See [Python data model](https://docs.python.org/3/reference/datamodel.html) docs."
   ]
  },
  {
   "cell_type": "markdown",
   "id": "2e366d26-4b20-46e9-901a-2b2cd1bd1af3",
   "metadata": {},
   "source": [
    "- `__<identifier>` does a name mangling."
   ]
  },
  {
   "cell_type": "code",
   "execution_count": null,
   "id": "9d2f3b80-8379-4738-95bf-47540b12a958",
   "metadata": {},
   "outputs": [],
   "source": [
    "%%writefile example/test_example.py\n",
    "\n",
    "_private_variable = 1\n",
    "\n",
    "public_variable = 2\n",
    "\n",
    "class _PrivateClass: ...\n",
    "\n",
    "class PublicClass: ...\n",
    "\n",
    "def _private_func(): ...\n",
    "\n",
    "def public_func(): ...\n",
    "    \n",
    "class Example:\n",
    "    def __mangled_method(self): ...\n",
    "    \n",
    "    def _private_method(self): ...\n",
    "    \n",
    "    def public_method(self): ..."
   ]
  },
  {
   "cell_type": "code",
   "execution_count": null,
   "id": "5b15b84e-1453-44ef-99a6-188f3ae119ed",
   "metadata": {},
   "outputs": [],
   "source": [
    "%%writefile example/main.py\n",
    "from test_example import *\n",
    "\n",
    "if __name__ == \"__main__\":\n",
    "    print(f\"{dir() = }\")\n",
    "    \n",
    "    e = Example()\n",
    "    print(f\"\\n{dir(e) = }\")"
   ]
  },
  {
   "cell_type": "code",
   "execution_count": null,
   "id": "09874de0-3195-4182-9d5a-1546bdb2a05d",
   "metadata": {},
   "outputs": [],
   "source": [
    "# This might not work in JupyterLite\n",
    "!python example/main.py"
   ]
  },
  {
   "cell_type": "markdown",
   "id": "551b8a72-add5-4fdc-8045-42d3be88224c",
   "metadata": {
    "slideshow": {
     "slide_type": "slide"
    },
    "tags": []
   },
   "source": [
    "### PEP\n",
    "\n",
    "![image.png](https://peps.python.org/_images/process_flow.svg)"
   ]
  },
  {
   "cell_type": "markdown",
   "id": "94359d9f-b91e-4271-a6e1-411b1ef2661e",
   "metadata": {
    "slideshow": {
     "slide_type": "slide"
    },
    "tags": []
   },
   "source": [
    "💡[What's in Python](https://nedbatchelder.com/text/which-py.html)"
   ]
  },
  {
   "cell_type": "markdown",
   "id": "d9a39315-3060-4b45-8d16-18b4d3208459",
   "metadata": {
    "slideshow": {
     "slide_type": "slide"
    },
    "tags": []
   },
   "source": [
    "#### PEP 8\n",
    "\n",
    "🐍 [Offical Docs](https://peps.python.org/pep-0008/)\n",
    "\n",
    "| Topic       | PEP8 Naming Convention   | Examples                 | Underscore Preference           |\n",
    "|-------------|-------------------------|--------------------------|---------------------------------|\n",
    "| Packages    | All lowercase           | `my_package`             | No underscores                  |\n",
    "| Modules     | Short, lowercase        | `my_module`              | No underscores                  |\n",
    "| Classes     | PascalCase               | `MyClass`                | No underscores                  |\n",
    "| Functions   | Lowercase with underscores | `my_function`          | Yes, for multiple words         |\n",
    "| Variables   | Lowercase with underscores | `my_variable`          | Yes, for multiple words         |\n",
    "| Constants   | Uppercase with underscores | `MY_CONSTANT`          | Yes, for multiple words         |"
   ]
  },
  {
   "cell_type": "markdown",
   "id": "623e5012-d2aa-4f82-b45b-a2442fb78fe3",
   "metadata": {
    "slideshow": {
     "slide_type": "slide"
    },
    "tags": []
   },
   "source": [
    "## Type\n",
    "\n",
    "🐍 [Offical Docs](https://docs.python.org/3/library/stdtypes.html)\n",
    "\n",
    "- Everything in Python is an object.\n",
    "- Every object in Python has `type`. You can get it using `type` class.\n",
    "- You can check if a object belongs to a specific `type` or `class` using `isinstance` built-in function.\n",
    "- `type` and `class` are synonyms to each other.\n",
    "\n",
    "```python\n",
    "<class> = type(<obj>)\n",
    "<bool> = isinstance(<obj>, <class>)\n",
    "```"
   ]
  },
  {
   "cell_type": "code",
   "execution_count": null,
   "id": "c1dda07f-6a26-4569-8b9a-ebcc4bfc1f70",
   "metadata": {},
   "outputs": [],
   "source": [
    "print(f\"{type(10) = }\")\n",
    "print(f\"{(10).__class__ = }\")\n",
    "print(f\"{type('Hello') = }\")\n",
    "print()\n",
    "print(f\"{isinstance(10, int) = }\")\n",
    "print(f\"{isinstance('Hello', int) = }\")"
   ]
  },
  {
   "cell_type": "code",
   "execution_count": null,
   "id": "64bca0dd-b349-49bb-bb77-295c5421f4cb",
   "metadata": {},
   "outputs": [],
   "source": [
    "type(10), (10).__class__, int"
   ]
  },
  {
   "cell_type": "markdown",
   "id": "cef9de47-28a8-4500-992b-2f922533b618",
   "metadata": {},
   "source": [
    "Some of the types does not have built-in so you have to import them from `types`"
   ]
  },
  {
   "cell_type": "code",
   "execution_count": null,
   "id": "aff6c1e0-d72e-468c-b521-97f2b22b0245",
   "metadata": {},
   "outputs": [],
   "source": [
    "def square(num):\n",
    "    return num ** 2\n",
    "\n",
    "from types import FunctionType\n",
    "\n",
    "print(f\"{isinstance(square, FunctionType) = }\")"
   ]
  },
  {
   "cell_type": "markdown",
   "id": "1d8ca1dd-8408-43ec-a09f-ed94d7aa4f8d",
   "metadata": {},
   "source": [
    "Similarly you have types for `method` (MethodType), `lambda` (LambdaType), `generator` (GeneratorType), `module` (ModuleType)"
   ]
  },
  {
   "cell_type": "markdown",
   "id": "737cb66b-559e-4327-a197-c70128a73fb9",
   "metadata": {
    "slideshow": {
     "slide_type": "slide"
    },
    "tags": []
   },
   "source": [
    "## Strings\n",
    "\n",
    "🐍 [Official Docs](https://docs.python.org/3/library/string.html)"
   ]
  },
  {
   "cell_type": "markdown",
   "id": "c4febb06-3cfd-49ef-8ed2-c4dc74df5961",
   "metadata": {
    "slideshow": {
     "slide_type": "fragment"
    },
    "tags": []
   },
   "source": [
    "**Stripping and Splitting:**"
   ]
  },
  {
   "cell_type": "code",
   "execution_count": null,
   "id": "bce37651-1506-45c1-8ea0-cf5d4fd53db2",
   "metadata": {
    "slideshow": {
     "slide_type": "fragment"
    },
    "tags": []
   },
   "outputs": [],
   "source": [
    "text = \"   Hello, world!\\t\\n   \"\n",
    "stripped_text = text.strip()\n",
    "print(stripped_text)"
   ]
  },
  {
   "cell_type": "code",
   "execution_count": null,
   "id": "d17de295-b946-4c82-96ee-f3353334804a",
   "metadata": {
    "slideshow": {
     "slide_type": "fragment"
    },
    "tags": []
   },
   "outputs": [],
   "source": [
    "split_text = \"apple orange\\tbanana\\ngrape\"\n",
    "fruits_list = split_text.split()\n",
    "print(fruits_list)"
   ]
  },
  {
   "cell_type": "markdown",
   "id": "1efbce14-e308-46f5-b6d4-a0f0b826e4db",
   "metadata": {
    "slideshow": {
     "slide_type": "fragment"
    },
    "tags": []
   },
   "source": [
    "**Joining:**"
   ]
  },
  {
   "cell_type": "code",
   "execution_count": null,
   "id": "fcda039a-db47-4b8e-b6a8-5c1e33f3a3bd",
   "metadata": {
    "slideshow": {
     "slide_type": "fragment"
    },
    "tags": []
   },
   "outputs": [],
   "source": [
    "fruits = ['apple', 'orange', 'banana']\n",
    "joined_text = ', '.join(fruits)\n",
    "print(joined_text)"
   ]
  },
  {
   "cell_type": "markdown",
   "id": "e5cf6bc5-d244-43d1-b8ae-349f9b251ccb",
   "metadata": {
    "slideshow": {
     "slide_type": "fragment"
    },
    "tags": []
   },
   "source": [
    "**Searching and Checking:**"
   ]
  },
  {
   "cell_type": "code",
   "execution_count": null,
   "id": "5c322b7f-e941-4c59-8350-2db19427b98d",
   "metadata": {
    "slideshow": {
     "slide_type": "fragment"
    },
    "tags": []
   },
   "outputs": [],
   "source": [
    "text = \"Python is awesome\"\n",
    "substring = \"is\"\n",
    "contains_substring = substring in text\n",
    "print(contains_substring) "
   ]
  },
  {
   "cell_type": "code",
   "execution_count": null,
   "id": "43bd6e81-5222-445e-8833-6b630524c4ae",
   "metadata": {
    "slideshow": {
     "slide_type": "fragment"
    },
    "tags": []
   },
   "outputs": [],
   "source": [
    "starts_with = text.startswith(\"Python\")\n",
    "ends_with = text.endswith(\"awesome\")\n",
    "print(starts_with, ends_with)  "
   ]
  },
  {
   "cell_type": "code",
   "execution_count": null,
   "id": "e73f2aa6-46f0-4663-b0bd-55e3e54ce340",
   "metadata": {
    "slideshow": {
     "slide_type": "fragment"
    },
    "tags": []
   },
   "outputs": [],
   "source": [
    "index = text.find(\"is\")\n",
    "print(index)  # Output: 7"
   ]
  },
  {
   "cell_type": "markdown",
   "id": "bd2729b2-caea-4861-af4c-5c6dc0723ebc",
   "metadata": {
    "slideshow": {
     "slide_type": "fragment"
    },
    "tags": []
   },
   "source": [
    "**Replacing and Translating:**"
   ]
  },
  {
   "cell_type": "code",
   "execution_count": null,
   "id": "6f85fc8b-73cc-466d-b006-4a91b790f517",
   "metadata": {
    "slideshow": {
     "slide_type": "fragment"
    },
    "tags": []
   },
   "outputs": [],
   "source": [
    "text = \"I like cats and cats are cute.\"\n",
    "replaced_text = text.replace(\"cats\", \"dogs\", 1)  # Replace only 1 occurrence\n",
    "print(replaced_text) "
   ]
  },
  {
   "cell_type": "code",
   "execution_count": null,
   "id": "13cc118e-5c0d-4e16-abc5-5d3c372f0da4",
   "metadata": {
    "slideshow": {
     "slide_type": "fragment"
    },
    "tags": []
   },
   "outputs": [],
   "source": [
    "translation_table = str.maketrans(\"aeiou\", \"12345\")\n",
    "translated_text = \"apple\".translate(translation_table)\n",
    "print(translated_text) "
   ]
  },
  {
   "cell_type": "markdown",
   "id": "ddfd76e7-69b3-4d63-82d3-ab760a45472d",
   "metadata": {
    "slideshow": {
     "slide_type": "fragment"
    },
    "tags": []
   },
   "source": [
    "**Character Conversions:**"
   ]
  },
  {
   "cell_type": "code",
   "execution_count": null,
   "id": "af47d819-42b0-4a1d-a8b3-f98fcf676757",
   "metadata": {
    "slideshow": {
     "slide_type": "fragment"
    },
    "tags": []
   },
   "outputs": [],
   "source": [
    "unicode_char = chr(65) \n",
    "print(unicode_char)"
   ]
  },
  {
   "cell_type": "code",
   "execution_count": null,
   "id": "c1097a26-111f-4821-b58c-7d5583605d20",
   "metadata": {
    "slideshow": {
     "slide_type": "fragment"
    },
    "tags": []
   },
   "outputs": [],
   "source": [
    "int_value = ord('A')\n",
    "print(int_value)"
   ]
  },
  {
   "cell_type": "markdown",
   "id": "6dfaf45d-50c9-4591-bf52-eb68f2063fec",
   "metadata": {
    "slideshow": {
     "slide_type": "fragment"
    },
    "tags": []
   },
   "source": [
    "**Case Conversion:**"
   ]
  },
  {
   "cell_type": "code",
   "execution_count": null,
   "id": "e4bf709b-b448-4371-9352-5e43d3107b4e",
   "metadata": {
    "slideshow": {
     "slide_type": "fragment"
    },
    "tags": []
   },
   "outputs": [],
   "source": [
    "text = \"hello world\"\n",
    "lowercased = text.lower()\n",
    "uppercased = text.upper()\n",
    "capitalized = text.capitalize()\n",
    "title_case = text.title()\n",
    "print(lowercased, uppercased, capitalized, title_case)"
   ]
  },
  {
   "cell_type": "markdown",
   "id": "04205ee6-c3ed-42a7-accf-3762817907f2",
   "metadata": {
    "slideshow": {
     "slide_type": "fragment"
    },
    "tags": []
   },
   "source": [
    "**Property and Character Checks:**"
   ]
  },
  {
   "cell_type": "code",
   "execution_count": null,
   "id": "446d0bff-d3ae-4f17-b5fe-eb630e0283be",
   "metadata": {
    "slideshow": {
     "slide_type": "fragment"
    },
    "tags": []
   },
   "outputs": [],
   "source": [
    "print(\"hello\".isprintable())  # Output: True\n",
    "print(\"abc123\".isalnum())  # Output: True\n",
    "print(\"²³¹\".isnumeric())  # Output: True\n",
    "print(\"123\".isdigit())  # Output: True\n",
    "print(\"½\".isdecimal())  # Output: False\n",
    "print(\"  \\t\\n\".isspace())  # Output: True"
   ]
  },
  {
   "cell_type": "markdown",
   "id": "93ea70ab",
   "metadata": {
    "slideshow": {
     "slide_type": "slide"
    },
    "tags": []
   },
   "source": [
    "### String formatting\n",
    "\n",
    "🐍 [Official Docs](https://docs.python.org/3/tutorial/inputoutput.html)"
   ]
  },
  {
   "cell_type": "code",
   "execution_count": null,
   "id": "cdd4be4d",
   "metadata": {
    "slideshow": {
     "slide_type": "fragment"
    },
    "tags": []
   },
   "outputs": [],
   "source": [
    "name = \"Debakar\"\n",
    "memory_address =  6747387283"
   ]
  },
  {
   "cell_type": "markdown",
   "id": "0d6c8a79",
   "metadata": {
    "slideshow": {
     "slide_type": "fragment"
    },
    "tags": []
   },
   "source": [
    "#### Old style"
   ]
  },
  {
   "cell_type": "code",
   "execution_count": null,
   "id": "efd3cac4",
   "metadata": {
    "slideshow": {
     "slide_type": "fragment"
    },
    "tags": []
   },
   "outputs": [],
   "source": [
    "'Hey %s, check the memory address 0x%x for hint!' % (name, memory_address)"
   ]
  },
  {
   "cell_type": "code",
   "execution_count": null,
   "id": "8eb9f0e2",
   "metadata": {
    "slideshow": {
     "slide_type": "fragment"
    },
    "tags": []
   },
   "outputs": [],
   "source": [
    "'Hey %(name)s, check the memory address 0x%(memory_address)x for hint!' % {\"name\": name, \"memory_address\": memory_address}"
   ]
  },
  {
   "cell_type": "markdown",
   "id": "df7cb793",
   "metadata": {
    "slideshow": {
     "slide_type": "subslide"
    },
    "tags": []
   },
   "source": [
    "#### New style"
   ]
  },
  {
   "cell_type": "code",
   "execution_count": null,
   "id": "0a2155f5",
   "metadata": {
    "slideshow": {
     "slide_type": "fragment"
    },
    "tags": []
   },
   "outputs": [],
   "source": [
    "'Hey {}, check the memory address 0x{:x} for hint!'.format(name, memory_address)"
   ]
  },
  {
   "cell_type": "code",
   "execution_count": null,
   "id": "3781256f",
   "metadata": {
    "slideshow": {
     "slide_type": "fragment"
    },
    "tags": []
   },
   "outputs": [],
   "source": [
    "'Hey {name}, check the memory address 0x{memory_address} for hint!'.format(name=name, memory_address=memory_address)"
   ]
  },
  {
   "cell_type": "markdown",
   "id": "95eb0863",
   "metadata": {
    "slideshow": {
     "slide_type": "subslide"
    },
    "tags": []
   },
   "source": [
    "#### String Interpolationm (f-string) (>= Python 3.6)\n",
    "\n",
    "**NOTE**: [Don't use f-string while using logger](https://google.github.io/styleguide/pyguide.html#3101-logging)"
   ]
  },
  {
   "cell_type": "code",
   "execution_count": null,
   "id": "33036211",
   "metadata": {
    "slideshow": {
     "slide_type": "fragment"
    },
    "tags": []
   },
   "outputs": [],
   "source": [
    "f'Hey {name}, check the memory address 0x{memory_address:x} for hint!'"
   ]
  },
  {
   "cell_type": "code",
   "execution_count": null,
   "id": "5a584b31",
   "metadata": {
    "slideshow": {
     "slide_type": "fragment"
    },
    "tags": []
   },
   "outputs": [],
   "source": [
    "f\"{name = }, {memory_address = }\""
   ]
  },
  {
   "cell_type": "code",
   "execution_count": null,
   "id": "62ee237b",
   "metadata": {
    "slideshow": {
     "slide_type": "fragment"
    },
    "tags": []
   },
   "outputs": [],
   "source": [
    "f\"{2 + 2 = }\""
   ]
  },
  {
   "cell_type": "code",
   "execution_count": null,
   "id": "81bdcc8d",
   "metadata": {
    "slideshow": {
     "slide_type": "fragment"
    },
    "tags": []
   },
   "outputs": [],
   "source": [
    "f\"{dir() = }\""
   ]
  },
  {
   "cell_type": "markdown",
   "id": "4df349e7-db21-483f-8cdf-8739077d676c",
   "metadata": {
    "slideshow": {
     "slide_type": "subslide"
    },
    "tags": []
   },
   "source": [
    "## Numbers (Theory)\n",
    "\n",
    "🐍 [Official Docs](https://docs.python.org/3/library/stdtypes.html)\n",
    "\n",
    "\n",
    "|   Number Type   |   Symbol   |                           Examples                           |       Python Type       | Python Code Example                  |\n",
    "|---------------|----------|-----------------------------------------------------------|-----------------------|-----------------------------------|\n",
    "| Integer Number  |  $$\\mathbb{Z}$$  |  $$0, \\pm 1, \\pm 2, \\pm 3, \\ldots$$                   |          `int`          | `integer_number = 10`<br>`negative_integer = -5` |\n",
    "| Rational Number |  $$\\mathbb{Q}$$  | $p/q$ where $p \\in \\mathbb{Z}$ and $q \\neq 0$$   | `fractions.Fraction` | `from fractions import Fraction`<br>`rational_number = Fraction(3, 4)`<br>`another_rational = Fraction(5, 2)` |\n",
    "| Real Number         |  $$\\mathbb{R}$$  | $$0, -1, 0.25, \\frac{1}{3}, \\pi, \\ldots$$                          | `float`, `decimal.Decimal` | `real_number = 3.14`<br>`another_real = 0.25`<br>`from decimal import Decimal`<br>`decimal_number = Decimal(\"0.1\")` |\n",
    "| Complex Number  |  $$\\mathbb{C}$$  |    $$a+bi$$ where $$a, b \\in \\mathbb{R}$$                   |        `complex`        | `complex_number = 2 + 3j`<br>`another_complex = -1 + 2j` |\n",
    "|                    |    |    $$\\mathbb{Z} \\subseteq \\mathbb{Q} \\subseteq \\mathbb{R} \\subseteq \\mathbb{C}$$      |                        |                                       |"
   ]
  },
  {
   "cell_type": "markdown",
   "id": "c2453f09-985c-4cff-9b4a-8e5002b8d487",
   "metadata": {},
   "source": [
    "❗**Gotcha**: What will be the output of this?"
   ]
  },
  {
   "cell_type": "code",
   "execution_count": null,
   "id": "d6bf4437-150b-4097-8406-35d32d52b4ca",
   "metadata": {},
   "outputs": [],
   "source": [
    "1.1 + 2.2"
   ]
  },
  {
   "cell_type": "markdown",
   "id": "c2960613-6737-4ac6-83bf-9153e380e567",
   "metadata": {},
   "source": [
    "That's why we use Decimal!"
   ]
  },
  {
   "cell_type": "markdown",
   "id": "d7a14109-86d7-4470-9e2b-b95c46710a68",
   "metadata": {},
   "source": [
    "**Basic Functions:**\n",
    "```python\n",
    "num_pow = pow(2, 3)  # 2 raised to the power of 3 is 8\n",
    "abs_num = abs(-5.6)  # Absolute value of -5.6 is 5.6\n",
    "rounded_num = round(126, -1)  # Rounded to nearest tens: 130\n",
    "```\n",
    "\n",
    "**Math:**\n",
    "```python\n",
    "from math import e, pi, sin, cos, log\n",
    "\n",
    "e_value = e  # Euler's number: 2.71828...\n",
    "pi_value = pi  # Pi: 3.14159...\n",
    "sin_value = sin(pi/2)  # Sine of pi/2 is 1.0\n",
    "cos_value = cos(pi)  # Cosine of pi is -1.0\n",
    "log_value = log(10)  # Natural logarithm of 10 is approximately 2.302...\n",
    "```\n",
    "\n",
    "**Statistics:**\n",
    "```python\n",
    "from statistics import mean, median\n",
    "\n",
    "data = [10, 20, 30, 40, 50]\n",
    "mean_value = mean(data)  # Mean: (10 + 20 + 30 + 40 + 50) / 5 = 30\n",
    "median_value = median(data)  # Median: middle value, 30 in this case\n",
    "```\n",
    "\n",
    "**Random:**\n",
    "```python\n",
    "from random import random, randint, choice\n",
    "\n",
    "random_float = random()  # Random float between 0 and 1\n",
    "random_int = randint(1, 6)  # Random integer between 1 and 6\n",
    "random_choice = choice(['apple', 'banana', 'orange'])  # Randomly choose a fruit\n",
    "```\n",
    "\n",
    "**Bin, Hex:**\n",
    "```python\n",
    "binary_value = 0b1010  # Binary value: 10\n",
    "hexadecimal_value = 0x1A  # Hexadecimal value: 26\n",
    "int_from_bin = int('1010', 2)  # Convert binary string to integer: 10\n",
    "int_from_hex = int('1A', 16)  # Convert hex string to integer: 26\n",
    "```\n",
    "\n",
    "**Bitwise Operators:**\n",
    "```python\n",
    "bitwise_and = 0b1100 & 0b1010  # Bitwise AND: 0b1000\n",
    "bitwise_or = 0b1100 | 0b1010  # Bitwise OR: 0b1110\n",
    "bitwise_xor = 0b1100 ^ 0b1010  # Bitwise XOR: 0b0110\n",
    "left_shift = 0b0001 << 2  # Left shift by 2 bits: 0b0100\n",
    "bitwise_not = ~0b1100  # Bitwise NOT: 0b0011 (in 2's complement)\n",
    "```"
   ]
  },
  {
   "cell_type": "markdown",
   "id": "de6d7a2e-9863-4d76-b7ad-a976e98039fb",
   "metadata": {
    "slideshow": {
     "slide_type": "subslide"
    },
    "tags": []
   },
   "source": [
    "## Boolean\n",
    "\n",
    "🐍 [Official Docs](https://docs.python.org/3/library/stdtypes.html)\n",
    "\n",
    "\n",
    "|   Aspect      | Description                                                                                                           | Example                              |\n",
    "|:------------:|-----------------------------------------------------------------------------------------------------------------------|--------------------------------------|\n",
    "| Type          | Represents one of two values: `True` or `False`.                                                                    | `is_raining = True`                  |\n",
    "| Values        | `True` represents a true condition or a positive state. `False` represents a false condition or a negative state.   | `has_permission = False`             |\n",
    "| Comparison   | Booleans are often the result of comparison operations (e.g., `==`, `!=`, `<`, `>`, `<=`, `>=`).                    | `x = 10`<br>`y = 5`<br>`is_greater = x > y` (is_greater will be `True`) |\n",
    "| Logical      | Booleans are used in logical operations: `and`, `or`, and `not`.                                                      | `is_sunny = True`<br>`is_weekend = False`<br>`is_outdoor_activity = is_sunny and not is_weekend` (is_outdoor_activity will be `True`) |\n",
    "| Truthy and Falsy | In Python, certain values are treated as `True` or `False` in a boolean context. Non-zero numbers and non-empty objects are considered truthy, while zero, `None`, and empty objects are considered falsy. | `number = 42`<br>`is_truthy = bool(number)` (is_truthy will be `True`) |\n"
   ]
  },
  {
   "cell_type": "markdown",
   "id": "c9365e7f-df29-4c05-bbce-fe612dec55c8",
   "metadata": {
    "slideshow": {
     "slide_type": "subslide"
    },
    "tags": []
   },
   "source": [
    "## Comparison Operators\n",
    "\n",
    "🐍 [Official Docs](https://docs.python.org/3/reference/expressions.html#comparisons)\n",
    "\n",
    "| Operator | Description                              | Example    | Result |\n",
    "|----------|------------------------------------------|------------|--------|\n",
    "| `==`     | Checks if two values are equal.         | `5 == 5`   | `True` |\n",
    "| `!=`     | Checks if two values are not equal.     | `5 != 3`   | `True` |\n",
    "| `<`      | Checks if the left operand is less than the right operand. | `3 < 5`    | `True` |\n",
    "| `>`      | Checks if the left operand is greater than the right operand. | `5 > 3`    | `True` |\n",
    "| `<=`     | Checks if the left operand is less than or equal to the right operand. | `3 <= 3`   | `True` |\n",
    "| `>=`     | Checks if the left operand is greater than or equal to the right operand. | `5 >= 3`   | `True` |\n"
   ]
  },
  {
   "cell_type": "markdown",
   "id": "ea31df40-379c-4ad6-92b9-fff910c01163",
   "metadata": {
    "slideshow": {
     "slide_type": "subslide"
    },
    "tags": []
   },
   "source": [
    "## Logical Operators\n",
    "\n",
    "| Operator    | Description                                                                                             | Example                    | Result |\n",
    "|-------------|---------------------------------------------------------------------------------------------------------|----------------------------|--------|\n",
    "| `and`       | Returns `True` if both operands are `True`; otherwise, it returns `False`.                             | `True and False`           | `False` |\n",
    "| `or`        | Returns `True` if at least one operand is `True`; otherwise, it returns `False`.                       | `True or False`            | `True` |\n",
    "| `not`       | Returns the negation of the operand's truth value. If the operand is `True`, `not` returns `False`, and vice versa. | `not True`                 | `False` |\n",
    "| Short-Circuit Evaluation | Python uses short-circuit evaluation for logical operators. If the result can be determined by evaluating only the left operand, the right operand is not evaluated. | `True or some_function()` | The right operand is not evaluated. |\n",
    "|             |                                                                                                         | `False or some_function()` | The right operand is evaluated. |\n"
   ]
  },
  {
   "cell_type": "markdown",
   "id": "51b5238e-a3fd-4658-ab09-792b7ef5f057",
   "metadata": {
    "slideshow": {
     "slide_type": "subslide"
    },
    "tags": []
   },
   "source": [
    "## if..elif..else\n",
    "\n",
    "🐍 [Official Docs](https://docs.python.org/3/tutorial/controlflow.html)"
   ]
  },
  {
   "cell_type": "code",
   "execution_count": null,
   "id": "9843aace-0147-408a-ab0d-8643be6a0f0f",
   "metadata": {},
   "outputs": [],
   "source": [
    "age = int(input(\"Enter your age: \"))\n",
    "\n",
    "# Check age using if, elif, and else statements\n",
    "if age < 18:\n",
    "    print(\"You are a minor.\")\n",
    "elif age >= 18 and age < 65:\n",
    "    print(\"You are an adult.\")\n",
    "else:\n",
    "    print(\"You are a senior citizen.\")"
   ]
  },
  {
   "cell_type": "code",
   "execution_count": null,
   "id": "26f538bd-910d-442a-aece-54b3cd3c43b5",
   "metadata": {},
   "outputs": [],
   "source": [
    "num = int(input(\"Enter a number: \"))\n",
    "result = \"Even\" if num % 2 == 0 else \"Odd\"\n",
    "print(f\"The number {num} is {result}.\")"
   ]
  },
  {
   "cell_type": "markdown",
   "id": "067b1775-0c8e-4288-8782-44bce95ed94e",
   "metadata": {
    "slideshow": {
     "slide_type": "subslide"
    },
    "tags": []
   },
   "source": [
    "## Loops"
   ]
  },
  {
   "cell_type": "code",
   "execution_count": null,
   "id": "c2a3a36e-008f-4c6a-9053-9938556dab3b",
   "metadata": {},
   "outputs": [],
   "source": [
    "fruits = ['apple', 'banana', 'orange', 'grape']\n",
    "\n",
    "for i, fruit in enumerate(fruits, start=1):\n",
    "    print(f\"Index {i}: {fruit}\")"
   ]
  },
  {
   "cell_type": "code",
   "execution_count": null,
   "id": "4b6cb93d-837f-49ec-aea6-418938fbe8c4",
   "metadata": {},
   "outputs": [],
   "source": [
    "for num in range(1, 11):\n",
    "    if num == 5:\n",
    "        break  # Exit the loop when num is 5\n",
    "    print(num)\n",
    "else:\n",
    "    print(\"Loop completed successfully\")  # This will not be printed if the loop breaks"
   ]
  },
  {
   "cell_type": "code",
   "execution_count": null,
   "id": "8eb46ecc-145d-41e4-a344-15cfce42f3a2",
   "metadata": {},
   "outputs": [],
   "source": [
    "for num in range(1, 11):\n",
    "    if num % 2 == 0:\n",
    "        continue  # Skip even numbers\n",
    "    print(num)\n",
    "else:\n",
    "    print(\"Loop completed successfully\")"
   ]
  },
  {
   "cell_type": "markdown",
   "id": "51775361-8aa8-49e2-8a24-03eb1d0aac80",
   "metadata": {
    "slideshow": {
     "slide_type": "subslide"
    },
    "tags": []
   },
   "source": [
    "### Sequence, Set and Mapping\n",
    "\n",
    "🐍 [Official Docs](https://docs.python.org/3/tutorial/datastructures.html)\n",
    "\n",
    "\n",
    "| Data Structure      | Description                                        | Example                                             | Output                                  |\n",
    "|---------------------|----------------------------------------------------|-----------------------------------------------------|-----------------------------------------|\n",
    "| Sequence           | - Mutable Sequence (List)                         | `mutable_list = [1, 2, 3]`<br>`mutable_list.append(4)`<br>`print(mutable_list)`    | Output: `[1, 2, 3, 4]`                  |\n",
    "|                     | - Immutable Sequence (Tuple)                      | `immutable_tuple = (1, 2, 3)`<br>`print(immutable_tuple[0])`                    | Output: `1`                             |\n",
    "|                     | - Immutable Sequence (String)                     | `immutable_string = \"Hello\"`<br>`print(immutable_string[1])`                     | Output: `e`                             |\n",
    "| Set                 | - Mutable Set (Set)                               | `mutable_set = {1, 2, 3}`<br>`mutable_set.add(4)`<br>`print(mutable_set)`           | Output: `{1, 2, 3, 4}`                  |\n",
    "|                     | - Immutable Set (Frozen Set)                      | `immutable_set = frozenset({1, 2, 3})`<br>`print(immutable_set)`               | Output: `frozenset({1, 2, 3})`          |\n",
    "| Mapping             | - Dictionary                                      | `dictionary = {\"key1\": \"value1\", \"key2\": \"value2\"}`<br>`print(dictionary[\"key1\"])` | Output: `value1`                        |\n"
   ]
  },
  {
   "cell_type": "markdown",
   "id": "78b26770-7fa9-4ec8-8b90-3688e79c945f",
   "metadata": {},
   "source": [
    "**List:**"
   ]
  },
  {
   "cell_type": "code",
   "execution_count": null,
   "id": "35283893-5227-4c2f-a0d4-c5bc971097f6",
   "metadata": {},
   "outputs": [],
   "source": [
    "# Slicing\n",
    "my_list = [1, 2, 3, 4, 5, 6]\n",
    "sliced_list = my_list[1:4]  # [2, 3, 4]"
   ]
  },
  {
   "cell_type": "code",
   "execution_count": null,
   "id": "76cc87ea-33b0-4fc2-8544-fad50db26b3b",
   "metadata": {},
   "outputs": [],
   "source": [
    "# Appending and Extending\n",
    "my_list.append(7)  # [1, 2, 3, 4, 5, 6, 7]\n",
    "my_list.extend([8, 9])  # [1, 2, 3, 4, 5, 6, 7, 8, 9]"
   ]
  },
  {
   "cell_type": "code",
   "execution_count": null,
   "id": "23c3729a-ffdc-4393-bda3-bbd17744358f",
   "metadata": {},
   "outputs": [],
   "source": [
    "# Sorting and Reversing\n",
    "my_list.sort()  # [1, 2, 3, 4, 5, 6, 7, 8, 9]\n",
    "my_list.reverse()  # [9, 8, 7, 6, 5, 4, 3, 2, 1]"
   ]
  },
  {
   "cell_type": "code",
   "execution_count": null,
   "id": "27b975bb-b7d2-449f-81ce-7a64fe99ade3",
   "metadata": {},
   "outputs": [],
   "source": [
    "# Using sorted to create a new sorted list\n",
    "sorted_list = sorted(my_list)  # [1, 2, 3, 4, 5, 6, 7, 8, 9]"
   ]
  },
  {
   "cell_type": "markdown",
   "id": "346bca35-32f9-431d-8726-1db234309645",
   "metadata": {},
   "source": [
    "**Dictionary:**"
   ]
  },
  {
   "cell_type": "code",
   "execution_count": null,
   "id": "cd324048-182b-4739-b351-44809d8402a7",
   "metadata": {},
   "outputs": [],
   "source": [
    "my_dict = {'a': 1, 'b': 2, 'c': 3}\n",
    "\n",
    "# Using keys(), values(), items()\n",
    "keys = my_dict.keys()  # dict_keys(['a', 'b', 'c'])\n",
    "values = my_dict.values()  # dict_values([1, 2, 3])\n",
    "items = my_dict.items()  # dict_items([('a', 1), ('b', 2), ('c', 3)])"
   ]
  },
  {
   "cell_type": "code",
   "execution_count": null,
   "id": "72fe1b78-de4e-49b3-91e0-604d8db503f9",
   "metadata": {},
   "outputs": [],
   "source": [
    "# Using get() and setdefault()\n",
    "value = my_dict.get('a', 0)  # 1\n",
    "value = my_dict.setdefault('d', 4)  # 4, 'd': 4 added to the dictionary"
   ]
  },
  {
   "cell_type": "code",
   "execution_count": null,
   "id": "7f383460-82df-47d5-9726-6a92aa8a3d6b",
   "metadata": {},
   "outputs": [],
   "source": [
    "# Filtering dictionary using dictionary comprehension\n",
    "filtered_dict = {k: v for k, v in my_dict.items() if v > 1}"
   ]
  },
  {
   "cell_type": "markdown",
   "id": "d4e3cefd-9e2b-4009-928d-b06a0da9188f",
   "metadata": {},
   "source": [
    "**defaultdict**:"
   ]
  },
  {
   "cell_type": "code",
   "execution_count": null,
   "id": "f1d76910-9b98-4918-8517-0a92e1f9ba3a",
   "metadata": {},
   "outputs": [],
   "source": [
    "# Using defaultdict to provide default values\n",
    "from collections import defaultdict\n",
    "default_dict = defaultdict(int)\n",
    "default_dict['x'] += 1  # 'x': 1, initialized with default value 0"
   ]
  },
  {
   "cell_type": "markdown",
   "id": "a3d2a3b9-aa87-47b4-9d06-dfe016c3d514",
   "metadata": {},
   "source": [
    "When to use?"
   ]
  },
  {
   "cell_type": "code",
   "execution_count": null,
   "id": "7d664b8b-5401-4d89-aaf3-0915ac2de83e",
   "metadata": {},
   "outputs": [],
   "source": [
    "names = [\"Alice\", \"Bob\", \"Charlie\", \"David\", \"Ella\", \"Frank\", \"Grace\", \"Henry\"]\n",
    "\n",
    "# Without defaultdict\n",
    "name_groups = {}\n",
    "for name in names:\n",
    "    starting_letter = name[0]\n",
    "    if starting_letter in name_groups:\n",
    "        name_groups[starting_letter].append(name)\n",
    "    else:\n",
    "        name_groups[starting_letter] = [name]\n",
    "\n",
    "print(name_groups)"
   ]
  },
  {
   "cell_type": "code",
   "execution_count": null,
   "id": "47a4a827-7a25-46f5-8f11-84020c12845f",
   "metadata": {},
   "outputs": [],
   "source": [
    "# With defaultdict\n",
    "name_groups = defaultdict(list)\n",
    "for name in names:\n",
    "    starting_letter = name[0]\n",
    "    name_groups[starting_letter].append(name)\n",
    "\n",
    "print(dict(name_groups))"
   ]
  },
  {
   "cell_type": "markdown",
   "id": "82c7f356-8b36-4d46-b668-923293181f87",
   "metadata": {},
   "source": [
    "**Counter**:"
   ]
  },
  {
   "cell_type": "code",
   "execution_count": null,
   "id": "8c415f84-a58f-479a-a8da-48424a062c14",
   "metadata": {},
   "outputs": [],
   "source": [
    "# Using Counter to count occurrences\n",
    "from collections import Counter\n",
    "colors = ['blue', 'blue', 'blue', 'red', 'red']\n",
    "counter = Counter(colors)  # {'blue': 3, 'red': 2}"
   ]
  },
  {
   "cell_type": "code",
   "execution_count": null,
   "id": "16eeb83b-0bed-4df4-8e2c-2bec891034fb",
   "metadata": {},
   "outputs": [],
   "source": [
    "word_count = {}\n",
    "text = \"Lorem ipsum dolor sit amet consectetur adipiscing elit\"\n",
    "words = text.split()"
   ]
  },
  {
   "cell_type": "code",
   "execution_count": null,
   "id": "27c013cb-4446-4a96-b82e-7a87d1abc359",
   "metadata": {},
   "outputs": [],
   "source": [
    "# Without Counter\n",
    "for word in words:\n",
    "    if word in word_count:\n",
    "        word_count[word] += 1\n",
    "    else:\n",
    "        word_count[word] = 1\n",
    "\n",
    "print(word_count)"
   ]
  },
  {
   "cell_type": "code",
   "execution_count": null,
   "id": "97d9057c-e868-47c0-ab97-32c76cde4f85",
   "metadata": {},
   "outputs": [],
   "source": [
    "# With Counter\n",
    "word_count = Counter(words)\n",
    "print(dict(word_count))"
   ]
  },
  {
   "cell_type": "markdown",
   "id": "5fda4c0b-e5e1-414e-8289-62b0c582d662",
   "metadata": {},
   "source": [
    "**Set:**"
   ]
  },
  {
   "cell_type": "code",
   "execution_count": null,
   "id": "e7009a8f-4b1a-4f38-ae56-2be66ec01c35",
   "metadata": {},
   "outputs": [],
   "source": [
    "my_set = {1, 2, 3}\n",
    "\n",
    "# Adding elements\n",
    "my_set.add(4)\n",
    "my_set.update([5, 6])  # Or: my_set |= {5, 6}"
   ]
  },
  {
   "cell_type": "code",
   "execution_count": null,
   "id": "919e9eea-9400-43d6-b825-7e33cbff90c7",
   "metadata": {},
   "outputs": [],
   "source": [
    "# Set operations\n",
    "other_set = {3, 4, 5}\n",
    "union_set = my_set.union(other_set)  # Or: my_set | other_set\n",
    "intersection_set = my_set.intersection(other_set)  # Or: my_set & other_set\n",
    "difference_set = my_set.difference(other_set)  # Or: my_set - other_set\n",
    "symmetric_difference_set = my_set.symmetric_difference(other_set)  # Or: my_set ^ other_set"
   ]
  },
  {
   "cell_type": "code",
   "execution_count": null,
   "id": "843fe837-02f0-4a94-9c7a-2e5d9d27f0e8",
   "metadata": {},
   "outputs": [],
   "source": [
    "# Membership check\n",
    "is_subset = my_set.issubset(other_set)  # Or: my_set <= other_set\n",
    "is_superset = my_set.issuperset(other_set)  # Or: my_set >= other_set"
   ]
  },
  {
   "cell_type": "markdown",
   "id": "86fed23a-1778-42f4-a095-8e8715d51159",
   "metadata": {},
   "source": [
    "**Frozen Set:**"
   ]
  },
  {
   "cell_type": "code",
   "execution_count": null,
   "id": "f13c9d59-3bfb-4452-9dfa-a5c6ae185fbd",
   "metadata": {},
   "outputs": [],
   "source": [
    "frozen_set = frozenset([1, 2, 3])\n",
    "\n",
    "# Frozen set as a key in a dictionary\n",
    "my_dict = {frozen_set: 'value'}"
   ]
  },
  {
   "cell_type": "markdown",
   "id": "08e92a26-e7ce-41a5-a12f-e60927953372",
   "metadata": {},
   "source": [
    "**Tuple:**"
   ]
  },
  {
   "cell_type": "code",
   "execution_count": null,
   "id": "fc05063f-8d2e-4703-9c32-71fb9feadfb8",
   "metadata": {},
   "outputs": [],
   "source": [
    "my_tuple = (1, 2, 3)\n",
    "\n",
    "# Named Tuple\n",
    "from collections import namedtuple\n",
    "Point = namedtuple('Point', 'x y')\n",
    "p = Point(1, y=2)\n",
    "print(p.x) "
   ]
  },
  {
   "cell_type": "markdown",
   "id": "5f3ebb24-b26c-4858-87fa-ebf673cf3c11",
   "metadata": {},
   "source": [
    "**ChainMap:**"
   ]
  },
  {
   "cell_type": "code",
   "execution_count": null,
   "id": "c7a036ad-1208-4e4b-a673-98f41e2c4574",
   "metadata": {},
   "outputs": [],
   "source": [
    "from collections import ChainMap\n",
    "\n",
    "dict1 = {'a': 1, 'b': 2}\n",
    "dict2 = {'b': 3, 'c': 4}\n",
    "combined_dict = ChainMap(dict1, dict2)\n",
    "\n",
    "print(combined_dict['a']) \n",
    "print(combined_dict['b']) \n",
    "print(combined_dict['c']) "
   ]
  },
  {
   "cell_type": "code",
   "execution_count": null,
   "id": "6b8c48a0-5cb1-42e2-afb6-9f447d8b6553",
   "metadata": {},
   "outputs": [],
   "source": [
    "# Using new_child() to add a new dictionary\n",
    "dict3 = {'d': 5}\n",
    "combined_dict = combined_dict.new_child(dict3)\n",
    "print(combined_dict['d'])  "
   ]
  },
  {
   "cell_type": "markdown",
   "id": "55840338-dedb-4273-87fe-177c260d450b",
   "metadata": {},
   "source": [
    "**bytes**:"
   ]
  },
  {
   "cell_type": "code",
   "execution_count": null,
   "id": "387ef796-5aff-4401-9d7e-7c3357a679e8",
   "metadata": {},
   "outputs": [],
   "source": [
    "# Creating bytes from a string\n",
    "my_bytes = b'hello'\n",
    "print(my_bytes) "
   ]
  },
  {
   "cell_type": "code",
   "execution_count": null,
   "id": "18cc975a-0f4c-49c0-ac59-e6e12bf4e7e9",
   "metadata": {},
   "outputs": [],
   "source": [
    "# Accessing bytes elements\n",
    "print(my_bytes[0])"
   ]
  },
  {
   "cell_type": "code",
   "execution_count": null,
   "id": "c0e0dd4a-245a-497a-ab3f-d60604c0f706",
   "metadata": {},
   "outputs": [],
   "source": [
    "# Converting bytes to string\n",
    "my_string = my_bytes.decode('utf-8')\n",
    "print(my_string) "
   ]
  },
  {
   "cell_type": "markdown",
   "id": "33aa65b4-122d-4f13-8553-7b60f1687542",
   "metadata": {},
   "source": [
    "**bytearray**:"
   ]
  },
  {
   "cell_type": "code",
   "execution_count": null,
   "id": "a4c11798-2ee8-4e58-93c6-07855da8694a",
   "metadata": {},
   "outputs": [],
   "source": [
    "# Creating a bytearray from a list of integers\n",
    "my_bytearray = bytearray([65, 66, 67])  # ASCII values of 'A', 'B', 'C'\n",
    "print(my_bytearray)  "
   ]
  },
  {
   "cell_type": "code",
   "execution_count": null,
   "id": "7c1f83a6-d661-46fe-9b10-ea1e6976ffa0",
   "metadata": {},
   "outputs": [],
   "source": [
    "# Accessing bytearray elements\n",
    "print(my_bytearray[1])"
   ]
  },
  {
   "cell_type": "code",
   "execution_count": null,
   "id": "00efbc3c-ba4e-4d06-8f5e-bd3770076577",
   "metadata": {},
   "outputs": [],
   "source": [
    "# Modifying a bytearray element\n",
    "my_bytearray[1] = 68  # ASCII value of 'D'\n",
    "print(my_bytearray)"
   ]
  },
  {
   "cell_type": "code",
   "execution_count": null,
   "id": "7b031b19-eb53-41b0-a745-fb44a32a9140",
   "metadata": {},
   "outputs": [],
   "source": [
    "# Converting bytearray to bytes\n",
    "my_bytes = bytes(my_bytearray)\n",
    "print(my_bytes)"
   ]
  },
  {
   "cell_type": "markdown",
   "id": "bc55408d-c79c-4529-ba44-f099741fba4e",
   "metadata": {},
   "source": [
    "**Array:**\n",
    "\n",
    "When to use `array`:\n",
    "\n",
    "- When you need a list that can only hold numbers of a predefined type.\n",
    "- When you want efficient storage and manipulation of homogeneous numeric data."
   ]
  },
  {
   "cell_type": "code",
   "execution_count": null,
   "id": "44504d73-924a-4e36-8241-cb67b8234c97",
   "metadata": {},
   "outputs": [],
   "source": [
    "from array import array\n",
    "\n",
    "num_list = [1, 2, 3, 4]\n",
    "num_array = array('i', num_list)  # 'i' represents the typecode for signed int\n",
    "\n",
    "byte_data = b'\\x01\\x02\\x03\\x04'\n",
    "byte_array = array('B', byte_data)  # 'B' represents the typecode for unsigned byte\n",
    "\n",
    "print(num_array)  # Output: array('i', [1, 2, 3, 4])\n",
    "print(byte_array)  # Output: array('B', [1, 2, 3, 4])"
   ]
  },
  {
   "cell_type": "markdown",
   "id": "39e468a9-b49a-47bf-8f87-bd037d590a0d",
   "metadata": {},
   "source": [
    "**Deque:**\n",
    "\n",
    "When to use `deque`:\n",
    "\n",
    "- When you need a thread-safe list with efficient appends and pops from either side.\n",
    "- When you want to implement a queue or a stack efficiently."
   ]
  },
  {
   "cell_type": "code",
   "execution_count": null,
   "id": "043282dd-e5e9-4acd-9824-f3ad0edf556f",
   "metadata": {},
   "outputs": [],
   "source": [
    "from collections import deque\n",
    "\n",
    "my_deque = deque([1, 2, 3, 4])\n",
    "\n",
    "my_deque.appendleft(0)  # [0, 1, 2, 3, 4]\n",
    "my_deque.extendleft([-2, -1])  # [-1, -2, 0, 1, 2, 3, 4]"
   ]
  },
  {
   "cell_type": "code",
   "execution_count": null,
   "id": "b7fa2452-2a4f-46d7-88c8-c980e5d8f0e5",
   "metadata": {},
   "outputs": [],
   "source": [
    "leftmost_element = my_deque.popleft()\n",
    "leftmost_element"
   ]
  },
  {
   "cell_type": "code",
   "execution_count": null,
   "id": "24225b30-8acc-47ea-b9e1-a972a4b35a88",
   "metadata": {},
   "outputs": [],
   "source": [
    "my_deque.rotate(2)  # [3, 4, -1, -2, 0, 1, 2]\n",
    "my_deque"
   ]
  },
  {
   "cell_type": "code",
   "execution_count": null,
   "id": "c1b2ff74-316f-49a9-893c-23150588712a",
   "metadata": {},
   "outputs": [],
   "source": [
    "# Bounded deque\n",
    "# Say you want to keep track of last two request that are made\n",
    "bounded_deque = deque(maxlen=3)\n",
    "\n",
    "bounded_deque.append(1)\n",
    "bounded_deque.append(2)\n",
    "bounded_deque.append(3)\n",
    "bounded_deque.append(4)\n",
    "\n",
    "bounded_deque"
   ]
  },
  {
   "cell_type": "markdown",
   "id": "d9f38730-0987-414f-beae-83d02329c9c7",
   "metadata": {},
   "source": [
    "## What data structure to use?\n",
    "\n",
    "![](https://mermaid.ink/img/pako:eNp1kctugzAQRX_FmjWJSCBAWLTKo4_0tWjURQtZOGFokMBOzaCWAP9eQ9Q0SlVvPJpz5_rKU8FGRgg-xKn83Gy5IvbwHKpQMH0mwZJ0Z8V6vQs2rR4L4usUL5sfPu1A_Yp5zWbVi0g-CmQJYZb_0TzJms2rmRTEE5Ef6ezE4SrIkVZnpJ27DtIkJ4OtS0KuFC-PovlB1AJtcBN0xTnNSdXsNtDXOZmIsmaLf4IvTqLdBbGSexSnARe_Ae8DKnYprsCADFXGk0h_aNXKQqAtZhiCr8sIY16kFEIoGi3lBcllKTbgkyrQgGIXccJ5wt8Vz8CPeZrr7o4L8Cv4An9g2n1v4A4s07S8seU4BpRtd9wf2q7pDD1nPPTssdUYsJdSO5h91_ZM2xqZluuNbM-2DMAoIakeDzvvVt898dYNtDmab_TcpGw?type=png)"
   ]
  },
  {
   "cell_type": "markdown",
   "id": "957633e6-7304-4be1-a77d-e568434a1fec",
   "metadata": {
    "jp-MarkdownHeadingCollapsed": true,
    "slideshow": {
     "slide_type": "subslide"
    },
    "tags": []
   },
   "source": [
    "## Functions\n",
    "\n",
    "🐍 [Official Docs](https://docs.python.org/3/howto/functional.html)\n",
    "\n",
    "\n",
    "<table>\n",
    "  <tr>\n",
    "    <th>Aspect</th>\n",
    "    <th>Description</th>\n",
    "    <th>Example</th>\n",
    "  </tr>\n",
    "  <tr>\n",
    "    <td>Definition</td>\n",
    "    <td>A Python function is a reusable and named block of code designed to perform specific tasks or return values.</td>\n",
    "    <td><pre><code>def greet(name):\n",
    "    print(f\"Hello, {name}!\")\n",
    "greet(\"Alice\")</code></pre></td>\n",
    "\n",
    "  </tr>\n",
    "  <tr>\n",
    "    <td>Parameters</td>\n",
    "    <td>A function can have zero or more parameters, and when defined, it requires the same number of arguments during invocation.</td>\n",
    "    <td><pre><code>def add(x, y):\n",
    "    return x + y\n",
    "result = add(3, 5)</code></pre></td>\n",
    "\n",
    "  </tr>\n",
    "  <tr>\n",
    "    <td>Return Value</td>\n",
    "    <td>Functions can execute tasks and produce results, facilitated by the <code>return</code> statement to yield values.</td>\n",
    "    <td><pre><code>def calculate_sum(numbers):\n",
    "    total = 0\n",
    "    for num in numbers:\n",
    "        total += num\n",
    "    return total\n",
    "nums = [1, 2, 3, 4, 5]\n",
    "result = calculate_sum(nums)</code></pre></td>\n",
    "\n",
    "  </tr>\n",
    "</table>"
   ]
  },
  {
   "cell_type": "markdown",
   "id": "d710b0a2-7b3d-4b2e-899d-6d9d8f92f779",
   "metadata": {
    "slideshow": {
     "slide_type": "subslide"
    },
    "tags": []
   },
   "source": [
    "## Classes\n",
    "\n",
    "🐍 [Official Docs](https://docs.python.org/3/tutorial/classes.html)\n",
    "\n",
    "\n",
    "| Concept                  | Description                                                                                                                | Example                                                                                                                            |\n",
    "|--------------------------|----------------------------------------------------------------------------------------------------------------------------|------------------------------------------------------------------------------------------------------------------------------------|\n",
    "| Class Definition         | Define a new class using the `class` keyword.                                                                             | `class MyClass:`<br>&nbsp;&nbsp;&nbsp;&nbsp;`def __init__(self, x):`<br>&nbsp;&nbsp;&nbsp;&nbsp;&nbsp;&nbsp;&nbsp;&nbsp;`self.x = x`<br> `def method(self):`<br>&nbsp;&nbsp;&nbsp;&nbsp;&nbsp;&nbsp;&nbsp;&nbsp;`return self.x * 2`                                          |\n",
    "| Creating Instances       | Create instances (objects) of a class by calling the class as if it were a function.                                     | `obj = MyClass(5)`                                                                                                                 |\n",
    "| Instance Variables       | Define instance variables to store data unique to each instance.                                                          | `class MyClass:`<br>&nbsp;&nbsp;&nbsp;&nbsp;`def __init__(self, x):`<br>&nbsp;&nbsp;&nbsp;&nbsp;&nbsp;&nbsp;&nbsp;&nbsp;`self.x = x`                                                            |\n",
    "| Instance Methods         | Define methods that operate on the instance and have access to instance variables using `self`.                          | `class MyClass:`<br>&nbsp;&nbsp;&nbsp;&nbsp;`def method(self):`<br>&nbsp;&nbsp;&nbsp;&nbsp;&nbsp;&nbsp;&nbsp;&nbsp;`return self.x * 2`                                                        |\n",
    "| Class Variables          | Define class variables that are shared among all instances of the class.                                                  | `class MyClass:`<br>&nbsp;&nbsp;&nbsp;&nbsp;`class_var = 0`                                                                    |\n",
    "| Class Methods (`@classmethod`)            | Define class methods using the `@classmethod` decorator.<br>These methods take the class as the first argument (usually named `cls`) instead of the instance (`self`). They are commonly used to create factory methods or perform operations that involve the class itself.                                                                 | `class MyClass:`<br>&nbsp;&nbsp;&nbsp;&nbsp;`class_var = 0`<br>&nbsp;&nbsp;&nbsp;&nbsp;`@classmethod`<br>&nbsp;&nbsp;&nbsp;&nbsp;`def class_method(cls):`<br>&nbsp;&nbsp;&nbsp;&nbsp;&nbsp;&nbsp;&nbsp;&nbsp;`return cls.class_var * 2`                                      |\n",
    "| Static Methods (`@staticmethod`)          | Define static methods using the `@staticmethod` decorator.<br>These methods are bound to the class and don't have access to the instance (`self`) or class (`cls`). They behave like regular functions but are included in the class's namespace for convenience.                                                               | `class MyClass:`<br>&nbsp;&nbsp;&nbsp;&nbsp;`@staticmethod`<br>&nbsp;&nbsp;&nbsp;&nbsp;`def static_method():`<br>&nbsp;&nbsp;&nbsp;&nbsp;&nbsp;&nbsp;&nbsp;&nbsp;`return \"This is a static method\"`                      |\n",
    "| Property Decorator       | Create a read-only property using the `@property` decorator.                                                              | `class MyClass:`<br>&nbsp;&nbsp;&nbsp;&nbsp;`def __init__(self, x):`<br>&nbsp;&nbsp;&nbsp;&nbsp;&nbsp;&nbsp;&nbsp;&nbsp;`self._x = x`<br>&nbsp;&nbsp;&nbsp;&nbsp;`@property`<br>&nbsp;&nbsp;&nbsp;&nbsp;`def x(self):`<br>&nbsp;&nbsp;&nbsp;&nbsp;&nbsp;&nbsp;&nbsp;&nbsp;`return self._x`        |\n",
    "| Property Setter Decorator| Create a setter for a property using the `@property.setter` decorator.                                                    | `class MyClass:`<br>&nbsp;&nbsp;&nbsp;&nbsp;`def __init__(self, x):`<br>&nbsp;&nbsp;&nbsp;&nbsp;&nbsp;&nbsp;&nbsp;&nbsp;`self._x = x`<br>&nbsp;&nbsp;&nbsp;&nbsp;`@property`<br>&nbsp;&nbsp;&nbsp;&nbsp;`def x(self):`<br>&nbsp;&nbsp;&nbsp;&nbsp;&nbsp;&nbsp;&nbsp;&nbsp;`return self._x`<br>&nbsp;&nbsp;&nbsp;&nbsp;`@x.setter`<br>&nbsp;&nbsp;&nbsp;&nbsp;`def x(self, value):`<br>&nbsp;&nbsp;&nbsp;&nbsp;&nbsp;&nbsp;&nbsp;&nbsp;`self._x = value`|\n"
   ]
  },
  {
   "cell_type": "markdown",
   "id": "e9fb5966-d468-43d9-8d2b-0d43cfac51a8",
   "metadata": {
    "jp-MarkdownHeadingCollapsed": true,
    "slideshow": {
     "slide_type": "subslide"
    },
    "tags": []
   },
   "source": [
    "## Singletons/Built-in Constants\n",
    "\n",
    "🐍 [Official Docs](https://docs.python.org/3/library/constants.html)\n",
    "\n",
    "\n",
    "| Singleton       | Description                                                                                                                                                                                              | Example                                                                                           |\n",
    "|-----------------|----------------------------------------------------------------------------------------------------------------------------------------------------------------------------------------------------------|---------------------------------------------------------------------------------------------------|\n",
    "| `None`          | Represents the absence of a value or a null value. It is a special constant in Python and is often used to indicate the absence of a meaningful value.                                                   | `def find_element(lst, target):`<br>&nbsp;&nbsp;&nbsp;&nbsp;`for elem in lst:`<br>&nbsp;&nbsp;&nbsp;&nbsp;&nbsp;&nbsp;&nbsp;&nbsp;`if elem == target:`<br>&nbsp;&nbsp;&nbsp;&nbsp;&nbsp;&nbsp;&nbsp;&nbsp;&nbsp;&nbsp;&nbsp;&nbsp;`return elem`<br>&nbsp;&nbsp;&nbsp;&nbsp;`return None`<br><br>`result = find_element([1, 2, 3], 4)`<br>`print(result)  # Output: None` |\n",
    "| `NotImplemented`| Represents a return value used by methods to indicate that the operation is not implemented or not applicable. It is often returned by special methods like comparison operators to indicate that the operation is not supported.  | `class MyClass:`<br>&nbsp;&nbsp;&nbsp;&nbsp;`def __eq__(self, other):`<br>&nbsp;&nbsp;&nbsp;&nbsp;&nbsp;&nbsp;&nbsp;&nbsp;`return NotImplemented`<br><br>`obj1 = MyClass()`<br>`obj2 = MyClass()`<br>`result = obj1 == obj2`<br>`print(result)  # Output: False` |\n",
    "| `Ellipsis` (`...`)| Represents a placeholder used in function definitions or as a marker in certain contexts. It is often used to indicate that certain parts of the code are yet to be implemented or that the function can accept any number of arguments.  | `def some_method():`<br>&nbsp;&nbsp;&nbsp;&nbsp;`...`<br> |"
   ]
  },
  {
   "cell_type": "markdown",
   "id": "b293198d",
   "metadata": {
    "slideshow": {
     "slide_type": "slide"
    }
   },
   "source": [
    "## Exception handling"
   ]
  },
  {
   "cell_type": "code",
   "execution_count": null,
   "id": "9ab6800b",
   "metadata": {
    "slideshow": {
     "slide_type": "subslide"
    }
   },
   "outputs": [],
   "source": [
    "def divide_numbers(a, b):\n",
    "    try:\n",
    "        result = a / b\n",
    "    except ZeroDivisionError as e:\n",
    "        print(f\"\\n{a} / {b} throws {e!r}\")\n",
    "    except TypeError as e:\n",
    "        print(f\"\\n{a} / {b!r} throws {e!r}\")\n",
    "    except Exception as e:\n",
    "        print(f\"\\n{a:,} / {b} throws {e!r}\")\n",
    "    else:\n",
    "        print(\"\\nDivision result:\", result)\n",
    "    finally:\n",
    "        print(\"Division operation completed.\")\n",
    "\n",
    "# Example usages\n",
    "divide_numbers(10, 2)   # Successful division\n",
    "divide_numbers(10, 0)   # Division by zero error\n",
    "divide_numbers(10, '2') # Invalid operand type error\n",
    "divide_numbers(2**3000, 10) # Catch all exception"
   ]
  },
  {
   "cell_type": "markdown",
   "id": "4888c4c1-0683-4b75-b980-f6c04998f117",
   "metadata": {},
   "source": [
    "💡 In case you want to have a cheatsheet for reference in future use any of these:\n",
    "- [**One Page Python Cheatsheet**](https://github.com/kickstartcoding/cheatsheets/blob/master/build/topical/python.pdf)\n",
    "- [**Comprehensive Python Cheatsheet**](https://gto76.github.io/python-cheatsheet/)"
   ]
  }
 ],
 "metadata": {
  "celltoolbar": "Slideshow",
  "kernelspec": {
   "display_name": "Python 3 (ipykernel)",
   "language": "python",
   "name": "python3"
  },
  "language_info": {
   "codemirror_mode": {
    "name": "ipython",
    "version": 3
   },
   "file_extension": ".py",
   "mimetype": "text/x-python",
   "name": "python",
   "nbconvert_exporter": "python",
   "pygments_lexer": "ipython3",
   "version": "3.8.8"
  }
 },
 "nbformat": 4,
 "nbformat_minor": 5
}
