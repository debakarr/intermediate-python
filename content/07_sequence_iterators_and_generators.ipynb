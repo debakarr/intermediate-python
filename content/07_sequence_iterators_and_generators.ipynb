{
 "cells": [
  {
   "cell_type": "markdown",
   "metadata": {},
   "source": [
    "# Sequence, Iterator and Generator"
   ]
  },
  {
   "cell_type": "markdown",
   "metadata": {},
   "source": [
    "**Sequences**\n",
    "\n",
    "- Sequences are ordered collections of elements in Python.\n",
    "- Each element in a sequence is indexed by a unique integer.\n",
    "- Common sequence types in Python include strings, lists, tuples, and range objects.\n",
    "- Sequences are iterable, meaning you can traverse through their elements one by one."
   ]
  },
  {
   "cell_type": "markdown",
   "metadata": {},
   "source": [
    "Sequence support `membership operator` (`in` and `not in`)"
   ]
  },
  {
   "cell_type": "code",
   "execution_count": 1,
   "metadata": {},
   "outputs": [
    {
     "name": "stdout",
     "output_type": "stream",
     "text": [
      "1 in numbers = True\n",
      "10 not in numbers = True\n"
     ]
    }
   ],
   "source": [
    "numbers = [1, 2, 3, 4, 5]\n",
    "\n",
    "print(f\"{1 in numbers = }\")\n",
    "print(f\"{10 not in numbers = }\")"
   ]
  },
  {
   "cell_type": "markdown",
   "metadata": {},
   "source": [
    "Sequence support `concatenation`"
   ]
  },
  {
   "cell_type": "code",
   "execution_count": 2,
   "metadata": {},
   "outputs": [
    {
     "name": "stdout",
     "output_type": "stream",
     "text": [
      "[1, 2, 3, 4, 5, 6, 7, 8, 9, 10]\n"
     ]
    }
   ],
   "source": [
    "numbers1 = [1, 2, 3, 4, 5]\n",
    "numbers2 = [6, 7, 8, 9, 10]\n",
    "\n",
    "print(numbers1 + numbers2)"
   ]
  },
  {
   "cell_type": "markdown",
   "metadata": {},
   "source": [
    "Sequence support `repetition`"
   ]
  },
  {
   "cell_type": "code",
   "execution_count": 3,
   "metadata": {},
   "outputs": [
    {
     "name": "stdout",
     "output_type": "stream",
     "text": [
      "[1, 2, 3, 4, 5, 1, 2, 3, 4, 5, 1, 2, 3, 4, 5]\n"
     ]
    }
   ],
   "source": [
    "numbers1 = [1, 2, 3, 4, 5]\n",
    "\n",
    "print(3 * numbers)"
   ]
  },
  {
   "cell_type": "markdown",
   "metadata": {},
   "source": [
    "Sequence support built-in functions like `len`, `min`, `max` etc."
   ]
  },
  {
   "cell_type": "code",
   "execution_count": 4,
   "metadata": {},
   "outputs": [
    {
     "name": "stdout",
     "output_type": "stream",
     "text": [
      "len(numbers) = 5\n",
      "min(numbers) = 1\n",
      "max(numbers) = 5\n"
     ]
    }
   ],
   "source": [
    "numbers1 = [1, 2, 3, 4, 5]\n",
    "\n",
    "print(f\"{len(numbers) = }\")\n",
    "print(f\"{min(numbers) = }\")\n",
    "print(f\"{max(numbers) = }\")"
   ]
  },
  {
   "cell_type": "markdown",
   "metadata": {},
   "source": [
    "Sequence are `indexable`"
   ]
  },
  {
   "cell_type": "code",
   "execution_count": 5,
   "metadata": {},
   "outputs": [
    {
     "name": "stdout",
     "output_type": "stream",
     "text": [
      "Index of first 1: numbers.index(1) = 0\n",
      "Index of first 1, at or after index 1: numbers.index(1, 1) = 2\n",
      "Index of first 3, at or after index 4 and before 12: numbers.index(3, 4, 12) = 8\n"
     ]
    }
   ],
   "source": [
    "numbers = [1, 2, 1, 3, 5, 7, 2, 9, 3, 7, 3, 4, 5]\n",
    "\n",
    "print(f\"Index of first 1: {numbers.index(1) = }\")\n",
    "print(f\"Index of first 1, at or after index 1: {numbers.index(1, 1) = }\")\n",
    "print(f\"Index of first 3, at or after index 4 and before 12: {numbers.index(3, 4, 12) = }\")"
   ]
  },
  {
   "cell_type": "markdown",
   "metadata": {},
   "source": [
    "Sequence can be `slice`"
   ]
  },
  {
   "cell_type": "code",
   "execution_count": 6,
   "metadata": {},
   "outputs": [
    {
     "name": "stdout",
     "output_type": "stream",
     "text": [
      "numbers[2] = 1\n",
      "numbers[2:10] = [1, 3, 5, 7, 2, 9, 3, 7]\n",
      "numbers[2:10:3] = [1, 7, 3]\n",
      "numbers[-1] = 5\n"
     ]
    }
   ],
   "source": [
    "numbers = [1, 2, 1, 3, 5, 7, 2, 9, 3, 7, 3, 4, 5]\n",
    "\n",
    "print(f\"{numbers[2] = }\")\n",
    "print(f\"{numbers[2:10] = }\")\n",
    "print(f\"{numbers[2:10:3] = }\")\n",
    "print(f\"{numbers[-1] = }\")"
   ]
  },
  {
   "cell_type": "markdown",
   "metadata": {},
   "source": [
    "---\n",
    "**Iterators**\n",
    "\n",
    "- An iterator is an object that implements the iterator protocol.\n",
    "- The iterator protocol involves two methods: `__iter__()` and `__next__()`.\n",
    "- The `__iter__()` method returns the iterator object itself.\n",
    "- The `__next__()` method returns the next element in the sequence or raises a `StopIteration` exception if there are no more elements to be iterated.\n",
    "- Iterators allow efficient traversal through a collection of elements without loading the entire collection into memory.\n",
    "- Custom iterators can be created by defining classes with `__iter__()` and `__next__()` methods."
   ]
  },
  {
   "cell_type": "code",
   "execution_count": 7,
   "metadata": {},
   "outputs": [],
   "source": [
    "numbers = [1, 2, 3]\n",
    "\n",
    "number_iterator = iter(numbers)"
   ]
  },
  {
   "cell_type": "code",
   "execution_count": 8,
   "metadata": {},
   "outputs": [
    {
     "name": "stdout",
     "output_type": "stream",
     "text": [
      "<class 'list_iterator'>\n"
     ]
    }
   ],
   "source": [
    "print(type(number_iterator))"
   ]
  },
  {
   "cell_type": "code",
   "execution_count": 9,
   "metadata": {},
   "outputs": [
    {
     "name": "stdout",
     "output_type": "stream",
     "text": [
      "1\n",
      "2\n",
      "3\n"
     ]
    },
    {
     "ename": "StopIteration",
     "evalue": "",
     "output_type": "error",
     "traceback": [
      "\u001b[0;31m---------------------------------------------------------------------------\u001b[0m",
      "\u001b[0;31mStopIteration\u001b[0m                             Traceback (most recent call last)",
      "\u001b[0;32m<ipython-input-9-c162ca0c412c>\u001b[0m in \u001b[0;36m<module>\u001b[0;34m\u001b[0m\n\u001b[1;32m      2\u001b[0m \u001b[0mprint\u001b[0m\u001b[0;34m(\u001b[0m\u001b[0mnext\u001b[0m\u001b[0;34m(\u001b[0m\u001b[0mnumber_iterator\u001b[0m\u001b[0;34m)\u001b[0m\u001b[0;34m)\u001b[0m\u001b[0;34m\u001b[0m\u001b[0;34m\u001b[0m\u001b[0m\n\u001b[1;32m      3\u001b[0m \u001b[0mprint\u001b[0m\u001b[0;34m(\u001b[0m\u001b[0mnext\u001b[0m\u001b[0;34m(\u001b[0m\u001b[0mnumber_iterator\u001b[0m\u001b[0;34m)\u001b[0m\u001b[0;34m)\u001b[0m\u001b[0;34m\u001b[0m\u001b[0;34m\u001b[0m\u001b[0m\n\u001b[0;32m----> 4\u001b[0;31m \u001b[0mprint\u001b[0m\u001b[0;34m(\u001b[0m\u001b[0mnext\u001b[0m\u001b[0;34m(\u001b[0m\u001b[0mnumber_iterator\u001b[0m\u001b[0;34m)\u001b[0m\u001b[0;34m)\u001b[0m\u001b[0;34m\u001b[0m\u001b[0;34m\u001b[0m\u001b[0m\n\u001b[0m",
      "\u001b[0;31mStopIteration\u001b[0m: "
     ]
    }
   ],
   "source": [
    "print(next(number_iterator))\n",
    "print(next(number_iterator))\n",
    "print(next(number_iterator))\n",
    "print(next(number_iterator))"
   ]
  },
  {
   "cell_type": "code",
   "execution_count": null,
   "metadata": {},
   "outputs": [],
   "source": [
    "numbers = [1, 2, 3]\n",
    "\n",
    "number_iterator = iter(numbers)\n",
    "\n",
    "for number in number_iterator:\n",
    "    print(number)"
   ]
  },
  {
   "cell_type": "markdown",
   "metadata": {},
   "source": [
    "`for` loop under the hood"
   ]
  },
  {
   "cell_type": "code",
   "execution_count": null,
   "metadata": {},
   "outputs": [],
   "source": [
    "number_iterator = iter(numbers)\n",
    "\n",
    "while True:\n",
    "    try:\n",
    "        value = next(number_iterator)\n",
    "    except StopIteration:\n",
    "        break\n",
    "    else:\n",
    "        print(value)"
   ]
  },
  {
   "cell_type": "markdown",
   "metadata": {},
   "source": [
    "**Creating custom iterator**\n",
    "\n",
    "Generally custom iterator are created using class and you will define an `__iter__` method and a `__next__` method.\n",
    "\n",
    "While defining an iterator you might want to raise `StopIteration` once you reach a certain condition. This is what is used by `for` to stop calling next over the iterator object.\n",
    "\n",
    "Example of creating a iterator which behave similar to Python's built-in `range` functions:"
   ]
  },
  {
   "cell_type": "code",
   "execution_count": 10,
   "metadata": {},
   "outputs": [],
   "source": [
    "class MyRangeIterator:\n",
    "    def __init__(self, start, end, step=1):\n",
    "        self.current = start\n",
    "        self.end = end\n",
    "        self.step = step\n",
    "\n",
    "    def __iter__(self):\n",
    "        # An iterator must return itself as an iterator\n",
    "        return self\n",
    "\n",
    "    def __next__(self):\n",
    "        if self.current < self.end:\n",
    "            value = self.current\n",
    "            self.current += self.step\n",
    "            return value\n",
    "        else:\n",
    "            raise StopIteration"
   ]
  },
  {
   "cell_type": "code",
   "execution_count": 11,
   "metadata": {},
   "outputs": [
    {
     "name": "stdout",
     "output_type": "stream",
     "text": [
      "0\n",
      "2\n",
      "4\n",
      "6\n",
      "8\n"
     ]
    }
   ],
   "source": [
    "for item in MyRangeIterator(0, 10, 2):\n",
    "    print(item)"
   ]
  },
  {
   "cell_type": "markdown",
   "metadata": {},
   "source": [
    "You can also have infinite iterator which iterates forever. User have to put bound to make sure they don't end up with infinite loop.\n",
    "\n",
    "Example of creating an infinite iterator which produce square sequence starting from number 1:"
   ]
  },
  {
   "cell_type": "code",
   "execution_count": 12,
   "metadata": {},
   "outputs": [],
   "source": [
    "class SquareIterator:\n",
    "    def __init__(self):\n",
    "        self._number = 0\n",
    "        \n",
    "    def __iter__(self):\n",
    "        return self\n",
    "    \n",
    "    def __next__(self):\n",
    "        self._number += 1\n",
    "        return self._number ** 2"
   ]
  },
  {
   "cell_type": "code",
   "execution_count": 13,
   "metadata": {},
   "outputs": [
    {
     "name": "stdout",
     "output_type": "stream",
     "text": [
      "1\n",
      "4\n",
      "9\n",
      "16\n",
      "25\n",
      "36\n",
      "49\n",
      "64\n",
      "81\n",
      "100\n",
      "121\n",
      "144\n"
     ]
    }
   ],
   "source": [
    "square_iterator = SquareIterator()\n",
    "\n",
    "for number in square_iterator:\n",
    "    if number > 150:\n",
    "        break\n",
    "    print(number)"
   ]
  },
  {
   "cell_type": "markdown",
   "metadata": {},
   "source": [
    "Later we will have a look into `itertools` module to see how we can use functions like `islice` or `takewhile` to get certain number of items from an iterator.\n",
    "\n",
    "---"
   ]
  },
  {
   "cell_type": "markdown",
   "metadata": {},
   "source": [
    "**Generators**\n",
    "\n",
    "- A generator is a special type of iterator that simplifies iterator creation using functions.\n",
    "- Instead of implementing `__iter__()` and `__next__()` methods, you can use the `yield` keyword within a function.\n",
    "- When a generator function is called, it returns a generator object that can be iterated over.\n",
    "- The `yield` statement produces a value on-the-fly during iteration, and the function's state is saved between yields.\n",
    "- Generators are memory-efficient as they generate values as needed, making them ideal for handling large datasets or infinite sequences.\n",
    "- Infinite sequences can be created easily using generators without consuming excessive memory."
   ]
  },
  {
   "cell_type": "code",
   "execution_count": 14,
   "metadata": {},
   "outputs": [],
   "source": [
    "def square_generator():\n",
    "    number = 1\n",
    "    while True:\n",
    "        yield number ** 2\n",
    "        number += 1"
   ]
  },
  {
   "cell_type": "code",
   "execution_count": 15,
   "metadata": {},
   "outputs": [
    {
     "name": "stdout",
     "output_type": "stream",
     "text": [
      "<class 'generator'>\n"
     ]
    }
   ],
   "source": [
    "print(type(square_generator()))"
   ]
  },
  {
   "cell_type": "code",
   "execution_count": 16,
   "metadata": {},
   "outputs": [
    {
     "name": "stdout",
     "output_type": "stream",
     "text": [
      "1\n",
      "4\n",
      "9\n",
      "16\n"
     ]
    }
   ],
   "source": [
    "sq = square_generator()\n",
    "print(next(sq))\n",
    "print(next(sq))\n",
    "print(next(sq))\n",
    "print(next(sq))"
   ]
  },
  {
   "cell_type": "code",
   "execution_count": 17,
   "metadata": {},
   "outputs": [
    {
     "name": "stdout",
     "output_type": "stream",
     "text": [
      "1\n",
      "4\n",
      "9\n",
      "16\n",
      "25\n",
      "36\n",
      "49\n",
      "64\n",
      "81\n",
      "100\n",
      "121\n",
      "144\n"
     ]
    }
   ],
   "source": [
    "for number in square_generator():\n",
    "    if number > 150:\n",
    "        break\n",
    "    print(number)"
   ]
  },
  {
   "cell_type": "markdown",
   "metadata": {},
   "source": [
    "---\n",
    "The `yield from` statement is used in Python to delegate part of the operations of a generator to another generator, iterable, or iterator. It simplifies and enhances the capabilities of nested generators, allowing you to avoid writing complex nested loops or repetitive `for` loops. The `yield from` statement was introduced in Python 3.3 to improve the clarity and efficiency of working with nested generators.\n",
    "\n",
    "When to use `yield from`:\n",
    "\n",
    "You should use `yield from` when you have multiple generators, iterables, or iterators that need to be combined or delegated to produce a single stream of data. It simplifies the process of handling nested generators and can significantly improve the readability of your code.\n",
    "\n",
    "Here are some situations where `yield from` is helpful:\n",
    "\n",
    "1. Combining data from multiple sources: When you have different data sources represented as generators or iterables, `yield from` can help you combine them into a single generator efficiently.\n",
    "\n",
    "2. Recursive generators: If you have generators that call other generators recursively, `yield from` simplifies the delegation of responsibility between generators, avoiding the need for explicit loops.\n",
    "\n",
    "3. Fluent generator chaining: When you want to chain multiple generators in a fluent and expressive manner, `yield from` can make the code more concise and readable."
   ]
  },
  {
   "cell_type": "code",
   "execution_count": 18,
   "metadata": {},
   "outputs": [
    {
     "name": "stdout",
     "output_type": "stream",
     "text": [
      "Dataset 1 - Data point 1\n",
      "Dataset 1 - Data point 2\n",
      "Dataset 1 - Data point 3\n",
      "Dataset 1 - Data point 4\n",
      "Dataset 1 - Data point 5\n",
      "Dataset 2 - Data point 6\n",
      "Dataset 2 - Data point 7\n",
      "Dataset 2 - Data point 8\n",
      "Dataset 2 - Data point 9\n",
      "Dataset 2 - Data point 10\n",
      "Dataset 3 - Data point 11\n",
      "Dataset 3 - Data point 12\n",
      "Dataset 3 - Data point 13\n",
      "Dataset 3 - Data point 14\n",
      "Dataset 3 - Data point 15\n"
     ]
    }
   ],
   "source": [
    "def dataset1():\n",
    "    for i in range(1, 6):\n",
    "        yield f\"Dataset 1 - Data point {i}\"\n",
    "\n",
    "def dataset2():\n",
    "    for i in range(6, 11):\n",
    "        yield f\"Dataset 2 - Data point {i}\"\n",
    "\n",
    "def dataset3():\n",
    "    for i in range(11, 16):\n",
    "        yield f\"Dataset 3 - Data point {i}\"\n",
    "\n",
    "def combined_datasets():\n",
    "    yield from dataset1()\n",
    "    yield from dataset2()\n",
    "    yield from dataset3()\n",
    "\n",
    "\n",
    "for data_point in combined_datasets():\n",
    "    print(data_point)"
   ]
  },
  {
   "cell_type": "markdown",
   "metadata": {},
   "source": [
    "---\n",
    "**Iterator** are more memory-efficient than **Generator** "
   ]
  },
  {
   "cell_type": "code",
   "execution_count": 19,
   "metadata": {},
   "outputs": [
    {
     "name": "stdout",
     "output_type": "stream",
     "text": [
      "Memory usage for infinite square generator: 112 bytes\n",
      "Memory usage for infinite square iterator: 48 bytes\n"
     ]
    }
   ],
   "source": [
    "import sys\n",
    "\n",
    "# Get memory usage for generator\n",
    "gen = square_generator()\n",
    "print(f\"Memory usage for infinite square generator: {sys.getsizeof(gen)} bytes\")\n",
    "\n",
    "# Get memory usage for iterator\n",
    "it = SquareIterator()\n",
    "print(f\"Memory usage for infinite square iterator: {sys.getsizeof(it)} bytes\")"
   ]
  },
  {
   "cell_type": "markdown",
   "metadata": {},
   "source": [
    "---\n",
    "**Generator** are faster then **Iterator**"
   ]
  },
  {
   "cell_type": "code",
   "execution_count": 20,
   "metadata": {},
   "outputs": [
    {
     "name": "stdout",
     "output_type": "stream",
     "text": [
      "244 ns ± 4.76 ns per loop (mean ± std. dev. of 5 runs, 100000 loops each)\n"
     ]
    }
   ],
   "source": [
    "gen = square_generator()\n",
    "%timeit -n 100000 -r 5 next(gen)"
   ]
  },
  {
   "cell_type": "code",
   "execution_count": 21,
   "metadata": {},
   "outputs": [
    {
     "name": "stdout",
     "output_type": "stream",
     "text": [
      "317 ns ± 11.7 ns per loop (mean ± std. dev. of 5 runs, 100000 loops each)\n"
     ]
    }
   ],
   "source": [
    "it = SquareIterator()\n",
    "%timeit -n 100000 -r 5 next(it)"
   ]
  },
  {
   "cell_type": "markdown",
   "metadata": {},
   "source": [
    "---\n",
    "Useful `built-in functions`, `itertools functions`, `functools functions` to work with Iterators"
   ]
  },
  {
   "cell_type": "markdown",
   "metadata": {},
   "source": [
    "**Aggregators**"
   ]
  },
  {
   "cell_type": "markdown",
   "metadata": {},
   "source": [
    "1. `sum()`:\n",
    "   - Example: Calculating the total sales from a list of daily sales."
   ]
  },
  {
   "cell_type": "code",
   "execution_count": 22,
   "metadata": {},
   "outputs": [
    {
     "name": "stdout",
     "output_type": "stream",
     "text": [
      "Total Sales: 650\n"
     ]
    }
   ],
   "source": [
    "daily_sales = [100, 150, 120, 80, 200]\n",
    "total_sales = sum(daily_sales)\n",
    "print(f\"Total Sales: {total_sales}\")  # Output: Total Sales: 650"
   ]
  },
  {
   "cell_type": "markdown",
   "metadata": {},
   "source": [
    "2. `max()`:\n",
    "   - Example: Finding the highest temperature recorded in a week."
   ]
  },
  {
   "cell_type": "code",
   "execution_count": 23,
   "metadata": {},
   "outputs": [
    {
     "name": "stdout",
     "output_type": "stream",
     "text": [
      "Highest Temperature: 30\n"
     ]
    }
   ],
   "source": [
    "weekly_temperatures = [24, 27, 25, 28, 26, 22, 30]\n",
    "highest_temperature = max(weekly_temperatures)\n",
    "print(f\"Highest Temperature: {highest_temperature}\")  # Output: Highest Temperature: 30"
   ]
  },
  {
   "cell_type": "markdown",
   "metadata": {},
   "source": [
    "3. `min()`:\n",
    "   - Example: Finding the lowest score in a quiz."
   ]
  },
  {
   "cell_type": "code",
   "execution_count": 24,
   "metadata": {},
   "outputs": [
    {
     "name": "stdout",
     "output_type": "stream",
     "text": [
      "Lowest Score: 68\n"
     ]
    }
   ],
   "source": [
    "quiz_scores = [85, 72, 90, 68, 78]\n",
    "lowest_score = min(quiz_scores)\n",
    "print(f\"Lowest Score: {lowest_score}\")  # Output: Lowest Score: 68"
   ]
  },
  {
   "cell_type": "markdown",
   "metadata": {},
   "source": [
    "4. `any()`:\n",
    "   - Example: Checking if any of the employees have overtime hours."
   ]
  },
  {
   "cell_type": "code",
   "execution_count": 25,
   "metadata": {},
   "outputs": [
    {
     "name": "stdout",
     "output_type": "stream",
     "text": [
      "Has Overtime: True\n"
     ]
    }
   ],
   "source": [
    "overtime_hours = [0, 0, 0, 3, 1, 0]\n",
    "has_overtime = any(overtime_hours)\n",
    "print(f\"Has Overtime: {has_overtime}\")  # Output: Has Overtime: True"
   ]
  },
  {
   "cell_type": "markdown",
   "metadata": {},
   "source": [
    "5. `all()`:\n",
    "   - Example: Verifying if all students passed in a class."
   ]
  },
  {
   "cell_type": "code",
   "execution_count": 26,
   "metadata": {},
   "outputs": [
    {
     "name": "stdout",
     "output_type": "stream",
     "text": [
      "All Passed: False\n"
     ]
    }
   ],
   "source": [
    "exam_results = [True, True, False, True, True]\n",
    "all_passed = all(exam_results)\n",
    "print(f\"All Passed: {all_passed}\")  # Output: All Passed: False"
   ]
  },
  {
   "cell_type": "markdown",
   "metadata": {},
   "source": [
    "6. `len()`:\n",
    "   - Example: Counting the number of students in a class."
   ]
  },
  {
   "cell_type": "code",
   "execution_count": 27,
   "metadata": {},
   "outputs": [
    {
     "name": "stdout",
     "output_type": "stream",
     "text": [
      "Number of Students: 5\n"
     ]
    }
   ],
   "source": [
    "students = [\"Alice\", \"Bob\", \"Charlie\", \"David\", \"Eva\"]\n",
    "num_students = len(students)\n",
    "print(f\"Number of Students: {num_students}\")  # Output: Number of Students: 5"
   ]
  },
  {
   "cell_type": "markdown",
   "metadata": {},
   "source": [
    "---\n",
    "**Slicing Iterables**"
   ]
  },
  {
   "cell_type": "markdown",
   "metadata": {},
   "source": [
    "1. `slice()`:\n",
    "   - Example: Extracting a specific portion of a string representing a date."
   ]
  },
  {
   "cell_type": "code",
   "execution_count": 28,
   "metadata": {},
   "outputs": [
    {
     "name": "stdout",
     "output_type": "stream",
     "text": [
      "Year: 2023, Month: 07, Day: 15\n"
     ]
    }
   ],
   "source": [
    "date_str = \"2023-07-15\"\n",
    "year_slice = slice(0, 4)\n",
    "month_slice = slice(5, 7)\n",
    "day_slice = slice(8, 10)\n",
    "\n",
    "year = date_str[year_slice]\n",
    "month = date_str[month_slice]\n",
    "day = date_str[day_slice]\n",
    "\n",
    "print(f\"Year: {year}, Month: {month}, Day: {day}\")"
   ]
  },
  {
   "cell_type": "markdown",
   "metadata": {},
   "source": [
    "2. `islice()` (itertools):\n",
    "   - Example: Extracting a limited number of elements from a long list."
   ]
  },
  {
   "cell_type": "code",
   "execution_count": 29,
   "metadata": {},
   "outputs": [
    {
     "name": "stdout",
     "output_type": "stream",
     "text": [
      "1\n",
      "2\n",
      "3\n",
      "4\n",
      "5\n",
      "6\n",
      "7\n",
      "8\n",
      "9\n",
      "10\n"
     ]
    }
   ],
   "source": [
    "from itertools import islice\n",
    "\n",
    "numbers = range(1, 101)\n",
    "limited_numbers = islice(numbers, 10)  # Get the first 10 numbers\n",
    "\n",
    "for num in limited_numbers:\n",
    "   print(num)"
   ]
  },
  {
   "cell_type": "markdown",
   "metadata": {},
   "source": [
    "---\n",
    "**Selection and Filtering**"
   ]
  },
  {
   "cell_type": "markdown",
   "metadata": {},
   "source": [
    "1. `filter()`:\n",
    "   - Example: Filtering even numbers from a list of integers."
   ]
  },
  {
   "cell_type": "code",
   "execution_count": 30,
   "metadata": {},
   "outputs": [
    {
     "name": "stdout",
     "output_type": "stream",
     "text": [
      "2\n",
      "4\n",
      "6\n",
      "8\n",
      "10\n"
     ]
    }
   ],
   "source": [
    "numbers = [1, 2, 3, 4, 5, 6, 7, 8, 9, 10]\n",
    "\n",
    "def is_even(num):\n",
    "   return num % 2 == 0\n",
    "\n",
    "for even_number in filter(is_even, numbers):\n",
    "    print(even_number)"
   ]
  },
  {
   "cell_type": "markdown",
   "metadata": {},
   "source": [
    "2. `itertools.filterfalse()`:\n",
    "   - Example: Filtering strings with a length greater than 5 from a list of words."
   ]
  },
  {
   "cell_type": "code",
   "execution_count": 31,
   "metadata": {},
   "outputs": [
    {
     "name": "stdout",
     "output_type": "stream",
     "text": [
      "banana\n",
      "orange\n",
      "watermelon\n"
     ]
    }
   ],
   "source": [
    "from itertools import filterfalse\n",
    "\n",
    "words = [\"apple\", \"banana\", \"orange\", \"grape\", \"watermelon\"]\n",
    "\n",
    "for long_word in filterfalse(lambda word: len(word) <= 5, words):\n",
    "    print(long_word)"
   ]
  },
  {
   "cell_type": "markdown",
   "metadata": {},
   "source": [
    "3. `functools.partial()` (for filtering with a custom function):\n",
    "   - Example: Using `functools.partial()` to filter scores above a certain threshold from a list of exam results."
   ]
  },
  {
   "cell_type": "code",
   "execution_count": 32,
   "metadata": {},
   "outputs": [
    {
     "name": "stdout",
     "output_type": "stream",
     "text": [
      "90\n",
      "92\n",
      "95\n"
     ]
    }
   ],
   "source": [
    "from functools import partial\n",
    "\n",
    "def is_above_threshold(threshold, score):\n",
    "   return score >= threshold\n",
    "\n",
    "exam_results = [85, 90, 78, 92, 68, 95]\n",
    "\n",
    "threshold_filter = partial(filter, partial(is_above_threshold, 90))\n",
    "for score_above_threshold in threshold_filter(exam_results):\n",
    "    print(score_above_threshold)"
   ]
  },
  {
   "cell_type": "markdown",
   "metadata": {},
   "source": [
    "4. `itertools.takewhile()`:\n",
    "   - Example: Taking numbers from a list until a condition is met."
   ]
  },
  {
   "cell_type": "code",
   "execution_count": 33,
   "metadata": {},
   "outputs": [
    {
     "name": "stdout",
     "output_type": "stream",
     "text": [
      "1\n",
      "2\n",
      "3\n"
     ]
    }
   ],
   "source": [
    "from itertools import takewhile\n",
    "\n",
    "def is_positive(num):\n",
    "   return num > 0\n",
    "\n",
    "numbers = [1, 2, 3, -4, 5, 6]\n",
    "for positive_number in takewhile(is_positive, numbers):\n",
    "    print(positive_number)"
   ]
  },
  {
   "cell_type": "markdown",
   "metadata": {},
   "source": [
    "5. `itertools.dropwhile()`:\n",
    "   - Example: Skipping elements from a list until a condition is met."
   ]
  },
  {
   "cell_type": "code",
   "execution_count": 34,
   "metadata": {},
   "outputs": [
    {
     "name": "stdout",
     "output_type": "stream",
     "text": [
      "4\n",
      "5\n",
      "6\n"
     ]
    }
   ],
   "source": [
    "from itertools import dropwhile\n",
    "\n",
    "def is_negative(num):\n",
    "   return num < 0\n",
    "\n",
    "numbers = [-1, -2, -3, 4, 5, 6]\n",
    "for positive_number in dropwhile(is_negative, numbers):\n",
    "    print(positive_number)"
   ]
  },
  {
   "cell_type": "markdown",
   "metadata": {},
   "source": [
    "6. `itertools.compress()`:\n",
    "   - Example: Selecting elements from a list based on a corresponding boolean mask."
   ]
  },
  {
   "cell_type": "code",
   "execution_count": 35,
   "metadata": {},
   "outputs": [
    {
     "name": "stdout",
     "output_type": "stream",
     "text": [
      "1\n",
      "3\n",
      "5\n"
     ]
    }
   ],
   "source": [
    "from itertools import compress\n",
    "\n",
    "data = [1, 2, 3, 4, 5]\n",
    "mask = [True, False, True, False, True]\n",
    "\n",
    "for selected_data in compress(data, mask):\n",
    "    print(selected_data)"
   ]
  },
  {
   "cell_type": "markdown",
   "metadata": {},
   "source": [
    "---\n",
    "**Infinite Iterators**"
   ]
  },
  {
   "cell_type": "markdown",
   "metadata": {},
   "source": [
    "1. `itertools.count()`:\n",
    "   - Example: Generating a unique identifier for each item in a list."
   ]
  },
  {
   "cell_type": "code",
   "execution_count": 36,
   "metadata": {},
   "outputs": [
    {
     "name": "stdout",
     "output_type": "stream",
     "text": [
      "Item: apple, ID: 1\n",
      "Item: banana, ID: 2\n",
      "Item: orange, ID: 3\n",
      "Item: grape, ID: 4\n"
     ]
    }
   ],
   "source": [
    "import itertools\n",
    "\n",
    "items = ['apple', 'banana', 'orange', 'grape']\n",
    "unique_ids = zip(itertools.count(start=1), items)\n",
    "\n",
    "for uid, item in unique_ids:\n",
    "   print(f\"Item: {item}, ID: {uid}\")"
   ]
  },
  {
   "cell_type": "markdown",
   "metadata": {},
   "source": [
    "   In this example, `itertools.count()` is used to generate an infinite sequence of numbers starting from 1. The `zip()` function combines the count with each item from the list, creating unique identifiers for each item."
   ]
  },
  {
   "cell_type": "markdown",
   "metadata": {},
   "source": [
    "2. `itertools.cycle()`:\n",
    "   - Example: Assigning tasks to a group of workers in a cyclical manner."
   ]
  },
  {
   "cell_type": "code",
   "execution_count": 37,
   "metadata": {},
   "outputs": [
    {
     "name": "stdout",
     "output_type": "stream",
     "text": [
      "Task: Task A, Assigned to: John\n",
      "Task: Task B, Assigned to: Alice\n",
      "Task: Task C, Assigned to: Bob\n",
      "Task: Task D, Assigned to: John\n",
      "Task: Task E, Assigned to: Alice\n",
      "Task: Task F, Assigned to: Bob\n",
      "Task: Task G, Assigned to: John\n",
      "Task: Task H, Assigned to: Alice\n"
     ]
    }
   ],
   "source": [
    "import itertools\n",
    "\n",
    "tasks = ['Task A', 'Task B', 'Task C', 'Task D', 'Task E', 'Task F', 'Task G', 'Task H']\n",
    "workers = ['John', 'Alice', 'Bob']\n",
    "task_assignments = zip(tasks, itertools.cycle(workers))\n",
    "\n",
    "for task, worker in task_assignments:\n",
    "   print(f\"Task: {task}, Assigned to: {worker}\")"
   ]
  },
  {
   "cell_type": "markdown",
   "metadata": {},
   "source": [
    "   In this example, `itertools.cycle()` is used to create an infinite iterator that cycles through the list of workers. The `zip()` function pairs each task with the next worker in the cycle, ensuring that tasks are assigned in a cyclical fashion."
   ]
  },
  {
   "cell_type": "markdown",
   "metadata": {},
   "source": [
    "3. `itertools.repeat()`:\n",
    "   - Example: Repeating a specific value a certain number of times."
   ]
  },
  {
   "cell_type": "code",
   "execution_count": 38,
   "metadata": {},
   "outputs": [
    {
     "name": "stdout",
     "output_type": "stream",
     "text": [
      "Hello, World!\n",
      "Hello, World!\n",
      "Hello, World!\n"
     ]
    }
   ],
   "source": [
    "import itertools\n",
    "\n",
    "value = 'Hello, World!'\n",
    "repeated_values = itertools.repeat(value, times=3)\n",
    "\n",
    "for repeated_value in repeated_values:\n",
    "   print(repeated_value)"
   ]
  },
  {
   "cell_type": "markdown",
   "metadata": {},
   "source": [
    "   In this example, `itertools.repeat()` is used to generate an iterator that repeats a specific value (`'Hello, World!'`) for a specified number of times (`3` in this case). The loop then prints each repeated value."
   ]
  },
  {
   "cell_type": "markdown",
   "metadata": {},
   "source": [
    "---\n",
    "**Mapping and Reducing**"
   ]
  },
  {
   "cell_type": "code",
   "execution_count": 39,
   "metadata": {},
   "outputs": [],
   "source": [
    "# Sales data (product, [sales_for_store_1, sales_for_store_2, ...])\n",
    "sales_data = [\n",
    "    (\"Apple\", [100, 150, 120]),\n",
    "    (\"Banana\", [80, 90, 70]),\n",
    "    (\"Orange\", [200, 180, 220]),\n",
    "    (\"Grapes\", [70, 60, 80]),\n",
    "]"
   ]
  },
  {
   "cell_type": "code",
   "execution_count": 40,
   "metadata": {},
   "outputs": [
    {
     "name": "stdout",
     "output_type": "stream",
     "text": [
      "[('Apple', 370), ('Banana', 240), ('Orange', 600), ('Grapes', 210)]\n"
     ]
    }
   ],
   "source": [
    "# Using map() to calculate the total sales for each product\n",
    "total_sales_map = map(lambda product_sales: (product_sales[0], sum(product_sales[1])), sales_data)\n",
    "print(list(total_sales_map))"
   ]
  },
  {
   "cell_type": "code",
   "execution_count": 41,
   "metadata": {},
   "outputs": [
    {
     "ename": "NameError",
     "evalue": "name 'reduce' is not defined",
     "output_type": "error",
     "traceback": [
      "\u001b[0;31m---------------------------------------------------------------------------\u001b[0m",
      "\u001b[0;31mNameError\u001b[0m                                 Traceback (most recent call last)",
      "\u001b[0;32m<ipython-input-41-6aa2526261e8>\u001b[0m in \u001b[0;36m<module>\u001b[0;34m\u001b[0m\n\u001b[1;32m      8\u001b[0m \u001b[0;34m\u001b[0m\u001b[0m\n\u001b[1;32m      9\u001b[0m \u001b[0;31m# Calculate total sales for each product\u001b[0m\u001b[0;34m\u001b[0m\u001b[0;34m\u001b[0m\u001b[0;34m\u001b[0m\u001b[0m\n\u001b[0;32m---> 10\u001b[0;31m \u001b[0mtotal_sales_per_product\u001b[0m \u001b[0;34m=\u001b[0m \u001b[0mlist\u001b[0m\u001b[0;34m(\u001b[0m\u001b[0mstarmap\u001b[0m\u001b[0;34m(\u001b[0m\u001b[0mcalculate_total_sales\u001b[0m\u001b[0;34m,\u001b[0m \u001b[0msales_data\u001b[0m\u001b[0;34m)\u001b[0m\u001b[0;34m)\u001b[0m\u001b[0;34m\u001b[0m\u001b[0;34m\u001b[0m\u001b[0m\n\u001b[0m\u001b[1;32m     11\u001b[0m \u001b[0;34m\u001b[0m\u001b[0m\n\u001b[1;32m     12\u001b[0m \u001b[0mprint\u001b[0m\u001b[0;34m(\u001b[0m\u001b[0mtotal_sales_per_product\u001b[0m\u001b[0;34m)\u001b[0m\u001b[0;34m\u001b[0m\u001b[0;34m\u001b[0m\u001b[0m\n",
      "\u001b[0;32m<ipython-input-41-6aa2526261e8>\u001b[0m in \u001b[0;36mcalculate_total_sales\u001b[0;34m(product, sales_list)\u001b[0m\n\u001b[1;32m      4\u001b[0m \u001b[0;31m# Function to calculate total sales for a product\u001b[0m\u001b[0;34m\u001b[0m\u001b[0;34m\u001b[0m\u001b[0;34m\u001b[0m\u001b[0m\n\u001b[1;32m      5\u001b[0m \u001b[0;32mdef\u001b[0m \u001b[0mcalculate_total_sales\u001b[0m\u001b[0;34m(\u001b[0m\u001b[0mproduct\u001b[0m\u001b[0;34m,\u001b[0m \u001b[0msales_list\u001b[0m\u001b[0;34m)\u001b[0m\u001b[0;34m:\u001b[0m\u001b[0;34m\u001b[0m\u001b[0;34m\u001b[0m\u001b[0m\n\u001b[0;32m----> 6\u001b[0;31m     \u001b[0mtotal_sales\u001b[0m \u001b[0;34m=\u001b[0m \u001b[0mreduce\u001b[0m\u001b[0;34m(\u001b[0m\u001b[0;32mlambda\u001b[0m \u001b[0mx\u001b[0m\u001b[0;34m,\u001b[0m \u001b[0my\u001b[0m\u001b[0;34m:\u001b[0m \u001b[0mx\u001b[0m \u001b[0;34m+\u001b[0m \u001b[0my\u001b[0m\u001b[0;34m,\u001b[0m \u001b[0msales_list\u001b[0m\u001b[0;34m)\u001b[0m\u001b[0;34m\u001b[0m\u001b[0;34m\u001b[0m\u001b[0m\n\u001b[0m\u001b[1;32m      7\u001b[0m     \u001b[0;32mreturn\u001b[0m \u001b[0;34m(\u001b[0m\u001b[0mproduct\u001b[0m\u001b[0;34m,\u001b[0m \u001b[0mtotal_sales\u001b[0m\u001b[0;34m)\u001b[0m\u001b[0;34m\u001b[0m\u001b[0;34m\u001b[0m\u001b[0m\n\u001b[1;32m      8\u001b[0m \u001b[0;34m\u001b[0m\u001b[0m\n",
      "\u001b[0;31mNameError\u001b[0m: name 'reduce' is not defined"
     ]
    }
   ],
   "source": [
    "from itertools import starmap\n",
    "\n",
    "\n",
    "# Function to calculate total sales for a product\n",
    "def calculate_total_sales(product, sales_list):\n",
    "    total_sales = reduce(lambda x, y: x + y, sales_list)\n",
    "    return (product, total_sales)\n",
    "\n",
    "# Calculate total sales for each product\n",
    "total_sales_per_product = list(starmap(calculate_total_sales, sales_data))\n",
    "\n",
    "print(total_sales_per_product)"
   ]
  },
  {
   "cell_type": "code",
   "execution_count": null,
   "metadata": {},
   "outputs": [],
   "source": [
    "from functools import reduce\n",
    "\n",
    "\n",
    "# Using functools.reduce() to get the grand total sales for all products\n",
    "grand_total_sales = reduce(lambda total, product_sales: total + sum(product_sales[1]), sales_data, 0)\n",
    "print(grand_total_sales)"
   ]
  },
  {
   "cell_type": "code",
   "execution_count": null,
   "metadata": {},
   "outputs": [],
   "source": [
    "from itertools import accumulate\n",
    "\n",
    "numbers = [1, 2, 3, 4, 5]\n",
    "cumulative_sums = list(accumulate(numbers))\n",
    "\n",
    "print(cumulative_sums)"
   ]
  },
  {
   "cell_type": "markdown",
   "metadata": {},
   "source": [
    "---\n",
    "**Chaining and Teeing**"
   ]
  },
  {
   "cell_type": "markdown",
   "metadata": {},
   "source": [
    "1. `itertools.chain(*args)`:\n",
    "   - Example: Combining multiple lists into a single flattened list."
   ]
  },
  {
   "cell_type": "code",
   "execution_count": 42,
   "metadata": {},
   "outputs": [
    {
     "name": "stdout",
     "output_type": "stream",
     "text": [
      "[1, 2, 3, 4, 5, 6, 7, 8, 9]\n"
     ]
    }
   ],
   "source": [
    "from itertools import chain\n",
    "\n",
    "list1 = [1, 2, 3]\n",
    "list2 = [4, 5, 6]\n",
    "list3 = [7, 8, 9]\n",
    "\n",
    "combined_list = list(chain(list1, list2, list3))\n",
    "print(combined_list)"
   ]
  },
  {
   "cell_type": "markdown",
   "metadata": {},
   "source": [
    "2. `itertools.chain.from_iterable(it)`:\n",
    "   - Example: Flattening a list of lists into a single list."
   ]
  },
  {
   "cell_type": "code",
   "execution_count": 43,
   "metadata": {},
   "outputs": [
    {
     "name": "stdout",
     "output_type": "stream",
     "text": [
      "[1, 2, 3, 4, 5, 6, 7, 8, 9]\n"
     ]
    }
   ],
   "source": [
    "from itertools import chain\n",
    "\n",
    "nested_lists = [[1, 2, 3], [4, 5], [6, 7, 8, 9]]\n",
    "\n",
    "flattened_list = list(chain.from_iterable(nested_lists))\n",
    "print(flattened_list)"
   ]
  },
  {
   "cell_type": "markdown",
   "metadata": {},
   "source": [
    "3. `itertools.tee(iterable, n)`:\n",
    "   - Example: Creating multiple independent copies of an iterator."
   ]
  },
  {
   "cell_type": "code",
   "execution_count": 44,
   "metadata": {},
   "outputs": [
    {
     "name": "stdout",
     "output_type": "stream",
     "text": [
      "Iterator 1: 1\n",
      "Iterator 1: 2\n",
      "Iterator 1: 3\n",
      "Iterator 1: 4\n",
      "Iterator 1: 5\n",
      "Iterator 2: 1\n",
      "Iterator 2: 2\n",
      "Iterator 2: 3\n",
      "Iterator 2: 4\n",
      "Iterator 2: 5\n"
     ]
    }
   ],
   "source": [
    "from itertools import tee\n",
    "\n",
    "numbers = [1, 2, 3, 4, 5]\n",
    "\n",
    "# Create two independent copies of the iterator\n",
    "iterator1, iterator2 = tee(numbers, 2)\n",
    "\n",
    "# Using the first iterator\n",
    "for num in iterator1:\n",
    "   print(f\"Iterator 1: {num}\")\n",
    "\n",
    "# Using the second iterator\n",
    "for num in iterator2:\n",
    "   print(f\"Iterator 2: {num}\")"
   ]
  },
  {
   "cell_type": "markdown",
   "metadata": {},
   "source": [
    "---\n",
    "**Grouping**"
   ]
  },
  {
   "cell_type": "markdown",
   "metadata": {},
   "source": [
    "1. `itertools.groupby()`:\n",
    "   - Example: Grouping students based on their grades in a class."
   ]
  },
  {
   "cell_type": "code",
   "execution_count": 45,
   "metadata": {},
   "outputs": [
    {
     "name": "stdout",
     "output_type": "stream",
     "text": [
      "Students with grade A: ['Bob', 'Frank']\n",
      "Students with grade B: ['Alice']\n",
      "Students with grade C: ['Charlie', 'Eva']\n",
      "Students with grade D: ['David']\n"
     ]
    }
   ],
   "source": [
    "from itertools import groupby\n",
    "\n",
    "def get_grade(student):\n",
    "   score = student['score']\n",
    "   if score >= 90:\n",
    "       return 'A'\n",
    "   elif score >= 80:\n",
    "       return 'B'\n",
    "   elif score >= 70:\n",
    "       return 'C'\n",
    "   elif score >= 60:\n",
    "       return 'D'\n",
    "   else:\n",
    "       return 'F'\n",
    "\n",
    "students = [\n",
    "   {'name': 'Alice', 'score': 88},\n",
    "   {'name': 'Bob', 'score': 95},\n",
    "   {'name': 'Charlie', 'score': 72},\n",
    "   {'name': 'David', 'score': 63},\n",
    "   {'name': 'Eva', 'score': 78},\n",
    "   {'name': 'Frank', 'score': 92},\n",
    "]\n",
    "\n",
    "students.sort(key=get_grade)  # Sort the list based on grades\n",
    "grouped_students = {grade: list(students) for grade, students in groupby(students, key=get_grade)}\n",
    "\n",
    "for grade, students in grouped_students.items():\n",
    "   print(f\"Students with grade {grade}: {[student['name'] for student in students]}\")"
   ]
  },
  {
   "cell_type": "markdown",
   "metadata": {},
   "source": [
    "2. `collections.defaultdict()` (from the collections module):\n",
    "   - Example: Counting the occurrences of each word in a text document."
   ]
  },
  {
   "cell_type": "code",
   "execution_count": 46,
   "metadata": {},
   "outputs": [
    {
     "name": "stdout",
     "output_type": "stream",
     "text": [
      "defaultdict(<class 'int'>, {'Lorem': 2, 'ipsum': 2, 'dolor': 1, 'sit': 1, 'amet': 1, 'consectetur': 1, 'adipiscing': 1, 'elit': 1, 'ipsum.': 1})\n"
     ]
    }
   ],
   "source": [
    "from collections import defaultdict\n",
    "\n",
    "text = \"Lorem ipsum dolor sit amet consectetur adipiscing elit Lorem ipsum ipsum.\"\n",
    "word_counts = defaultdict(int)\n",
    "\n",
    "for word in text.split():\n",
    "   word_counts[word] += 1\n",
    "\n",
    "print(word_counts)"
   ]
  },
  {
   "cell_type": "markdown",
   "metadata": {},
   "source": [
    "---\n",
    "**Combinatorics**"
   ]
  },
  {
   "cell_type": "markdown",
   "metadata": {},
   "source": [
    "1. `itertools.permutations()`:\n",
    "   - Example: Finding all possible arrangements of a set of letters to form words."
   ]
  },
  {
   "cell_type": "code",
   "execution_count": 47,
   "metadata": {},
   "outputs": [
    {
     "name": "stdout",
     "output_type": "stream",
     "text": [
      "abc\n",
      "acb\n",
      "bac\n",
      "bca\n",
      "cab\n",
      "cba\n"
     ]
    }
   ],
   "source": [
    "from itertools import permutations\n",
    "\n",
    "letters = ['a', 'b', 'c']\n",
    "\n",
    "for perm in permutations(letters):\n",
    "   print(''.join(perm))"
   ]
  },
  {
   "cell_type": "markdown",
   "metadata": {},
   "source": [
    "2. `itertools.combinations()`:\n",
    "   - Example: Selecting all possible combinations of items from a set."
   ]
  },
  {
   "cell_type": "code",
   "execution_count": 48,
   "metadata": {},
   "outputs": [
    {
     "name": "stdout",
     "output_type": "stream",
     "text": [
      "('red', 'green')\n",
      "('red', 'blue')\n",
      "('green', 'blue')\n"
     ]
    }
   ],
   "source": [
    "from itertools import combinations\n",
    "\n",
    "colors = ['red', 'green', 'blue']\n",
    "\n",
    "for comb in combinations(colors, 2):\n",
    "   print(comb)"
   ]
  },
  {
   "cell_type": "markdown",
   "metadata": {},
   "source": [
    "3. `itertools.product()`:\n",
    "   - Example: Generating all possible combinations of items from multiple sets."
   ]
  },
  {
   "cell_type": "code",
   "execution_count": 49,
   "metadata": {},
   "outputs": [
    {
     "name": "stdout",
     "output_type": "stream",
     "text": [
      "(1, 'A')\n",
      "(1, 'B')\n",
      "(2, 'A')\n",
      "(2, 'B')\n"
     ]
    }
   ],
   "source": [
    "from itertools import product\n",
    "\n",
    "numbers = [1, 2]\n",
    "letters = ['A', 'B']\n",
    "\n",
    "for prod in product(numbers, letters):\n",
    "   print(prod)"
   ]
  }
 ],
 "metadata": {
  "kernelspec": {
   "display_name": "Python 3",
   "language": "python",
   "name": "python3"
  },
  "language_info": {
   "codemirror_mode": {
    "name": "ipython",
    "version": 3
   },
   "file_extension": ".py",
   "mimetype": "text/x-python",
   "name": "python",
   "nbconvert_exporter": "python",
   "pygments_lexer": "ipython3",
   "version": "3.8.8"
  }
 },
 "nbformat": 4,
 "nbformat_minor": 4
}
