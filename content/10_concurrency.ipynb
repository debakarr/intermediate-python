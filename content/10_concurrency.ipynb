{
 "cells": [
  {
   "cell_type": "markdown",
   "id": "4c729c86-c748-43a1-a9e4-7bf068424596",
   "metadata": {},
   "source": [
    "\\[<< [Testing](./09_unittest.ipynb) | [Index](./00_index.ipynb) | [Virtual Environments](./11_virtual_environment.ipynb) >>\\]\n"
   ]
  },
  {
   "cell_type": "markdown",
   "id": "a251c9e7-bdf9-489b-8edf-40d83bcec231",
   "metadata": {},
   "source": [
    "# Concurrency"
   ]
  },
  {
   "cell_type": "markdown",
   "id": "a5a09697-5485-49d5-92be-07881db83b6b",
   "metadata": {},
   "source": [
    "- **Processes and threads**: A program can have one or more processes and a process can have one or more threads. A process is an instance of a program while a thread is a part of a process that can execute instructions.\n",
    "- **Multiprocessing and multithreading**: Multiprocessing uses multiple cores of a CPU to execute multiple processes in parallel. Multithreading uses multiple threads within a process to perform tasks concurrently.\n",
    "- **I/O-bound and CPU-bound tasks**: I/O-bound tasks spend more time doing input/output operations than computations (network request, disk read/write, database read/write). CPU-bound tasks spend more time doing calculations than generating I/O requests (video compression, matrix multiplication, find prime number).\n",
    "- **Suitability of multithreading and multiprocessing**: Multithreading is suitable for I/O-bound tasks, and multiprocessing is suitable for CPU-bound tasks."
   ]
  },
  {
   "cell_type": "markdown",
   "id": "b88f6fcc-9b74-49ac-b494-6fe1816757c2",
   "metadata": {},
   "source": [
    "# threading"
   ]
  },
  {
   "cell_type": "markdown",
   "id": "9228839a-ea2e-4de3-87cb-e654ca72f0eb",
   "metadata": {},
   "source": [
    "### Sequential Download of File\n",
    "In a sequential approach, tasks are executed one after another. Consider downloading multiple files sequentially:"
   ]
  },
  {
   "cell_type": "code",
   "execution_count": null,
   "id": "650c5547-7e34-49dc-9ecf-d6b181c2cda9",
   "metadata": {},
   "outputs": [],
   "source": [
    "%%time\n",
    "import shutil\n",
    "from pathlib import Path\n",
    "import urllib.request\n",
    "import os\n",
    "\n",
    "\n",
    "def download(url, target):\n",
    "    handle = urllib.request.urlopen(url)\n",
    "    fname = os.path.basename(url)\n",
    "    path = target / fname\n",
    "\n",
    "    print(f\"Downloading {fname}...\")\n",
    "\n",
    "    with open(path, \"wb\") as f_handler:\n",
    "        while True:\n",
    "            chunk = handle.read(1024)\n",
    "            if not chunk:\n",
    "                break\n",
    "            f_handler.write(chunk)\n",
    "\n",
    "    print(f\"Download complete for {fname}!\")\n",
    "\n",
    "\n",
    "itr_forms = [\n",
    "    \"https://incometaxindia.gov.in/forms/income-tax%20rules/2023/itr1_english.pdf\",\n",
    "    \"https://incometaxindia.gov.in/forms/income-tax%20rules/2023/itr2_english.pdf\",\n",
    "    \"https://incometaxindia.gov.in/forms/income-tax%20rules/2023/itr3_english.pdf\",\n",
    "    \"https://incometaxindia.gov.in/forms/income-tax%20rules/2023/itr4_english.pdf\",\n",
    "    \"https://incometaxindia.gov.in/forms/income-tax%20rules/2023/itr5_english.pdf\",\n",
    "    \"https://incometaxindia.gov.in/forms/income-tax%20rules/2023/itr6_english.pdf\",\n",
    "    \"https://incometaxindia.gov.in/forms/income-tax%20rules/2023/itr7_english.pdf\",\n",
    "]\n",
    "\n",
    "target_path = Path(\"static\") / \"concurrency_example\"\n",
    "shutil.rmtree(target_path, ignore_errors=True)\n",
    "target_path.mkdir(exist_ok=True, parents=True)\n",
    "\n",
    "for itr_form in itr_forms:\n",
    "    download(itr_form, target_path)\n",
    "\n",
    "print(\"All downloads completed!\")"
   ]
  },
  {
   "cell_type": "markdown",
   "id": "6f574c23-50ae-4ef7-843f-08fa56535fa4",
   "metadata": {},
   "source": [
    "This method is simple but may lead to slower execution when dealing with multiple files, especially in I/O-bound scenarios.\n",
    "\n",
    "### Download of File Using Threads\n",
    "To improve performance, threading can be employed. Threads execute tasks concurrently, ideal for I/O-bound operations like downloading files:"
   ]
  },
  {
   "cell_type": "code",
   "execution_count": null,
   "id": "2bb3d508-450a-4508-9d3e-d7278097ebd2",
   "metadata": {},
   "outputs": [],
   "source": [
    "%%time\n",
    "import threading\n",
    "import shutil\n",
    "from pathlib import Path\n",
    "import urllib.request\n",
    "import os\n",
    "\n",
    "\n",
    "def download(url, target):\n",
    "    print(f\"Starting {threading.currentThread().getName()}\")\n",
    "\n",
    "    handle = urllib.request.urlopen(url)\n",
    "    fname = os.path.basename(url)\n",
    "    path = target / fname\n",
    "\n",
    "    print(f\"Downloading {fname}...\")\n",
    "\n",
    "    with open(path, \"wb\") as f_handler:\n",
    "        while True:\n",
    "            chunk = handle.read(1024)\n",
    "            if not chunk:\n",
    "                break\n",
    "            f_handler.write(chunk)\n",
    "\n",
    "    print(f\"Download complete for {fname}!\")\n",
    "    print(f\"Completing {threading.currentThread().getName()}\")\n",
    "\n",
    "\n",
    "itr_forms = [\n",
    "    \"https://incometaxindia.gov.in/forms/income-tax%20rules/2023/itr1_english.pdf\",\n",
    "    \"https://incometaxindia.gov.in/forms/income-tax%20rules/2023/itr2_english.pdf\",\n",
    "    \"https://incometaxindia.gov.in/forms/income-tax%20rules/2023/itr3_english.pdf\",\n",
    "    \"https://incometaxindia.gov.in/forms/income-tax%20rules/2023/itr4_english.pdf\",\n",
    "    \"https://incometaxindia.gov.in/forms/income-tax%20rules/2023/itr5_english.pdf\",\n",
    "    \"https://incometaxindia.gov.in/forms/income-tax%20rules/2023/itr6_english.pdf\",\n",
    "    \"https://incometaxindia.gov.in/forms/income-tax%20rules/2023/itr7_english.pdf\",\n",
    "]\n",
    "\n",
    "target_path = Path(\"static\") / \"concurrency_example\"\n",
    "shutil.rmtree(target_path, ignore_errors=True)\n",
    "target_path.mkdir()\n",
    "\n",
    "threads = []\n",
    "for itr_form in itr_forms:\n",
    "    my_thread = threading.Thread(target=download, args=(itr_form, target_path))\n",
    "    my_thread.start()\n",
    "    threads.append(my_thread)\n",
    "\n",
    "# Wait for all threads to complete\n",
    "for thread in threads:\n",
    "    thread.join()\n",
    "\n",
    "print(\"All downloads completed!\")"
   ]
  },
  {
   "cell_type": "markdown",
   "id": "d2aa669b-19dc-45f9-b046-6ee5fdb71edf",
   "metadata": {},
   "source": [
    "💡 Use logging module to log output in threads as they are thread-safe"
   ]
  },
  {
   "cell_type": "markdown",
   "id": "df16f051-e113-4804-9346-a5730663eed7",
   "metadata": {},
   "source": [
    "## threading.Thread"
   ]
  },
  {
   "cell_type": "markdown",
   "id": "c0f49e07-9496-49ba-828d-0f1c6b9cca04",
   "metadata": {},
   "source": [
    "Python's `threading.Thread` class simplifies thread management. It encapsulates a function to be executed in a separate thread:"
   ]
  },
  {
   "cell_type": "code",
   "execution_count": null,
   "id": "912cb044-33e2-495a-8949-c7a03ba72e86",
   "metadata": {},
   "outputs": [],
   "source": [
    "import threading\n",
    "import shutil\n",
    "from pathlib import Path\n",
    "import urllib.request\n",
    "import os\n",
    "\n",
    "\n",
    "class DownloaderThread(threading.Thread):\n",
    "    def __init__(self, url, target):\n",
    "        super().__init__()\n",
    "        self.url = url\n",
    "        self.target = target\n",
    "\n",
    "    def run(self):\n",
    "        print(f\"Starting {self.getName()}\")\n",
    "\n",
    "        handle = urllib.request.urlopen(self.url)\n",
    "        fname = os.path.basename(self.url)\n",
    "        path = self.target / fname\n",
    "\n",
    "        print(f\"Downloading {fname}...\")\n",
    "\n",
    "        with open(path, \"wb\") as f_handler:\n",
    "            while True:\n",
    "                chunk = handle.read(1024)\n",
    "                if not chunk:\n",
    "                    break\n",
    "                f_handler.write(chunk)\n",
    "\n",
    "        print(f\"Download complete for {fname}!\")\n",
    "        print(f\"Completing {self.getName()}\")\n",
    "\n",
    "\n",
    "itr_forms = [\n",
    "    \"https://incometaxindia.gov.in/forms/income-tax%20rules/2023/itr1_english.pdf\",\n",
    "    \"https://incometaxindia.gov.in/forms/income-tax%20rules/2023/itr2_english.pdf\",\n",
    "    \"https://incometaxindia.gov.in/forms/income-tax%20rules/2023/itr3_english.pdf\",\n",
    "    \"https://incometaxindia.gov.in/forms/income-tax%20rules/2023/itr4_english.pdf\",\n",
    "    \"https://incometaxindia.gov.in/forms/income-tax%20rules/2023/itr5_english.pdf\",\n",
    "    \"https://incometaxindia.gov.in/forms/income-tax%20rules/2023/itr6_english.pdf\",\n",
    "    \"https://incometaxindia.gov.in/forms/income-tax%20rules/2023/itr7_english.pdf\",\n",
    "]\n",
    "\n",
    "target_path = Path(\"static\") / \"concurrency_example\"\n",
    "shutil.rmtree(target_path, ignore_errors=True)\n",
    "target_path.mkdir()\n",
    "\n",
    "threads = []\n",
    "for itr_form in itr_forms:\n",
    "    my_thread = DownloaderThread(itr_form, target_path)\n",
    "    my_thread.start()\n",
    "    threads.append(my_thread)\n",
    "\n",
    "# Wait for all threads to complete\n",
    "for thread in threads:\n",
    "    thread.join()\n",
    "\n",
    "print(\"All downloads completed!\")\n"
   ]
  },
  {
   "cell_type": "markdown",
   "id": "4a42bc62-4bea-495b-84af-667f45c98381",
   "metadata": {},
   "source": [
    "## threading.Lock"
   ]
  },
  {
   "cell_type": "markdown",
   "id": "f1cb4cf8-c23e-45f6-a1b4-df100fa027e3",
   "metadata": {},
   "source": [
    "Threads share memory space, raising synchronization concerns. The `threading.Lock` class ensures only one thread accesses a resource at a time:"
   ]
  },
  {
   "cell_type": "code",
   "execution_count": null,
   "id": "74242817-0545-4c93-aac2-e3f25d32871d",
   "metadata": {},
   "outputs": [],
   "source": [
    "from threading import Thread\n",
    "from time import sleep\n",
    "\n",
    "counter = 0\n",
    "\n",
    "def increase(by):\n",
    "    global counter\n",
    "\n",
    "    # Read the current value of the counter\n",
    "    local_counter = counter\n",
    "\n",
    "    # Perform the increment\n",
    "    local_counter += by\n",
    "\n",
    "    # Simulate some processing time (0.1 seconds)\n",
    "    sleep(0.1)\n",
    "\n",
    "    # Update the global counter with the new value\n",
    "    counter = local_counter\n",
    "    print(f\"counter={counter}\")\n",
    "\n",
    "# Create threads\n",
    "t1 = Thread(target=increase, args=(10,))\n",
    "t2 = Thread(target=increase, args=(20,))\n",
    "\n",
    "# Start the threads\n",
    "t1.start()\n",
    "t2.start()\n",
    "\n",
    "# Wait for the threads to complete\n",
    "t1.join()\n",
    "t2.join()\n",
    "\n",
    "print(f\"The final counter is {counter}\")"
   ]
  },
  {
   "cell_type": "code",
   "execution_count": null,
   "id": "574aa7a5-89c0-4792-a0b0-05677bfa73e1",
   "metadata": {},
   "outputs": [],
   "source": [
    "from threading import Thread, Lock\n",
    "from time import sleep\n",
    "\n",
    "counter = 0\n",
    "counter_lock = Lock()\n",
    "\n",
    "def increase(by):\n",
    "    global counter\n",
    "\n",
    "    # Acquire the lock before updating the counter\n",
    "    with counter_lock:\n",
    "        local_counter = counter\n",
    "\n",
    "        # Perform the increment\n",
    "        local_counter += by\n",
    "\n",
    "        # Simulate some processing time (0.1 seconds)\n",
    "        sleep(0.1)\n",
    "\n",
    "        # Update the global counter with the new value\n",
    "        counter = local_counter\n",
    "        print(f\"counter={counter}\")\n",
    "\n",
    "# Create threads\n",
    "t1 = Thread(target=increase, args=(10,))\n",
    "t2 = Thread(target=increase, args=(20,))\n",
    "\n",
    "# Start the threads\n",
    "t1.start()\n",
    "t2.start()\n",
    "\n",
    "# Wait for the threads to complete\n",
    "t1.join()\n",
    "t2.join()\n",
    "\n",
    "print(f\"The final counter is {counter}\")"
   ]
  },
  {
   "cell_type": "markdown",
   "id": "e98a8614-7569-41e4-ba59-4290a5325912",
   "metadata": {},
   "source": [
    "## threading.Timer"
   ]
  },
  {
   "cell_type": "markdown",
   "id": "4d48496c-7813-4a7a-85de-d4cffb169296",
   "metadata": {},
   "source": [
    "Python's `threading.Timer` class schedules a function to run after a specified delay:"
   ]
  },
  {
   "cell_type": "code",
   "execution_count": null,
   "id": "bbc2441f-b5f3-48cf-ae8d-6040abba73c9",
   "metadata": {},
   "outputs": [],
   "source": [
    "import subprocess\n",
    "import threading\n",
    "\n",
    "# Lambda function to kill the process\n",
    "kill = lambda process: process.kill()\n",
    "\n",
    "# Command to execute (ping www.google.com)\n",
    "cmd = ['ping', 'www.google.com', '-t']\n",
    "\n",
    "# Start the ping command as a subprocess\n",
    "ping = subprocess.Popen(cmd, stdout=subprocess.PIPE, stderr=subprocess.PIPE)\n",
    "\n",
    "# Create a timer to kill the process if it takes more than 10 seconds\n",
    "my_timer = threading.Timer(10, kill, [ping])\n",
    "\n",
    "try:\n",
    "    # Start the timer\n",
    "    my_timer.start()\n",
    "\n",
    "    # Communicate with the subprocess and get the stdout and stderr\n",
    "    stdout, stderr = ping.communicate()\n",
    "\n",
    "finally:\n",
    "    # Cancel the timer if the subprocess has completed\n",
    "    my_timer.cancel()\n",
    "\n",
    "# Print the stdout of the ping command\n",
    "print(stdout.decode())"
   ]
  },
  {
   "cell_type": "markdown",
   "id": "5f6b1d8f-c47f-43dd-aee2-d130a86cd3d8",
   "metadata": {},
   "source": [
    "## Thread communication using Queue"
   ]
  },
  {
   "cell_type": "markdown",
   "id": "eeff5a0e-f06c-4f30-9121-61f2ed31f34a",
   "metadata": {},
   "source": [
    "Threading can lead to race conditions when threads access shared resources simultaneously. The `queue` module provides thread-safe data structures.\n",
    "\n",
    "Producer and Consumer example using thread and queue"
   ]
  },
  {
   "cell_type": "code",
   "execution_count": null,
   "id": "ddb2aed2-4a1c-4f53-b4de-92050ab8a8b7",
   "metadata": {},
   "outputs": [],
   "source": [
    "import threading\n",
    "import queue\n",
    "import time\n",
    "\n",
    "# The shared queue between the producer and consumer\n",
    "shared_queue = queue.Queue(maxsize=5)\n",
    "\n",
    "# Function for the producer\n",
    "def producer():\n",
    "    for i in range(1, 5):\n",
    "        item = f\"Item {i}\"\n",
    "        shared_queue.put(item)\n",
    "        print(f\"Produced: {item}\")\n",
    "        time.sleep(1)\n",
    "\n",
    "# Function for the consumer\n",
    "def consumer():\n",
    "    while True:\n",
    "        item = shared_queue.get()\n",
    "        if item is None:\n",
    "            break\n",
    "        print(f\"Consumed: {item}\")\n",
    "        shared_queue.task_done()\n",
    "\n",
    "# Create and start the producer and consumer threads\n",
    "producer_thread = threading.Thread(target=producer)\n",
    "consumer_thread = threading.Thread(target=consumer)\n",
    "\n",
    "producer_thread.start()\n",
    "consumer_thread.start()\n",
    "\n",
    "# Wait for the producer to finish producing\n",
    "producer_thread.join()\n",
    "\n",
    "# Add None to the queue to signal the consumer to exit\n",
    "shared_queue.put(None)\n",
    "\n",
    "# Wait for the consumer to finish consuming\n",
    "consumer_thread.join()\n",
    "\n",
    "print(\"Producer and consumer have finished.\")"
   ]
  },
  {
   "cell_type": "markdown",
   "id": "55f7cead-6328-4821-aee9-5e049a51cc51",
   "metadata": {},
   "source": [
    "## Deamon thread"
   ]
  },
  {
   "cell_type": "markdown",
   "id": "855af2d1-a9d4-4902-a7bc-b632bd7560ce",
   "metadata": {},
   "source": [
    "A daemon thread is a thread that runs in the background, detached from the main program's lifecycle. When all non-daemon threads finish, daemon threads are terminated"
   ]
  },
  {
   "cell_type": "code",
   "execution_count": null,
   "id": "ab4b526a-f4ea-4cc3-b863-6749661c9e81",
   "metadata": {},
   "outputs": [],
   "source": [
    "import threading\n",
    "import time\n",
    "\n",
    "def timer_thread():\n",
    "    count = 0\n",
    "    while True:\n",
    "        count += 1\n",
    "        time.sleep(1)\n",
    "        print(f\"Has been waiting for {count} second(s)...\")\n",
    "\n",
    "# Create and start the timer thread\n",
    "timer_thread = threading.Thread(target=timer_thread)\n",
    "timer_thread.start()\n",
    "\n",
    "# Wait for user input to exit\n",
    "answer = input(\"Do you want to exit? (Type 'yes' to exit)\\n\")\n",
    "\n",
    "# To stop this go to Kernel -> Restart Kernet"
   ]
  },
  {
   "cell_type": "code",
   "execution_count": null,
   "id": "ad264d27-a6dd-4fe9-bc4e-78248cb7497c",
   "metadata": {},
   "outputs": [],
   "source": [
    "import threading\n",
    "import time\n",
    "\n",
    "def timer_thread():\n",
    "    count = 0\n",
    "    while True:\n",
    "        count += 1\n",
    "        time.sleep(1)\n",
    "        print(f\"Has been waiting for {count} second(s)...\")\n",
    "\n",
    "# Create and start the timer thread as a daemon thread\n",
    "timer_thread = threading.Thread(target=timer_thread, daemon=True)\n",
    "timer_thread.start()\n",
    "\n",
    "# Wait for user input to exit\n",
    "answer = input(\"Do you want to exit? (Type 'yes' to exit)\\n\")\n",
    "\n",
    "# This doesn't work in Jupyter notebook!!!"
   ]
  },
  {
   "cell_type": "markdown",
   "id": "0ba1e871-7fa4-45b7-b330-dfd2d05f2ce0",
   "metadata": {},
   "source": [
    "# multiprocessing"
   ]
  },
  {
   "cell_type": "markdown",
   "id": "66b07308-7277-447b-90bc-763040632476",
   "metadata": {},
   "source": [
    "The multiprocessing module facilitates parallel execution by creating separate processes. This is beneficial for CPU-bound tasks as it leverages multiple CPU cores. "
   ]
  },
  {
   "cell_type": "code",
   "execution_count": null,
   "id": "1b6ed879-df13-448d-b957-0729165b83eb",
   "metadata": {},
   "outputs": [],
   "source": [
    "def task():\n",
    "    result = 2\n",
    "    for _ in range(10**5):\n",
    "        result *= 9999\n",
    "    return result"
   ]
  },
  {
   "cell_type": "code",
   "execution_count": null,
   "id": "9e60775b-3b0a-4d41-92e5-979977e90ce0",
   "metadata": {},
   "outputs": [],
   "source": [
    "import time\n",
    "\n",
    "\n",
    "start = time.perf_counter()\n",
    "task()\n",
    "task()\n",
    "task()\n",
    "finish = time.perf_counter()\n",
    "\n",
    "print(f\"It took {finish-start:.2f} second(s) to finish\")"
   ]
  },
  {
   "cell_type": "code",
   "execution_count": null,
   "id": "0f02dbae-5b28-4585-9b8b-7977ee6b43fb",
   "metadata": {},
   "outputs": [],
   "source": [
    "# Doesn't work in Jupyter. We can use multiprocessing.pool.\n",
    "\n",
    "import multiprocessing\n",
    "\n",
    "\n",
    "start = time.perf_counter()\n",
    "\n",
    "p1 = multiprocessing.Process(target=task)\n",
    "p2 = multiprocessing.Process(target=task)\n",
    "p3 = multiprocessing.Process(target=task)\n",
    "\n",
    "p1.start()\n",
    "p2.start()\n",
    "p3.start()\n",
    "\n",
    "p1.join()\n",
    "p2.join()\n",
    "p3.join()\n",
    "\n",
    "finish = time.perf_counter()\n",
    "print(f\"It took {finish-start:.2f} second(s) to finish\")"
   ]
  },
  {
   "cell_type": "markdown",
   "id": "7ce4491a-c4f4-48dd-bf87-52aaeb6cec65",
   "metadata": {},
   "source": [
    "## concurrent.futures"
   ]
  },
  {
   "cell_type": "markdown",
   "id": "eed3943d-9f1c-4dfa-92ac-511783a651c1",
   "metadata": {},
   "source": [
    "The `concurrent.futures` module abstracts the management of threads and processes for concurrent execution. It provides high-level interfaces for executing functions asynchronously."
   ]
  },
  {
   "cell_type": "code",
   "execution_count": null,
   "id": "2aa77a5a-ac55-4213-abd5-a29d4deab0b5",
   "metadata": {},
   "outputs": [],
   "source": [
    "import concurrent.futures\n",
    "import time\n",
    "\n",
    "# Function that simulates a time-consuming task\n",
    "def do_work(task_name):\n",
    "    print(f\"Starting task: {task_name}\")\n",
    "    time.sleep(2)  # Simulate some work\n",
    "    print(f\"Completed task: {task_name}\")\n",
    "    return f\"Result from {task_name}\"\n",
    "\n",
    "tasks = [\"Task1\", \"Task2\", \"Task3\", \"Task4\"]\n",
    "\n",
    "# Using ThreadPoolExecutor to parallelize the execution\n",
    "with concurrent.futures.ThreadPoolExecutor() as executor:\n",
    "    future_to_task = {executor.submit(do_work, task): task for task in tasks}\n",
    "\n",
    "    for future in concurrent.futures.as_completed(future_to_task):\n",
    "        task = future_to_task[future]\n",
    "        try:\n",
    "            result = future.result()\n",
    "            print(f\"{task} result: {result}\")\n",
    "        except Exception as e:\n",
    "            print(f\"{task} raised an exception: {e}\")"
   ]
  },
  {
   "cell_type": "markdown",
   "id": "669f21df-a0d1-4469-8987-b918d20583af",
   "metadata": {},
   "source": [
    "\\[<< [Testing](./09_unittest.ipynb) | [Index](./00_index.ipynb) | [Virtual Environments](./11_virtual_environment.ipynb) >>\\]\n"
   ]
  }
 ],
 "metadata": {
  "kernelspec": {
   "display_name": "Python 3 (ipykernel)",
   "language": "python",
   "name": "python3"
  },
  "language_info": {
   "codemirror_mode": {
    "name": "ipython",
    "version": 3
   },
   "file_extension": ".py",
   "mimetype": "text/x-python",
   "name": "python",
   "nbconvert_exporter": "python",
   "pygments_lexer": "ipython3",
   "version": "3.11.4"
  }
 },
 "nbformat": 4,
 "nbformat_minor": 5
}
