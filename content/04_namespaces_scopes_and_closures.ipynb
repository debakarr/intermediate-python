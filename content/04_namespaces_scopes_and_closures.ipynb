{
 "cells": [
  {
   "cell_type": "markdown",
   "metadata": {},
   "source": [
    "\\[<< [Function parameters and arguments](./03_function_parameters_and_arguments.ipynb) | [Index](./00_index.ipynb) | [Other functions concepts](./05_other_functions_concepts.ipynb) >>\\]"
   ]
  },
  {
   "cell_type": "markdown",
   "metadata": {},
   "source": [
    "# Namespaces and Scopes"
   ]
  },
  {
   "cell_type": "markdown",
   "metadata": {},
   "source": [
    "In Python, a namespace is a container that holds identifiers (variables, functions, classes, etc.) and provides a way to distinguish them based on their names. Namespaces help avoid naming conflicts and provide a way to organize and access different elements within a program.\n",
    "\n",
    "Python has several types of namespaces, including the `built-in`, `global`, `enclosing` and `local` namespace. The scope determines the visibility and accessibility of identifiers within a namespace.\n",
    "\n",
    "[![](https://mermaid.ink/img/pako:eNqVlEtzgjAUhf8Kc7tFBwXlsdOg3bQru6p0OhGiMg0JA2GqdfzvTXwEpA_1rJKby_k4IWQHMU8IBLAqcL42XsKoiJghVYotJca4SqnopOx9FvOcGMuU0uBhOg2lzFIU_IOoqS11mnY-00Ssg36-0UbV4uh96XVerlmhtvelbrVXCudnb4PhjJQ5jsnbT8Aj5QtML6KEoQqjWbaN0BWWjtN0azbUPHSC-L6KdA9ECc2PhD8i1ZgJiykvU7ZqJVPZGtDhEKGrUJ2uZdrua5wQHRKh-3lK47mG_ZO1Jj7xuPUVp9PJRMOOB-iGDb7I2zD9ra-mjzQToYtTejNTaTQ_AK_kJSxpl1ulxvQ0BBMyUmQ4TeRPvVNLEYg1yUgEgRwmZIkrKiKI2F624krw2ZbFEIiiIiZUeYIFCVMsdyWDYIlpKas5ZhDsYANBz3K6Xs_t2ZZle778xiZsVdXv9h3XGva9od_3HN_em_DFuXSwuq7jWY7tuO7AHsgmzwSSpIIXz8d753D9HBCvhwfUe-y_AbIgX6U?type=png)](https://mermaid.live/edit#pako:eNqVlEtzgjAUhf8Kc7tFBwXlsdOg3bQru6p0OhGiMg0JA2GqdfzvTXwEpA_1rJKby_k4IWQHMU8IBLAqcL42XsKoiJghVYotJca4SqnopOx9FvOcGMuU0uBhOg2lzFIU_IOoqS11mnY-00Ssg36-0UbV4uh96XVerlmhtvelbrVXCudnb4PhjJQ5jsnbT8Aj5QtML6KEoQqjWbaN0BWWjtN0azbUPHSC-L6KdA9ECc2PhD8i1ZgJiykvU7ZqJVPZGtDhEKGrUJ2uZdrua5wQHRKh-3lK47mG_ZO1Jj7xuPUVp9PJRMOOB-iGDb7I2zD9ra-mjzQToYtTejNTaTQ_AK_kJSxpl1ulxvQ0BBMyUmQ4TeRPvVNLEYg1yUgEgRwmZIkrKiKI2F624krw2ZbFEIiiIiZUeYIFCVMsdyWDYIlpKas5ZhDsYANBz3K6Xs_t2ZZle778xiZsVdXv9h3XGva9od_3HN_em_DFuXSwuq7jWY7tuO7AHsgmzwSSpIIXz8d753D9HBCvhwfUe-y_AbIgX6U)"
   ]
  },
  {
   "cell_type": "markdown",
   "metadata": {},
   "source": [
    "## Built-in"
   ]
  },
  {
   "cell_type": "code",
   "execution_count": null,
   "metadata": {},
   "outputs": [],
   "source": [
    "dir(__builtins__)"
   ]
  },
  {
   "cell_type": "markdown",
   "metadata": {},
   "source": [
    "## Global vs Local Scope"
   ]
  },
  {
   "cell_type": "code",
   "execution_count": null,
   "metadata": {},
   "outputs": [],
   "source": [
    "val = 50  # Global Scope\n",
    "\n",
    "print(f\"Outside: Value of global {val = }\\n\")\n",
    "\n",
    "\n",
    "def func():\n",
    "    val = 100  # Local Scope\n",
    "    print(f\"Inside func: Value of local {val = }\\n\")\n",
    "\n",
    "\n",
    "func()\n",
    "\n",
    "print(f\"Outside after func call: Value of global {val = }\\n\")"
   ]
  },
  {
   "cell_type": "markdown",
   "metadata": {},
   "source": [
    "[![](https://mermaid.ink/img/pako:eNqVU1tvmzAU_ivW2UM3iSJzSQA_FtS9bE_d00ZlOeA01oiNiGmTRfnvOyYJoVWrtt8Lx_bx-S7Ce6hMLYHBQyfaFflVlF2pCWJjd40kN71q7LXS_K4yrSRL1TTsy-1tgfA2tjN_pVtGiNPy-knVdsXCdjsO6hfH2c9nueNzy4WvGCkyxEcpHIo_JXC-cBxKbzj3Oa9VZTlnZO_7vkfaTmnrEawPJdy_Tv-9MQvRPDNbFM7uqCSK8vwdJaPh6bSXfBfO_ESUZc70Z4gccrT9MPBsvn47W716FM0VIzOK5bLXFdbuY5XRQ0GEJXQbp3GYvhnIReAPU51dBGMoLpaJ1vk8z9_VOgYznfga7-T_G8PJ888TOtxgQI3jO-Zziiag9Gx62ix1Pd2aLE8leLCW3VqoGp_M3h2VYFdyLUtgWNZyKfrGllDqA7aK3pq7na6A2a6XHvRtLawslMAY1sCWKAp3W6GB7WELLKCxnwZJEFEapRl69GDndjM_jBM6D9N5FqZxFh08-GcMTqB-Eqc0juIkmUUzbEo9kLWypvt5fNXD4x4ofg8XnI7Df_ipMTw?type=png)](https://mermaid.live/edit#pako:eNqVU1tvmzAU_ivW2UM3iSJzSQA_FtS9bE_d00ZlOeA01oiNiGmTRfnvOyYJoVWrtt8Lx_bx-S7Ce6hMLYHBQyfaFflVlF2pCWJjd40kN71q7LXS_K4yrSRL1TTsy-1tgfA2tjN_pVtGiNPy-knVdsXCdjsO6hfH2c9nueNzy4WvGCkyxEcpHIo_JXC-cBxKbzj3Oa9VZTlnZO_7vkfaTmnrEawPJdy_Tv-9MQvRPDNbFM7uqCSK8vwdJaPh6bSXfBfO_ESUZc70Z4gccrT9MPBsvn47W716FM0VIzOK5bLXFdbuY5XRQ0GEJXQbp3GYvhnIReAPU51dBGMoLpaJ1vk8z9_VOgYznfga7-T_G8PJ888TOtxgQI3jO-Zziiag9Gx62ix1Pd2aLE8leLCW3VqoGp_M3h2VYFdyLUtgWNZyKfrGllDqA7aK3pq7na6A2a6XHvRtLawslMAY1sCWKAp3W6GB7WELLKCxnwZJEFEapRl69GDndjM_jBM6D9N5FqZxFh08-GcMTqB-Eqc0juIkmUUzbEo9kLWypvt5fNXD4x4ofg8XnI7Df_ipMTw)"
   ]
  },
  {
   "cell_type": "markdown",
   "metadata": {},
   "source": [
    "**Question**: What do you think will be the output of the below code?"
   ]
  },
  {
   "cell_type": "code",
   "execution_count": null,
   "metadata": {
    "tags": [
     "raises-exception"
    ]
   },
   "outputs": [],
   "source": [
    "val = 50\n",
    "\n",
    "print(f\"Outside: Value of global {val = }\\n\")\n",
    "\n",
    "\n",
    "def func():\n",
    "    val += 50  # This line is changed\n",
    "    print(f\"Inside func: Value of local {val = }\\n\")\n",
    "\n",
    "\n",
    "func()\n",
    "\n",
    "print(f\"Outside after func call: Value of global {val = }\\n\")"
   ]
  },
  {
   "cell_type": "code",
   "execution_count": null,
   "metadata": {
    "tags": []
   },
   "outputs": [],
   "source": [
    "val = 50\n",
    "\n",
    "print(f\"Outside: Value of global {val = }\\n\")\n",
    "\n",
    "\n",
    "def func():\n",
    "    global val\n",
    "    val += 50  # This line is changed\n",
    "    print(f\"Inside func: Value of local {val = }\\n\")\n",
    "\n",
    "\n",
    "func()\n",
    "\n",
    "print(f\"Outside after func call: Value of global {val = }\\n\")"
   ]
  },
  {
   "cell_type": "markdown",
   "metadata": {},
   "source": [
    "Okay what about this?"
   ]
  },
  {
   "cell_type": "code",
   "execution_count": null,
   "metadata": {
    "tags": [
     "raises-exception"
    ]
   },
   "outputs": [],
   "source": [
    "val = [1, 2, 3]\n",
    "\n",
    "print(f\"Outside: Value of global {val = }\\n\")\n",
    "\n",
    "\n",
    "def func():\n",
    "    val += [4]\n",
    "    print(f\"Inside func: Value of local {val = }\\n\")\n",
    "\n",
    "\n",
    "func()\n",
    "\n",
    "print(f\"Outside after func call: Value of global {val = }\\n\")"
   ]
  },
  {
   "cell_type": "markdown",
   "metadata": {},
   "source": [
    "An this?"
   ]
  },
  {
   "cell_type": "code",
   "execution_count": null,
   "metadata": {},
   "outputs": [],
   "source": [
    "val = [1, 2, 3]\n",
    "\n",
    "print(f\"Outside: Value of global {val = }\\n\")\n",
    "\n",
    "\n",
    "def func():\n",
    "    val.append(4)\n",
    "    print(f\"Inside func: Value of local {val = }\\n\")\n",
    "\n",
    "\n",
    "func()\n",
    "\n",
    "print(f\"Outside after func call: Value of global {val = }\\n\")"
   ]
  },
  {
   "cell_type": "markdown",
   "metadata": {},
   "source": [
    "Wait what?\n",
    "\n",
    "What about this?"
   ]
  },
  {
   "cell_type": "code",
   "execution_count": null,
   "metadata": {},
   "outputs": [],
   "source": [
    "val = {\"a\": \"A\", \"b\": \"B\"}\n",
    "\n",
    "print(f\"Outside: Value of global {val = }\\n\")\n",
    "\n",
    "\n",
    "def func():\n",
    "    val[\"b\"] = \"β\"\n",
    "    print(f\"Inside func: Value of local {val = }\\n\")\n",
    "\n",
    "\n",
    "func()\n",
    "\n",
    "print(f\"Outside after func call: Value of global {val = }\\n\")"
   ]
  },
  {
   "cell_type": "markdown",
   "metadata": {},
   "source": [
    "The gist of this is:\n",
    "- You need `global` keyword when you want to rebound something. Which is true for all the immutable variables because they cannot be mutated.\n",
    "- You probably can mutate global variables without using `global` keyword, given you use the mutation operations to mutate the value. Hence `val.append(4)` worked but `val += [4]` didn't."
   ]
  },
  {
   "cell_type": "markdown",
   "metadata": {},
   "source": [
    "<table>\n",
    "  <tr>\n",
    "    <th>Code</th>\n",
    "    <th>Visualize</th>\n",
    "  </tr>\n",
    "  <tr>\n",
    "    <td>\n",
    "    \n",
    "```python\n",
    "# some_module.py\n",
    "a = 100\n",
    "\n",
    "def func(b):\n",
    "    print(True)\n",
    "    print(a)\n",
    "    print(b)\n",
    "    \n",
    "func(200)\n",
    "func('Python')\n",
    "```        \n",
    "</td>\n",
    "    <td><img src=\"https://mermaid.ink/img/pako:eNqVVFtv2yAU_iuIPbiTXAtfGtu8tbjtyyZNap82T4jYpEFzwHKwlizKfx84CXGqVEnPi88BfL4Llw2sVM0hhm8da-fgtSi7UgITS71uOHjoRaNvhaQvlWo5mImmwV-engoT_lJ36g-3ZWxiX97-FbWe46hduUb9dNf7tJedPiw54hUOIjdxLYSN4lcJKZ1aDCGXlAaU1qLSlGKwCYLAB69dz31g0m0Jf59Hf27UlDUnWovCqnVE4piQC0Sc3nG393hHTLIHynOr-TNANohR_TbgLG--HpR6zMMgRMhks15WprAfLZQcEsA0QKskS6LsQz-O_L6p6iAidJ5YV0ZUJxNCLlJ1vow7nsMdnT7nDSGfB7TxYPxpLN7OHm9qzIgQOkgeL-Wyfj900ZHIHdfHR8dod3qv2LxzjkQfu3HvwAg5uRtXgdm4P-OG92Ot50p6V1gyKvcp9OGCdwsmavOCbOxUCfWcL3gJsUlrPmN9o0tYyq1ZynqtXtaygljbuwj7tmaaF4IZFxYQzwwvM9oyCfEGriAOURJkYRrGCMVZbjbdh2s7mgdRkqJJlE3yKEvyeOvDf0qZDihIkwwlcZKmd_GdWZT5kNdCq-777pEb3roB4ufwg-Wx_Q9KeXxX?type=png\"></td>\n",
    "  </tr>\n",
    "</table>"
   ]
  },
  {
   "cell_type": "markdown",
   "metadata": {},
   "source": [
    "<table>\n",
    "  <tr>\n",
    "    <th>Code</th>\n",
    "    <th>Visualize</th>\n",
    "  </tr>\n",
    "  <tr>\n",
    "    <td>\n",
    "    \n",
    "```python\n",
    "# some_module.py\n",
    "a = 100\n",
    "\n",
    "def func(b):\n",
    "    print(True)  # <----\n",
    "    print(a)  \n",
    "    print(b)\n",
    "    \n",
    "func(200)\n",
    "func('Python')  # <----\n",
    "```        \n",
    "</td>\n",
    "    <td><img src=\"https://mermaid.ink/img/pako:eNqVVFtvmzAU_iuW95BOIshcGsAPlRLT7mWTJrVPGxNywBRrBCNi1GRR_vtsEhwapUp6XjjHHM53wfYOZiJnEMOiEm9ZSVsJXhZJm9RAxVpuKwYWHa_klNfpcyYaBgpeVfjL01OswlrLVvxluvRUHMvpG89lid1mYwZ1y9eWNuXZLP16aDnhxQYiUnErhI74dwLTdKkxeL1OUztNc57JNMVgZ9u2BV7ajllApfsE_rmM_q0SS1q90xrHWq0h4nmEXCFi9I6nneOdMMkRKIq05s8A6SBK9WuPs777Oiid0AkGDkIqK7o6U4V-SC7qPgFUArTxQ98NP_TjxO-7yAYRjvFEuzKiOpsRcpWq8WU88RLuaPcZbwj5PKCOhfKn0ngHeyZLZYaL0CB53Mrq_HzpqiOu2a6Pj4bRYffe8PMuOeJ-7MbcgBHy7mzcBKZjfsGNyc-tLEU9ucGSUXlMh3IOptMHQIaS9GUMLbhi7YryXN0xO_0qgbJkK5ZArNKcFbSrZAKTeq9aaSfF87bOIJb6pMKuyalkMafKoxXEhWKtVhtaQ7yDG4gd5NuhEzgeQl4YqS1hwa1ejWzXD9DMDWeRG_qRt7fgPyHUBGQHfoh8zw-Ce-9eNYUWZDmXov1xuAb727CH-NV_oHns_wOWXoT4?type=png\"></td>\n",
    "  </tr>\n",
    "</table>"
   ]
  },
  {
   "cell_type": "markdown",
   "metadata": {},
   "source": [
    "<table>\n",
    "  <tr>\n",
    "    <th>Code</th>\n",
    "    <th>Visualize</th>\n",
    "  </tr>\n",
    "  <tr>\n",
    "    <td>\n",
    "    \n",
    "```python\n",
    "# some_module.py\n",
    "a = 100\n",
    "\n",
    "def func(b):\n",
    "    print(True)\n",
    "    print(a)  # <----\n",
    "    print(b)\n",
    "    \n",
    "func(200)\n",
    "func('Python')  # <----\n",
    "```        \n",
    "</td>\n",
    "    <td><img src=\"https://mermaid.ink/img/pako:eNqVVFtvmzAU_iuW95BNIshcGsAPlRLT7mWTJrVPGxVywGmsERsRoyWL8t9rk-CQKlXS88I55nC-C7Z3sJAlgxi-NrRegudZ1mQC6FirbcXArOWVGnORPxWyZmDBqwp_eXxMdThr1ci_zJSBjmM5_sdLtcR-vbGD2vlh9vks87pvOeGlFiLRcSuEifRPBvN8bjC4WOe5m-clL1SeY7BzXdcBz03LHKDTfQZfLqN_r-ScVmda09SotUSCgJArRKze4bT3eCdMcgRKEqP5M0AmiFb92uGsv37rlY7oCAMPIZ0tWlHowjwUl6JLAFUAbcI49OMP_Tjx-yGLXoRnPTGuDKhOJoRcpWp9GU68hDvYfdYbQj4PaGKm_akM3sGe0Vyb4SPUSx62MlG-X7rqiG-368ODZXTYvTf8vEuO-B-7MbVghJydjZvATEwvuDH6tVVLKUY3WDIoj2lfTsF4fA8IdOCKNSvKS32h7MyrDKolW7EMYp2WbEHbSmUwE3vdSlsln7aigFiZownbuqSKpZxqU1YQLzRNvVpTAfEObiD2UOjGXuQFCAVxoveAA7dmNXH9MEITP54kfhwmwd6B_6XUE5AbhTEKgzCK7oI73RQ7kJVcyebn4c7rrr4O4nf3geGxfwPoCH_J?type=png\"></td>\n",
    "  </tr>\n",
    "</table>"
   ]
  },
  {
   "cell_type": "markdown",
   "metadata": {},
   "source": [
    "Now what about this code?"
   ]
  },
  {
   "cell_type": "code",
   "execution_count": null,
   "metadata": {
    "tags": [
     "raises-exception"
    ]
   },
   "outputs": [],
   "source": [
    "def func2():\n",
    "    val2 = \"Defined only inside func2\"\n",
    "    print(f\"Inside func2: Value of {val2 = }\")\n",
    "\n",
    "\n",
    "func2()\n",
    "\n",
    "print(f\"Outside after func2 call: Value of {val2 = }\")"
   ]
  },
  {
   "cell_type": "code",
   "execution_count": null,
   "metadata": {},
   "outputs": [],
   "source": [
    "def func2():\n",
    "    global val2\n",
    "    val2 = \"Defined only inside func2\"\n",
    "    print(f\"Inside func2: Value of {val2 = }\")\n",
    "\n",
    "\n",
    "func2()\n",
    "\n",
    "print(f\"Outside after func2 call: Value of {val2 = }\")"
   ]
  },
  {
   "cell_type": "code",
   "execution_count": null,
   "metadata": {},
   "outputs": [],
   "source": [
    "for val3 in range(5):\n",
    "    print(f\"Value inside loop: {val3 = }\")\n",
    "\n",
    "print(\n",
    "    f\"Value outside loop: {val3 = }\"\n",
    ")  # Some value was never defined outside the for loop"
   ]
  },
  {
   "cell_type": "markdown",
   "metadata": {},
   "source": [
    "Can you tell what will be the output of this the?"
   ]
  },
  {
   "cell_type": "code",
   "execution_count": null,
   "metadata": {},
   "outputs": [],
   "source": [
    "val4 = 100\n",
    "\n",
    "for val4 in range(5):\n",
    "    print(f\"Value inside loop: {val4 = }\")\n",
    "\n",
    "print(f\"Value outside loop: {val4 = }\")"
   ]
  },
  {
   "cell_type": "markdown",
   "metadata": {},
   "source": [
    "What about this?"
   ]
  },
  {
   "cell_type": "code",
   "execution_count": null,
   "metadata": {},
   "outputs": [],
   "source": [
    "val5 = 100\n",
    "\n",
    "result = [val5 for val5 in range(5)]\n",
    "\n",
    "print(f\"Value outside list comp: {val5 = }\")"
   ]
  },
  {
   "cell_type": "markdown",
   "metadata": {},
   "source": [
    "## Non-local/Enclosing Scope\n",
    "\n",
    "Global variables can be modified using `global` keyword. But what about `local` variable of a function, which contains another function?"
   ]
  },
  {
   "cell_type": "code",
   "execution_count": null,
   "metadata": {},
   "outputs": [],
   "source": [
    "def outer_func():\n",
    "    val6 = \"enclosing scope for outer func\"\n",
    "\n",
    "    def inner_func():\n",
    "        global val6\n",
    "        val6 = \"local scope for inner func\"\n",
    "\n",
    "    inner_func()\n",
    "    print(f\"After inner call: {val6 = }\")\n",
    "\n",
    "\n",
    "outer_func()  # We can try using global, but that will not work\n",
    "\n",
    "# print(val6)"
   ]
  },
  {
   "cell_type": "markdown",
   "metadata": {},
   "source": [
    "For modifying local variable of a outer function inside an inner function, we use `nonlocal` keyword."
   ]
  },
  {
   "cell_type": "code",
   "execution_count": null,
   "metadata": {},
   "outputs": [],
   "source": [
    "def outer_func():\n",
    "    val7 = \"enclosing scope for outer func\"\n",
    "\n",
    "    def inner_func():\n",
    "        nonlocal val7\n",
    "        val7 = \"local scope for inner_func\"\n",
    "\n",
    "    inner_func()\n",
    "    print(f\"After inner call: {val7 = }\")\n",
    "\n",
    "\n",
    "outer_func()"
   ]
  },
  {
   "cell_type": "markdown",
   "metadata": {},
   "source": [
    "Let's try out some questions now?"
   ]
  },
  {
   "cell_type": "code",
   "execution_count": null,
   "metadata": {},
   "outputs": [],
   "source": [
    "val8 = \"global scope\"\n",
    "\n",
    "\n",
    "def outer_func():\n",
    "    def inner_func():\n",
    "        print(f\"Inside inner_func: {val8 = }\")\n",
    "\n",
    "    inner_func()\n",
    "\n",
    "\n",
    "outer_func()"
   ]
  },
  {
   "cell_type": "code",
   "execution_count": null,
   "metadata": {},
   "outputs": [],
   "source": [
    "val8 = \"global scope\"\n",
    "\n",
    "\n",
    "def outer_func():\n",
    "    val8 = \"enclosing scope\"\n",
    "\n",
    "    def inner_func():\n",
    "        print(f\"Inside inner_func: {val8 = }\")\n",
    "\n",
    "    inner_func()\n",
    "\n",
    "\n",
    "outer_func()"
   ]
  },
  {
   "cell_type": "code",
   "execution_count": null,
   "metadata": {},
   "outputs": [],
   "source": [
    "val8 = \"global scope\"\n",
    "\n",
    "\n",
    "def outer_func():\n",
    "    val8 = \"enclosing scope\"\n",
    "\n",
    "    def inner_func():\n",
    "        val8 = \"inner scope\"\n",
    "        print(f\"Inside inner_func: {val8 = }\")\n",
    "\n",
    "    inner_func()\n",
    "\n",
    "\n",
    "outer_func()"
   ]
  },
  {
   "cell_type": "markdown",
   "metadata": {},
   "source": [
    "We can also use `locals()` and `globals()` built-in functions to check for global and local variable in current scope."
   ]
  },
  {
   "cell_type": "code",
   "execution_count": null,
   "metadata": {},
   "outputs": [],
   "source": [
    "%%writefile example/scope.py\n",
    "\n",
    "val8 = \"global scope\"\n",
    "\n",
    "breakpoint()\n",
    "\n",
    "\n",
    "def outer_func():\n",
    "    val8 = \"enclosing scope\"\n",
    "    breakpoint()\n",
    "\n",
    "    def inner_func():\n",
    "        val8 = \"inner scope\"\n",
    "        breakpoint()\n",
    "\n",
    "        print(f\"Inside inner_func: {val8 = }\")\n",
    "\n",
    "    inner_func()\n",
    "\n",
    "\n",
    "outer_func()"
   ]
  },
  {
   "cell_type": "markdown",
   "metadata": {},
   "source": [
    "What will be the output of this?"
   ]
  },
  {
   "cell_type": "code",
   "execution_count": null,
   "metadata": {
    "tags": [
     "raises-exception"
    ]
   },
   "outputs": [],
   "source": [
    "val9 = \"global scope\"\n",
    "\n",
    "\n",
    "def outer_func():\n",
    "    def inner_func():\n",
    "        nonlocal val9\n",
    "        val9 = \"inner scope\"\n",
    "\n",
    "    inner_func()\n",
    "\n",
    "\n",
    "outer_func()\n",
    "\n",
    "print(f\"After outer_func call: {val9 = }\")"
   ]
  },
  {
   "cell_type": "markdown",
   "metadata": {},
   "source": [
    "# Closures\n",
    "\n",
    "Function + extended scope (that contains free variables)"
   ]
  },
  {
   "cell_type": "code",
   "execution_count": null,
   "metadata": {},
   "outputs": [],
   "source": [
    "def outer_func():\n",
    "    # Free variable\n",
    "    name = \"Debakar\"\n",
    "\n",
    "    def inner_func():\n",
    "        print(name)\n",
    "\n",
    "    inner_func()\n",
    "\n",
    "\n",
    "outer_func()"
   ]
  },
  {
   "cell_type": "code",
   "execution_count": null,
   "metadata": {},
   "outputs": [],
   "source": [
    "def outer_func():\n",
    "    # Free variable\n",
    "    name = \"Debakar\"\n",
    "\n",
    "    def inner_func():\n",
    "        print(name)\n",
    "\n",
    "    return inner_func"
   ]
  },
  {
   "cell_type": "code",
   "execution_count": null,
   "metadata": {},
   "outputs": [],
   "source": [
    "func = outer_func()  # inner() + extended scope `name`\n",
    "func()"
   ]
  },
  {
   "cell_type": "code",
   "execution_count": null,
   "metadata": {},
   "outputs": [],
   "source": [
    "func.__code__.co_freevars"
   ]
  },
  {
   "cell_type": "code",
   "execution_count": null,
   "metadata": {},
   "outputs": [],
   "source": [
    "func.__closure__"
   ]
  },
  {
   "cell_type": "code",
   "execution_count": null,
   "metadata": {},
   "outputs": [],
   "source": [
    "def outer_func():\n",
    "    # Free variable\n",
    "    name = \"Debakar\"\n",
    "    print(f\"Address of name in outer_func: {hex(id(name))}\")\n",
    "\n",
    "    def inner_func():\n",
    "        print(f\"Address of name in inner_func: {hex(id(name))}\")\n",
    "        print(name)\n",
    "\n",
    "    return inner_func"
   ]
  },
  {
   "cell_type": "code",
   "execution_count": null,
   "metadata": {},
   "outputs": [],
   "source": [
    "func = outer_func()  # inner() + extended scope `name`\n",
    "func()"
   ]
  },
  {
   "cell_type": "code",
   "execution_count": null,
   "metadata": {},
   "outputs": [],
   "source": [
    "func.__closure__"
   ]
  },
  {
   "cell_type": "code",
   "execution_count": null,
   "metadata": {},
   "outputs": [],
   "source": [
    "def outer_func(greeting):\n",
    "    # Free variable\n",
    "    name = \"Debakar\"\n",
    "    print(hex(id(name)))\n",
    "    print(hex(id(greeting)))\n",
    "\n",
    "    def inner_func():\n",
    "        print(hex(id(name)))\n",
    "        print(hex(id(greeting)))\n",
    "        print(f\"{greeting} {name}\")\n",
    "\n",
    "    return inner_func"
   ]
  },
  {
   "cell_type": "code",
   "execution_count": null,
   "metadata": {},
   "outputs": [],
   "source": [
    "func = outer_func(\"Hello\")"
   ]
  },
  {
   "cell_type": "code",
   "execution_count": null,
   "metadata": {},
   "outputs": [],
   "source": [
    "func.__code__.co_freevars"
   ]
  },
  {
   "cell_type": "code",
   "execution_count": null,
   "metadata": {},
   "outputs": [],
   "source": [
    "func.__closure__"
   ]
  },
  {
   "cell_type": "markdown",
   "metadata": {},
   "source": [
    "\\[<< [Function parameters and arguments](./03_function_parameters_and_arguments.ipynb) | [Index](./00_index.ipynb) | [Other functions concepts](./05_other_functions_concepts.ipynb) >>\\]"
   ]
  }
 ],
 "metadata": {
  "kernelspec": {
   "display_name": "Python 3 (ipykernel)",
   "language": "python",
   "name": "python3"
  },
  "language_info": {
   "codemirror_mode": {
    "name": "ipython",
    "version": 3
   },
   "file_extension": ".py",
   "mimetype": "text/x-python",
   "name": "python",
   "nbconvert_exporter": "python",
   "pygments_lexer": "ipython3",
   "version": "3.11.4"
  }
 },
 "nbformat": 4,
 "nbformat_minor": 4
}
