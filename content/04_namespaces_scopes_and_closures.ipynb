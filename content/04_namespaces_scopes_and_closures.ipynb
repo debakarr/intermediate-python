{
 "cells": [
  {
   "cell_type": "markdown",
   "metadata": {},
   "source": [
    "\\[<< [Function parameters and arguments](./03_function_parameters_and_arguments.ipynb) | [Index](./00_index.ipynb) | [Other functions concepts](./05_other_functions_concepts.ipynb) >>\\]"
   ]
  },
  {
   "cell_type": "markdown",
   "metadata": {},
   "source": [
    "# Namespaces and Scopes"
   ]
  },
  {
   "cell_type": "markdown",
   "metadata": {},
   "source": [
    "In Python, a namespace is a container that holds identifiers (variables, functions, classes, etc.) and provides a way to distinguish them based on their names. Namespaces help avoid naming conflicts and provide a way to organize and access different elements within a program.\n",
    "\n",
    "Python has several types of namespaces, including the `built-in`, `global`, `enclosing` and `local` namespace. The scope determines the visibility and accessibility of identifiers within a namespace.\n",
    "\n",
    "[![](https://mermaid.ink/img/pako:eNqVlEtzgjAUhf8Kc7tFBwXlsdOg3bQru6p0OhGiMg0JA2GqdfzvTXwEpA_1rJKby_k4IWQHMU8IBLAqcL42XsKoiJghVYotJca4SqnopOx9FvOcGMuU0uBhOg2lzFIU_IOoqS11mnY-00Ssg36-0UbV4uh96XVerlmhtvelbrVXCudnb4PhjJQ5jsnbT8Aj5QtML6KEoQqjWbaN0BWWjtN0azbUPHSC-L6KdA9ECc2PhD8i1ZgJiykvU7ZqJVPZGtDhEKGrUJ2uZdrua5wQHRKh-3lK47mG_ZO1Jj7xuPUVp9PJRMOOB-iGDb7I2zD9ra-mjzQToYtTejNTaTQ_AK_kJSxpl1ulxvQ0BBMyUmQ4TeRPvVNLEYg1yUgEgRwmZIkrKiKI2F624krw2ZbFEIiiIiZUeYIFCVMsdyWDYIlpKas5ZhDsYANBz3K6Xs_t2ZZle778xiZsVdXv9h3XGva9od_3HN_em_DFuXSwuq7jWY7tuO7AHsgmzwSSpIIXz8d753D9HBCvhwfUe-y_AbIgX6U?type=png)](https://mermaid.live/edit#pako:eNqVlEtzgjAUhf8Kc7tFBwXlsdOg3bQru6p0OhGiMg0JA2GqdfzvTXwEpA_1rJKby_k4IWQHMU8IBLAqcL42XsKoiJghVYotJca4SqnopOx9FvOcGMuU0uBhOg2lzFIU_IOoqS11mnY-00Ssg36-0UbV4uh96XVerlmhtvelbrVXCudnb4PhjJQ5jsnbT8Aj5QtML6KEoQqjWbaN0BWWjtN0azbUPHSC-L6KdA9ECc2PhD8i1ZgJiykvU7ZqJVPZGtDhEKGrUJ2uZdrua5wQHRKh-3lK47mG_ZO1Jj7xuPUVp9PJRMOOB-iGDb7I2zD9ra-mjzQToYtTejNTaTQ_AK_kJSxpl1ulxvQ0BBMyUmQ4TeRPvVNLEYg1yUgEgRwmZIkrKiKI2F624krw2ZbFEIiiIiZUeYIFCVMsdyWDYIlpKas5ZhDsYANBz3K6Xs_t2ZZle778xiZsVdXv9h3XGva9od_3HN_em_DFuXSwuq7jWY7tuO7AHsgmzwSSpIIXz8d753D9HBCvhwfUe-y_AbIgX6U)"
   ]
  },
  {
   "cell_type": "markdown",
   "metadata": {},
   "source": [
    "## Built-in"
   ]
  },
  {
   "cell_type": "code",
   "execution_count": null,
   "metadata": {},
   "outputs": [],
   "source": [
    "dir(__builtins__)"
   ]
  },
  {
   "cell_type": "markdown",
   "metadata": {},
   "source": [
    "## Global vs Local Scope"
   ]
  },
  {
   "cell_type": "code",
   "execution_count": null,
   "metadata": {},
   "outputs": [],
   "source": [
    "val = 50  # Global Scope\n",
    "\n",
    "print(f\"Outside: Value of global {val = }\\n\")\n",
    "\n",
    "def func():\n",
    "    val = 100  # Local Scope\n",
    "    print(f\"Inside func: Value of local {val = }\\n\")\n",
    "    \n",
    "func()\n",
    "\n",
    "print(f\"Outside after func call: Value of global {val = }\\n\")"
   ]
  },
  {
   "cell_type": "markdown",
   "metadata": {},
   "source": [
    "**Question**: What do you think will be the output of the below code?"
   ]
  },
  {
   "cell_type": "code",
   "execution_count": null,
   "metadata": {},
   "outputs": [],
   "source": [
    "val = 50\n",
    "\n",
    "print(f\"Outside: Value of global {val = }\\n\")\n",
    "\n",
    "def func():\n",
    "    val += 50  # This line is changed\n",
    "    print(f\"Inside func: Value of local {val = }\\n\")\n",
    "    \n",
    "func()\n",
    "\n",
    "print(f\"Outside after func call: Value of global {val = }\\n\")"
   ]
  },
  {
   "cell_type": "code",
   "execution_count": null,
   "metadata": {
    "tags": []
   },
   "outputs": [],
   "source": [
    "val = 50\n",
    "\n",
    "print(f\"Outside: Value of global {val = }\\n\")\n",
    "\n",
    "def func():\n",
    "    global val\n",
    "    val += 50  # This line is changed\n",
    "    print(f\"Inside func: Value of local {val = }\\n\")\n",
    "    \n",
    "func()\n",
    "\n",
    "print(f\"Outside after func call: Value of global {val = }\\n\")"
   ]
  },
  {
   "cell_type": "markdown",
   "metadata": {},
   "source": [
    "Okay what about this?"
   ]
  },
  {
   "cell_type": "code",
   "execution_count": null,
   "metadata": {},
   "outputs": [],
   "source": [
    "val = [1, 2, 3]\n",
    "\n",
    "print(f\"Outside: Value of global {val = }\\n\")\n",
    "\n",
    "def func():\n",
    "    val += [4]\n",
    "    print(f\"Inside func: Value of local {val = }\\n\")\n",
    "    \n",
    "func()\n",
    "\n",
    "print(f\"Outside after func call: Value of global {val = }\\n\")"
   ]
  },
  {
   "cell_type": "markdown",
   "metadata": {},
   "source": [
    "An this?"
   ]
  },
  {
   "cell_type": "code",
   "execution_count": null,
   "metadata": {},
   "outputs": [],
   "source": [
    "val = [1, 2, 3]\n",
    "\n",
    "print(f\"Outside: Value of global {val = }\\n\")\n",
    "\n",
    "def func():\n",
    "    val.append(4)\n",
    "    print(f\"Inside func: Value of local {val = }\\n\")\n",
    "    \n",
    "func()\n",
    "\n",
    "print(f\"Outside after func call: Value of global {val = }\\n\")"
   ]
  },
  {
   "cell_type": "markdown",
   "metadata": {},
   "source": [
    "Wait what?\n",
    "\n",
    "What about this?"
   ]
  },
  {
   "cell_type": "code",
   "execution_count": null,
   "metadata": {},
   "outputs": [],
   "source": [
    "val = {'a': 'A', 'b': 'B'}\n",
    "\n",
    "print(f\"Outside: Value of global {val = }\\n\")\n",
    "\n",
    "def func():\n",
    "    val['b'] = 'β'\n",
    "    print(f\"Inside func: Value of local {val = }\\n\")\n",
    "    \n",
    "func()\n",
    "\n",
    "print(f\"Outside after func call: Value of global {val = }\\n\")"
   ]
  },
  {
   "cell_type": "markdown",
   "metadata": {},
   "source": [
    "The gist of this is:\n",
    "- You need `global` keyword when you want to rebound something. Which is true for all the immutable variables because they cannot be mutated.\n",
    "- You probably can mutate global variables without using `global` keyword, given you use the mutation operations to mutate the value. Hence `val.append(4)` worked but `val += [4]` didn't."
   ]
  },
  {
   "cell_type": "markdown",
   "metadata": {},
   "source": [
    "<table>\n",
    "  <tr>\n",
    "    <th>Code</th>\n",
    "    <th>Visualize</th>\n",
    "  </tr>\n",
    "  <tr>\n",
    "    <td>\n",
    "    \n",
    "```python\n",
    "a = 100\n",
    "\n",
    "def func(b):\n",
    "    print(True)\n",
    "    print(a)\n",
    "    print(b)\n",
    "    \n",
    "func(200)\n",
    "func('Python')\n",
    "```        \n",
    "</td>\n",
    "    <td><img src=\"https://mermaid.ink/img/pako:eNqVVFtv2yAU_iuIPbiTXAtfGtu8tbjtyyZNap82T4jYpEFzwHKwlizKfx84CXGqVEnPi88BfL4Llw2sVM0hhm8da-fgtSi7UgITS71uOHjoRaNvhaQvlWo5mImmwV-engoT_lJ36g-3ZWxiX97-FbWe46hduUb9dNf7tJedPiw54hUOIjdxLYSN4lcJKZ1aDCGXlAaU1qLSlGKwCYLAB69dz31g0m0Jf59Hf27UlDUnWovCqnVE4piQC0Sc3nG393hHTLIHynOr-TNANohR_TbgLG--HpR6zMMgRMhks15WprAfLZQcEsA0QKskS6LsQz-O_L6p6iAidJ5YV0ZUJxNCLlJ1vow7nsMdnT7nDSGfB7TxYPxpLN7OHm9qzIgQOkgeL-Wyfj900ZHIHdfHR8dod3qv2LxzjkQfu3HvwAg5uRtXgdm4P-OG92Ot50p6V1gyKvcp9OGCdwsmavOCbOxUCfWcL3gJsUlrPmN9o0tYyq1ZynqtXtaygljbuwj7tmaaF4IZFxYQzwwvM9oyCfEGriAOURJkYRrGCMVZbjbdh2s7mgdRkqJJlE3yKEvyeOvDf0qZDihIkwwlcZKmd_GdWZT5kNdCq-777pEb3roB4ufwg-Wx_Q9KeXxX?type=png\"></td>\n",
    "  </tr>\n",
    "</table>"
   ]
  },
  {
   "cell_type": "markdown",
   "metadata": {},
   "source": [
    "<table>\n",
    "  <tr>\n",
    "    <th>Code</th>\n",
    "    <th>Visualize</th>\n",
    "  </tr>\n",
    "  <tr>\n",
    "    <td>\n",
    "    \n",
    "```python\n",
    "a = 100\n",
    "\n",
    "def func(b):\n",
    "    print(True)  # <----\n",
    "    print(a)  \n",
    "    print(b)\n",
    "    \n",
    "func(200)\n",
    "func('Python')  # <----\n",
    "```        \n",
    "</td>\n",
    "    <td><img src=\"https://mermaid.ink/img/pako:eNqVVF1vmzAU_SuW95BOIsh8NIAfKiWm3csmTWqfNibkgCloxEbEqMmi_PfZJDg0SpX0vnCPbe655_hjBzORM4hhUYu3rKStBC-LpE04ULGW25qBRVfVclrx9DkTDQNFVdf4y9NTrMJay1b8ZRp6Ko5w-lblssRuszGFuuVrS5vyrJaeHpac-GJDEam4lUJH_DuBabrUHBVfp6mdpnmVyTTFYGfbtgVe2o5ZQKX7BP65zP6tFktav9Max1qtacTzCLnSiNE7rnbOd-IkR6Io0po_Q6SDKNWvPc_67uugdEInGDgIqazoeKaA_shK8D4BVAK08UPfDT_049Tfd5ENIhzjiXZl1OpsRsjVVo0v44qXeEenz3hDyOcJdSyUP7XmO9gzWSozXIQGyeOljOfnQ1cdcc1xfXw0HR1O7w2bd8kR92M35oaMkHd34yYyHfMLbkx-bmUp-OQGS0bwmA5wDqbTB7VdA170mAyQ9DCGFlyxdkWrXL05Oz2VQFmyFUsgVmnOCtrVMoEJ36ultJPiecsziKW-ubBrcipZXFHl2QriQqlQow3lEO_gBmIH-XboBI6HkBdG6ohYcKtHI9v1AzRzw1nkhn7k7S34TwhVAdmBHyLf84Pg3rtXi0ILsrySov1xeBb717Gn-NX_oPvY_wcjCYiM?type=png\"></td>\n",
    "  </tr>\n",
    "</table>"
   ]
  },
  {
   "cell_type": "markdown",
   "metadata": {},
   "source": [
    "<table>\n",
    "  <tr>\n",
    "    <th>Code</th>\n",
    "    <th>Visualize</th>\n",
    "  </tr>\n",
    "  <tr>\n",
    "    <td>\n",
    "    \n",
    "```python\n",
    "a = 100\n",
    "\n",
    "def func(b):\n",
    "    print(True)\n",
    "    print(a)  # <----\n",
    "    print(b)\n",
    "    \n",
    "func(200)\n",
    "func('Python')  # <----\n",
    "```        \n",
    "</td>\n",
    "    <td><img src=\"https://mermaid.ink/img/pako:eNqVVN9v2jAQ_lcs74FNCpHzoyTxQyVw2r1s0qT2aUsVmcQUa8GOgqPBEP977UBMqKig30vu7Mt9d5_P3sFClgxi-NrQegmeZ1mTCaCxVtuKgVnLKzXmIn8qZM3AglcV_vL4mGo4a9XIv8y4gcbRHf_jpVpiv97YRO38kPs8l9nuQ058qaVING6lMEj_ZDDP54aDi3Weu3le8kLlOQY713Ud8Ny0zAHa3Gfw5TL790rOaXXWa5qabm0hQUDIlUJsv8Ns7_lOnORIlCSm588QGRDd9WvHs_76re90REcYeAhpa9GKQjvmo7gUnQGoAmgTxqEff6jHqb4fsuib8KwmRpVBqZMJIVdLtboMM17iHUyf1YaQzxMazLQ-leE7yDOaazF8hPqWh6FMlO-Xriri23F9eLAVHab3hsO7pIj_sRpTS0bI2d24icxgekGN0a-tWkoxukGSgXs0e3cKxuN7fVy9P-t8YlzowBVrVpSX-pHZme0MqiVbsQxibZZsQdtKZTATex1KWyWftqKAWJnrCtu6pIqlnGqhVhAvdOl6taYC4h3cQOyh0I29yAsQCuJEz4UDt2Y1cf0wQhM_niR-HCbB3oH_pdQZkBuFMQqDMIrugjsdFDuQlVzJ5ufhHeyew47id_eDqWP_BoYBhPU?type=png\"></td>\n",
    "  </tr>\n",
    "</table>"
   ]
  },
  {
   "cell_type": "markdown",
   "metadata": {},
   "source": [
    "Now what about this code?"
   ]
  },
  {
   "cell_type": "code",
   "execution_count": null,
   "metadata": {},
   "outputs": [],
   "source": [
    "def func2():\n",
    "    val2 = \"Defined only inside func2\"\n",
    "    print(f\"Inside func2: Value of {val2 = }\")\n",
    "    \n",
    "func2()\n",
    "\n",
    "print(f\"Outside after func2 call: Value of {val2 = }\")"
   ]
  },
  {
   "cell_type": "code",
   "execution_count": null,
   "metadata": {},
   "outputs": [],
   "source": [
    "def func2():\n",
    "    global val2\n",
    "    val2 = \"Defined only inside func2\"\n",
    "    print(f\"Inside func2: Value of {val2 = }\")\n",
    "    \n",
    "func2()\n",
    "\n",
    "print(f\"Outside after func2 call: Value of {val2 = }\")"
   ]
  },
  {
   "cell_type": "code",
   "execution_count": null,
   "metadata": {},
   "outputs": [],
   "source": [
    "for val3 in range(5):\n",
    "    print(f\"Value inside loop: {val3 = }\")\n",
    "\n",
    "print(f\"Value outside loop: {val3 = }\")  # Some value was never defined outside the for loop"
   ]
  },
  {
   "cell_type": "markdown",
   "metadata": {},
   "source": [
    "Can you tell what will be the output of this the?"
   ]
  },
  {
   "cell_type": "code",
   "execution_count": null,
   "metadata": {},
   "outputs": [],
   "source": [
    "val4 = 100\n",
    "\n",
    "for val4 in range(5):\n",
    "    print(f\"Value inside loop: {val4 = }\")\n",
    "\n",
    "print(f\"Value outside loop: {val4 = }\")"
   ]
  },
  {
   "cell_type": "markdown",
   "metadata": {},
   "source": [
    "What about this?"
   ]
  },
  {
   "cell_type": "code",
   "execution_count": null,
   "metadata": {},
   "outputs": [],
   "source": [
    "val5 = 100\n",
    "\n",
    "result = [val5 for val5 in range(5)]\n",
    "\n",
    "print(f\"Value outside list comp: {val5 = }\")"
   ]
  },
  {
   "cell_type": "markdown",
   "metadata": {},
   "source": [
    "## Non-local/Enclosing Scope\n",
    "\n",
    "Global variables can be modified using `global` keyword. But what about `local` variable of a function, which contains another function?"
   ]
  },
  {
   "cell_type": "code",
   "execution_count": null,
   "metadata": {},
   "outputs": [],
   "source": [
    "def outer_func():\n",
    "    val6 = 'enclosing scope for outer func'\n",
    "    def inner_func():\n",
    "        global val6\n",
    "        val6 = 'local scope for inner func'\n",
    "    inner_func()\n",
    "    print(f\"After inner call: {val6 = }\")\n",
    "outer_func()  # We can try using global, but that will not work\n",
    "\n",
    "# print(val6)"
   ]
  },
  {
   "cell_type": "markdown",
   "metadata": {},
   "source": [
    "For modifying local variable of a outer function inside an inner function, we use `nonlocal` keyword."
   ]
  },
  {
   "cell_type": "code",
   "execution_count": null,
   "metadata": {},
   "outputs": [],
   "source": [
    "def outer_func():\n",
    "    val7 = 'enclosing scope for outer func'\n",
    "    def inner_func():\n",
    "        nonlocal val7\n",
    "        val7 = 'local scope for inner_func'\n",
    "    inner_func()\n",
    "    print(f\"After inner call: {val7 = }\")\n",
    "outer_func() "
   ]
  },
  {
   "cell_type": "markdown",
   "metadata": {},
   "source": [
    "Let's try out some questions now?"
   ]
  },
  {
   "cell_type": "code",
   "execution_count": null,
   "metadata": {},
   "outputs": [],
   "source": [
    "val8 = 'global scope'\n",
    "\n",
    "def outer_func():\n",
    "    def inner_func():\n",
    "        print(f\"Inside inner_func: {val8 = }\")\n",
    "    inner_func()\n",
    "outer_func() "
   ]
  },
  {
   "cell_type": "code",
   "execution_count": null,
   "metadata": {},
   "outputs": [],
   "source": [
    "val8 = 'global scope'\n",
    "\n",
    "def outer_func():\n",
    "    val8 = 'enclosing scope'\n",
    "    def inner_func():\n",
    "        print(f\"Inside inner_func: {val8 = }\")\n",
    "    inner_func()\n",
    "outer_func() "
   ]
  },
  {
   "cell_type": "code",
   "execution_count": null,
   "metadata": {},
   "outputs": [],
   "source": [
    "val8 = 'global scope'\n",
    "\n",
    "def outer_func():\n",
    "    val8 = 'enclosing scope'\n",
    "    def inner_func():\n",
    "        val8 = 'inner scope'\n",
    "        print(f\"Inside inner_func: {val8 = }\")\n",
    "    inner_func()\n",
    "outer_func()"
   ]
  },
  {
   "cell_type": "markdown",
   "metadata": {},
   "source": [
    "We can also use `locals()` and `globals()` built-in functions to check for global and local variable in current scope."
   ]
  },
  {
   "cell_type": "code",
   "execution_count": null,
   "metadata": {},
   "outputs": [],
   "source": [
    "%%writefile example/scope.py\n",
    "\n",
    "val8 = 'global scope'\n",
    "\n",
    "breakpoint()\n",
    "def outer_func():\n",
    "    val8 = 'enclosing scope'\n",
    "    breakpoint()\n",
    "\n",
    "    def inner_func():\n",
    "        val8 = 'inner scope'\n",
    "        breakpoint()\n",
    "\n",
    "        print(f\"Inside inner_func: {val8 = }\")\n",
    "    inner_func()\n",
    "outer_func() "
   ]
  },
  {
   "cell_type": "markdown",
   "metadata": {},
   "source": [
    "What will be the output of this?"
   ]
  },
  {
   "cell_type": "code",
   "execution_count": null,
   "metadata": {},
   "outputs": [],
   "source": [
    "val9 = 'global scope'\n",
    "\n",
    "def outer_func():\n",
    "    def inner_func():\n",
    "        nonlocal val9\n",
    "        val9 = 'inner scope'\n",
    "        \n",
    "    inner_func()\n",
    "    \n",
    "outer_func() \n",
    "\n",
    "print(f\"After outer_func call: {val9 = }\")"
   ]
  },
  {
   "cell_type": "markdown",
   "metadata": {},
   "source": [
    "# Closures\n",
    "\n",
    "Function + extended scope (that contains free variables)"
   ]
  },
  {
   "cell_type": "code",
   "execution_count": null,
   "metadata": {},
   "outputs": [],
   "source": [
    "def outer_func():\n",
    "    # Free variable\n",
    "    name = \"Debakar\"\n",
    "    \n",
    "    def inner_func():\n",
    "        print(name)\n",
    "    inner_func()\n",
    "    \n",
    "outer_func()"
   ]
  },
  {
   "cell_type": "code",
   "execution_count": null,
   "metadata": {},
   "outputs": [],
   "source": [
    "def outer_func():\n",
    "    # Free variable\n",
    "    name = \"Debakar\"\n",
    "    \n",
    "    def inner_func():\n",
    "        print(name)\n",
    "\n",
    "    return inner_func"
   ]
  },
  {
   "cell_type": "code",
   "execution_count": null,
   "metadata": {},
   "outputs": [],
   "source": [
    "func = outer_func()  # inner() + extended scope `name`\n",
    "func()"
   ]
  },
  {
   "cell_type": "code",
   "execution_count": null,
   "metadata": {},
   "outputs": [],
   "source": [
    "func.__code__.co_freevars"
   ]
  },
  {
   "cell_type": "code",
   "execution_count": null,
   "metadata": {},
   "outputs": [],
   "source": [
    "func.__closure__"
   ]
  },
  {
   "cell_type": "code",
   "execution_count": null,
   "metadata": {},
   "outputs": [],
   "source": [
    "def outer_func():\n",
    "    # Free variable\n",
    "    name = \"Debakar\"\n",
    "    print(f\"Address of name in outer_func: {hex(id(name))}\")\n",
    "    \n",
    "    def inner_func():\n",
    "        print(f\"Address of name in inner_func: {hex(id(name))}\")\n",
    "        print(name)\n",
    "\n",
    "    return inner_func"
   ]
  },
  {
   "cell_type": "code",
   "execution_count": null,
   "metadata": {},
   "outputs": [],
   "source": [
    "func = outer_func()  # inner() + extended scope `name`\n",
    "func()"
   ]
  },
  {
   "cell_type": "code",
   "execution_count": null,
   "metadata": {},
   "outputs": [],
   "source": [
    "func.__closure__"
   ]
  },
  {
   "cell_type": "code",
   "execution_count": null,
   "metadata": {},
   "outputs": [],
   "source": [
    "def outer_func(greeting):\n",
    "    # Free variable\n",
    "    name = \"Debakar\"\n",
    "    print(hex(id(name)))\n",
    "    print(hex(id(greeting)))\n",
    "    \n",
    "    def inner_func():\n",
    "        print(hex(id(name)))\n",
    "        print(hex(id(greeting)))\n",
    "        print(f\"{greeting} {name}\")\n",
    "\n",
    "    return inner_func"
   ]
  },
  {
   "cell_type": "code",
   "execution_count": null,
   "metadata": {},
   "outputs": [],
   "source": [
    "func = outer_func(\"Hello\")"
   ]
  },
  {
   "cell_type": "code",
   "execution_count": null,
   "metadata": {},
   "outputs": [],
   "source": [
    "func.__code__.co_freevars"
   ]
  },
  {
   "cell_type": "code",
   "execution_count": null,
   "metadata": {},
   "outputs": [],
   "source": [
    "func.__closure__"
   ]
  },
  {
   "cell_type": "markdown",
   "metadata": {},
   "source": [
    "\\[<< [Function parameters and arguments](./03_function_parameters_and_arguments.ipynb) | [Index](./00_index.ipynb) | [Other functions concepts](./05_other_functions_concepts.ipynb) >>\\]"
   ]
  }
 ],
 "metadata": {
  "kernelspec": {
   "display_name": "Python 3 (ipykernel)",
   "language": "python",
   "name": "python3"
  },
  "language_info": {
   "codemirror_mode": {
    "name": "ipython",
    "version": 3
   },
   "file_extension": ".py",
   "mimetype": "text/x-python",
   "name": "python",
   "nbconvert_exporter": "python",
   "pygments_lexer": "ipython3",
   "version": "3.11.4"
  }
 },
 "nbformat": 4,
 "nbformat_minor": 4
}
