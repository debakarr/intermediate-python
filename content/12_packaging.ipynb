{
 "cells": [
  {
   "cell_type": "markdown",
   "id": "03727d87-e5dd-4bb2-8c97-a467ec60c9b6",
   "metadata": {},
   "source": [
    "# Packaging"
   ]
  },
  {
   "cell_type": "markdown",
   "id": "d38063bd-ce15-4a22-8b50-816e4e76eed1",
   "metadata": {},
   "source": [
    "Python packages are essential for organizing and distributing reusable code, making it easy for developers to share functionality across projects. The `setuptools` library is a popular tool for packaging Python projects, simplifying the process of creating, distributing, and installing packages. In this article, we will guide you through the steps to create a Python package using `setuptools`. Additionally, we will explain each parameter in the `setup.py` file, providing a comprehensive understanding of its purpose."
   ]
  },
  {
   "cell_type": "markdown",
   "id": "c7b2f329-ae6b-48a7-8069-3a296aeefcb5",
   "metadata": {},
   "source": [
    "## Introduction\n",
    "\n",
    "Creating a Python package allows developers to bundle code, modules, and resources together, promoting modularity and reusability. By using `setuptools`, we can easily define the package's metadata and configuration in the `setup.py` file, enabling seamless packaging and distribution."
   ]
  },
  {
   "cell_type": "markdown",
   "id": "d8edab88-3dc1-44fb-950f-e97bdb535cec",
   "metadata": {},
   "source": [
    "## Prerequisites\n",
    "\n",
    "Before proceeding, make sure you have Python and `setuptools` installed. You can check by running the following command:\n",
    "\n",
    "```bash\n",
    "$ python --version\n",
    "$ pip show setuptools\n",
    "```\n",
    "\n",
    "If `setuptools` is not installed, you can install it using:\n",
    "\n",
    "```bash\n",
    "$ pip install setuptools\n",
    "```"
   ]
  },
  {
   "cell_type": "markdown",
   "id": "592d0e11-0d10-4fcc-8bfb-b0177eb51338",
   "metadata": {},
   "source": [
    "## Project Structure\n",
    "\n",
    "For this tutorial, we assume a simple project structure like this:\n",
    "\n",
    "```\n",
    "hello-world/\n",
    "  |- hello_world/\n",
    "  |    |- __init__.py\n",
    "  |    |- main.py\n",
    "  |- tests/\n",
    "  |    |- __init__.py\n",
    "  |    |- test_hello.py\n",
    "  |- setup.py\n",
    "```\n",
    "\n",
    "For demostration purpose we can have this code inside `main.py`:\n",
    "\n",
    "```python\n",
    "def main() -> int:\n",
    "    print(\"hello world\")\n",
    "    return 0\n",
    "\n",
    "\n",
    "if __name__ == \"__main__\":\n",
    "    exit(main())\n",
    "```"
   ]
  },
  {
   "cell_type": "markdown",
   "id": "cc5f4cc4-8505-4be7-a913-12a52250b1ef",
   "metadata": {},
   "source": [
    "## Writing the `setup.py` File\n",
    "\n",
    "The `setup.py` file serves as the configuration script for `setuptools` to build, package, and distribute our Python package. Let's explain each parameter in the given `setup.py` code:\n",
    "\n",
    "```python\n",
    "from setuptools import setup, find_packages\n",
    "\n",
    "setup(\n",
    "    name=\"hello-world\",\n",
    "    version=\"1.0.0\",\n",
    "    description=\"Some sample hello world package\",\n",
    "    author=\"Debakar Roy\",\n",
    "    author_email=\"debakar.roy@outlook.com\",\n",
    "    url=\"https://github.com/debakarr/hello-world\",\n",
    "    # packages=[\"hello_world\"],\n",
    "    packages=find_packages(exclude=(\"tests*\",)),\n",
    "    entry_points={\n",
    "        'console_scripts': [\n",
    "            \"hello-world-cli = hello_world.main:main\",\n",
    "        ]\n",
    "    },\n",
    ")\n",
    "```\n",
    "\n",
    "- `name`\n",
    "\n",
    "The `name` parameter specifies the name of the package. It should be a unique, simple, and descriptive name, adhering to PEP 423 naming conventions.\n",
    "\n",
    "- `version`\n",
    "\n",
    "The `version` parameter indicates the package version. It follows the Semantic Versioning (SemVer) scheme (MAJOR.MINOR.PATCH).\n",
    "\n",
    "- `description`\n",
    "\n",
    "The `description` parameter provides a brief description of the package, which will be displayed on package indexes.\n",
    "\n",
    "- `author`\n",
    "\n",
    "The `author` parameter represents the name of the package's author.\n",
    "\n",
    "- `author_email`\n",
    "\n",
    "The `author_email` parameter is the email address of the package's author.\n",
    "\n",
    "- `url`\n",
    "\n",
    "The `url` parameter specifies the project's homepage or repository URL.\n",
    "\n",
    "- `packages`\n",
    "\n",
    "The `packages` parameter lists the Python packages to be included in the distribution. In this example, `find_packages()` automatically discovers packages by searching for directories containing an `__init__.py` file.\n",
    "\n",
    "- `entry_points`\n",
    "\n",
    "The `entry_points` parameter is used to create command-line scripts that are automatically installed when the package is installed. In this case, a script called `hello-world-cli` will be created, which invokes the `main` function from the `main.py` file in the `hello_world` package."
   ]
  },
  {
   "cell_type": "markdown",
   "id": "311dcd6a-ebe7-4471-888d-37499d477330",
   "metadata": {
    "jp-MarkdownHeadingCollapsed": true,
    "tags": []
   },
   "source": [
    "## Building the Package\n",
    "\n",
    "To build the package, navigate to the project's root directory and run:\n",
    "\n",
    "```bash\n",
    "$ python setup.py sdist bdist_wheel\n",
    "```\n",
    "\n",
    "This will create a `dist` directory containing the source distribution and a wheel distribution.\n",
    "\n",
    "![](./static/packaging.png)"
   ]
  },
  {
   "cell_type": "markdown",
   "id": "34807d33-eaeb-4294-82c4-39f3d9061c08",
   "metadata": {},
   "source": [
    "## Installing and Using the Package\n",
    "\n",
    "To install the package, use:\n",
    "\n",
    "```bash\n",
    "$ pip install dist/hello_world-1.0.0-py3-none-any.whl\n",
    "```\n",
    "\n",
    "After installation, you can use the `hello-world-cli` command in your terminal to execute the `main` function defined in `main.py`.\n",
    "\n",
    "![](./static/packaging-install.png)"
   ]
  },
  {
   "cell_type": "markdown",
   "id": "8a98d46c-9c07-4527-ac5a-84facae9d6e6",
   "metadata": {},
   "source": [
    "## Bonus - Using `setup.cfg` instead of `setup.py`\n",
    "\n",
    "Nowadays, `setup.cfg` is preferred over `setup.py` for defining package metadata because it provides a cleaner, more readable, and declarative approach, separating configuration from code and making it easier to maintain and understand the package settings.\n",
    "\n",
    "To change your script to use setup.cfg instead of setup.py you can use cli tools like [setup-py-upgrade](https://github.com/asottile/setup-py-upgrade). The previous package code may look like this after migrating to setup.cfg.\n",
    "\n",
    "`setup.py`:\n",
    "```python\n",
    "from setuptools import setup\n",
    "setup()\n",
    "```\n",
    "\n",
    "`setup.cfg`:\n",
    "```cfg\n",
    "[metadata]\n",
    "name = hello-world\n",
    "version = 1.0.0\n",
    "description = Some sample hello world package\n",
    "author = Debakar Roy\n",
    "author_email = debakar.roy@outlook.com\n",
    "url = https://github.com/debakarr/hello-world\n",
    "\n",
    "[options]\n",
    "packages = find:\n",
    "\n",
    "[options.packages.find]\n",
    "exclude = tests*\n",
    "\n",
    "[options.entry_points]\n",
    "console_scripts =\n",
    "    hello-world-cli = hello_world.main:main\n",
    "```"
   ]
  }
 ],
 "metadata": {
  "kernelspec": {
   "display_name": "Python 3 (ipykernel)",
   "language": "python",
   "name": "python3"
  },
  "language_info": {
   "codemirror_mode": {
    "name": "ipython",
    "version": 3
   },
   "file_extension": ".py",
   "mimetype": "text/x-python",
   "name": "python",
   "nbconvert_exporter": "python",
   "pygments_lexer": "ipython3",
   "version": "3.8.8"
  }
 },
 "nbformat": 4,
 "nbformat_minor": 5
}
