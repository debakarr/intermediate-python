{
 "cells": [
  {
   "cell_type": "markdown",
   "metadata": {},
   "source": [
    "# Intermediate Collections\n",
    "\n",
    "Most of these are from the built-in `collections` module."
   ]
  },
  {
   "cell_type": "markdown",
   "metadata": {},
   "source": [
    "## Counter\n",
    "\n",
    "| Concept & Usage                               | Description                                                                                                                                                                                                                                     | Example                                 |\n",
    "|-----------------------------------------------|-------------------------------------------------------------------------------------------------------------------------------------------------------------------------------------------------------------------------------------------------|-----------------------------------------|\n",
    "| Python Counter Class                         | `collections.Counter` is a subclass of a dictionary that counts hashable elements. It's used to count the occurrences of elements in an iterable (e.g., list, tuple, string).                                                                  | `from collections import Counter`<br>`data = [1, 2, 3, 1, 2, 4, 1, 4, 5, 1]`<br>`counter = Counter(data)`<br>`print(counter)`<br>Output: `Counter({1: 4, 2: 2, 4: 2, 3: 1, 5: 1})` |\n",
    "| Basic Operations                             | - Access count of an element: Use `counter[element]`. If the element is not present, it returns 0. <br> - Adding Counters: Use `+` operator to combine two Counters, and it will add up the counts for the same elements.<br> - Subtracting Counters: Use `-` operator to subtract the counts of elements in the right Counter from the left Counter. If the count becomes zero or negative, it won't be shown in the result.          | `counter1 = Counter([1, 2, 3, 1, 2])`<br>`print(counter1[2])`<br>Output: `2`<br><br>`counter2 = Counter([2, 2, 3, 4])`<br>`combined_counter = counter1 + counter2`<br>`print(combined_counter)`<br>Output: `Counter({1: 2, 2: 4, 3: 2, 4: 1})`<br><br>`counter3 = Counter([1, 2, 3, 4, 1, 2, 1])`<br>`subtracted_counter = counter3 - counter2`<br>`print(subtracted_counter)`<br>Output: `Counter({1: 2})` |\n",
    "| Useful Methods                               | - `elements()`: Returns an iterator over the elements in the Counter, repeated as many times as their count. <br> - `most_common(n)`: Returns a list of the n most common elements and their counts, in descending order. <br> - `update(iterable)`: Adds elements from an iterable to the counter, updating the counts. <br> - `clear()`: Resets the counter by removing all elements and counts.  | `data = [1, 2, 3, 1, 2, 4, 1, 4, 5, 1]`<br>`counter = Counter(data)`<br>`print(list(counter.elements()))`<br>Output: `[1, 1, 1, 1, 2, 2, 3, 4, 4, 5]`<br>`print(counter.most_common(2))`<br>Output: `[(1, 4), (2, 2)]`<br>`counter.update([1, 6, 6])`<br>`print(counter)`<br>Output: `Counter({1: 5, 2: 2, 4: 2, 3: 1, 5: 1, 6: 2})`<br>`counter.clear()`<br>`print(counter)`<br>Output: `Counter()` |\n"
   ]
  },
  {
   "cell_type": "code",
   "execution_count": 1,
   "metadata": {},
   "outputs": [
    {
     "name": "stdout",
     "output_type": "stream",
     "text": [
      "Counter({'Shivaji': 3, 'Tagore': 3, 'Raman': 2, 'Ashoka': 1})\n"
     ]
    }
   ],
   "source": [
    "from collections import Counter\n",
    "\n",
    "students = [\n",
    "    {'name': 'Amit', 'house': 'Shivaji'},\n",
    "    {'name': 'Rahul', 'house': 'Tagore'},\n",
    "    {'name': 'Sneha', 'house': 'Raman'},\n",
    "    {'name': 'Kavita', 'house': 'Shivaji'},\n",
    "    {'name': 'Ankit', 'house': 'Ashoka'},\n",
    "    {'name': 'Smita', 'house': 'Tagore'},\n",
    "    {'name': 'Prakash', 'house': 'Raman'},\n",
    "    {'name': 'Manju', 'house': 'Shivaji'},\n",
    "    {'name': 'Rajesh', 'house': 'Tagore'},\n",
    "]\n",
    "\n",
    "house_counter = Counter(student['house'] for student in students)\n",
    "\n",
    "print(house_counter)"
   ]
  },
  {
   "cell_type": "code",
   "execution_count": 2,
   "metadata": {},
   "outputs": [
    {
     "name": "stdout",
     "output_type": "stream",
     "text": [
      "Counter({'option1': 58, 'option2': 42, 'option3': 22})\n"
     ]
    }
   ],
   "source": [
    "group1_survey = Counter({'option1': 25, 'option2': 12, 'option3': 5})\n",
    "group2_survey = Counter({'option1': 15, 'option2': 8, 'option3': 10})\n",
    "group3_survey = Counter({'option1': 18, 'option2': 22, 'option3': 7})\n",
    "\n",
    "overall_survey = group1_survey + group2_survey + group3_survey\n",
    "print(overall_survey)"
   ]
  },
  {
   "cell_type": "code",
   "execution_count": 3,
   "metadata": {},
   "outputs": [
    {
     "name": "stdout",
     "output_type": "stream",
     "text": [
      "[('twinkle,', 7), ('little', 4), ('you', 4), ('the', 4), ('star', 3)]\n"
     ]
    }
   ],
   "source": [
    "twinkle_twinkle = \"\"\"Twinkle, twinkle, little star\n",
    "How I wonder what you are\n",
    "Up above the world so high\n",
    "Like a diamond in the sky\n",
    "Twinkle, twinkle little star\n",
    "How I wonder what you are\n",
    "\n",
    "When the blazing sun is gone\n",
    "When he nothing shines upon\n",
    "Then you show your little light\n",
    "Twinkle, twinkle, all the night\n",
    "Twinkle, twinkle, little star\n",
    "How I wonder what you are\"\"\"\n",
    "\n",
    "words = twinkle_twinkle.lower().split()\n",
    "\n",
    "word_counter = Counter(words)\n",
    "\n",
    "# Get the two most common fruits\n",
    "most_common_words = word_counter.most_common(5)\n",
    "print(most_common_words)"
   ]
  },
  {
   "cell_type": "code",
   "execution_count": 4,
   "metadata": {},
   "outputs": [
    {
     "name": "stdout",
     "output_type": "stream",
     "text": [
      "Counter({'grapes': 20, 'kiwi': 15, 'banana': 5, 'orange': -25, 'apple': -30})\n"
     ]
    }
   ],
   "source": [
    "# Initial inventory quantities\n",
    "inventory_beginning = Counter({'apple': 50, 'banana': 30, 'orange': 25, 'grapes': 40})\n",
    "\n",
    "# Inventory quantities at the end of the month\n",
    "inventory_end = Counter({'apple': 20, 'banana': 35, 'kiwi': 15, 'grapes': 60})\n",
    "\n",
    "# Calculate the change in inventory\n",
    "inventory_change = inventory_end.copy()\n",
    "inventory_change.subtract(inventory_beginning)\n",
    "\n",
    "print(inventory_change)"
   ]
  },
  {
   "cell_type": "markdown",
   "metadata": {},
   "source": [
    "## defaultdict\n",
    "\n",
    "| Concept & Usage                               | Description                                                                                                                                                                                                                                     | Example                                 |\n",
    "|-----------------------------------------------|-------------------------------------------------------------------------------------------------------------------------------------------------------------------------------------------------------------------------------------------------|-----------------------------------------|\n",
    "| Python defaultdict Class                     | `collections.defaultdict` is a subclass of `dict` that takes a default factory as an argument. The default factory specifies the type of default value that will be assigned to missing keys. If no default factory is provided, it will default to `None`.                                                                                                                  | `from collections import defaultdict`<br>`my_dict = defaultdict(int)`<br>`my_dict['a'] += 1`<br>Output: `defaultdict(<class 'int'>, {'a': 1})` |\n",
    "| Common Scenario: Counting occurrences        | One common use case of `defaultdict` is counting occurrences of elements in an iterable. By using the `int` factory, you can directly increment the count of elements without worrying about key errors.                                                                                                                                                                   | `from collections import defaultdict`<br>`data = ['apple', 'banana', 'apple', 'orange', 'banana', 'apple']`<br>`counter = defaultdict(int)`<br>`for item in data:`<br>&nbsp;&nbsp;&nbsp;&nbsp;`counter[item] += 1`<br>Output: `defaultdict(<class 'int'>, {'apple': 3, 'banana': 2, 'orange': 1})` |\n",
    "| Common Scenario: Grouping data               | `defaultdict` is helpful when you want to group data elements based on a common attribute. It allows you to efficiently create a dictionary where keys represent the attribute, and values are lists of elements having that attribute.                                                                                                                          | `from collections import defaultdict`<br>`data = [('apple', 'fruit'), ('carrot', 'vegetable'), ('banana', 'fruit'), ('broccoli', 'vegetable')]`<br>`grouped_data = defaultdict(list)`<br>`for item, category in data:`<br>&nbsp;&nbsp;&nbsp;&nbsp;`grouped_data[category].append(item)`<br>Output: `defaultdict(<class 'list'>, {'fruit': ['apple', 'banana'], 'vegetable': ['carrot', 'broccoli']})` |\n",
    "| Common Scenario: Handling missing keys        | `defaultdict` is useful when dealing with nested dictionaries, where some keys may not exist yet. Instead of checking for key existence before accessing or updating values, you can create a nested `defaultdict`. It saves you from the hassle of checking and initializing missing keys.                             | `from collections import defaultdict`<br>`nested_dict = lambda: defaultdict(nested_dict)`<br>`my_dict = nested_dict()`<br>`my_dict['a']['b']['c'] = 42`<br>Output: `defaultdict(<function <lambda> at 0x...>, {'a': defaultdict(<function <lambda> at 0x...>, {'b': defaultdict(<function <lambda> at 0x...>, {'c': 42})})` |\n"
   ]
  },
  {
   "cell_type": "code",
   "execution_count": 5,
   "metadata": {},
   "outputs": [
    {
     "name": "stdout",
     "output_type": "stream",
     "text": [
      "Rainy days: 1 days\n",
      "Sunny days: 3 days\n",
      "Moderate days: 2 days\n"
     ]
    }
   ],
   "source": [
    "from collections import defaultdict\n",
    "\n",
    "# Weather data for the last 7 days (Monday to Sunday)\n",
    "weather_conditions = ['rainy', 'sunny', 'moderate', 'sunny', 'moderate', 'sunny']\n",
    "\n",
    "# weather_counter = dict()\n",
    "\n",
    "# for condition in weather_conditions:\n",
    "#     if condition not in dict:\n",
    "#         weather_counter[condition] = 1\n",
    "#     else:\n",
    "#         weather_counter[condition] += 1\n",
    "\n",
    "# Create a defaultdict to count the occurrences of weather conditions\n",
    "weather_counter = defaultdict(int)\n",
    "\n",
    "# Count the number of days for each weather condition\n",
    "for condition in weather_conditions:\n",
    "    weather_counter[condition] += 1\n",
    "\n",
    "# Print the results\n",
    "print(f\"Rainy days: {weather_counter['rainy']} days\")\n",
    "print(f\"Sunny days: {weather_counter['sunny']} days\")\n",
    "print(f\"Moderate days: {weather_counter['moderate']} days\")"
   ]
  },
  {
   "cell_type": "code",
   "execution_count": 7,
   "metadata": {},
   "outputs": [
    {
     "name": "stdout",
     "output_type": "stream",
     "text": [
      "defaultdict(<class 'list'>, {'a': ['apple', 'ant'], 'b': ['banana', 'bat', 'ball']})\n"
     ]
    }
   ],
   "source": [
    "from collections import defaultdict\n",
    "\n",
    "words = ['apple', 'banana', 'ant', 'bat', 'ball']\n",
    "\n",
    "word_group = defaultdict(list)\n",
    "for word in words:\n",
    "    word_group[word[0]].append(word)\n",
    "\n",
    "print(word_group)"
   ]
  },
  {
   "cell_type": "code",
   "execution_count": 6,
   "metadata": {},
   "outputs": [
    {
     "name": "stdout",
     "output_type": "stream",
     "text": [
      "Question: Work-Life Balance\n",
      "Rating 4: 2 times\n",
      "Rating 5: 1 times\n",
      "\n",
      "Question: Job Satisfaction\n",
      "Rating 3: 1 times\n",
      "Rating 5: 2 times\n",
      "\n",
      "Question: Benefits\n",
      "Rating 4: 1 times\n",
      "Rating 3: 1 times\n",
      "\n"
     ]
    }
   ],
   "source": [
    "from collections import defaultdict\n",
    "\n",
    "# Employee feedback data\n",
    "feedback_data = [\n",
    "    {'question': 'Work-Life Balance', 'rating': 4},\n",
    "    {'question': 'Job Satisfaction', 'rating': 3},\n",
    "    {'question': 'Work-Life Balance', 'rating': 5},\n",
    "    {'question': 'Benefits', 'rating': 4},\n",
    "    {'question': 'Job Satisfaction', 'rating': 5},\n",
    "    {'question': 'Work-Life Balance', 'rating': 4},\n",
    "    {'question': 'Benefits', 'rating': 3},\n",
    "    {'question': 'Job Satisfaction', 'rating': 5},\n",
    "]\n",
    "\n",
    "# Create a defaultdict to count ratings for each question\n",
    "ratings_counter = defaultdict(lambda: defaultdict(int))\n",
    "\n",
    "# Count the occurrences of each rating for each question\n",
    "for feedback in feedback_data:\n",
    "    question = feedback['question']\n",
    "    rating = feedback['rating']\n",
    "    ratings_counter[question][rating] += 1\n",
    "\n",
    "# Print the results\n",
    "for question, ratings in ratings_counter.items():\n",
    "    print(f\"Question: {question}\")\n",
    "    for rating, count in ratings.items():\n",
    "        print(f\"Rating {rating}: {count} times\")\n",
    "    print()"
   ]
  },
  {
   "cell_type": "code",
   "execution_count": 8,
   "metadata": {},
   "outputs": [
    {
     "name": "stdout",
     "output_type": "stream",
     "text": [
      "Alice - Age: 30\n",
      "Bob - Age: 25\n",
      "Charlie - Age: 25\n"
     ]
    }
   ],
   "source": [
    "from collections import defaultdict\n",
    "\n",
    "names = ['Alice', 'Bob', 'Charlie']\n",
    "\n",
    "name_ages = defaultdict(lambda: 25)\n",
    "name_ages['Alice'] = 30\n",
    "\n",
    "for name in names:\n",
    "    print(f\"{name} - Age: {name_ages[name]}\")"
   ]
  },
  {
   "cell_type": "markdown",
   "metadata": {},
   "source": [
    "## deque"
   ]
  },
  {
   "cell_type": "markdown",
   "metadata": {},
   "source": [
    "Python's `deque` (double-ended queue) from the `collections` module is a versatile data structure that provides efficient operations for adding and removing elements from both ends. It is ideal for scenarios where you need fast appends and pops from either end of a sequence. Here are some common use cases for using `deque` along with examples:"
   ]
  },
  {
   "cell_type": "markdown",
   "metadata": {},
   "source": [
    "1. Implementing Queues and Stacks:\n",
    "\n",
    "`deque` can be used to implement both queues and stacks efficiently. For a queue, you can use the `append()` method to enqueue elements and the `popleft()` method to dequeue elements. For a stack, you can use the `append()` method to push elements onto the stack and the `pop()` method to pop elements from the stack.\n",
    "\n",
    "Example - Implementing a Queue:\n",
    "    "
   ]
  },
  {
   "cell_type": "code",
   "execution_count": 9,
   "metadata": {},
   "outputs": [
    {
     "name": "stdout",
     "output_type": "stream",
     "text": [
      "Alice\n",
      "Bob\n"
     ]
    }
   ],
   "source": [
    "from collections import deque\n",
    "\n",
    "queue = deque()\n",
    "queue.append('Alice')\n",
    "queue.append('Bob')\n",
    "queue.append('Charlie')\n",
    "\n",
    "print(queue.popleft())  # Output: Alice\n",
    "print(queue.popleft())  # Output: Bob"
   ]
  },
  {
   "cell_type": "markdown",
   "metadata": {},
   "source": [
    "2. Sliding Window Operations:\n",
    "\n",
    "`deque` is useful for sliding window operations, where you maintain a fixed-size window over a sequence and efficiently update it as new elements are added.\n",
    "\n",
    "Example - Finding Maximum in a Sliding Window:"
   ]
  },
  {
   "cell_type": "code",
   "execution_count": 10,
   "metadata": {},
   "outputs": [
    {
     "name": "stdout",
     "output_type": "stream",
     "text": [
      "[3, 3, 5, 5, 6, 7]\n"
     ]
    }
   ],
   "source": [
    "from collections import deque\n",
    "\n",
    "def max_in_sliding_window(nums, k):\n",
    "    max_values = []\n",
    "    window = deque()\n",
    "\n",
    "    for i, num in enumerate(nums):\n",
    "        while window and nums[window[-1]] < num:\n",
    "            window.pop()\n",
    "\n",
    "        window.append(i)\n",
    "\n",
    "        if window[0] <= i - k:\n",
    "            window.popleft()\n",
    "\n",
    "        if i >= k - 1:\n",
    "            max_values.append(nums[window[0]])\n",
    "\n",
    "    return max_values\n",
    "\n",
    "nums = [1, 3, -1, -3, 5, 3, 6, 7]\n",
    "k = 3\n",
    "print(max_in_sliding_window(nums, k))  # Output: [3, 3, 5, 5, 6, 7]"
   ]
  },
  {
   "cell_type": "markdown",
   "metadata": {},
   "source": [
    "3. Reversing Elements:\n",
    "\n",
    "`deque` allows you to efficiently reverse a sequence using the `reverse()` method, which can be helpful when dealing with data that needs to be processed in reverse order.\n",
    "\n",
    "Example - Reversing a List:"
   ]
  },
  {
   "cell_type": "code",
   "execution_count": 11,
   "metadata": {},
   "outputs": [
    {
     "name": "stdout",
     "output_type": "stream",
     "text": [
      "[5, 4, 3, 2, 1]\n"
     ]
    }
   ],
   "source": [
    "from collections import deque\n",
    "\n",
    "nums = [1, 2, 3, 4, 5]\n",
    "dq = deque(nums)\n",
    "dq.reverse()\n",
    "reversed_list = list(dq)\n",
    "print(reversed_list)  # Output: [5, 4, 3, 2, 1]"
   ]
  },
  {
   "cell_type": "markdown",
   "metadata": {},
   "source": [
    "4. Memory Efficiency:\n",
    "\n",
    "`deque` is memory efficient when you need to work with large sequences and want to avoid creating copies of the entire sequence during operations.\n",
    "\n",
    "Example - Efficiently Removing from Both Ends:"
   ]
  },
  {
   "cell_type": "code",
   "execution_count": 12,
   "metadata": {},
   "outputs": [],
   "source": [
    "from collections import deque\n",
    "\n",
    "items = list(range(1, 1000001))\n",
    "dq = deque(items)\n",
    "\n",
    "# Efficiently remove elements from both ends\n",
    "while dq:\n",
    "    dq.pop()\n",
    "    dq.popleft()"
   ]
  },
  {
   "cell_type": "markdown",
   "metadata": {},
   "source": [
    "In this example, using a `deque` instead of a regular list improves the performance of removing elements from both ends, especially for large sequences."
   ]
  },
  {
   "cell_type": "markdown",
   "metadata": {},
   "source": [
    "## namedtuple"
   ]
  },
  {
   "cell_type": "markdown",
   "metadata": {},
   "source": [
    "Python's `namedtuple` from the `collections` module is a lightweight data structure that creates tuple subclasses with named fields. It is used in situations where you need simple, immutable objects with named attributes, providing more expressive code compared to regular tuples or dictionaries. Here are some common use cases for using `namedtuple` along with examples:"
   ]
  },
  {
   "cell_type": "markdown",
   "metadata": {},
   "source": [
    "1. Representing Structured Data:\n",
    "\n",
    "`namedtuple` is an excellent choice for representing structured data with named fields, providing a convenient way to access elements by their names.\n",
    "\n",
    "Example - Representing a Point:"
   ]
  },
  {
   "cell_type": "code",
   "execution_count": 13,
   "metadata": {},
   "outputs": [
    {
     "name": "stdout",
     "output_type": "stream",
     "text": [
      "1\n",
      "2\n"
     ]
    }
   ],
   "source": [
    "from collections import namedtuple\n",
    "\n",
    "# Define a namedtuple for representing a Point\n",
    "Point = namedtuple('Point', ['x', 'y'])\n",
    "\n",
    "# Create an instance of Point\n",
    "p1 = Point(1, 2)\n",
    "\n",
    "# Access the attributes using names\n",
    "print(p1.x)  # Output: 1\n",
    "print(p1.y)  # Output: 2"
   ]
  },
  {
   "cell_type": "markdown",
   "metadata": {},
   "source": [
    "2. Returning Multiple Values from a Function:\n",
    "\n",
    "`namedtuple` can be used to return multiple values from a function in a more readable and self-documenting way.\n",
    "\n",
    "Example - Returning Min and Max Values:"
   ]
  },
  {
   "cell_type": "code",
   "execution_count": 14,
   "metadata": {},
   "outputs": [
    {
     "name": "stdout",
     "output_type": "stream",
     "text": [
      "3\n",
      "15\n"
     ]
    }
   ],
   "source": [
    "from collections import namedtuple\n",
    "\n",
    "def min_max(numbers):\n",
    "    Result = namedtuple('Result', ['min', 'max'])\n",
    "    return Result(min(numbers), max(numbers))\n",
    "\n",
    "numbers = [10, 3, 7, 15, 4]\n",
    "result = min_max(numbers)\n",
    "print(result.min)  # Output: 3\n",
    "print(result.max)  # Output: 15"
   ]
  },
  {
   "cell_type": "markdown",
   "metadata": {},
   "source": [
    "3. Data Serialization and Deserialization:\n",
    "\n",
    "`namedtuple` can be useful for data serialization and deserialization when working with JSON or CSV data, as it provides a convenient way to convert data between dictionaries and namedtuples.\n",
    "\n",
    "Example - Serializing and Deserializing Data:"
   ]
  },
  {
   "cell_type": "code",
   "execution_count": 15,
   "metadata": {},
   "outputs": [
    {
     "name": "stdout",
     "output_type": "stream",
     "text": [
      "Alice\n",
      "30\n",
      "New York\n"
     ]
    }
   ],
   "source": [
    "from collections import namedtuple\n",
    "import json\n",
    "\n",
    "# Define a namedtuple for representing a Person\n",
    "Person = namedtuple('Person', ['name', 'age', 'city'])\n",
    "\n",
    "# Serialize data to JSON\n",
    "person_data = Person(name='Alice', age=30, city='New York')\n",
    "json_data = json.dumps(person_data._asdict())\n",
    "\n",
    "# Deserialize JSON data back to namedtuple\n",
    "loaded_data = json.loads(json_data)\n",
    "person = Person(**loaded_data)\n",
    "\n",
    "print(person.name)  # Output: Alice\n",
    "print(person.age)   # Output: 30\n",
    "print(person.city)  # Output: New York"
   ]
  },
  {
   "cell_type": "markdown",
   "metadata": {},
   "source": [
    "4. Better Code Readability:\n",
    "\n",
    "In situations where you have data with multiple attributes, using `namedtuple` can significantly improve code readability compared to using plain tuples or dictionaries.\n",
    "\n",
    "Example - Representing a Student:"
   ]
  },
  {
   "cell_type": "code",
   "execution_count": 16,
   "metadata": {},
   "outputs": [
    {
     "name": "stdout",
     "output_type": "stream",
     "text": [
      "Bob\n",
      "21\n",
      "Computer Science\n"
     ]
    }
   ],
   "source": [
    "from collections import namedtuple\n",
    "\n",
    "# Define a namedtuple for representing a Student\n",
    "Student = namedtuple('Student', ['name', 'age', 'major'])\n",
    "\n",
    "# Create an instance of Student\n",
    "student = Student('Bob', 21, 'Computer Science')\n",
    "\n",
    "# Access the attributes using names\n",
    "print(student.name)   # Output: Bob\n",
    "print(student.age)    # Output: 21\n",
    "print(student.major)  # Output: Computer Science"
   ]
  }
 ],
 "metadata": {
  "kernelspec": {
   "display_name": "Python 3 (ipykernel)",
   "language": "python",
   "name": "python3"
  },
  "language_info": {
   "codemirror_mode": {
    "name": "ipython",
    "version": 3
   },
   "file_extension": ".py",
   "mimetype": "text/x-python",
   "name": "python",
   "nbconvert_exporter": "python",
   "pygments_lexer": "ipython3",
   "version": "3.8.8"
  }
 },
 "nbformat": 4,
 "nbformat_minor": 4
}
