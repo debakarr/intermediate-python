{
 "cells": [
  {
   "cell_type": "markdown",
   "id": "d35e9078-2625-41c9-859a-fbacac52f179",
   "metadata": {},
   "source": [
    "\\[<< [Packaging](./12_packaging.ipynb) | [Index](./00_index.ipynb) | [Command line tools in Python Standard library](./14_python_builtin_cli.ipynb) >>\\]\n"
   ]
  },
  {
   "cell_type": "markdown",
   "id": "8b590da2-d58f-4308-ad0f-5cdac1b2294f",
   "metadata": {},
   "source": [
    "## Python PDB (Python Debugger)\n",
    "\n",
    "Debugging is an essential part of software development. Python developers have a powerful tool at their disposal to help identify and resolve issues within their code: the Python Debugger, commonly known as PDB. PDB allows developers to step through their code, inspect variables, and trace program flow, aiding in the discovery and correction of bugs. This article provides a detailed overview of various PDB commands, demonstrating how to effectively use them to improve your debugging process.\n",
    "\n",
    "**Getting Started with PDB**\n",
    "\n",
    "To start using PDB, you can insert the following line of code at the point where you want to start debugging:\n",
    "\n",
    "```python\n",
    "import pdb; pdb.set_trace()\n",
    "```\n",
    "\n",
    "OR\n",
    "\n",
    "```python\n",
    "breakpoint()\n",
    "```\n",
    "\n",
    "NOTE: `breakpoint()` is introduce in Python 3.7.\n",
    "\n",
    "Once PDB is active, you can use the following commands to navigate through your code and inspect variables:\n",
    "\n",
    "**1. `help`**\n",
    "Displays a list of available commands and their descriptions. Type `help` followed by a command name to get more detailed information about that specific command.\n",
    "\n",
    "**2. `where`**\n",
    "Also known as `w`, this command displays a stack trace showing the current location in the code, including function calls and file paths.\n",
    "\n",
    "**3. `list`**\n",
    "Displays the source code around the current line being executed. By default, ten lines are shown, but you can provide a line number or a range to display a different number of lines.\n",
    "\n",
    "**4. `longlist`**\n",
    "Similar to the `list` command, `longlist` shows a more extensive view of the source code. It displays the entire function or method where the current line is located.\n",
    "\n",
    "**5. `next`**\n",
    "Advances the execution by one line, treating function and method calls as a single step. This is useful for quickly moving through your code without diving into function implementations.\n",
    "\n",
    "**6. `step`**\n",
    "Also known as `s`, this command steps into the next line of code. If the line contains a function or method call, PDB will enter that function, allowing you to debug its internal behavior.\n",
    "\n",
    "**7. `continue`**\n",
    "Resumes normal execution until a breakpoint is encountered or the program finishes running.\n",
    "\n",
    "**8. `break`**\n",
    "Adds a breakpoint at a specified line number or function name. When the program reaches the breakpoint, it will pause, giving you the opportunity to inspect variables and the program's state.\n",
    "\n",
    "**9. `print`**\n",
    "Displays the value of a specified variable. You can use this command to check the current value of variables and evaluate expressions.\n",
    "\n",
    "**10. `pp`**\n",
    "Short for \"pretty print,\" this command displays complex data structures, such as dictionaries and lists, in a more readable format.\n",
    "\n",
    "**11. `bt`**\n",
    "Displays a traceback of the call stack, showing the path of function calls that led to the current location in the code.\n",
    "\n",
    "**12. `interact`**\n",
    "Starts an interactive console session at the current point in the code. This allows you to execute arbitrary Python code, inspect variables, and test hypotheses.\n",
    "\n",
    "**13. `display`**\n",
    "This command lets you set up automatic displays of variables as you step through the code. It can be particularly helpful when you want to keep an eye on specific variables without manually printing them in every step.\n",
    "\n",
    "**14. `quit`**\n",
    "Exits the debugger and terminates the debugging session. Any changes made to variables during debugging will be lost unless explicitly saved.\n",
    "\n",
    "In conclusion, the Python Debugger (PDB) is a powerful tool that can significantly enhance your debugging process. By utilizing commands like `where`, `list`, `next`, `step`, and `print`, you can navigate through your code, inspect variables, and gain insights into program behavior. With `break`, you can set breakpoints to halt execution and `display` to track variables automatically. For more advanced interactions, you can use `interact` to experiment with code changes. Remember that effective debugging is essential for writing robust and reliable Python applications."
   ]
  },
  {
   "cell_type": "code",
   "execution_count": null,
   "id": "56abbd55-1157-4662-88b1-c343c0760bc6",
   "metadata": {},
   "outputs": [],
   "source": [
    "%%writefile example/debug_example.py\n",
    "def factorial(n):\n",
    "    if n == 0:\n",
    "        return 1\n",
    "    else:\n",
    "        return n * factorial(n - 1)\n",
    "\n",
    "def main():\n",
    "    breakpoint()\n",
    "    num = int(input(\"Enter a number: \"))\n",
    "    result = factorial(num)\n",
    "    print(f\"The factorial of {num} is {result}\")\n",
    "\n",
    "if __name__ == \"__main__\":\n",
    "    main()"
   ]
  },
  {
   "cell_type": "markdown",
   "id": "a8ec7683-b0e7-4932-b2b8-d95b4b2662e3",
   "metadata": {},
   "source": [
    "**Other resources for IDE:**\n",
    "- [Python debugging in VS Code](https://code.visualstudio.com/docs/python/debugging) (Can demo this in GitHub CodeSpace).\n",
    "- [Python debugging in PyCharm](https://www.jetbrains.com/help/pycharm/debugging-your-first-python-application.html)"
   ]
  },
  {
   "cell_type": "markdown",
   "id": "66534bf6-74d0-4177-b830-59937bf1ab48",
   "metadata": {},
   "source": [
    "\\[<< [Packaging](./12_packaging.ipynb) | [Index](./00_index.ipynb) | [Command line tools in Python Standard library](./14_python_builtin_cli.ipynb) >>\\]\n"
   ]
  }
 ],
 "metadata": {
  "kernelspec": {
   "display_name": "Python 3 (ipykernel)",
   "language": "python",
   "name": "python3"
  },
  "language_info": {
   "codemirror_mode": {
    "name": "ipython",
    "version": 3
   },
   "file_extension": ".py",
   "mimetype": "text/x-python",
   "name": "python",
   "nbconvert_exporter": "python",
   "pygments_lexer": "ipython3",
   "version": "3.11.4"
  }
 },
 "nbformat": 4,
 "nbformat_minor": 5
}
