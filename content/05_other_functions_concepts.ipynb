{
 "cells": [
  {
   "cell_type": "markdown",
   "metadata": {},
   "source": [
    "\\[<< [Namespace, Scope and Closure](./04_namespaces_scopes_and_closures.ipynb) | [Index](./00_index.ipynb) | [Sequence, Iterator and Generator](./06_sequence_iterators_and_generators.ipynb) >>\\]"
   ]
  },
  {
   "cell_type": "markdown",
   "metadata": {},
   "source": [
    "# Other functions concepts"
   ]
  },
  {
   "cell_type": "markdown",
   "metadata": {},
   "source": [
    "## Lambda Expression\n",
    "\n",
    "Syntax:\n",
    "`lambda [parameter list]: expresssion`\n",
    "\n",
    "`lambda` is the keyword used to define an lambda function (or sometimes called `anonymous function`). It is followed by list of `parametes`. Which is then followed by `colon` \":\" sign. Last part is the expression which is returned when the lambda function is called.\n",
    "\n",
    "Basically the whole thing returns a `function object` which returns the `expression` on `call`.\n",
    "\n",
    "It can be assigned to a variable or being passed to other functions."
   ]
  },
  {
   "cell_type": "code",
   "execution_count": null,
   "metadata": {},
   "outputs": [],
   "source": [
    "# def add(num1, num2):\n",
    "#     return num1 + num2\n",
    "\n",
    "add = lambda num1, num2: num1 + num2"
   ]
  },
  {
   "cell_type": "code",
   "execution_count": null,
   "metadata": {},
   "outputs": [],
   "source": [
    "add(1, 2)"
   ]
  },
  {
   "cell_type": "code",
   "execution_count": null,
   "metadata": {},
   "outputs": [],
   "source": [
    "# def square(num):\n",
    "#     return num ** 2\n",
    "\n",
    "square = lambda num: num**2"
   ]
  },
  {
   "cell_type": "code",
   "execution_count": null,
   "metadata": {},
   "outputs": [],
   "source": [
    "square(4)"
   ]
  },
  {
   "cell_type": "code",
   "execution_count": null,
   "metadata": {},
   "outputs": [],
   "source": [
    "# def greeting(name):\n",
    "#     return f\"Hello {name}!\"\n",
    "\n",
    "greeting = lambda name: f\"Hello {name}!\""
   ]
  },
  {
   "cell_type": "code",
   "execution_count": null,
   "metadata": {},
   "outputs": [],
   "source": [
    "greeting(\"Debakar\")"
   ]
  },
  {
   "cell_type": "code",
   "execution_count": null,
   "metadata": {},
   "outputs": [],
   "source": [
    "print(f\"{type(add) = }\\n{type(square) = }\\n{type(greeting) = }\")"
   ]
  },
  {
   "cell_type": "markdown",
   "metadata": {},
   "source": [
    "### Limitation of lambda"
   ]
  },
  {
   "cell_type": "markdown",
   "metadata": {},
   "source": [
    "**Can't use type hints**"
   ]
  },
  {
   "cell_type": "code",
   "execution_count": null,
   "metadata": {},
   "outputs": [],
   "source": [
    "# def add(num1: int, num2: int) -> int:\n",
    "#     return num1 + num2\n",
    "\n",
    "add = lambda num1: int, num2: int: num1 + num2"
   ]
  },
  {
   "cell_type": "markdown",
   "metadata": {},
   "source": [
    "In case you want to use typehint for lambda then you need to put it to the variable in which you are assigning the lambda."
   ]
  },
  {
   "cell_type": "code",
   "execution_count": null,
   "metadata": {},
   "outputs": [],
   "source": [
    "from typing import Callable\n",
    "\n",
    "add: Callable[[int, int], int] = lambda num1, num2: num1 + num2"
   ]
  },
  {
   "cell_type": "markdown",
   "metadata": {},
   "source": [
    "**Can't assign value inside expression**"
   ]
  },
  {
   "cell_type": "code",
   "execution_count": null,
   "metadata": {},
   "outputs": [],
   "source": [
    "lambda num: num = 10"
   ]
  },
  {
   "cell_type": "markdown",
   "metadata": {},
   "source": [
    "**Best PyCon talk on lambda**\n",
    "\n",
    "[![](https://img.youtube.com/vi/pkCLMl0e_0k/0.jpg)](https://youtu.be/pkCLMl0e_0k)"
   ]
  },
  {
   "cell_type": "markdown",
   "metadata": {},
   "source": [
    "## Higher order function\n",
    "\n",
    "[From Wikipedia](https://en.wikipedia.org/wiki/Higher-order_function):\n",
    "> In mathematics and computer science, a higher-order function (HOF) is a function that does at least one of the following:\n",
    "> - takes one or more functions as arguments (i.e. a procedural parameter, which is a parameter of a procedure that is itself a procedure),\n",
    "> - returns a function as its result.\n",
    "\n",
    "Some of the built-in `higher order functions` are `map`, `zip`, `filter`\n",
    "\n",
    "> Note: `list comprehension` or `generators` can also do lot of things which `map`, `zip` or `filter` does."
   ]
  },
  {
   "cell_type": "markdown",
   "metadata": {},
   "source": [
    "**map(func, *iterables)**\n",
    "\n",
    "You can pass multiple iterable and it return a new iterable after applying the `func`."
   ]
  },
  {
   "cell_type": "code",
   "execution_count": null,
   "metadata": {},
   "outputs": [],
   "source": [
    "numbers = [1, 2, 3, 4, 5]\n",
    "\n",
    "\n",
    "def square(num):\n",
    "    return num**2\n",
    "\n",
    "\n",
    "squared_numbers = map(square, numbers)\n",
    "list(squared_numbers)"
   ]
  },
  {
   "cell_type": "code",
   "execution_count": null,
   "metadata": {},
   "outputs": [],
   "source": [
    "item_quantity = [2, 3, 6, 4, 5]\n",
    "item_cost = [10, 30, 20, 5, 10]\n",
    "\n",
    "\n",
    "def product(num1, num2):\n",
    "    return num1 * num2\n",
    "\n",
    "\n",
    "cost_per_item = map(product, item_quantity, item_cost)\n",
    "list(cost_per_item)"
   ]
  },
  {
   "cell_type": "markdown",
   "metadata": {},
   "source": [
    "**filter(func, iterable)**\n",
    "\n",
    "You can pass only single iterable and it returns a new iterable with all the items for which `func(item)` returns `True`"
   ]
  },
  {
   "cell_type": "code",
   "execution_count": null,
   "metadata": {},
   "outputs": [],
   "source": [
    "numbers = [1, 2, 3, 4, 5, 6, 7, 8, 9, 10]\n",
    "\n",
    "\n",
    "def is_even(num):\n",
    "    return num % 2 == 0\n",
    "\n",
    "\n",
    "even_numbers = filter(is_even, numbers)\n",
    "list(even_numbers)"
   ]
  },
  {
   "cell_type": "markdown",
   "metadata": {},
   "source": [
    "If the function is `None`, then it will return all the values which are `Truely`. This is a great way to filter out `Falsy` values."
   ]
  },
  {
   "cell_type": "code",
   "execution_count": null,
   "metadata": {},
   "outputs": [],
   "source": [
    "items = [1, 2, 0, 5, 4, False, None, None, 0, 0]\n",
    "\n",
    "non_falsy = filter(None, items)\n",
    "list(non_falsy)"
   ]
  },
  {
   "cell_type": "markdown",
   "metadata": {},
   "source": [
    "**zip(*iterables)**"
   ]
  },
  {
   "cell_type": "code",
   "execution_count": null,
   "metadata": {},
   "outputs": [],
   "source": [
    "a = [1, 2, 3, 4, 5]\n",
    "b = [6, 7, 8, 9, 10]\n",
    "\n",
    "list(zip(a, b))"
   ]
  },
  {
   "cell_type": "code",
   "execution_count": null,
   "metadata": {},
   "outputs": [],
   "source": [
    "# length of the new iterable will be minimum of length of all the iterable\n",
    "a = [1, 2, 3, 4, 5]\n",
    "b = [6, 7, 8, 9, 10]\n",
    "c = [\"a\", \"b\", \"c\"]\n",
    "\n",
    "list(zip(a, b, c))"
   ]
  },
  {
   "cell_type": "markdown",
   "metadata": {},
   "source": [
    "Generally all this will be used combinely"
   ]
  },
  {
   "cell_type": "code",
   "execution_count": null,
   "metadata": {},
   "outputs": [],
   "source": [
    "squared_number_below_150 = filter(\n",
    "    lambda x: x < 150, map(lambda num: num**2, range(20))\n",
    ")\n",
    "list(squared_number_below_150)"
   ]
  },
  {
   "cell_type": "markdown",
   "metadata": {},
   "source": [
    "Although list comprehension are more readable"
   ]
  },
  {
   "cell_type": "markdown",
   "metadata": {},
   "source": [
    "## Docstrings and Annotation\n",
    "\n",
    "**Docstring:**\n",
    "\n",
    "A docstring is a string literal used to document modules, classes, functions, or methods in Python. It serves as a documentation tool to describe what the module, class, or function does, along with the parameters it takes, the return value, and any other relevant information. Docstrings are enclosed in triple quotes (single or double) and are placed as the first statement after the function, class, or module definition. They are typically used to provide guidance to other developers using the code and can be accessed using the `__doc__` attribute.\n",
    "\n",
    "Docstrings are part of [**PEP 257**](https://peps.python.org/pep-0257/)"
   ]
  },
  {
   "cell_type": "code",
   "execution_count": null,
   "metadata": {},
   "outputs": [],
   "source": [
    "def greeting(name):\n",
    "    \"\"\"\n",
    "    Generate a greeting message for the given 'name'.\n",
    "\n",
    "    :param str name: The name of the person to greet.\n",
    "    :return: A greeting message.\n",
    "    :rtype: str\n",
    "    \"\"\"\n",
    "    return f\"Hello {name}\""
   ]
  },
  {
   "cell_type": "code",
   "execution_count": null,
   "metadata": {},
   "outputs": [],
   "source": [
    "help(greeting)"
   ]
  },
  {
   "cell_type": "code",
   "execution_count": null,
   "metadata": {},
   "outputs": [],
   "source": [
    "# Docstring are stored in __doc__ attribute\n",
    "greeting.__doc__"
   ]
  },
  {
   "cell_type": "markdown",
   "metadata": {},
   "source": [
    "**Annotations:**\n",
    "\n",
    "Annotations in Python refer to the optional metadata added to function arguments and return values. Annotations provide additional information about the type of data that should be passed to the function's arguments and the type of data the function is expected to return. Annotations are specified using colons after the parameter names, followed by the type hint. They don't enforce strict type checking at runtime but serve as hints to developers and tools like type checkers or linters. Annotations are not mandatory, and if not provided, Python assumes dynamic typing. Ananotation can be accessed using the `__annotations__` attribute.\n",
    "\n",
    "Annotations are part of [**PEP 3107**](https://peps.python.org/pep-3107/)"
   ]
  },
  {
   "cell_type": "code",
   "execution_count": null,
   "metadata": {},
   "outputs": [],
   "source": [
    "def greeting(name: str) -> str:\n",
    "    \"\"\"\n",
    "    Generate a greeting message for the given 'name'.\n",
    "\n",
    "    :param name: The name of the person to greet.\n",
    "    :return: A greeting message.\n",
    "    \"\"\"\n",
    "    return f\"Hello {name}\""
   ]
  },
  {
   "cell_type": "code",
   "execution_count": null,
   "metadata": {},
   "outputs": [],
   "source": [
    "help(greeting)"
   ]
  },
  {
   "cell_type": "code",
   "execution_count": null,
   "metadata": {},
   "outputs": [],
   "source": [
    "greeting.__annotations__"
   ]
  },
  {
   "cell_type": "markdown",
   "metadata": {},
   "source": [
    "Docstring and Annotations are not used by Python at all. They are used mostly by external 3rd party tool like [`Sphinx`](https://github.com/sphinx-doc/sphinx) to generate documentation or [`Pydantic`](https://github.com/pydantic/pydantic) to do data validation."
   ]
  },
  {
   "cell_type": "markdown",
   "metadata": {},
   "source": [
    "## Function introspection"
   ]
  },
  {
   "cell_type": "markdown",
   "metadata": {},
   "source": [
    "1. `__name__`: Returns the name of the function as a string."
   ]
  },
  {
   "cell_type": "code",
   "execution_count": null,
   "metadata": {},
   "outputs": [],
   "source": [
    "def add(a, b):\n",
    "    return a + b\n",
    "\n",
    "\n",
    "print(add.__name__)"
   ]
  },
  {
   "cell_type": "markdown",
   "metadata": {},
   "source": [
    "2. `__defaults__`: Returns a tuple containing the default values of the function arguments."
   ]
  },
  {
   "cell_type": "code",
   "execution_count": null,
   "metadata": {},
   "outputs": [],
   "source": [
    "def greet(name, greeting=\"Hello\"):\n",
    "    return f\"{greeting}, {name}\"\n",
    "\n",
    "\n",
    "print(greet.__defaults__)"
   ]
  },
  {
   "cell_type": "markdown",
   "metadata": {},
   "source": [
    "3. `__kwdefaults__`: Returns a dictionary containing the default values of keyword arguments."
   ]
  },
  {
   "cell_type": "code",
   "execution_count": null,
   "metadata": {},
   "outputs": [],
   "source": [
    "def greet(name, greeting=\"Hello\"):\n",
    "    return f\"{greeting}, {name}\"\n",
    "\n",
    "\n",
    "print(greet.__kwdefaults__)"
   ]
  },
  {
   "cell_type": "markdown",
   "metadata": {},
   "source": [
    "4. `__code__.co_argcount`: Returns the number of arguments (excluding *args and **kwargs) that the function can accept."
   ]
  },
  {
   "cell_type": "code",
   "execution_count": null,
   "metadata": {},
   "outputs": [],
   "source": [
    "def add(a, b):\n",
    "    return a + b\n",
    "\n",
    "\n",
    "print(add.__code__.co_argcount)"
   ]
  },
  {
   "cell_type": "markdown",
   "metadata": {},
   "source": [
    "5. `__code__.co_varnames`: Returns a tuple containing the names of all the local variables in the function."
   ]
  },
  {
   "cell_type": "code",
   "execution_count": null,
   "metadata": {},
   "outputs": [],
   "source": [
    "def multiply(a, b):\n",
    "    result = a * b\n",
    "    return result\n",
    "\n",
    "\n",
    "print(multiply.__code__.co_varnames)"
   ]
  },
  {
   "cell_type": "markdown",
   "metadata": {},
   "source": [
    "6. `__code__.co_consts`: Returns a tuple containing constants used in the function."
   ]
  },
  {
   "cell_type": "code",
   "execution_count": null,
   "metadata": {},
   "outputs": [],
   "source": [
    "def multiply(a, b):\n",
    "    pi = 3.14\n",
    "    result = a * b\n",
    "    return result\n",
    "\n",
    "\n",
    "print(multiply.__code__.co_consts)"
   ]
  },
  {
   "cell_type": "markdown",
   "metadata": {},
   "source": [
    "7. `__code__.co_names`: Returns a tuple containing the names of all global names used in the function."
   ]
  },
  {
   "cell_type": "code",
   "execution_count": null,
   "metadata": {},
   "outputs": [],
   "source": [
    "global_var = 42\n",
    "\n",
    "\n",
    "def add(a, b):\n",
    "    return a + global_var\n",
    "\n",
    "\n",
    "print(add.__code__.co_names)"
   ]
  },
  {
   "cell_type": "markdown",
   "metadata": {},
   "source": [
    "8. `__code__.co_nlocals`: Returns the number of local variables used in the function."
   ]
  },
  {
   "cell_type": "code",
   "execution_count": null,
   "metadata": {},
   "outputs": [],
   "source": [
    "def calculate(a, b):\n",
    "    result = a + b\n",
    "    return result\n",
    "\n",
    "\n",
    "print(calculate.__code__.co_nlocals)"
   ]
  },
  {
   "cell_type": "markdown",
   "metadata": {},
   "source": [
    "### Introspection using inspect module"
   ]
  },
  {
   "cell_type": "markdown",
   "metadata": {},
   "source": [
    "1. Using `inspect.signature` to get the function signature:"
   ]
  },
  {
   "cell_type": "code",
   "execution_count": null,
   "metadata": {},
   "outputs": [],
   "source": [
    "import inspect\n",
    "\n",
    "\n",
    "def greet(name, greeting=\"Hello\"):\n",
    "    return f\"{greeting}, {name}\"\n",
    "\n",
    "\n",
    "signature = inspect.signature(greet)\n",
    "print(signature)"
   ]
  },
  {
   "cell_type": "markdown",
   "metadata": {},
   "source": [
    "2. Using `inspect.getsource` to get the source code of a function:"
   ]
  },
  {
   "cell_type": "code",
   "execution_count": null,
   "metadata": {},
   "outputs": [],
   "source": [
    "import inspect\n",
    "\n",
    "\n",
    "def square(x):\n",
    "    return x**2\n",
    "\n",
    "\n",
    "source_code = inspect.getsource(square)\n",
    "print(source_code)"
   ]
  },
  {
   "cell_type": "markdown",
   "metadata": {},
   "source": [
    "3. Using `inspect.getdoc` to get the docstring of a function:"
   ]
  },
  {
   "cell_type": "code",
   "execution_count": null,
   "metadata": {},
   "outputs": [],
   "source": [
    "import inspect\n",
    "\n",
    "\n",
    "def multiply(a, b):\n",
    "    \"\"\"\n",
    "    Multiply two numbers and return the result.\n",
    "    \"\"\"\n",
    "    return a * b\n",
    "\n",
    "\n",
    "docstring = inspect.getdoc(multiply)\n",
    "print(docstring)"
   ]
  },
  {
   "cell_type": "markdown",
   "metadata": {},
   "source": [
    "4. Using `inspect.getmembers` to get all members of a module:"
   ]
  },
  {
   "cell_type": "code",
   "execution_count": null,
   "metadata": {},
   "outputs": [],
   "source": [
    "import math\n",
    "import inspect\n",
    "\n",
    "members = inspect.getmembers(math)\n",
    "print(members)"
   ]
  },
  {
   "cell_type": "markdown",
   "metadata": {},
   "source": [
    "5. Using `inspect.getfile` and `inspect.getsource` to get the source file and code of a module (Will not work for module which are created dynamically on runtime):"
   ]
  },
  {
   "cell_type": "code",
   "execution_count": null,
   "metadata": {},
   "outputs": [],
   "source": [
    "import numpy as np\n",
    "import inspect\n",
    "\n",
    "file = inspect.getfile(np)\n",
    "print(file)\n",
    "print(inspect.getsource(np))"
   ]
  },
  {
   "cell_type": "markdown",
   "metadata": {},
   "source": [
    "6. Using `inspect.getmodule` to get the module object from a function or class:"
   ]
  },
  {
   "cell_type": "code",
   "execution_count": null,
   "metadata": {},
   "outputs": [],
   "source": [
    "import math\n",
    "import inspect\n",
    "\n",
    "\n",
    "def square(x):\n",
    "    return x**2\n",
    "\n",
    "\n",
    "module = inspect.getmodule(square)\n",
    "print(module)"
   ]
  },
  {
   "cell_type": "markdown",
   "metadata": {},
   "source": [
    "## Callable\n",
    "\n",
    "Any `object` that can be called using `()` is called **`callable`**. A `callable` always returns a value.\n",
    "\n",
    "`functions`, `methods`, `classes` are some of the `callable` in python. But it goes beyond that."
   ]
  },
  {
   "cell_type": "markdown",
   "metadata": {},
   "source": [
    "### built-in functions are callable"
   ]
  },
  {
   "cell_type": "code",
   "execution_count": null,
   "metadata": {},
   "outputs": [],
   "source": [
    "print(f\"{callable(print) = }\")\n",
    "print(f\"{callable(len) = }\")\n",
    "print(f\"{callable(any) = }\")"
   ]
  },
  {
   "cell_type": "markdown",
   "metadata": {},
   "source": [
    "### built-in methods are callable"
   ]
  },
  {
   "cell_type": "code",
   "execution_count": null,
   "metadata": {},
   "outputs": [],
   "source": [
    "print(f\"{callable(str.upper) = }\")\n",
    "print(f\"{callable(list.append) = }\")"
   ]
  },
  {
   "cell_type": "markdown",
   "metadata": {},
   "source": [
    "### user define function or methods are callable"
   ]
  },
  {
   "cell_type": "code",
   "execution_count": null,
   "metadata": {},
   "outputs": [],
   "source": [
    "def add(num1, num2):\n",
    "    return num1 + num2\n",
    "\n",
    "\n",
    "mul = lambda num1, num2: num1 * num2\n",
    "\n",
    "print(f\"{callable(add) = }\")\n",
    "print(f\"{callable(mul) = }\")"
   ]
  },
  {
   "cell_type": "markdown",
   "metadata": {},
   "source": [
    "### classes and methods (function bound to an object) are callable\n",
    "\n",
    "Objects can also be callable if the class implements __call__ method."
   ]
  },
  {
   "cell_type": "code",
   "execution_count": null,
   "metadata": {},
   "outputs": [],
   "source": [
    "class Counter:\n",
    "    def __init__(self):\n",
    "        self._count = 0\n",
    "\n",
    "    def __call__(self):\n",
    "        self._count += 1\n",
    "        return self._count\n",
    "\n",
    "    def current(self):\n",
    "        return self._count\n",
    "\n",
    "\n",
    "counter = Counter()\n",
    "\n",
    "print(f\"{callable(Counter) = }\")\n",
    "print(f\"{callable(Counter.current) = }\")\n",
    "print(f\"{callable(counter.current) = }\")\n",
    "print(f\"{callable(counter) = }\")"
   ]
  },
  {
   "cell_type": "markdown",
   "metadata": {},
   "source": [
    "### Generators are callable (discussed in details later section)"
   ]
  },
  {
   "cell_type": "code",
   "execution_count": null,
   "metadata": {},
   "outputs": [],
   "source": [
    "def square():\n",
    "    for i in range(10):\n",
    "        yield i**2\n",
    "\n",
    "\n",
    "callable(square)"
   ]
  },
  {
   "cell_type": "markdown",
   "metadata": {},
   "source": [
    "## Decorator\n",
    "\n",
    "Most of the decorator from standard library are mentioned here: [wiki.python.org - Decorators](https://wiki.python.org/moin/Decorators)\n",
    "\n",
    "In simple term decorator `accepts` a `callable` and `returns` a `callable`."
   ]
  },
  {
   "cell_type": "code",
   "execution_count": null,
   "metadata": {},
   "outputs": [],
   "source": [
    "# Closure\n",
    "\n",
    "\n",
    "def outer_func():\n",
    "    # outer_func body before inner_func\n",
    "    def inner_func():\n",
    "        \"inner_func body\"\n",
    "\n",
    "    # outer_func body after inner_func\n",
    "    return inner_func"
   ]
  },
  {
   "cell_type": "code",
   "execution_count": null,
   "metadata": {},
   "outputs": [],
   "source": [
    "def trace(func):\n",
    "    def call(*args, **kwargs):\n",
    "        # print(\"Calling {} with args={} and kwargs={}\".format(func.__name__, args, kwargs))\n",
    "        print(f\"Caling {func.__name__} with {args = } and {kwargs = }\")\n",
    "        return func(*args, **kwargs)\n",
    "\n",
    "    return call"
   ]
  },
  {
   "cell_type": "code",
   "execution_count": null,
   "metadata": {},
   "outputs": [],
   "source": [
    "def add(num1, num2):\n",
    "    return num1 + num2"
   ]
  },
  {
   "cell_type": "markdown",
   "metadata": {},
   "source": [
    "`add` func is an object which is store in memory in some location."
   ]
  },
  {
   "cell_type": "code",
   "execution_count": null,
   "metadata": {},
   "outputs": [],
   "source": [
    "print(f\"{hex(id(add)) = }\")"
   ]
  },
  {
   "cell_type": "code",
   "execution_count": null,
   "metadata": {},
   "outputs": [],
   "source": [
    "add(2, 3)"
   ]
  },
  {
   "cell_type": "markdown",
   "metadata": {},
   "source": [
    "You can actually pass `add` to `trace` function as in python we support `high order function`. This will return a new function (note the address is different)"
   ]
  },
  {
   "cell_type": "code",
   "execution_count": null,
   "metadata": {},
   "outputs": [],
   "source": [
    "add = trace(add)"
   ]
  },
  {
   "cell_type": "code",
   "execution_count": null,
   "metadata": {},
   "outputs": [],
   "source": [
    "print(f\"{hex(id(add)) = }\")"
   ]
  },
  {
   "cell_type": "code",
   "execution_count": null,
   "metadata": {},
   "outputs": [],
   "source": [
    "print(f\"{add.__code__.co_freevars = }\")\n",
    "print(f\"{add.__closure__ = }\")"
   ]
  },
  {
   "cell_type": "markdown",
   "metadata": {},
   "source": [
    "The part in trace will be part of the new add function"
   ]
  },
  {
   "cell_type": "code",
   "execution_count": null,
   "metadata": {},
   "outputs": [],
   "source": [
    "add(2, 3)"
   ]
  },
  {
   "cell_type": "code",
   "execution_count": null,
   "metadata": {},
   "outputs": [],
   "source": [
    "def gravitational_force(mass1, mass2, distance, gravitational_constant=6.67430e-11):\n",
    "    force = gravitational_constant * (mass1 * mass2) / (distance**2)\n",
    "    return force"
   ]
  },
  {
   "cell_type": "code",
   "execution_count": null,
   "metadata": {},
   "outputs": [],
   "source": [
    "gravitational_force = trace(gravitational_force)"
   ]
  },
  {
   "cell_type": "code",
   "execution_count": null,
   "metadata": {},
   "outputs": [],
   "source": [
    "mass1 = 5.972e24  # Mass of the Earth in kilograms\n",
    "mass2 = 7.3477e22  # Mass of the Moon in kilograms\n",
    "distance = 384400e3  # Distance between the Earth and the Moon in meters\n",
    "\n",
    "force = gravitational_force(mass1, mass2, distance=distance)\n",
    "print(f\"The gravitational force between the Earth and the Moon is {force:.2e} Newtons.\")"
   ]
  },
  {
   "cell_type": "code",
   "execution_count": null,
   "metadata": {},
   "outputs": [],
   "source": [
    "@trace\n",
    "def add(num1, num2):\n",
    "    return num1 + num2\n",
    "\n",
    "\n",
    "@trace\n",
    "def gravitational_force(mass1, mass2, distance, gravitational_constant=6.67430e-11):\n",
    "    force = gravitational_constant * (mass1 * mass2) / (distance**2)\n",
    "    return force"
   ]
  },
  {
   "cell_type": "code",
   "execution_count": null,
   "metadata": {},
   "outputs": [],
   "source": [
    "add(2, 3)"
   ]
  },
  {
   "cell_type": "code",
   "execution_count": null,
   "metadata": {},
   "outputs": [],
   "source": [
    "mass1 = 5.972e24  # Mass of the Earth in kilograms\n",
    "mass2 = 7.3477e22  # Mass of the Moon in kilograms\n",
    "distance = 384400e3  # Distance between the Earth and the Moon in meters\n",
    "\n",
    "force = gravitational_force(mass1, mass2, distance=distance)\n",
    "print(f\"The gravitational force between the Earth and the Moon is {force:.2e} Newtons.\")"
   ]
  },
  {
   "cell_type": "markdown",
   "metadata": {},
   "source": [
    "### Introspecting a decorator"
   ]
  },
  {
   "cell_type": "code",
   "execution_count": null,
   "metadata": {},
   "outputs": [],
   "source": [
    "add.__name__  # name should have been 'add'"
   ]
  },
  {
   "cell_type": "code",
   "execution_count": null,
   "metadata": {},
   "outputs": [],
   "source": [
    "help(add)  # docstring as well as original function signature is also lost"
   ]
  },
  {
   "cell_type": "code",
   "execution_count": null,
   "metadata": {},
   "outputs": [],
   "source": [
    "def trace(func):\n",
    "    def call(*args, **kwargs):\n",
    "        # print(\"Calling {} with args={} and kwargs={}\".format(func.__name__, args, kwargs))\n",
    "        print(f\"Caling {func.__name__} with {args = } and {kwargs = }\")\n",
    "        return func(*args, **kwargs)\n",
    "\n",
    "    call.__name__ = func.__name__\n",
    "    call.__doc__ = func.__doc__\n",
    "    return call"
   ]
  },
  {
   "cell_type": "markdown",
   "metadata": {},
   "source": [
    "### functools.wraps"
   ]
  },
  {
   "cell_type": "code",
   "execution_count": null,
   "metadata": {},
   "outputs": [],
   "source": [
    "import functools\n",
    "\n",
    "\n",
    "def trace(func):\n",
    "    @functools.wraps(func)\n",
    "    def call(*args, **kwargs):\n",
    "        # print(\"Calling {} with args={} and kwargs={}\".format(func.__name__, args, kwargs))\n",
    "        print(f\"Caling {func.__name__} with {args = } and {kwargs = }\")\n",
    "        return func(*args, **kwargs)\n",
    "\n",
    "    return call"
   ]
  },
  {
   "cell_type": "code",
   "execution_count": null,
   "metadata": {},
   "outputs": [],
   "source": [
    "@trace\n",
    "def add(num1, num2):\n",
    "    return num1 + num2"
   ]
  },
  {
   "cell_type": "code",
   "execution_count": null,
   "metadata": {},
   "outputs": [],
   "source": [
    "add.__name__"
   ]
  },
  {
   "cell_type": "code",
   "execution_count": null,
   "metadata": {},
   "outputs": [],
   "source": [
    "help(add)"
   ]
  },
  {
   "cell_type": "markdown",
   "metadata": {},
   "source": [
    "### Decorators with parameters\n",
    "\n",
    "You will see lot of built-in decorator which also allows you to pass parametes (`@lru_cache(maxsize=256)`)"
   ]
  },
  {
   "cell_type": "code",
   "execution_count": null,
   "metadata": {},
   "outputs": [],
   "source": [
    "def run_multiple_times(func, num_times):\n",
    "    def wrapper(*args, **kwargs):\n",
    "        for _ in range(num_times):\n",
    "            func(*args, **kwargs)\n",
    "\n",
    "    return wrapper\n",
    "\n",
    "\n",
    "def run_s3_cycle():\n",
    "    print(\"Running S3 cycle\")\n",
    "\n",
    "\n",
    "run_s3_cycle_5_times = run_multiple_times(run_s3_cycle, 5)\n",
    "\n",
    "run_s3_cycle_5_times()"
   ]
  },
  {
   "cell_type": "markdown",
   "metadata": {},
   "source": [
    "Will this work?"
   ]
  },
  {
   "cell_type": "code",
   "execution_count": null,
   "metadata": {},
   "outputs": [],
   "source": [
    "@run_multiple_times(5)\n",
    "def run_s3_cycle():\n",
    "    print(\"Running S3 cycle\")\n",
    "\n",
    "\n",
    "run_s3_cycle()"
   ]
  },
  {
   "cell_type": "code",
   "execution_count": null,
   "metadata": {},
   "outputs": [],
   "source": [
    "# decorator = run_multiple_times(5)  # This should return the run_multiple_times with parameter num_times parameter set to 5\n",
    "\n",
    "# @decorator\n",
    "# def run_s3_cycle():\n",
    "#     print(\"Running S3 cycle\")"
   ]
  },
  {
   "cell_type": "code",
   "execution_count": null,
   "metadata": {},
   "outputs": [],
   "source": [
    "# Use nested closures\n",
    "\n",
    "import time\n",
    "\n",
    "\n",
    "def run_multiple_times(num_times):\n",
    "    def inner_decorator(func):\n",
    "        def wrapper(*args, **kwargs):\n",
    "            for _ in range(num_times):\n",
    "                func(*args, **kwargs)\n",
    "\n",
    "        return wrapper\n",
    "\n",
    "    return inner_decorator"
   ]
  },
  {
   "cell_type": "code",
   "execution_count": null,
   "metadata": {},
   "outputs": [],
   "source": [
    "def run_s3_cycle():\n",
    "    print(\"Running S3 cycle\")\n",
    "\n",
    "\n",
    "run_s3_cycle_5_times = run_multiple_times(5)(run_s3_cycle)\n",
    "run_s3_cycle_5_times()"
   ]
  },
  {
   "cell_type": "markdown",
   "metadata": {},
   "source": [
    "This is often time refer to as [**Currying**](https://en.wikipedia.org/wiki/Currying)"
   ]
  },
  {
   "cell_type": "code",
   "execution_count": null,
   "metadata": {},
   "outputs": [],
   "source": [
    "@run_multiple_times(5)\n",
    "# @inner_decorator\n",
    "def run_s3_cycle():\n",
    "    print(\"Running S3 cycle\")\n",
    "\n",
    "\n",
    "run_s3_cycle()"
   ]
  },
  {
   "cell_type": "markdown",
   "metadata": {},
   "source": [
    "`run_multiple_times` is generally refered to as `decorator factory` since it generates a decorator."
   ]
  },
  {
   "cell_type": "markdown",
   "metadata": {},
   "source": [
    "### Decorator for caching"
   ]
  },
  {
   "cell_type": "code",
   "execution_count": null,
   "metadata": {},
   "outputs": [],
   "source": [
    "import time\n",
    "\n",
    "\n",
    "def some_computational_task(num1, num2):\n",
    "    print(f\"Doing some computation for {num1 = } and {num2 =}\")\n",
    "    time.sleep(2)\n",
    "    return num1 + num2"
   ]
  },
  {
   "cell_type": "code",
   "execution_count": null,
   "metadata": {},
   "outputs": [],
   "source": [
    "print(f\"{some_computational_task(3, 5) = }\")\n",
    "print(f\"{some_computational_task(3, 5) = }\")\n",
    "print(f\"{some_computational_task(3, 5) = }\")"
   ]
  },
  {
   "cell_type": "code",
   "execution_count": null,
   "metadata": {},
   "outputs": [],
   "source": [
    "import pickle\n",
    "\n",
    "\n",
    "def cache(func):\n",
    "    seen = {}\n",
    "\n",
    "    def wrapper(*args, **kwargs):\n",
    "        key = (pickle.dumps(args), pickle.dumps(kwargs))\n",
    "\n",
    "        if key not in seen:\n",
    "            result = func(*args, **kwargs)\n",
    "            seen[key] = result\n",
    "\n",
    "        return seen[key]\n",
    "\n",
    "    return wrapper"
   ]
  },
  {
   "cell_type": "code",
   "execution_count": null,
   "metadata": {},
   "outputs": [],
   "source": [
    "@cache\n",
    "def some_computational_task(num1, num2):\n",
    "    print(f\"Doing some computation for {num1 = } and {num2 =}\")\n",
    "    time.sleep(2)\n",
    "    return num1 + num2"
   ]
  },
  {
   "cell_type": "code",
   "execution_count": null,
   "metadata": {},
   "outputs": [],
   "source": [
    "print(f\"{some_computational_task(3, 5) = }\")\n",
    "print(f\"{some_computational_task(3, 5) = }\")\n",
    "print(f\"{some_computational_task(3, 5) = }\")"
   ]
  },
  {
   "cell_type": "markdown",
   "metadata": {},
   "source": [
    "**Best PyCon talk on decorator**\n",
    "\n",
    "[![](https://img.youtube.com/vi/MjHpMCIvwsY/0.jpg)](https://youtu.be/MjHpMCIvwsY)"
   ]
  },
  {
   "cell_type": "markdown",
   "metadata": {},
   "source": [
    "\\[<< [Namespace, Scope and Closure](./04_namespaces_scopes_and_closures.ipynb) | [Index](./00_index.ipynb) | [Sequence, Iterator and Generator](./06_sequence_iterators_and_generators.ipynb) >>\\]"
   ]
  }
 ],
 "metadata": {
  "kernelspec": {
   "display_name": "Python 3 (ipykernel)",
   "language": "python",
   "name": "python3"
  },
  "language_info": {
   "codemirror_mode": {
    "name": "ipython",
    "version": 3
   },
   "file_extension": ".py",
   "mimetype": "text/x-python",
   "name": "python",
   "nbconvert_exporter": "python",
   "pygments_lexer": "ipython3",
   "version": "3.11.4"
  }
 },
 "nbformat": 4,
 "nbformat_minor": 4
}
