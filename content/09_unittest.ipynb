{
 "cells": [
  {
   "cell_type": "markdown",
   "id": "26c1802d-2abe-4d3f-ac40-6a99acc1a55a",
   "metadata": {},
   "source": [
    "\\[<< [Building command line interface](./08_argparse/09_argparse.ipynb) | [Index](./00_index.ipynb) | [Multithreading and Multiprocessing](./10_concurrency.ipynb) >>\\]\n"
   ]
  },
  {
   "cell_type": "markdown",
   "id": "82ef09d5-9174-4400-a47b-4f9d848740c0",
   "metadata": {},
   "source": [
    "# Unit Testing"
   ]
  },
  {
   "cell_type": "code",
   "execution_count": null,
   "id": "6836536d-2b8b-4c11-8676-f94db5baa5d8",
   "metadata": {},
   "outputs": [],
   "source": [
    "%load_ext save_and_exec_magic"
   ]
  },
  {
   "cell_type": "code",
   "execution_count": null,
   "id": "862b2eff-0469-4a3b-ab34-3e6066e55b3f",
   "metadata": {
    "tags": []
   },
   "outputs": [],
   "source": [
    "%%save_and_run_magic unittest\n",
    "import unittest\n",
    "\n",
    "class ExampleTest(unittest.TestCase):\n",
    "    def test_something(self):\n",
    "        val = 1\n",
    "        self.assertEqual(val, 5)"
   ]
  },
  {
   "cell_type": "code",
   "execution_count": null,
   "id": "e32280ad-2854-44fc-b6ba-2ff008b79a7a",
   "metadata": {},
   "outputs": [],
   "source": [
    "%pip install pytest"
   ]
  },
  {
   "cell_type": "markdown",
   "id": "0251d9fe-4bc8-4a7f-a52f-31248a9e5be9",
   "metadata": {},
   "source": [
    "Similar thing in pytest:"
   ]
  },
  {
   "cell_type": "code",
   "execution_count": null,
   "id": "38fd0a98-c5d9-448e-bd00-e7fded8d9aee",
   "metadata": {},
   "outputs": [],
   "source": [
    "%%save_and_run_magic pytest\n",
    "def test_something():\n",
    "    val = 1\n",
    "    assert val == 5"
   ]
  },
  {
   "cell_type": "markdown",
   "id": "bca98315-5b08-4a93-95e5-9e621946f4be",
   "metadata": {},
   "source": [
    "1. Pytest provides clear breakdowns of test results, including the value of `val`, even though it uses the Python assert statement. This allows for easy identification of test failures and their specific details.\n",
    "\n",
    "2. Pytest does not require setting up a class for test cases, although you have the option to use classes if needed. This makes writing tests more straightforward and less verbose compared to some other testing frameworks.\n",
    "\n",
    "3. Unlike other testing frameworks that have numerous `self.assert*` functions for different assertions, pytest simplifies the process by using the familiar Python assert statement for making assertions in tests.\n",
    "\n",
    "4. Pytest is versatile and can run not only pytest-specific tests but also unittest tests and tests written for the old nose package. This makes it compatible with various testing frameworks, providing flexibility to developers."
   ]
  },
  {
   "cell_type": "markdown",
   "id": "4aa32472-ae68-469f-bc60-23f1a5a38204",
   "metadata": {},
   "source": [
    "## Practice TDD"
   ]
  },
  {
   "cell_type": "code",
   "execution_count": null,
   "id": "1132e4b0-ddd6-486a-bbf2-eb3315046d2a",
   "metadata": {},
   "outputs": [],
   "source": [
    "%%save_and_run_magic pytest\n",
    "def add(num1, num2):\n",
    "    pass\n",
    "\n",
    "\n",
    "def test_add():\n",
    "    assert add(1, 2) == 3"
   ]
  },
  {
   "cell_type": "code",
   "execution_count": null,
   "id": "6965ab16-7184-4672-bbdc-b15ee11be477",
   "metadata": {},
   "outputs": [],
   "source": [
    "%%save_and_run_magic pytest\n",
    "def add(num1, num2):\n",
    "    return num1 + num2\n",
    "\n",
    "\n",
    "def test_add():\n",
    "    assert add(1, 2) == 3"
   ]
  },
  {
   "cell_type": "markdown",
   "id": "afc24de2-1c49-428e-a097-932782732474",
   "metadata": {},
   "source": [
    "## Use `pytest.approx` for float operation"
   ]
  },
  {
   "cell_type": "code",
   "execution_count": null,
   "id": "498cb615-4747-415a-b2e2-9ba20e2d6151",
   "metadata": {},
   "outputs": [],
   "source": [
    "%%save_and_run_magic pytest\n",
    "def add(num1, num2):\n",
    "    return num1 + num2\n",
    "\n",
    "\n",
    "def test_add():\n",
    "    assert add(1, 2) == 3\n",
    "\n",
    "def test_add_float():\n",
    "    assert add(0.1, 0.2) == 0.3"
   ]
  },
  {
   "cell_type": "code",
   "execution_count": null,
   "id": "e8957e45-7538-42d7-b1d9-30c2e1d08368",
   "metadata": {},
   "outputs": [],
   "source": [
    "%%save_and_run_magic pytest\n",
    "def add(num1, num2):\n",
    "    return num1 + num2\n",
    "\n",
    "import pytest\n",
    "\n",
    "def test_add():\n",
    "    assert add(1, 2) == 3\n",
    "\n",
    "def test_add_float():\n",
    "    assert add(0.1, 0.2) == pytest.approx(0.3)"
   ]
  },
  {
   "cell_type": "markdown",
   "id": "94be61f3-47d3-47ff-bc98-6006aa56f2d3",
   "metadata": {},
   "source": [
    "## Use `pytest.mark.parametrize` for handling unit test which have similar parameters"
   ]
  },
  {
   "cell_type": "code",
   "execution_count": null,
   "id": "5e3735bb-d685-40ab-b1a6-179097ac44e3",
   "metadata": {},
   "outputs": [],
   "source": [
    "%%save_and_run_magic pytest\n",
    "def add(num1, num2):\n",
    "    return num1 + num2\n",
    "\n",
    "\n",
    "import pytest\n",
    "\n",
    "\n",
    "@pytest.mark.parametrize(\n",
    "    ('input_arg', 'expected'),\n",
    "    (\n",
    "        ((1, 2), 3),\n",
    "        ((0.1, 0.2), 0.3),\n",
    "    ),\n",
    ")\n",
    "def test_add(input_arg, expected):\n",
    "    assert add(*input_arg) == pytest.approx(expected)\n"
   ]
  },
  {
   "cell_type": "code",
   "execution_count": null,
   "id": "a0d62060-a4ab-4d26-bb73-7a4ed238a917",
   "metadata": {},
   "outputs": [],
   "source": [
    "%%save_and_run_magic pytest -v\n",
    "def add(num1, num2):\n",
    "    return num1 + num2\n",
    "\n",
    "\n",
    "import pytest\n",
    "\n",
    "\n",
    "@pytest.mark.parametrize(\n",
    "    ('input_arg', 'expected'),\n",
    "    (\n",
    "        ((1, 2), 3),\n",
    "        ((0.1, 0.2), 0.3),\n",
    "    ),\n",
    ")\n",
    "def test_add(input_arg, expected):\n",
    "    assert add(*input_arg) == pytest.approx(expected)\n"
   ]
  },
  {
   "cell_type": "markdown",
   "id": "f72e94fb-ba01-4557-b3af-e2720a98dc90",
   "metadata": {},
   "source": [
    "By default any print statement inside test function will not show up. If your want them use `-s` flag."
   ]
  },
  {
   "cell_type": "code",
   "execution_count": null,
   "id": "252781d2-a153-42da-9dc7-9345aa9f3b98",
   "metadata": {},
   "outputs": [],
   "source": [
    "%%save_and_run_magic pytest -vs\n",
    "def add(num1, num2):\n",
    "    return num1 + num2\n",
    "\n",
    "\n",
    "import pytest\n",
    "\n",
    "\n",
    "@pytest.mark.parametrize(\n",
    "    ('input_arg', 'expected'),\n",
    "    (\n",
    "        ((1, 2), 3),\n",
    "        ((0.1, 0.2), 0.3),\n",
    "    ),\n",
    ")\n",
    "def test_add(input_arg, expected):\n",
    "    print(f\"\\n{input_arg = }, {expected = }\")\n",
    "    assert add(*input_arg) == pytest.approx(expected)\n"
   ]
  },
  {
   "cell_type": "markdown",
   "id": "5bd106f0-7ed9-472d-8e74-8936a30a461a",
   "metadata": {},
   "source": [
    "Use `pytest.raises` to check if an expected exception is raised"
   ]
  },
  {
   "cell_type": "code",
   "execution_count": null,
   "id": "0f0f4466-24a3-4e88-8961-0977722efd9a",
   "metadata": {},
   "outputs": [],
   "source": [
    "%%save_and_run_magic pytest -v\n",
    "import pytest\n",
    "\n",
    "def test_raises():\n",
    "    with pytest.raises(ZeroDivisionError):\n",
    "        1 / 0"
   ]
  },
  {
   "cell_type": "markdown",
   "id": "99f7094e-7541-4e5a-97ed-ad1e5ee4d819",
   "metadata": {},
   "source": [
    "## pytest fixtures\n",
    "\n",
    "- Pytest fixtures are functions used in tests for setup, teardown, and handling resources.\n",
    "- They are recognized by names in test functions and automatically invoked by pytest.\n",
    "- Fixtures centralize setup logic, making tests modular, reusable, and maintainable.\n",
    "- Pytest provides built-in fixtures and allows custom fixtures to enhance testing capabilities.\n",
    "- Fixtures support parameterization and different scopes for precise control over their usage."
   ]
  },
  {
   "cell_type": "markdown",
   "id": "06c222a5-f1b6-46c5-9c30-c0dc447472af",
   "metadata": {},
   "source": [
    "### fixture as data"
   ]
  },
  {
   "cell_type": "code",
   "execution_count": null,
   "id": "de096fb9-fba3-4a2d-ad88-3db4605212fa",
   "metadata": {},
   "outputs": [],
   "source": [
    "%%save_and_run_magic pytest -v\n",
    "class Calculator:\n",
    "    def add(self, a, b):\n",
    "        return a + b\n",
    "\n",
    "    def subtract(self, a, b):\n",
    "        return a - b\n",
    "\n",
    "def test_addition():\n",
    "    calc = Calculator()\n",
    "    result = calc.add(5, 10)\n",
    "    assert result == 15\n",
    "\n",
    "def test_subtraction():\n",
    "    calc = Calculator()\n",
    "    result = calc.subtract(20, 8)\n",
    "    assert result == 12"
   ]
  },
  {
   "cell_type": "code",
   "execution_count": null,
   "id": "041a810b-0398-48de-8cac-0efc1e1ba7c9",
   "metadata": {},
   "outputs": [],
   "source": [
    "%%save_and_run_magic pytest -v\n",
    "class Calculator:\n",
    "    def add(self, a, b):\n",
    "        return a + b\n",
    "\n",
    "    def subtract(self, a, b):\n",
    "        return a - b\n",
    "\n",
    "import pytest\n",
    "\n",
    "@pytest.fixture\n",
    "def calc():\n",
    "    return Calculator()\n",
    "\n",
    "def test_addition(calc):\n",
    "    result = calc.add(5, 10)\n",
    "    assert result == 15\n",
    "\n",
    "def test_subtraction(calc):\n",
    "    result = calc.subtract(20, 8)\n",
    "    assert result == 12"
   ]
  },
  {
   "cell_type": "markdown",
   "id": "279afd23-f274-4820-b59f-7f1ac5117273",
   "metadata": {},
   "source": [
    "### fixture as test state"
   ]
  },
  {
   "cell_type": "code",
   "execution_count": null,
   "id": "9e0fd8fa-1653-4d62-a319-87307db52a22",
   "metadata": {},
   "outputs": [],
   "source": [
    "%%save_and_run_magic pytest -vs\n",
    "import pytest\n",
    "\n",
    "@pytest.fixture\n",
    "def setup_and_teardown_example():\n",
    "    print(\"Setup - Before the test\")\n",
    "    yield\n",
    "    print(\"Teardown - After the test\")\n",
    "\n",
    "def test_add(setup_and_teardown_example):\n",
    "    print(\"Running test_add\")\n",
    "    assert 1 + 1 == 2\n",
    "\n",
    "@pytest.mark.usefixtures('setup_and_teardown_example')\n",
    "def test_sub():\n",
    "    print(\"Running test_sub\")\n",
    "    assert 1 - 1 == 0"
   ]
  },
  {
   "cell_type": "markdown",
   "id": "bda167fa-4b50-42e2-a87e-0b9390e568ba",
   "metadata": {},
   "source": [
    "### run fixture for everything"
   ]
  },
  {
   "cell_type": "code",
   "execution_count": null,
   "id": "f41c08b3-83c6-4129-9195-d75cc237ac2f",
   "metadata": {},
   "outputs": [],
   "source": [
    "%%save_and_run_magic pytest -vs\n",
    "import pytest\n",
    "\n",
    "@pytest.fixture(autouse=True)\n",
    "def setup_and_teardown_example():\n",
    "    print(\"Setup - Before the test\")\n",
    "    yield\n",
    "    print(\"Teardown - After the test\")\n",
    "\n",
    "def test_add():\n",
    "    print(\"Running test_add\")\n",
    "    assert 1 + 1 == 2\n",
    "\n",
    "def test_sub():\n",
    "    print(\"Running test_sub\")\n",
    "    assert 1 - 1 == 0"
   ]
  },
  {
   "cell_type": "markdown",
   "id": "cfc224ec-c8e3-4439-aa31-28d76100433a",
   "metadata": {},
   "source": [
    "By default the fixture is scope in function. So for each function the fixture is invoked. But we can set it to some specific scope"
   ]
  },
  {
   "cell_type": "code",
   "execution_count": null,
   "id": "f7d77a4e-1866-4c4a-8296-ce14e3a00950",
   "metadata": {},
   "outputs": [],
   "source": [
    "%%save_and_run_magic pytest -vs\n",
    "import pytest\n",
    "\n",
    "@pytest.fixture(autouse=True, scope='session')\n",
    "def setup_and_teardown_example():\n",
    "    print(\"Setup - Before the test\")\n",
    "    yield\n",
    "    print(\"Teardown - After the test\")\n",
    "\n",
    "def test_add():\n",
    "    print(\"Running test_add\")\n",
    "    assert 1 + 1 == 2\n",
    "\n",
    "def test_sub():\n",
    "    print(\"Running test_sub\")\n",
    "    assert 1 - 1 == 0"
   ]
  },
  {
   "cell_type": "markdown",
   "id": "b176970f-a560-4766-bac8-e356029573e2",
   "metadata": {},
   "source": [
    "\\[<< [Building command line interface](./08_argparse/09_argparse.ipynb) | [Index](./00_index.ipynb) | [Multithreading and Multiprocessing](./10_concurrency.ipynb) >>\\]\n"
   ]
  }
 ],
 "metadata": {
  "kernelspec": {
   "display_name": "Python 3 (ipykernel)",
   "language": "python",
   "name": "python3"
  },
  "language_info": {
   "codemirror_mode": {
    "name": "ipython",
    "version": 3
   },
   "file_extension": ".py",
   "mimetype": "text/x-python",
   "name": "python",
   "nbconvert_exporter": "python",
   "pygments_lexer": "ipython3",
   "version": "3.11.4"
  }
 },
 "nbformat": 4,
 "nbformat_minor": 5
}
