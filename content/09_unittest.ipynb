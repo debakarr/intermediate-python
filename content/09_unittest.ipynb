{
 "cells": [
  {
   "cell_type": "markdown",
   "id": "82ef09d5-9174-4400-a47b-4f9d848740c0",
   "metadata": {},
   "source": [
    "# Unit Testing"
   ]
  },
  {
   "cell_type": "code",
   "execution_count": null,
   "id": "862b2eff-0469-4a3b-ab34-3e6066e55b3f",
   "metadata": {
    "tags": []
   },
   "outputs": [],
   "source": [
    "%%writefile test_example.py\n",
    "import unittest\n",
    "\n",
    "class ExampleTest(unittest.TestCase):\n",
    "    def test_something(self):\n",
    "        val = 1\n",
    "        self.assertEqual(val, 5)"
   ]
  },
  {
   "cell_type": "code",
   "execution_count": null,
   "id": "91c68ada-b68c-4ae1-befd-9c3d015633fe",
   "metadata": {},
   "outputs": [],
   "source": [
    "!python -m unittest"
   ]
  },
  {
   "cell_type": "markdown",
   "id": "0251d9fe-4bc8-4a7f-a52f-31248a9e5be9",
   "metadata": {},
   "source": [
    "Similar thing in pytest:"
   ]
  },
  {
   "cell_type": "code",
   "execution_count": null,
   "id": "38fd0a98-c5d9-448e-bd00-e7fded8d9aee",
   "metadata": {},
   "outputs": [],
   "source": [
    "%%writefile test_example.py\n",
    "def test_something():\n",
    "    val = 1\n",
    "    assert x == 5"
   ]
  },
  {
   "cell_type": "code",
   "execution_count": null,
   "id": "3aea6723-37e4-4967-9399-ce25c5ac532e",
   "metadata": {},
   "outputs": [],
   "source": [
    "!python -m pytest"
   ]
  },
  {
   "cell_type": "markdown",
   "id": "bca98315-5b08-4a93-95e5-9e621946f4be",
   "metadata": {},
   "source": [
    "1. Pytest provides clear breakdowns of test results, including the value of `val`, even though it uses the Python assert statement. This allows for easy identification of test failures and their specific details.\n",
    "\n",
    "2. Pytest does not require setting up a class for test cases, although you have the option to use classes if needed. This makes writing tests more straightforward and less verbose compared to some other testing frameworks.\n",
    "\n",
    "3. Unlike other testing frameworks that have numerous `self.assert*` functions for different assertions, pytest simplifies the process by using the familiar Python assert statement for making assertions in tests.\n",
    "\n",
    "4. Pytest is versatile and can run not only pytest-specific tests but also unittest tests and tests written for the old nose package. This makes it compatible with various testing frameworks, providing flexibility to developers."
   ]
  },
  {
   "cell_type": "markdown",
   "id": "4aa32472-ae68-469f-bc60-23f1a5a38204",
   "metadata": {},
   "source": [
    "## Practice TDD"
   ]
  },
  {
   "cell_type": "code",
   "execution_count": null,
   "id": "1132e4b0-ddd6-486a-bbf2-eb3315046d2a",
   "metadata": {},
   "outputs": [],
   "source": [
    "%%writefile test_example.py\n",
    "def add(num1, num2):\n",
    "    pass\n",
    "\n",
    "\n",
    "def test_add():\n",
    "    assert add(1, 2) == 3"
   ]
  },
  {
   "cell_type": "code",
   "execution_count": null,
   "id": "60b589e2-2ee4-4377-82e5-ad26e0a4f727",
   "metadata": {},
   "outputs": [],
   "source": [
    "!python -m pytest"
   ]
  },
  {
   "cell_type": "code",
   "execution_count": null,
   "id": "6965ab16-7184-4672-bbdc-b15ee11be477",
   "metadata": {},
   "outputs": [],
   "source": [
    "%%writefile test_example.py\n",
    "def add(num1, num2):\n",
    "    return num1 + num2\n",
    "\n",
    "\n",
    "def test_add():\n",
    "    assert add(1, 2) == 3"
   ]
  },
  {
   "cell_type": "code",
   "execution_count": null,
   "id": "9030ed5f-9e66-42cb-b0c4-6e2f94098a54",
   "metadata": {},
   "outputs": [],
   "source": [
    "!python -m pytest"
   ]
  },
  {
   "cell_type": "markdown",
   "id": "afc24de2-1c49-428e-a097-932782732474",
   "metadata": {},
   "source": [
    "## Use `pytest.approx` for float operation"
   ]
  },
  {
   "cell_type": "code",
   "execution_count": null,
   "id": "498cb615-4747-415a-b2e2-9ba20e2d6151",
   "metadata": {},
   "outputs": [],
   "source": [
    "%%writefile test_example.py\n",
    "def add(num1, num2):\n",
    "    return num1 + num2\n",
    "\n",
    "\n",
    "def test_add():\n",
    "    assert add(1, 2) == 3\n",
    "\n",
    "def test_add_float():\n",
    "    assert add(0.1, 0.2) == 0.3"
   ]
  },
  {
   "cell_type": "code",
   "execution_count": null,
   "id": "d9e4f237-09ed-4170-8113-1f7fea35bfb9",
   "metadata": {},
   "outputs": [],
   "source": [
    "!python -m pytest"
   ]
  },
  {
   "cell_type": "code",
   "execution_count": null,
   "id": "e8957e45-7538-42d7-b1d9-30c2e1d08368",
   "metadata": {},
   "outputs": [],
   "source": [
    "%%writefile test_example.py\n",
    "def add(num1, num2):\n",
    "    return num1 + num2\n",
    "\n",
    "import pytest\n",
    "\n",
    "def test_add():\n",
    "    assert add(1, 2) == 3\n",
    "\n",
    "def test_add_float():\n",
    "    assert add(0.1, 0.2) == pytest.approx(0.3)"
   ]
  },
  {
   "cell_type": "code",
   "execution_count": null,
   "id": "19574185-8d1c-4a95-a729-4e2b51b08502",
   "metadata": {},
   "outputs": [],
   "source": [
    "!python -m pytest"
   ]
  },
  {
   "cell_type": "markdown",
   "id": "94be61f3-47d3-47ff-bc98-6006aa56f2d3",
   "metadata": {},
   "source": [
    "## Use `pytest.mark.parametrize` for handling unit test which have similar parameters"
   ]
  },
  {
   "cell_type": "code",
   "execution_count": null,
   "id": "5e3735bb-d685-40ab-b1a6-179097ac44e3",
   "metadata": {},
   "outputs": [],
   "source": [
    "%%writefile test_example.py\n",
    "def add(num1, num2):\n",
    "    return num1 + num2\n",
    "\n",
    "\n",
    "import pytest\n",
    "\n",
    "\n",
    "@pytest.mark.parametrize(\n",
    "    ('input_arg', 'expected'),\n",
    "    (\n",
    "        ((1, 2), 3),\n",
    "        ((0.1, 0.2), 0.3),\n",
    "    ),\n",
    ")\n",
    "def test_add(input_arg, expected):\n",
    "    assert add(*input_arg) == pytest.approx(expected)\n"
   ]
  },
  {
   "cell_type": "code",
   "execution_count": null,
   "id": "3b60721e-f8c6-4a1b-82a6-e575e444a6b8",
   "metadata": {},
   "outputs": [],
   "source": [
    "!python -m pytest"
   ]
  },
  {
   "cell_type": "code",
   "execution_count": null,
   "id": "a0d62060-a4ab-4d26-bb73-7a4ed238a917",
   "metadata": {},
   "outputs": [],
   "source": [
    "# pytest by default is very silent, you can make it verbose b y passing -v command.\n",
    "!python -m pytest -v"
   ]
  },
  {
   "cell_type": "markdown",
   "id": "f72e94fb-ba01-4557-b3af-e2720a98dc90",
   "metadata": {},
   "source": [
    "By default any print statement inside test function will not show up"
   ]
  },
  {
   "cell_type": "code",
   "execution_count": null,
   "id": "252781d2-a153-42da-9dc7-9345aa9f3b98",
   "metadata": {},
   "outputs": [],
   "source": [
    "%%writefile test_example.py\n",
    "def add(num1, num2):\n",
    "    return num1 + num2\n",
    "\n",
    "\n",
    "import pytest\n",
    "\n",
    "\n",
    "@pytest.mark.parametrize(\n",
    "    ('input_arg', 'expected'),\n",
    "    (\n",
    "        ((1, 2), 3),\n",
    "        ((0.1, 0.2), 0.3),\n",
    "    ),\n",
    ")\n",
    "def test_add(input_arg, expected):\n",
    "    print(f\"\\n{input_arg = }, {expected = }\")\n",
    "    assert add(*input_arg) == pytest.approx(expected)\n"
   ]
  },
  {
   "cell_type": "code",
   "execution_count": null,
   "id": "306c39f3-da4a-4847-8fbc-813ce6165d33",
   "metadata": {},
   "outputs": [],
   "source": [
    "!python -m pytest -v"
   ]
  },
  {
   "cell_type": "code",
   "execution_count": null,
   "id": "cb1adf22-20ff-496d-b3bd-3ec1ef96cab8",
   "metadata": {},
   "outputs": [],
   "source": [
    "!python -m pytest -vs"
   ]
  },
  {
   "cell_type": "markdown",
   "id": "5bd106f0-7ed9-472d-8e74-8936a30a461a",
   "metadata": {},
   "source": [
    "Use `pytest.raises` to check if an expected exception is raised"
   ]
  },
  {
   "cell_type": "code",
   "execution_count": null,
   "id": "0f0f4466-24a3-4e88-8961-0977722efd9a",
   "metadata": {},
   "outputs": [],
   "source": [
    "%%writefile test_example.py\n",
    "import pytest\n",
    "\n",
    "def test_raises():\n",
    "    with pytest.raises(ZeroDivisionError):\n",
    "        1 / 0"
   ]
  },
  {
   "cell_type": "code",
   "execution_count": null,
   "id": "52403a02-1958-4e02-93b9-c2579df1cb09",
   "metadata": {},
   "outputs": [],
   "source": [
    "!python -m pytest"
   ]
  },
  {
   "cell_type": "markdown",
   "id": "99f7094e-7541-4e5a-97ed-ad1e5ee4d819",
   "metadata": {},
   "source": [
    "## pytest fixtures\n",
    "\n",
    "- Pytest fixtures are functions used in tests for setup, teardown, and handling resources.\n",
    "- They are recognized by names in test functions and automatically invoked by pytest.\n",
    "- Fixtures centralize setup logic, making tests modular, reusable, and maintainable.\n",
    "- Pytest provides built-in fixtures and allows custom fixtures to enhance testing capabilities.\n",
    "- Fixtures support parameterization and different scopes for precise control over their usage."
   ]
  },
  {
   "cell_type": "markdown",
   "id": "06c222a5-f1b6-46c5-9c30-c0dc447472af",
   "metadata": {},
   "source": [
    "### fixture as data"
   ]
  },
  {
   "cell_type": "code",
   "execution_count": null,
   "id": "de096fb9-fba3-4a2d-ad88-3db4605212fa",
   "metadata": {},
   "outputs": [],
   "source": [
    "%%writefile test_example.py\n",
    "class Calculator:\n",
    "    def add(self, a, b):\n",
    "        return a + b\n",
    "\n",
    "    def subtract(self, a, b):\n",
    "        return a - b\n",
    "\n",
    "def test_addition():\n",
    "    calc = Calculator()\n",
    "    result = calc.add(5, 10)\n",
    "    assert result == 15\n",
    "\n",
    "def test_subtraction():\n",
    "    calc = Calculator()\n",
    "    result = calc.subtract(20, 8)\n",
    "    assert result == 12"
   ]
  },
  {
   "cell_type": "code",
   "execution_count": null,
   "id": "de85eb75-40e2-405e-b345-34a03a05e5c3",
   "metadata": {},
   "outputs": [],
   "source": [
    "!python -m pytest"
   ]
  },
  {
   "cell_type": "code",
   "execution_count": null,
   "id": "041a810b-0398-48de-8cac-0efc1e1ba7c9",
   "metadata": {},
   "outputs": [],
   "source": [
    "%%writefile test_example.py\n",
    "class Calculator:\n",
    "    def add(self, a, b):\n",
    "        return a + b\n",
    "\n",
    "    def subtract(self, a, b):\n",
    "        return a - b\n",
    "\n",
    "import pytest\n",
    "\n",
    "@pytest.fixture\n",
    "def calc():\n",
    "    return Calculator()\n",
    "\n",
    "def test_addition(calc):\n",
    "    result = calc.add(5, 10)\n",
    "    assert result == 15\n",
    "\n",
    "def test_subtraction(calc):\n",
    "    result = calc.subtract(20, 8)\n",
    "    assert result == 12"
   ]
  },
  {
   "cell_type": "code",
   "execution_count": null,
   "id": "e423b73e-3181-4590-a00d-9b2c699c7204",
   "metadata": {},
   "outputs": [],
   "source": [
    "!python -m pytest"
   ]
  },
  {
   "cell_type": "markdown",
   "id": "279afd23-f274-4820-b59f-7f1ac5117273",
   "metadata": {},
   "source": [
    "### fixture as test state"
   ]
  },
  {
   "cell_type": "code",
   "execution_count": null,
   "id": "9e0fd8fa-1653-4d62-a319-87307db52a22",
   "metadata": {},
   "outputs": [],
   "source": [
    "%%writefile test_example.py\n",
    "import pytest\n",
    "\n",
    "@pytest.fixture\n",
    "def setup_and_teardown_example():\n",
    "    print(\"Setup - Before the test\")\n",
    "    yield\n",
    "    print(\"Teardown - After the test\")\n",
    "\n",
    "def test_add(setup_and_teardown_example):\n",
    "    print(\"Running test_add\")\n",
    "    assert 1 + 1 == 2\n",
    "\n",
    "@pytest.mark.usefixtures('setup_and_teardown_example')\n",
    "def test_sub():\n",
    "    print(\"Running test_sub\")\n",
    "    assert 1 - 1 == 0"
   ]
  },
  {
   "cell_type": "code",
   "execution_count": null,
   "id": "c2035a65-2d63-468d-b518-4447f5b85f0a",
   "metadata": {},
   "outputs": [],
   "source": [
    "!python -m pytest -s"
   ]
  },
  {
   "cell_type": "markdown",
   "id": "bda167fa-4b50-42e2-a87e-0b9390e568ba",
   "metadata": {},
   "source": [
    "### run fixture for everything"
   ]
  },
  {
   "cell_type": "code",
   "execution_count": null,
   "id": "f41c08b3-83c6-4129-9195-d75cc237ac2f",
   "metadata": {},
   "outputs": [],
   "source": [
    "%%writefile test_example.py\n",
    "import pytest\n",
    "\n",
    "@pytest.fixture(autouse=True)\n",
    "def setup_and_teardown_example():\n",
    "    print(\"Setup - Before the test\")\n",
    "    yield\n",
    "    print(\"Teardown - After the test\")\n",
    "\n",
    "def test_add():\n",
    "    print(\"Running test_add\")\n",
    "    assert 1 + 1 == 2\n",
    "\n",
    "def test_sub():\n",
    "    print(\"Running test_sub\")\n",
    "    assert 1 - 1 == 0"
   ]
  },
  {
   "cell_type": "code",
   "execution_count": null,
   "id": "1487a97f-8a4f-45b3-bed9-d2ac476f0350",
   "metadata": {},
   "outputs": [],
   "source": [
    "!python -m pytest -s"
   ]
  },
  {
   "cell_type": "markdown",
   "id": "cfc224ec-c8e3-4439-aa31-28d76100433a",
   "metadata": {},
   "source": [
    "By default the fixture is scope in function. So for each function the fixture is invoked. But we can set it to some specific scope"
   ]
  },
  {
   "cell_type": "code",
   "execution_count": null,
   "id": "f7d77a4e-1866-4c4a-8296-ce14e3a00950",
   "metadata": {},
   "outputs": [],
   "source": [
    "%%writefile test_example.py\n",
    "import pytest\n",
    "\n",
    "@pytest.fixture(autouse=True, scope='session')\n",
    "def setup_and_teardown_example():\n",
    "    print(\"Setup - Before the test\")\n",
    "    yield\n",
    "    print(\"Teardown - After the test\")\n",
    "\n",
    "def test_add():\n",
    "    print(\"Running test_add\")\n",
    "    assert 1 + 1 == 2\n",
    "\n",
    "def test_sub():\n",
    "    print(\"Running test_sub\")\n",
    "    assert 1 - 1 == 0"
   ]
  },
  {
   "cell_type": "code",
   "execution_count": null,
   "id": "a4754186-7257-493a-b42f-55b6e12f8054",
   "metadata": {},
   "outputs": [],
   "source": [
    "!python -m pytest -s"
   ]
  }
 ],
 "metadata": {
  "kernelspec": {
   "display_name": "Python 3 (ipykernel)",
   "language": "python",
   "name": "python3"
  },
  "language_info": {
   "codemirror_mode": {
    "name": "ipython",
    "version": 3
   },
   "file_extension": ".py",
   "mimetype": "text/x-python",
   "name": "python",
   "nbconvert_exporter": "python",
   "pygments_lexer": "ipython3",
   "version": "3.8.8"
  }
 },
 "nbformat": 4,
 "nbformat_minor": 5
}
