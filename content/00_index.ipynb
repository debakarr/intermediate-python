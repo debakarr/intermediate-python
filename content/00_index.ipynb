{
 "cells": [
  {
   "cell_type": "markdown",
   "metadata": {
    "tags": []
   },
   "source": [
    "## Course content\n",
    "\n",
    "- **Day 1**:\n",
    "    - [Basic Overview](./01_python_basic_overview.ipynb)\n",
    "    - [Memory Management in Python](./02_memory_management_in_python.ipynb)\n",
    "    - [Function parameters and arguments](./03_function_parameters_and_arguments.ipynb)\n",
    "    - [Namespace, Scope and Closure](./04_namespaces_scopes_and_closures.ipynb)\n",
    "- **Day 2**:\n",
    "    - [Other functions concepts](./05_other_functions_concepts.ipynb)\n",
    "    - [Sequence, Iterator and Generator](./06_sequence_iterators_and_generators.ipynb)\n",
    "    - [Content Manager](./07_context_managers.ipynb)\n",
    "    - [Building command line interface](./08_argparse.ipynb)\n",
    "- **Day 3**:\n",
    "    - [Testing](./09_unittest.ipynb)\n",
    "    - [Multithreading and Multiprocessing](./10_concurrency.ipynb)\n",
    "    - [Virtual Environments](./11_virtual_environment.ipynb)\n",
    "    - [Packaging](./12_packaging.ipynb)\n",
    "    \n",
    "If we have more time:\n",
    " - [Debugging in Python](./13_debugging.ipynb)\n",
    " - [Command line tools in Python Standard library](./14_python_builtin_cli.ipynb)\n",
    " - [Python Toolkit for Production](./15_python_toolkit.ipynb)"
   ]
  },
  {
   "cell_type": "markdown",
   "metadata": {},
   "source": [
    "Use [pythontutor](https://pythontutor.com/python-debugger.html#mode=edit) or [Thonny](https://github.com/thonny/thonny) for visualization purpose"
   ]
  }
 ],
 "metadata": {
  "kernelspec": {
   "display_name": "Python 3 (ipykernel)",
   "language": "python",
   "name": "python3"
  },
  "language_info": {
   "codemirror_mode": {
    "name": "ipython",
    "version": 3
   },
   "file_extension": ".py",
   "mimetype": "text/x-python",
   "name": "python",
   "nbconvert_exporter": "python",
   "pygments_lexer": "ipython3",
   "version": "3.11.4"
  }
 },
 "nbformat": 4,
 "nbformat_minor": 4
}
