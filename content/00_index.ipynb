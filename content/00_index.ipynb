{
 "cells": [
  {
   "cell_type": "markdown",
   "metadata": {},
   "source": [
    "# Intermediate Python"
   ]
  },
  {
   "cell_type": "markdown",
   "metadata": {},
   "source": [
    "[![lite-badge](https://jupyterlite.rtfd.io/en/latest/_static/badge.svg)](https://debakarr.github.io/intermediate-python)\n",
    "\n",
    "[![Binder](https://mybinder.org/badge_logo.svg)](https://mybinder.org/v2/gh/debakarr/intermediate-python/HEAD)\n",
    "\n",
    "[![Colab](https://colab.research.google.com/assets/colab-badge.svg)](https://colab.research.google.com/github/debakarr/intermediate-python)\n",
    "\n",
    "## ✨ Try it in your browser ✨\n",
    "\n",
    "➡️ **https://debakarr.github.io/intermediate-python**\n",
    "\n",
    "![](./static/use_jupyterlite.gif)\n",
    "\n",
    "---"
   ]
  },
  {
   "cell_type": "markdown",
   "metadata": {},
   "source": [
    "This course is targeted to developers who have already beginner experience with Python and want to level up to intermediate to advance level.\n",
    "\n",
    "Course is delivered by **Roy, Debakar**."
   ]
  },
  {
   "cell_type": "markdown",
   "metadata": {},
   "source": [
    "## Expectation/Pre-requisite\n",
    "\n",
    "You should already have knowledge of:\n",
    "- Python fundamentals (identifier, data types, loops, functions, OOP) is assumed.\n",
    "- If you are new to Python, consider completing a beginner Python course first.\n",
    "- We assume that we are on Python 3.8+\n",
    "- Git (In case you want to clone this repo and run it locally)."
   ]
  },
  {
   "cell_type": "markdown",
   "metadata": {},
   "source": [
    "## About the Trainer\n",
    "\n",
    "<h1 align=\"center\">Hi 👋, I'm Debakar Roy</h1>\n",
    "\n",
    "- 💬 Ask me about **Python, Jenkins, Docker, Kubernetes....**\n",
    "\n",
    "- 📖 Check my blog at https://debakarr.github.io/posts/\n",
    "\n",
    "- ⚡ Fun fact **I love watching Anime, KDrama and CDrama**\n",
    "\n",
    "<h3 align=\"left\">Languages and Tools:</h3>\n",
    "<p align=\"left\"> <a href=\"https://www.gnu.org/software/bash/\" target=\"_blank\" rel=\"noreferrer\"> <img src=\"https://www.vectorlogo.zone/logos/gnu_bash/gnu_bash-icon.svg\" alt=\"bash\" width=\"40\" height=\"40\"/> </a> <a href=\"https://www.w3schools.com/cpp/\" target=\"_blank\" rel=\"noreferrer\"> <img src=\"https://raw.githubusercontent.com/devicons/devicon/master/icons/cplusplus/cplusplus-original.svg\" alt=\"cplusplus\" width=\"40\" height=\"40\"/> </a> <a href=\"https://www.w3schools.com/cs/\" target=\"_blank\" rel=\"noreferrer\"> <img src=\"https://raw.githubusercontent.com/devicons/devicon/master/icons/csharp/csharp-original.svg\" alt=\"csharp\" width=\"40\" height=\"40\"/> </a> <a href=\"https://www.w3schools.com/css/\" target=\"_blank\" rel=\"noreferrer\"> <img src=\"https://raw.githubusercontent.com/devicons/devicon/master/icons/css3/css3-original-wordmark.svg\" alt=\"css3\" width=\"40\" height=\"40\"/> </a> <a href=\"https://www.docker.com/\" target=\"_blank\" rel=\"noreferrer\"> <img src=\"https://raw.githubusercontent.com/devicons/devicon/master/icons/docker/docker-original-wordmark.svg\" alt=\"docker\" width=\"40\" height=\"40\"/> </a> <a href=\"https://flask.palletsprojects.com/\" target=\"_blank\" rel=\"noreferrer\"> <img src=\"https://www.vectorlogo.zone/logos/pocoo_flask/pocoo_flask-icon.svg\" alt=\"flask\" width=\"40\" height=\"40\"/> </a> <a href=\"https://git-scm.com/\" target=\"_blank\" rel=\"noreferrer\"> <img src=\"https://www.vectorlogo.zone/logos/git-scm/git-scm-icon.svg\" alt=\"git\" width=\"40\" height=\"40\"/> </a> <a href=\"https://graphql.org\" target=\"_blank\" rel=\"noreferrer\"> <img src=\"https://www.vectorlogo.zone/logos/graphql/graphql-icon.svg\" alt=\"graphql\" width=\"40\" height=\"40\"/> </a> <a href=\"https://jekyllrb.com/\" target=\"_blank\" rel=\"noreferrer\"> <img src=\"https://www.vectorlogo.zone/logos/jekyllrb/jekyllrb-icon.svg\" alt=\"jekyll\" width=\"40\" height=\"40\"/> </a> <a href=\"https://www.jenkins.io\" target=\"_blank\" rel=\"noreferrer\"> <img src=\"https://www.vectorlogo.zone/logos/jenkins/jenkins-icon.svg\" alt=\"jenkins\" width=\"40\" height=\"40\"/> </a> <a href=\"https://kafka.apache.org/\" target=\"_blank\" rel=\"noreferrer\"> <img src=\"https://www.vectorlogo.zone/logos/apache_kafka/apache_kafka-icon.svg\" alt=\"kafka\" width=\"40\" height=\"40\"/> </a> <a href=\"https://kubernetes.io\" target=\"_blank\" rel=\"noreferrer\"> <img src=\"https://www.vectorlogo.zone/logos/kubernetes/kubernetes-icon.svg\" alt=\"kubernetes\" width=\"40\" height=\"40\"/> </a> <a href=\"https://www.mongodb.com/\" target=\"_blank\" rel=\"noreferrer\"> <img src=\"https://raw.githubusercontent.com/devicons/devicon/master/icons/mongodb/mongodb-original-wordmark.svg\" alt=\"mongodb\" width=\"40\" height=\"40\"/> </a> <a href=\"https://www.nginx.com\" target=\"_blank\" rel=\"noreferrer\"> <img src=\"https://raw.githubusercontent.com/devicons/devicon/master/icons/nginx/nginx-original.svg\" alt=\"nginx\" width=\"40\" height=\"40\"/> </a> <a href=\"https://opencv.org/\" target=\"_blank\" rel=\"noreferrer\"> <img src=\"https://www.vectorlogo.zone/logos/opencv/opencv-icon.svg\" alt=\"opencv\" width=\"40\" height=\"40\"/> </a> <a href=\"https://www.postgresql.org\" target=\"_blank\" rel=\"noreferrer\"> <img src=\"https://raw.githubusercontent.com/devicons/devicon/master/icons/postgresql/postgresql-original-wordmark.svg\" alt=\"postgresql\" width=\"40\" height=\"40\"/> </a> <a href=\"https://postman.com\" target=\"_blank\" rel=\"noreferrer\"> <img src=\"https://www.vectorlogo.zone/logos/getpostman/getpostman-icon.svg\" alt=\"postman\" width=\"40\" height=\"40\"/> </a> <a href=\"https://www.python.org\" target=\"_blank\" rel=\"noreferrer\"> <img src=\"https://raw.githubusercontent.com/devicons/devicon/master/icons/python/python-original.svg\" alt=\"python\" width=\"40\" height=\"40\"/> </a> <a href=\"https://www.rust-lang.org\" target=\"_blank\" rel=\"noreferrer\"> <img src=\"https://raw.githubusercontent.com/devicons/devicon/master/icons/rust/rust-plain.svg\" alt=\"rust\" width=\"40\" height=\"40\"/> </a> <a href=\"https://www.selenium.dev\" target=\"_blank\" rel=\"noreferrer\"> <img src=\"https://raw.githubusercontent.com/detain/svg-logos/780f25886640cef088af994181646db2f6b1a3f8/svg/selenium-logo.svg\" alt=\"selenium\" width=\"40\" height=\"40\"/> </a> <a href=\"https://vuejs.org/\" target=\"_blank\" rel=\"noreferrer\"> <img src=\"https://raw.githubusercontent.com/devicons/devicon/master/icons/vuejs/vuejs-original-wordmark.svg\" alt=\"vuejs\" width=\"40\" height=\"40\"/> </a> </p>\n",
    "\n",
    "<p><img align=\"center\" src=\"https://github-readme-streak-stats.herokuapp.com/?user=debakarr&theme=dark\" alt=\"debakarr\" /></p>\n"
   ]
  },
  {
   "cell_type": "markdown",
   "metadata": {},
   "source": [
    "## What can you expect?\n",
    "\n",
    "- Dive deeper into intermediate and somewhat advanced Python concepts and topics.\n",
    "- Gain a comprehensive understanding of intermediate Python features.\n",
    "- Explore real-world applications of intermediate Python concepts."
   ]
  },
  {
   "cell_type": "markdown",
   "metadata": {},
   "source": [
    "## Which Python version are we using?"
   ]
  },
  {
   "cell_type": "markdown",
   "metadata": {},
   "source": [
    "<div style=\"text-align: center\"><strong>Python3.8+</strong></div>"
   ]
  },
  {
   "cell_type": "markdown",
   "metadata": {},
   "source": [
    "| Branch | Schedule                                       | Status        | First release | End of life  | Release manager       |\n",
    "| ------ | ---------------------------------------------- | ------------- | ------------- | ------------ | --------------------- |\n",
    "| main   | [PEP 719](https://peps.python.org/pep-0719/)   | feature       | _2024-10-01_  | _2029-10_    | Thomas Wouters        |\n",
    "| 3.12   | [PEP 693](https://peps.python.org/pep-0693/)   | prerelease    | _2023-10-02_  | _2028-10_    | Thomas Wouters        |\n",
    "| 3.11   | [PEP 664](https://peps.python.org/pep-0664/)   | bugfix        | 2022-10-24    | _2027-10_    | Pablo Galindo Salgado |\n",
    "| 3.10   | [PEP 619](https://peps.python.org/pep-0619/)   | security      | 2021-10-04    | _2026-10_    | Pablo Galindo Salgado |\n",
    "| 3.9    | [PEP 596](https://peps.python.org/pep-0596/)   | security      | 2020-10-05    | _2025-10_    | Łukasz Langa          |\n",
    "| 3.8    | [PEP 569](https://peps.python.org/pep-0569/)   | security      | 2019-10-14    | _2024-10_    | Łukasz Langa          |\n",
    "| ~3.7~  | ~[PEP 537](https://peps.python.org/pep-0537/)~ | ~end-of-life~ | ~2018-06-27~  | ~2023-06-27~ | ~Ned Deily~           |\n",
    "\n",
    "<div style=\"text-align: center\"><a href=\"https://devguide.python.org/versions/\">Source for the above table</a></div>"
   ]
  },
  {
   "cell_type": "markdown",
   "metadata": {},
   "source": [
    "# Running different Python version in Windows\n",
    "\n",
    "![](./static/py_launcher.png)"
   ]
  },
  {
   "cell_type": "markdown",
   "metadata": {
    "tags": []
   },
   "source": [
    "## Course content\n",
    "\n",
    "- **Day 1**:\n",
    "    - [Basic Overview](./01_python_basic_overview.ipynb)\n",
    "    - [Memory Management in Python](./02_memory_management_in_python.ipynb)\n",
    "    - [Function parameters and arguments](./03_function_parameters_and_arguments.ipynb)\n",
    "    - [Namespace, Scope and Closure](./04_namespaces_scopes_and_closures.ipynb)\n",
    "- **Day 2**:\n",
    "    - [Other functions concepts](./05_other_functions_concepts.ipynb)\n",
    "    - [Sequence, Iterator and Generator](./06_sequence_iterators_and_generators.ipynb)\n",
    "    - [Content Manager](./07_context_managers.ipynb)\n",
    "    - [Building command line interface](./08_argparse/09_argparse.ipynb)\n",
    "- **Day 3**:\n",
    "    - [Testing](./09_unittest.ipynb)\n",
    "    - [Multithreading and Multiprocessing](./10_concurrency.ipynb)\n",
    "    - [Virtual Environments](./11_virtual_environment.ipynb)\n",
    "    - [Packaging](./12_packaging.ipynb)\n",
    "    \n",
    "If we have more time:\n",
    " - [Debugging in Python](./13_debugging.ipynb)\n",
    " - [Command line tools in Python Standard library](./14_python_builtin_cli.ipynb)\n",
    " - [Python Toolkit for Production](./15_python_toolkit.ipynb)"
   ]
  },
  {
   "cell_type": "markdown",
   "metadata": {},
   "source": [
    "Use [pythontutor](https://pythontutor.com/python-debugger.html#mode=edit) or [Thonny](https://github.com/thonny/thonny) for visualization purpose"
   ]
  }
 ],
 "metadata": {
  "kernelspec": {
   "display_name": "Python 3 (ipykernel)",
   "language": "python",
   "name": "python3"
  },
  "language_info": {
   "codemirror_mode": {
    "name": "ipython",
    "version": 3
   },
   "file_extension": ".py",
   "mimetype": "text/x-python",
   "name": "python",
   "nbconvert_exporter": "python",
   "pygments_lexer": "ipython3",
   "version": "3.11.4"
  }
 },
 "nbformat": 4,
 "nbformat_minor": 4
}
